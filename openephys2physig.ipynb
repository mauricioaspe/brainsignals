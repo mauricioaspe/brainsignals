{
 "cells": [
  {
   "cell_type": "markdown",
   "metadata": {},
   "source": [
    "# Import continuous data from .continuous Openephys raw files\n",
    "\n",
    "### Ideas\n",
    "<ul>\n",
    "    <li>Crear una clase Mouse donde poner todo por ratón?</li>\n",
    "    <li>Definitivamente crear una clase con los filtros</li>\n",
    "    </ul>"
   ]
  },
  {
   "cell_type": "code",
   "execution_count": null,
   "metadata": {},
   "outputs": [],
   "source": [
    "\"\"\" The file works from terminal taking the name of the mouse as its only argument.\n",
    "E.g. Run:\n",
    "\n",
    "python3 continuous_epochs.py 'SERT1597'\n",
    "\n",
    "to preprocess the mouse 'SERT1957'\n",
    "\n",
    "\n",
    "Output: \n",
    "    1. Info files\n",
    "    2. Matrix by structure, with \n",
    "        - Channels at 30 KHz\n",
    "        - All channels with mean subtracted\n",
    "        - Low-passed at 300 Hz\n",
    "        - Median subtracted\n",
    "        - Saved at SERTXXXX/npys_dir + structure.npy\n",
    "        \n",
    "\"\"\" "
   ]
  },
  {
   "cell_type": "markdown",
   "metadata": {},
   "source": [
    "#### Import the required modules"
   ]
  },
  {
   "cell_type": "code",
   "execution_count": 3,
   "metadata": {},
   "outputs": [],
   "source": [
    "# Import required modules\n",
    "import sys\n",
    "sys.path.insert(1, '/home/diogenes/Projects/SERT/modules/')\n",
    "\n",
    "import glob\n",
    "import numpy as np\n",
    "import pandas as pd\n",
    "import physig as ps\n",
    "from scipy import signal\n",
    "from matplotlib import pyplot as plt"
   ]
  },
  {
   "cell_type": "markdown",
   "metadata": {},
   "source": [
    "#### Get the mouse name and create the file name and folder paths"
   ]
  },
  {
   "cell_type": "code",
   "execution_count": 41,
   "metadata": {},
   "outputs": [
    {
     "name": "stdout",
     "output_type": "stream",
     "text": [
      "Processing mouse 1597...\n",
      "/home/diogenes/Projects/SERT/DATA/MICE/1597/continuous/\n"
     ]
    }
   ],
   "source": [
    "#if len(sys.argv) > 1:\n",
    "#    ID = sys.argv[1]\n",
    "#else:\n",
    "#    print('Bad file format!')\n",
    "#    exit()\n",
    "\n",
    "ID = '1597'\n",
    "\n",
    "print('Processing mouse {}...'.format(ID))\n",
    "\n",
    "# Setting working file and paths\n",
    "files_dir = '/home/diogenes/Projects/SERT/DATA/MICE/' + ID + '/continuous/'\n",
    "npys_dir  = '/home/diogenes/Projects/SERT/DATA/MICE/' + ID + '/npys/'\n",
    "figs_dir  = '/home/diogenes/Projects/SERT/DATA/MICE/' + ID + '/figs/'\n",
    "\n",
    "print(files_dir)"
   ]
  },
  {
   "cell_type": "markdown",
   "metadata": {},
   "source": [
    "#### Lists all continuous files and read the list of channels"
   ]
  },
  {
   "cell_type": "code",
   "execution_count": 44,
   "metadata": {},
   "outputs": [
    {
     "name": "stdout",
     "output_type": "stream",
     "text": [
      "['mPFC_left' 'mPFC_left' 'mPFC_left' 'mPFC_left' 'mPFC_left' 'mPFC_left'\n",
      " 'mPFC_left' 'mPFC_left' 'mPFC_left' 'mPFC_left' 'NAC_left' 'NAC_left'\n",
      " 'NAC_left' 'NAC_left' 'NAC_left' 'NAC_left' 'BLA_left' 'BLA_left'\n",
      " 'BLA_left' 'BLA_left' 'BLA_left' 'BLA_left' 'BLA_left' 'BLA_left'\n",
      " 'BLA_left' 'vHipp_left' 'vHipp_left' 'vHipp_left' 'vHipp_left'\n",
      " 'vHipp_left' 'vHipp_left' 'vHipp_left']\n"
     ]
    }
   ],
   "source": [
    "# List all continuous files in working folder\n",
    "files = sorted(glob.glob(files_dir + '*.continuous'))\n",
    "\n",
    "# Read the list of channels\n",
    "df = pd.read_csv(files_dir + 'canales.csv', header=None, names=[\"locs\"])\n",
    "channels_locations = np.array(df['locs'].tolist())\n",
    "n_channels = len(channels_locations)\n",
    "print(channels_locations)"
   ]
  },
  {
   "cell_type": "markdown",
   "metadata": {},
   "source": [
    "#### Gets the start and end of the OF and the entrances times "
   ]
  },
  {
   "cell_type": "code",
   "execution_count": 45,
   "metadata": {},
   "outputs": [
    {
     "name": "stdout",
     "output_type": "stream",
     "text": [
      "Entrances times: [20315070 20709060 21989070 22590060 23822070 24127080 25368060 26129070\n",
      " 27057060 28125060 29705070 29923080 30330060 30958080 31049070 31734060]\n",
      "Number of entrances: 16\n"
     ]
    }
   ],
   "source": [
    "# Start and end of OF\n",
    "df = pd.read_csv(files_dir + 'xy.csv', header=None)\n",
    "start_OF = int(np.ceil(df[3][0] * 30)) # Times 30 because of sampling at 30 KHz\n",
    "stop_OF = int(np.floor(df[3][1] * 30))\n",
    "\n",
    "# Read the entrances times\n",
    "df = pd.read_csv(files_dir + 'entradas.csv', header=None, names=[\"locs\"])\n",
    "entrances_times = np.array(df['locs'].tolist(), dtype='int') * 30 # Times 30 because of sampling at 30 KHz\n",
    "\n",
    "n_epochs = len(entrances_times)\n",
    "\n",
    "print(\"Entrances times: {}\".format(entrances_times))\n",
    "print('Number of entrances: {}'.format(n_epochs))"
   ]
  },
  {
   "cell_type": "markdown",
   "metadata": {},
   "source": [
    "#### Get indexes and number of channels for each structure. Write a dictionary 'info.npy'"
   ]
  },
  {
   "cell_type": "code",
   "execution_count": 46,
   "metadata": {},
   "outputs": [
    {
     "name": "stdout",
     "output_type": "stream",
     "text": [
      "{'channels_list': ['ch01', 'ch02', 'ch03', 'ch04', 'ch05', 'ch06', 'ch07', 'ch08', 'ch09', 'ch10', 'ch11', 'ch12', 'ch13', 'ch14', 'ch15', 'ch16', 'ch17', 'ch18', 'ch19', 'ch20', 'ch21', 'ch22', 'ch23', 'ch24', 'ch25', 'ch26', 'ch27', 'ch28', 'ch29', 'ch30', 'ch31', 'ch32'], 'channels_locs': array(['mPFC_left', 'mPFC_left', 'mPFC_left', 'mPFC_left', 'mPFC_left',\n",
      "       'mPFC_left', 'mPFC_left', 'mPFC_left', 'mPFC_left', 'mPFC_left',\n",
      "       'NAC_left', 'NAC_left', 'NAC_left', 'NAC_left', 'NAC_left',\n",
      "       'NAC_left', 'BLA_left', 'BLA_left', 'BLA_left', 'BLA_left',\n",
      "       'BLA_left', 'BLA_left', 'BLA_left', 'BLA_left', 'BLA_left',\n",
      "       'vHipp_left', 'vHipp_left', 'vHipp_left', 'vHipp_left',\n",
      "       'vHipp_left', 'vHipp_left', 'vHipp_left'], dtype='<U10'), 'n_channels': 32, 'mPFC_nchannels': 10, 'NAC_nchannels': 6, 'BLA_nchannels': 9, 'vHip_nchannels': 7, 'entrances_times': array([20315070, 20709060, 21989070, 22590060, 23822070, 24127080,\n",
      "       25368060, 26129070, 27057060, 28125060, 29705070, 29923080,\n",
      "       30330060, 30958080, 31049070, 31734060]), 'n_epochs': 16, 'startOF': 19922080, 'stopOF': 37923080}\n",
      "Info file: saved\n",
      "\n"
     ]
    }
   ],
   "source": [
    "# Collect the indexes for each structure\n",
    "mPFC_indexes  = [i for i,x in enumerate(channels_locations) if x == 'mPFC_left']\n",
    "NAC_indexes = [i for i,x in enumerate(channels_locations) if x == 'NAC_left']\n",
    "BLA_indexes  = [i for i,x in enumerate(channels_locations) if x == 'BLA_left']\n",
    "vHip_indexes  = [i for i,x in enumerate(channels_locations) if x == 'vHipp_left']\n",
    "\n",
    "# Get the number of channels for each structure\n",
    "mPFC_nchannels = len(mPFC_indexes)\n",
    "NAC_nchannels  = len(NAC_indexes)\n",
    "BLA_nchannels  = len(BLA_indexes)\n",
    "vHip_nchannels = len(vHip_indexes)\n",
    "\n",
    "# Read header info to get sample rate\n",
    "with open(files[0], 'rb') as f:\n",
    "    header = ps.readHeader(f)\n",
    "\n",
    "fs = header['sampleRate']\n",
    "\n",
    "# Channels list\n",
    "channels_list = ['ch01', 'ch02', 'ch03', 'ch04', 'ch05', 'ch06', 'ch07', 'ch08', 'ch09', 'ch10',\n",
    "         'ch11', 'ch12', 'ch13', 'ch14', 'ch15', 'ch16', 'ch17', 'ch18', 'ch19', 'ch20',\n",
    "         'ch21', 'ch22', 'ch23', 'ch24', 'ch25', 'ch26', 'ch27', 'ch28', 'ch29', 'ch30',\n",
    "         'ch31', 'ch32']\n",
    "\n",
    "# Create and save info file\n",
    "info = {'channels_list': channels_list, 'channels_locs': channels_locations, 'n_channels': n_channels,\n",
    "        'mPFC_nchannels': mPFC_nchannels, 'NAC_nchannels': NAC_nchannels, 'BLA_nchannels': BLA_nchannels,\n",
    "        'vHip_nchannels': vHip_nchannels, 'entrances_times': entrances_times, 'n_epochs': n_epochs,\n",
    "        'startOF': start_OF, 'stopOF': stop_OF}\n",
    "\n",
    "np.save(npys_dir + 'info.npy', info)\n",
    "\n",
    "print(info)\n",
    "\n",
    "print('Info file: saved\\n')"
   ]
  },
  {
   "cell_type": "markdown",
   "metadata": {},
   "source": [
    "#### Create the filter"
   ]
  },
  {
   "cell_type": "markdown",
   "metadata": {},
   "source": [
    "Butterpass at 300 Hz, oder 9"
   ]
  },
  {
   "cell_type": "code",
   "execution_count": null,
   "metadata": {},
   "outputs": [],
   "source": [
    "# Create filter\n",
    "def butter_bandpass(highcut, fs, order=5):\n",
    "    nyq  = 0.5 * fs\n",
    "    high = highcut / nyq\n",
    "    b, a = signal.butter(order, high)\n",
    "    return b, a\n",
    "\n",
    "# Filter parameters\n",
    "highcut = 300.0\n",
    "N       = 9\n",
    "b, a    = butter_bandpass(highcut, fs, order=N)"
   ]
  },
  {
   "cell_type": "markdown",
   "metadata": {},
   "source": [
    "## Main loop"
   ]
  },
  {
   "cell_type": "markdown",
   "metadata": {},
   "source": [
    "<b>The loop</b><br>\n",
    "<ol>\n",
    "    <li>Load each of the 32 .continuous Openephys files</li>\n",
    "    <li>Subtract the mean</li>\n",
    "    <li>Low-pass it at 300 Hz</li>\n",
    "    <li>Subtract the median by structure</li>\n",
    "    <li>Save it as '/home/maspe/filer/SERT/SERTXXXX/npys/mPFC'</li>\n",
    "</ol>\n"
   ]
  },
  {
   "cell_type": "code",
   "execution_count": null,
   "metadata": {},
   "outputs": [],
   "source": [
    "##### Main loop #####\n",
    "# Loop for loading and low-pass all channels of this mice\n",
    "iteration = 0\n",
    "for this_file in files:\n",
    "    channel = ps.loadContinuous(this_file)\n",
    "\n",
    "    print('Low-pass filtering (order = {}) at {} Hz...'.format(N, highcut))\n",
    "    data = channel['data'] #[start_OF - points_before : stop_OF]\n",
    "    data = signal.filtfilt(b=b, a=a, x=data - np.mean(data),\n",
    "                           axis=-1, padtype='odd', padlen=None, method='pad', irlen=None)\n",
    "\n",
    "    \n",
    "    if iteration == 0:\n",
    "        data_matrix = np.empty((len(channels_locations), len(data)))          \n",
    "    \n",
    "    data_matrix[iteration, :] = data    \n",
    "    iteration += 1\n",
    "\n",
    "print('\\nCollecting all channels by structure...')    \n",
    "mPFC = data_matrix[mPFC_indexes, :] - np.median(data_matrix[mPFC_indexes, :], axis=0)\n",
    "print('mPDF: Done!')\n",
    "NAC  = data_matrix[NAC_indexes, :]  - np.median(data_matrix[NAC_indexes, :], axis=0)\n",
    "print('NAC: Done!')\n",
    "BLA  = data_matrix[BLA_indexes, :]  - np.median(data_matrix[BLA_indexes, :], axis=0)\n",
    "print('BLA: Done!')\n",
    "vHip = data_matrix[vHip_indexes, :] - np.median(data_matrix[vHip_indexes, :], axis=0)\n",
    "print('vHip: Done!')\n",
    "\n",
    "del [iteration, channel, data, data_matrix]  \n",
    "\n",
    "print('Saving variables...')\n",
    "np.save(npys_dir + 'mPFC', mPFC)\n",
    "np.save(npys_dir + 'NAC', NAC)\n",
    "np.save(npys_dir + 'BLA', BLA)\n",
    "np.save(npys_dir + 'vHip', vHip)\n",
    "print('Done!')"
   ]
  }
 ],
 "metadata": {
  "kernelspec": {
   "display_name": "Python 3",
   "language": "python",
   "name": "python3"
  },
  "language_info": {
   "codemirror_mode": {
    "name": "ipython",
    "version": 3
   },
   "file_extension": ".py",
   "mimetype": "text/x-python",
   "name": "python",
   "nbconvert_exporter": "python",
   "pygments_lexer": "ipython3",
   "version": "3.8.5"
  }
 },
 "nbformat": 4,
 "nbformat_minor": 2
}
