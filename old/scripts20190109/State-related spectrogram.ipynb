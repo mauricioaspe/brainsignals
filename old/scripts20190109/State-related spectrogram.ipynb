{
 "cells": [
  {
   "cell_type": "code",
   "execution_count": 1,
   "metadata": {},
   "outputs": [],
   "source": [
    "import numpy as np\n",
    "import wavelets as wl\n",
    "from scipy import signal\n",
    "from matplotlib import pyplot as plt"
   ]
  },
  {
   "cell_type": "code",
   "execution_count": 2,
   "metadata": {},
   "outputs": [
    {
     "name": "stdout",
     "output_type": "stream",
     "text": [
      "Processing WT\n",
      "Loaded SERT1597\n",
      "Loaded SERT1659\n",
      "Loaded SERT1678\n",
      "Loaded SERT1908\n",
      "Loaded SERT1984\n",
      "Loaded SERT1985\n",
      "Loaded SERT2014\n"
     ]
    }
   ],
   "source": [
    "IDs_WT = ['SERT1597', 'SERT1659'] #, 'SERT1678', 'SERT1908', 'SERT1984', 'SERT1985', 'SERT2014']\n",
    "# IDs_KO = ['SERT1668', 'SERT1665', 'SERT2018', 'SERT2024', 'SERT2013'] \n",
    "\n",
    "# allFigs_dir = '/home/maspe/filer/SERT/ALL/figs/'\n",
    "\n",
    "mPFC_WT = dict()\n",
    "print('Processing WT')\n",
    "iteration = 0\n",
    "for ID in IDs_WT:\n",
    "    npys_dir = '/home/maspe/filer/SERT/' + ID + '/npys/'\n",
    "    print('Loaded ' + ID)\n",
    "    \n",
    "    mPFC_WT[ID] = signal.resample(x=np.load(npys_dir + 'mPFC_epochs.npy', allow_pickle=True), num=n_samples\n",
    "\n",
    "    # data = signal.resample(x=data, num=n_samples)\n",
    "\n",
    "    \n",
    "    #NAC_epochs  = np.mean(np.load(npys_dir + 'NAC_epochs.npy', allow_pickle=True), axis=2)\n",
    "    #BLA_epochs  = np.mean(np.load(npys_dir + 'BLA_epochs.npy', allow_pickle=True), axis=2)\n",
    "    #vHip_epochs = np.mean(np.load(npys_dir + 'vHip_epochs.npy', allow_pickle=True), axis=2)"
   ]
  },
  {
   "cell_type": "code",
   "execution_count": null,
   "metadata": {},
   "outputs": [],
   "source": [
    "# signal.decimate"
   ]
  },
  {
   "cell_type": "code",
   "execution_count": 11,
   "metadata": {},
   "outputs": [
    {
     "name": "stdout",
     "output_type": "stream",
     "text": [
      "SERT1984\n",
      "SERT1985\n",
      "SERT1659\n"
     ]
    },
    {
     "ename": "MemoryError",
     "evalue": "",
     "output_type": "error",
     "traceback": [
      "\u001b[0;31m\u001b[0m",
      "\u001b[0;31mMemoryError\u001b[0mTraceback (most recent call last)",
      "\u001b[0;32m<ipython-input-11-824f1f2d5b40>\u001b[0m in \u001b[0;36m<module>\u001b[0;34m()\u001b[0m\n\u001b[1;32m     17\u001b[0m     \u001b[0mn_epochs\u001b[0m \u001b[0;34m=\u001b[0m \u001b[0mmPFC_WT\u001b[0m\u001b[0;34m[\u001b[0m\u001b[0mkey\u001b[0m\u001b[0;34m]\u001b[0m\u001b[0;34m.\u001b[0m\u001b[0mshape\u001b[0m\u001b[0;34m[\u001b[0m\u001b[0;36m2\u001b[0m\u001b[0;34m]\u001b[0m\u001b[0;34m\u001b[0m\u001b[0;34m\u001b[0m\u001b[0m\n\u001b[1;32m     18\u001b[0m \u001b[0;34m\u001b[0m\u001b[0m\n\u001b[0;32m---> 19\u001b[0;31m     \u001b[0mmPFC_SRS\u001b[0m\u001b[0;34m[\u001b[0m\u001b[0mkey\u001b[0m\u001b[0;34m]\u001b[0m \u001b[0;34m=\u001b[0m \u001b[0mnp\u001b[0m\u001b[0;34m.\u001b[0m\u001b[0mzeros\u001b[0m\u001b[0;34m(\u001b[0m\u001b[0;34m(\u001b[0m\u001b[0mn_frequencies\u001b[0m\u001b[0;34m,\u001b[0m \u001b[0mtime_points\u001b[0m\u001b[0;34m,\u001b[0m \u001b[0mn_channels\u001b[0m\u001b[0;34m,\u001b[0m \u001b[0mn_epochs\u001b[0m\u001b[0;34m)\u001b[0m\u001b[0;34m)\u001b[0m\u001b[0;34m\u001b[0m\u001b[0;34m\u001b[0m\u001b[0m\n\u001b[0m\u001b[1;32m     20\u001b[0m     \u001b[0;32mfor\u001b[0m \u001b[0mepoch\u001b[0m \u001b[0;32min\u001b[0m \u001b[0mrange\u001b[0m\u001b[0;34m(\u001b[0m\u001b[0mn_epochs\u001b[0m\u001b[0;34m)\u001b[0m\u001b[0;34m:\u001b[0m\u001b[0;34m\u001b[0m\u001b[0;34m\u001b[0m\u001b[0m\n\u001b[1;32m     21\u001b[0m         \u001b[0;32mfor\u001b[0m \u001b[0mchannel\u001b[0m \u001b[0;32min\u001b[0m \u001b[0mrange\u001b[0m\u001b[0;34m(\u001b[0m\u001b[0mn_channels\u001b[0m\u001b[0;34m)\u001b[0m\u001b[0;34m:\u001b[0m \u001b[0;31m# SRP.shape[0]):\u001b[0m\u001b[0;34m\u001b[0m\u001b[0;34m\u001b[0m\u001b[0m\n",
      "\u001b[0;31mMemoryError\u001b[0m: "
     ]
    }
   ],
   "source": [
    "fs = 30000.0\n",
    "dt = 1 / fs\n",
    "time = np.arange(0, 6, dt)\n",
    "frequencies = np.arange(1, 100, 1)\n",
    "periods = 1 / (frequencies * dt)\n",
    "scales = periods / wl.Morlet.fourierwl\n",
    "\n",
    "n_frequencies = frequencies.shape[0]\n",
    "time_points = time.shape[0]\n",
    "\n",
    "mPFC_SRS = dict()\n",
    "for key in mPFC_WT.keys():\n",
    "    print(key)\n",
    "    \n",
    "    # For mPFC\n",
    "    n_channels = mPFC_WT[key].shape[0]\n",
    "    n_epochs = mPFC_WT[key].shape[2]\n",
    "\n",
    "    mPFC_SRS[key] = np.zeros((n_frequencies, time_points, n_channels, n_epochs))\n",
    "    for epoch in range(n_epochs):\n",
    "        for channel in range(n_channels): # SRP.shape[0]):\n",
    "        \n",
    "            ### DOCS says data: data in array to transform, length must be power of 2 !!!!\n",
    "            wavel1 = wl.Morlet(mPFC_WT[key][channel, :, epoch], scales=scales)\n",
    "            mPFC_SRS[key][:, :, channel, epoch] = wavel1.getnormpower()\n",
    "        \n",
    "    \n",
    "#baseline_mean = np.mean(mPFC_SRS[:, :bstop, :], axis=1)\n",
    "#baseline_sd = np.std(mPFC_SRS[:, :bstop, :], axis=1)\n",
    "#mPFC_SRS = (mPFC_SRS - baseline_mean[:, None, :]) / baseline_sd[:, None, :]\n"
   ]
  },
  {
   "cell_type": "code",
   "execution_count": 10,
   "metadata": {},
   "outputs": [
    {
     "data": {
      "text/plain": [
       "(10, 180000, 16)"
      ]
     },
     "execution_count": 10,
     "metadata": {},
     "output_type": "execute_result"
    }
   ],
   "source": [
    "mPFC_WT['SERT1597'].shape"
   ]
  },
  {
   "cell_type": "code",
   "execution_count": null,
   "metadata": {},
   "outputs": [],
   "source": [
    "start = 2000\n",
    "stop = 5000\n",
    "bstop = 1000 # baseline stop?"
   ]
  },
  {
   "cell_type": "markdown",
   "metadata": {},
   "source": [
    "#############"
   ]
  },
  {
   "cell_type": "code",
   "execution_count": null,
   "metadata": {},
   "outputs": [],
   "source": [
    "def butter_bandpass(highcut, fs, order=5):\n",
    "    nyq = 0.5 * fs\n",
    "    high = highcut / nyq\n",
    "    b, a = signal.butter(order, high, btype='lowpass')\n",
    "    return b, a\n",
    "\n",
    "fs = 30000.0"
   ]
  },
  {
   "cell_type": "code",
   "execution_count": null,
   "metadata": {},
   "outputs": [],
   "source": [
    "   \n",
    "    if ID == 'SERT1984':\n",
    "        pass\n",
    "    \n",
    "    \n",
    "    if iteration == 0:           \n",
    "        mPFC_WT = mPFC_epochs\n",
    "        NAC_WT  = NAC_epochs\n",
    "        BLA_WT  = BLA_epochs\n",
    "        vHip_WT = vHip_epochs\n",
    "        \n",
    "    else:\n",
    "        mPFC_WT = np.vstack([mPFC_WT, mPFC_epochs])\n",
    "        BLA_WT  = np.vstack([BLA_WT, BLA_epochs])\n",
    "        NAC_WT  = np.vstack([NAC_WT, NAC_epochs])\n",
    "        vHip_WT = np.vstack([vHip_WT, vHip_epochs])\n",
    "        \n",
    "    iteration += 1\n",
    "    \n",
    "\n",
    "print('Processing KO')\n",
    "iteration = 0\n",
    "for ID in IDs_KO:\n",
    "    npys_dir = '/home/maspe/filer/SERT/' + ID + '/npys/'\n",
    "    print('Loaded ' + npys_dir)\n",
    "    \n",
    "    mPFC_epochs = np.mean(np.load(npys_dir + 'mPFC_epochs.npy', allow_pickle=True), axis=2)\n",
    "    NAC_epochs  = np.mean(np.load(npys_dir + 'NAC_epochs.npy', allow_pickle=True), axis=2)\n",
    "    BLA_epochs  = np.mean(np.load(npys_dir + 'BLA_epochs.npy', allow_pickle=True), axis=2)\n",
    "    vHip_epochs = np.mean(np.load(npys_dir + 'vHip_epochs.npy', allow_pickle=True), axis=2)\n",
    "    \n",
    "    \n",
    "    if iteration == 0:           \n",
    "        mPFC_KO = mPFC_epochs\n",
    "        NAC_KO  = NAC_epochs\n",
    "        BLA_KO  = BLA_epochs\n",
    "        vHip_KO = vHip_epochs\n",
    "        \n",
    "    else:\n",
    "        mPFC_KO = np.vstack([mPFC_KO, mPFC_epochs])\n",
    "        BLA_KO  = np.vstack([BLA_KO, BLA_epochs])\n",
    "        NAC_KO  = np.vstack([NAC_KO, NAC_epochs])\n",
    "        vHip_KO = np.vstack([vHip_KO, vHip_epochs])\n",
    "        \n",
    "    iteration += 1\n"
   ]
  },
  {
   "cell_type": "code",
   "execution_count": null,
   "metadata": {},
   "outputs": [],
   "source": [
    "np.save('/home/maspe/filer/SERT/ALL/npys/mPFC_LFP_WT', mPFC_WT)\n",
    "np.save('/home/maspe/filer/SERT/ALL/npys/mPFC_LFP_KO', mPFC_KO)"
   ]
  },
  {
   "cell_type": "code",
   "execution_count": null,
   "metadata": {},
   "outputs": [],
   "source": [
    "mPFC_KO.shape"
   ]
  },
  {
   "cell_type": "code",
   "execution_count": null,
   "metadata": {},
   "outputs": [],
   "source": []
  },
  {
   "cell_type": "code",
   "execution_count": null,
   "metadata": {},
   "outputs": [],
   "source": [
    "mPFC_WT.shape"
   ]
  },
  {
   "cell_type": "code",
   "execution_count": null,
   "metadata": {},
   "outputs": [],
   "source": [
    "time.shape"
   ]
  },
  {
   "cell_type": "markdown",
   "metadata": {},
   "source": [
    "#### For WT mice"
   ]
  },
  {
   "cell_type": "code",
   "execution_count": null,
   "metadata": {},
   "outputs": [],
   "source": [
    "start = 2000\n",
    "stop = 5000\n",
    "bstop = 1000\n",
    "\n",
    "# Original: se come dimension sweep (barridos antes del estimulo)\n",
    "# Yo deberia comerme dimension tiempo\n",
    "\n",
    "# For mPFC\n",
    "n_channels = mPFC_WT.shape[0]\n",
    "\n",
    "mPFC_SRS = np.zeros((n_frequencies, time_points, n_channels))\n",
    "for channel in range(n_channels): # SRP.shape[0]):\n",
    "    wavel1 = wl.Morlet(mPFC_WT[channel, start:stop], scales=scales)\n",
    "\n",
    "    mPFC_SRS[:,:,channel] = wavel1.getnormpower()\n",
    "    \n",
    "baseline_mean = np.mean(mPFC_SRS[:, :bstop, :], axis=1)\n",
    "baseline_sd = np.std(mPFC_SRS[:, :bstop, :], axis=1)\n",
    "mPFC_SRS = (mPFC_SRS - baseline_mean[:, None, :]) / baseline_sd[:, None, :]\n",
    "\n",
    "\n",
    "# For NAC\n",
    "n_channels = NAC_WT.shape[0]\n",
    "\n",
    "NAC_SRS = np.zeros((n_frequencies, time_points, n_channels))\n",
    "for channel in range(n_channels): # SRP.shape[0]):\n",
    "    wavel1 = wl.Morlet(NAC_WT[channel, start:stop], scales=scales)\n",
    "\n",
    "    NAC_SRS[:,:,channel] = wavel1.getnormpower()\n",
    "    \n",
    "baseline_mean = np.mean(NAC_SRS[:, :bstop, :], axis=1)\n",
    "baseline_sd = np.std(NAC_SRS[:, :bstop, :], axis=1)\n",
    "NAC_SRS = (NAC_SRS - baseline_mean[:, None, :]) / baseline_sd[:, None, :]\n",
    "\n",
    "\n",
    "# For BLA\n",
    "n_channels = BLA_WT.shape[0]\n",
    "\n",
    "BLA_SRS = np.zeros((n_frequencies, time_points, n_channels))\n",
    "for channel in range(n_channels): # SRP.shape[0]):\n",
    "    wavel1 = wl.Morlet(BLA_WT[channel, start:stop], scales=scales)\n",
    "\n",
    "    BLA_SRS[:,:,channel] = wavel1.getnormpower()\n",
    "    \n",
    "baseline_mean = np.mean(BLA_SRS[:, :bstop, :], axis=1)\n",
    "baseline_sd = np.std(BLA_SRS[:, :bstop, :], axis=1)\n",
    "BLA_SRS = (BLA_SRS - baseline_mean[:, None, :]) / baseline_sd[:, None, :]\n",
    "\n",
    "\n",
    "# For vHip\n",
    "n_channels = vHip_WT.shape[0]\n",
    "\n",
    "vHip_SRS = np.zeros((n_frequencies, time_points, n_channels))\n",
    "for channel in range(n_channels): # SRP.shape[0]):\n",
    "    wavel1 = wl.Morlet(vHip_WT[channel, start:stop], scales=scales)\n",
    "\n",
    "    vHip_SRS[:,:,channel] = wavel1.getnormpower()\n",
    "    \n",
    "baseline_mean = np.mean(vHip_SRS[:, :bstop, :], axis=1)\n",
    "baseline_sd = np.std(vHip_SRS[:, :bstop, :], axis=1)\n",
    "vHip_SRS = (vHip_SRS - baseline_mean[:, None, :]) / baseline_sd[:, None, :]\n",
    "    \n",
    "    \n",
    "SRSs_WT = {'mPFC': np.mean(mPFC_SRS, axis=2), 'NAC': np.mean(NAC_SRS, axis=2),\n",
    "           'BLA': np.mean(BLA_SRS, axis=2), 'vHip': np.mean(vHip_SRS, axis=2)}        \n"
   ]
  },
  {
   "cell_type": "markdown",
   "metadata": {},
   "source": [
    "#### For KO mice"
   ]
  },
  {
   "cell_type": "code",
   "execution_count": null,
   "metadata": {},
   "outputs": [],
   "source": [
    "start = 2000\n",
    "stop = 5000\n",
    "bstop = 1000\n",
    "\n",
    "# Original: se come dimension sweep (barridos antes del estimulo)\n",
    "# Yo deberia comerme dimension tiempo\n",
    "\n",
    "# For mPFC\n",
    "n_channels = mPFC_KO.shape[0]\n",
    "\n",
    "mPFC_SRS = np.zeros((n_frequencies, time_points, n_channels))\n",
    "for channel in range(n_channels): # SRP.shape[0]):\n",
    "    wavel1 = wl.Morlet(mPFC_KO[channel, start:stop], scales=scales)\n",
    "\n",
    "    mPFC_SRS[:,:,channel] = wavel1.getnormpower()\n",
    "    \n",
    "baseline_mean = np.mean(mPFC_SRS[:, :bstop, :], axis=1)\n",
    "baseline_sd = np.std(mPFC_SRS[:, :bstop, :], axis=1)\n",
    "mPFC_SRS = (mPFC_SRS - baseline_mean[:, None, :]) / baseline_sd[:, None, :]\n",
    "\n",
    "\n",
    "# For NAC\n",
    "n_channels = NAC_KO.shape[0]\n",
    "\n",
    "NAC_SRS = np.zeros((n_frequencies, time_points, n_channels))\n",
    "for channel in range(n_channels): # SRP.shape[0]):\n",
    "    wavel1 = wl.Morlet(NAC_KO[channel, start:stop], scales=scales)\n",
    "\n",
    "    NAC_SRS[:,:,channel] = wavel1.getnormpower()\n",
    "    \n",
    "baseline_mean = np.mean(NAC_SRS[:, :bstop, :], axis=1)\n",
    "baseline_sd = np.std(NAC_SRS[:, :bstop, :], axis=1)\n",
    "NAC_SRS = (NAC_SRS - baseline_mean[:, None, :]) / baseline_sd[:, None, :]\n",
    "\n",
    "\n",
    "# For BLA\n",
    "n_channels = BLA_KO.shape[0]\n",
    "\n",
    "BLA_SRS = np.zeros((n_frequencies, time_points, n_channels))\n",
    "for channel in range(n_channels): # SRP.shape[0]):\n",
    "    wavel1 = wl.Morlet(BLA_KO[channel, start:stop], scales=scales)\n",
    "\n",
    "    BLA_SRS[:,:,channel] = wavel1.getnormpower()\n",
    "    \n",
    "baseline_mean = np.mean(BLA_SRS[:, :bstop, :], axis=1)\n",
    "baseline_sd = np.std(BLA_SRS[:, :bstop, :], axis=1)\n",
    "BLA_SRS = (BLA_SRS - baseline_mean[:, None, :]) / baseline_sd[:, None, :]\n",
    "\n",
    "\n",
    "# For vHip\n",
    "n_channels = vHip_KO.shape[0]\n",
    "\n",
    "vHip_SRS = np.zeros((n_frequencies, time_points, n_channels))\n",
    "for channel in range(n_channels): # SRP.shape[0]):\n",
    "    wavel1 = wl.Morlet(vHip_KO[channel, start:stop], scales=scales)\n",
    "\n",
    "    vHip_SRS[:,:,channel] = wavel1.getnormpower()\n",
    "    \n",
    "baseline_mean = np.mean(vHip_SRS[:, :bstop, :], axis=1)\n",
    "baseline_sd = np.std(vHip_SRS[:, :bstop, :], axis=1)\n",
    "vHip_SRS = (vHip_SRS - baseline_mean[:, None, :]) / baseline_sd[:, None, :]\n",
    "    \n",
    "    \n",
    "SRSs_KO = {'mPFC': np.mean(mPFC_SRS, axis=2), 'NAC': np.mean(NAC_SRS, axis=2),\n",
    "           'BLA': np.mean(BLA_SRS, axis=2), 'vHip': np.mean(vHip_SRS, axis=2)}  "
   ]
  },
  {
   "cell_type": "code",
   "execution_count": null,
   "metadata": {},
   "outputs": [],
   "source": [
    "SRSs_KO['mPFC'].shape"
   ]
  },
  {
   "cell_type": "code",
   "execution_count": null,
   "metadata": {},
   "outputs": [],
   "source": [
    "for structure in SRSs_KO.keys():\n",
    "    pwr1 = SRSs_KO[structure]\n",
    "    fmin = min(frequencies)\n",
    "    fmax = max(frequencies)\n",
    "\n",
    "    plt.figure(1, figsize=(10, 4))\n",
    "    plt.clf()\n",
    "\n",
    "    ax1 = plt.subplot2grid((1, 5),(0, 0),colspan=4)\n",
    "    \n",
    "    plt.imshow(pwr1,cmap='RdBu',vmax=np.max(pwr1),vmin=-np.max(pwr1),\n",
    "           extent=(min(time),max(time),fmin,fmax),origin='lower', \n",
    "           interpolation='none',aspect='auto')\n",
    "    plt.colorbar(fraction=0.05,pad=0.02)\n",
    "    \n",
    "    plt.axvline(x=1, color='black')\n",
    "    \n",
    "    locs, labels = plt.xticks()\n",
    "    \n",
    "    plt.xticks(locs, ['-1', '-0.5', '0', '0.5', '1', '1.5', '2'], fontsize=14)\n",
    "    plt.yticks(fontsize=14)\n",
    "\n",
    "    #ax1.set_yscale('log')\n",
    "    ax1.set_xlabel('Time (s)', fontsize=16)\n",
    "    ax1.set_ylabel('Frequency (Hz)', fontsize=16)\n",
    "    plt.title(structure + ' KO', fontsize=20)\n",
    "\n",
    "    #ax2 = plt.subplot2grid((1,5),(0,4))\n",
    "    #ax2.plot(np.sum(pwr1[:,2000:3000],-1),frequencies, 'g')\n",
    "    #ax2.plot(np.sum(pwr1[:,3000:4000],-1),frequencies, 'r')\n",
    "    \n",
    "\n",
    "    plt.savefig(allFigs_dir + structure + \"_KO_SRS.pdf\", dpi=150, facecolor='w', edgecolor='w',\n",
    "            orientation='portrait', papertype=None, format='pdf',\n",
    "            transparent=False)\n",
    "    \n",
    "    plt.close()"
   ]
  },
  {
   "cell_type": "code",
   "execution_count": null,
   "metadata": {},
   "outputs": [],
   "source": [
    "locs"
   ]
  },
  {
   "cell_type": "code",
   "execution_count": null,
   "metadata": {},
   "outputs": [],
   "source": []
  },
  {
   "cell_type": "code",
   "execution_count": null,
   "metadata": {},
   "outputs": [],
   "source": [
    "t=np.arange(2500)\n",
    "b, a = butter_bandpass(80.0, 1000.0, order=23)\n",
    "start = 2000\n",
    "stop = 4500\n",
    "\n",
    "# mPFC\n",
    "data_WT = signal.filtfilt(b=b, a=a, x=np.mean(mPFC_WT[:,start:stop], axis=0)) # , axis=-1, padtype='odd', padlen=None, method='pad', irlen=None\n",
    "data_KO = signal.filtfilt(b=b, a=a, x=np.mean(mPFC_KO[:,start:stop], axis=0)) \n",
    "\n",
    "plt.figure(figsize=(20,10))\n",
    "plt.subplot(2,2,1)\n",
    "plt.plot(t, data_WT, color='blue', alpha=0.8)\n",
    "plt.plot(t, data_KO, color='red', alpha=0.6)\n",
    "\n",
    "plt.xticks([0, 500, 1000, 1500, 2000, 2500], ['-1', '-0.5', '0', '0.5', '1', '1.5'], fontsize=16)\n",
    "plt.yticks(fontsize=16)\n",
    "#plt.ylim([0,70])\n",
    "plt.axvline(x=1000, color='black')\n",
    "#plt.xlabel('time (s)')\n",
    "plt.ylabel('units', fontsize=18)\n",
    "plt.title('mPFC', fontsize=24)\n",
    "\n",
    "\n",
    "# NAC\n",
    "data_WT = signal.filtfilt(b=b, a=a, x=np.mean(NAC_WT[:,start:stop], axis=0)) # , axis=-1, padtype='odd', padlen=None, method='pad', irlen=None\n",
    "data_KO = signal.filtfilt(b=b, a=a, x=np.mean(NAC_KO[:,start:stop], axis=0)) \n",
    "\n",
    "plt.subplot(2,2,2)\n",
    "plt.plot(t, data_WT, color='blue', alpha=0.8)\n",
    "plt.plot(t, data_KO, color='red', alpha=0.6)\n",
    "\n",
    "plt.xticks([0, 500, 1000, 1500, 2000, 2500], ['-1', '-0.5', '0', '0.5', '1', '1.5'], fontsize=16)\n",
    "plt.yticks(fontsize=16)\n",
    "#plt.ylim([0,70])\n",
    "plt.axvline(x=1000, color='black')\n",
    "#plt.xlabel('time (s)')\n",
    "plt.ylabel('units', fontsize=18)\n",
    "plt.title('NAC', fontsize=24)\n",
    "\n",
    "\n",
    "# BLA\n",
    "data_WT = signal.filtfilt(b=b, a=a, x=np.mean(BLA_WT[:,start:stop], axis=0)) # , axis=-1, padtype='odd', padlen=None, method='pad', irlen=None\n",
    "data_KO = signal.filtfilt(b=b, a=a, x=np.mean(BLA_KO[:,start:stop], axis=0)) \n",
    "\n",
    "plt.subplot(2,2,3)\n",
    "plt.plot(t, data_WT, color='blue', alpha=0.8)\n",
    "plt.plot(t, data_KO, color='red', alpha=0.6)\n",
    "\n",
    "plt.xticks([0, 500, 1000, 1500, 2000, 2500], ['-1', '-0.5', '0', '0.5', '1', '1.5'], fontsize=16)\n",
    "plt.yticks(fontsize=16)\n",
    "#plt.ylim([0,70])\n",
    "plt.axvline(x=1000, color='black')\n",
    "#plt.xlabel('time (s)')\n",
    "plt.ylabel('units', fontsize=18)\n",
    "plt.title('BLA', fontsize=24)\n",
    "\n",
    "\n",
    "# vHip\n",
    "data_WT = signal.filtfilt(b=b, a=a, x=np.mean(vHip_WT[:,start:stop], axis=0)) # , axis=-1, padtype='odd', padlen=None, method='pad', irlen=None\n",
    "data_KO = signal.filtfilt(b=b, a=a, x=np.mean(vHip_KO[:,start:stop], axis=0)) \n",
    "\n",
    "plt.subplot(2,2,4)\n",
    "plt.plot(t, data_WT, color='blue', alpha=0.8)\n",
    "plt.plot(t, data_KO, color='red', alpha=0.6)\n",
    "\n",
    "plt.xticks([0, 500, 1000, 1500, 2000, 2500], ['-1', '-0.5', '0', '0.5', '1', '1.5'], fontsize=16)\n",
    "plt.yticks(fontsize=16)\n",
    "#plt.ylim([0,70])\n",
    "plt.axvline(x=1000, color='black')\n",
    "#plt.xlabel('time (s)')\n",
    "plt.ylabel('units', fontsize=18)\n",
    "plt.title('vHip', fontsize=24)\n",
    "\n",
    "\n",
    "plt.savefig(allFigs_dir + \"potentials.png\", dpi=150, facecolor='w', edgecolor='w',\n",
    "        orientation='portrait', papertype=None, format='png',\n",
    "        transparent=False)"
   ]
  }
 ],
 "metadata": {
  "kernelspec": {
   "display_name": "Python 3",
   "language": "python",
   "name": "python3"
  },
  "language_info": {
   "codemirror_mode": {
    "name": "ipython",
    "version": 2
   },
   "file_extension": ".py",
   "mimetype": "text/x-python",
   "name": "python",
   "nbconvert_exporter": "python",
   "pygments_lexer": "ipython2",
   "version": "2.7.15+"
  }
 },
 "nbformat": 4,
 "nbformat_minor": 2
}
