{
 "cells": [
  {
   "cell_type": "code",
   "execution_count": 4,
   "metadata": {},
   "outputs": [],
   "source": [
    "import h5py\n",
    "import numpy as np\n",
    "import pandas as pd\n",
    "import wavelets as wl\n",
    "from scipy import signal\n",
    "from matplotlib import pyplot as plt"
   ]
  },
  {
   "cell_type": "code",
   "execution_count": 52,
   "metadata": {},
   "outputs": [
    {
     "data": {
      "text/plain": [
       "(10, 6000)"
      ]
     },
     "execution_count": 52,
     "metadata": {},
     "output_type": "execute_result"
    }
   ],
   "source": [
    "ID    = 'SERT1985'\n",
    "mydir = '/home/maspe/filer/SERT/' + ID + '/'\n",
    "\n",
    "mPFC = np.load(mydir + 'mPFC_epochs.npy')\n",
    "\n",
    "SRP = np.mean(mPFC, axis=2)\n",
    "SRP.shape"
   ]
  },
  {
   "cell_type": "markdown",
   "metadata": {},
   "source": [
    "### Figure 1"
   ]
  },
  {
   "cell_type": "code",
   "execution_count": 53,
   "metadata": {},
   "outputs": [],
   "source": [
    "fs = 1000.0\n",
    "dt = 1 / fs\n",
    "time = np.arange(0, 6, dt)\n",
    "frequencies = np.arange(1, 100, 1)\n",
    "periods = 1 / (frequencies * dt)\n",
    "scales = periods / wl.Morlet.fourierwl\n",
    "\n",
    "# wavel1 = wl.Morlet(SRP[1,:], scales=scales)"
   ]
  },
  {
   "cell_type": "code",
   "execution_count": null,
   "metadata": {},
   "outputs": [],
   "source": [
    "for chan in range(SRP.shape[0]):\n",
    "    print(chan)\n",
    "    wavel1 = wl.Morlet(SRP[chan,:], scales=scales)\n",
    "\n",
    "    pwr1=wavel1.getnormpower()\n",
    "\n",
    "    fmin=min(frequencies)\n",
    "    fmax=max(frequencies)\n",
    "\n",
    "    plt.figure(1, figsize=(10, 4))\n",
    "    plt.clf()\n",
    "\n",
    "    ax1=plt.subplot2grid((1, 5),(0, 0),colspan=4)\n",
    "    #\n",
    "    plt.imshow(pwr1,cmap='RdBu',vmax=np.max(pwr1),vmin=-np.max(pwr1),\n",
    "           extent=(min(time),max(time),fmin,fmax),origin='lower', \n",
    "           interpolation='none',aspect='auto')\n",
    "    \n",
    "    plt.axvline(x=3, color='black')\n",
    "    \n",
    "    locs, labels = plt.xticks()\n",
    "    \n",
    "    plt.xticks(locs, ['-3', '-2', '-1', '0', '1', '2', '3'])\n",
    "    #ax1.set_yscale('log')\n",
    "    ax1.set_ylabel('Frequency (Hz)')\n",
    "\n",
    "    ax2=plt.subplot2grid((1,5),(0,4))\n",
    "    ax2.plot(np.sum(pwr1[:,:3000],-1),frequencies, 'g')\n",
    "    ax2.plot(np.sum(pwr1[:,-3000:],-1),frequencies, 'r')\n",
    "    \n",
    "    \n",
    "\n",
    "    plt.savefig(mydir + str(chan) + \".png\", dpi=50, facecolor='w', edgecolor='w',\n",
    "            orientation='portrait', papertype=None, format='png',\n",
    "            transparent=False)\n",
    "    \n",
    "    plt.close()"
   ]
  },
  {
   "cell_type": "markdown",
   "metadata": {},
   "source": [
    "### Figure 2"
   ]
  },
  {
   "cell_type": "code",
   "execution_count": 1,
   "metadata": {},
   "outputs": [],
   "source": [
    "mydir = '/home/maspe/filer/testFiles/spiking_data/SERT1985/'"
   ]
  },
  {
   "cell_type": "code",
   "execution_count": 2,
   "metadata": {},
   "outputs": [],
   "source": [
    "chans = ['ch01', 'ch02', 'ch03', 'ch04', 'ch05', 'ch06', 'ch07', 'ch08', 'ch09', 'ch10',\n",
    "         'ch11', 'ch12', 'ch13', 'ch14', 'ch15', 'ch16', 'ch17', 'ch18', 'ch19', 'ch20',\n",
    "         'ch21', 'ch22', 'ch23', 'ch24', 'ch25', 'ch26', 'ch27', 'ch28', 'ch29', 'ch30',\n",
    "         'ch31', 'ch32']\n",
    "\n",
    "nchannels = len(chans)"
   ]
  },
  {
   "cell_type": "code",
   "execution_count": 5,
   "metadata": {},
   "outputs": [],
   "source": [
    "fit = []\n",
    "for chan in chans:\n",
    "    path = mydir + chan + '/' + chan + '.result.hdf5'\n",
    "    \n",
    "    fit.append(h5py.File(path, 'r'))"
   ]
  },
  {
   "cell_type": "code",
   "execution_count": 6,
   "metadata": {},
   "outputs": [
    {
     "data": {
      "text/plain": [
       "53"
      ]
     },
     "execution_count": 6,
     "metadata": {},
     "output_type": "execute_result"
    }
   ],
   "source": [
    "all_units = []\n",
    "for a in range(len(fit)):\n",
    "    for key in fit[a]['spiketimes'].keys():\n",
    "        all_units.append(fit[a]['spiketimes'][key][()]) # Final \"[()]\" is to import values from h5py \n",
    "        \n",
    "len(all_units)"
   ]
  },
  {
   "cell_type": "code",
   "execution_count": 7,
   "metadata": {},
   "outputs": [],
   "source": [
    "df = pd.read_excel(\"/home/maspe/filer/testFiles/spiking_data/SERT1985/entradas_sert1985.xlsx\",\n",
    "                   sheet_name=0, header=None, names=[\"locs\"])\n",
    "entrances_times = np.array(df['locs'].tolist(), dtype='int')\n",
    "entrances_times = entrances_times * 30\n",
    "\n",
    "n_epochs = len(entrances_times)\n",
    "epochs_pre = []\n",
    "epochs_post = []\n",
    "# post = []\n",
    "secs = 1.5\n",
    "sampleRate = 30000\n",
    "window = int(sampleRate * secs)\n",
    "\n",
    "# for epoch in range(len(entrances_times)):\n",
    "#     pre.append(np.arange(entrances_times[epoch] - window, entrances_times[epoch], 1))\n",
    "#     post.append(np.arange(entrances_times[epoch], entrances_times[epoch] + window, 1))\n",
    "\n",
    "for epoch in range(n_epochs):\n",
    "    epochs_pre.append([entrances_times[epoch] - window, entrances_times[epoch]])\n",
    "    epochs_post.append([entrances_times[epoch], entrances_times[epoch] + window])\n",
    "#     post.append([entrances_times[epoch] + 1, entrances_times[epoch] + window])    \n",
    "    \n",
    "    \n",
    "# Flatten vector of all points previous or post to center entrance\n",
    "# pre_flatten = np.unique([item for sublist in pre for item in sublist])\n",
    "# post_flatten = np.unique([item for sublist in post for item in sublist])"
   ]
  },
  {
   "cell_type": "code",
   "execution_count": 12,
   "metadata": {},
   "outputs": [],
   "source": [
    "pre = []\n",
    "post = []\n",
    "for epoch in range(20):\n",
    "    pre.append(np.arange(entrances_times[epoch] - window, entrances_times[epoch], 1))\n",
    "    post.append(np.arange(entrances_times[epoch], entrances_times[epoch] + window, 1))"
   ]
  },
  {
   "cell_type": "code",
   "execution_count": 45,
   "metadata": {},
   "outputs": [],
   "source": [
    "epoch_matrix=np.concatenate((np.array(pre), np.array(post)), axis=1)"
   ]
  },
  {
   "cell_type": "code",
   "execution_count": 46,
   "metadata": {},
   "outputs": [
    {
     "data": {
      "text/plain": [
       "(20, 90000)"
      ]
     },
     "execution_count": 46,
     "metadata": {},
     "output_type": "execute_result"
    }
   ],
   "source": [
    "epoch_matrix.shape"
   ]
  },
  {
   "cell_type": "code",
   "execution_count": 11,
   "metadata": {},
   "outputs": [
    {
     "data": {
      "text/plain": [
       "(53, 90000)"
      ]
     },
     "execution_count": 11,
     "metadata": {},
     "output_type": "execute_result"
    }
   ],
   "source": [
    "spikes_matrix = np.zeros([len(all_units), window * 2])\n",
    "spikes_matrix.shape"
   ]
  },
  {
   "cell_type": "code",
   "execution_count": 8,
   "metadata": {},
   "outputs": [],
   "source": [
    "spikes_epochs_pre = []\n",
    "spikes_epochs_post = []\n",
    "for unit in range(len(all_units)):\n",
    "    spiketimes_pre = []\n",
    "    spiketimes_post = []\n",
    "    for epoch in range(n_epochs):\n",
    "        spiketimes_pre.extend(all_units[unit][(all_units[unit] > epochs_pre[epoch][0]) & (all_units[unit] < epochs_post[epoch][1])])\n",
    "        spiketimes_post.extend(all_units[unit][(all_units[unit] > epochs_post[epoch][0]) & (all_units[unit] < epochs_post[epoch][1])])\n",
    "    spikes_epochs_pre.append(spiketimes_pre)\n",
    "    spikes_epochs_post.append(spiketimes_post)"
   ]
  },
  {
   "cell_type": "code",
   "execution_count": 26,
   "metadata": {},
   "outputs": [
    {
     "data": {
      "text/plain": [
       "12613"
      ]
     },
     "execution_count": 26,
     "metadata": {},
     "output_type": "execute_result"
    }
   ],
   "source": [
    "len(spikes_epochs_pre[52])"
   ]
  },
  {
   "cell_type": "code",
   "execution_count": 37,
   "metadata": {},
   "outputs": [],
   "source": [
    "spikes = []\n",
    "for unit in range(len(spikes_epochs_pre)):\n",
    "    # np.isin(element, test_elements)\n",
    "    spikes.append(np.isin(pre, spikes_epochs_pre[unit] + spikes_epochs_post[unit]))"
   ]
  },
  {
   "cell_type": "code",
   "execution_count": 36,
   "metadata": {},
   "outputs": [
    {
     "data": {
      "text/plain": [
       "53"
      ]
     },
     "execution_count": 36,
     "metadata": {},
     "output_type": "execute_result"
    }
   ],
   "source": [
    "len(spikes)"
   ]
  }
 ],
 "metadata": {
  "kernelspec": {
   "display_name": "Python 3",
   "language": "python",
   "name": "python3"
  },
  "language_info": {
   "codemirror_mode": {
    "name": "ipython",
    "version": 2
   },
   "file_extension": ".py",
   "mimetype": "text/x-python",
   "name": "python",
   "nbconvert_exporter": "python",
   "pygments_lexer": "ipython2",
   "version": "2.7.15+"
  }
 },
 "nbformat": 4,
 "nbformat_minor": 2
}
