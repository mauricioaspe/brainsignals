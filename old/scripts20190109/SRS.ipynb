{
 "cells": [
  {
   "cell_type": "code",
   "execution_count": 1,
   "metadata": {},
   "outputs": [],
   "source": [
    "import time\n",
    "import numpy as np\n",
    "import wavelets as wl\n",
    "from scipy import signal\n",
    "from matplotlib import pyplot as plt"
   ]
  },
  {
   "cell_type": "code",
   "execution_count": 4,
   "metadata": {},
   "outputs": [],
   "source": [
    "# Downsampling parameters: final resolution = 1000 Hz\n",
    "fs = 30000.0\n",
    "final_fs  = 1000.0\n",
    "ds_factor = fs // final_fs\n",
    "\n",
    "npoints = 180000\n",
    "n_samples = np.int(npoints / ds_factor)\n",
    "\n"
   ]
  },
  {
   "cell_type": "code",
   "execution_count": null,
   "metadata": {},
   "outputs": [],
   "source": [
    "IDs_WT = ['SERT1597', 'SERT1659'] #, 'SERT1678', 'SERT1908', 'SERT1984', 'SERT1985', 'SERT2014']\n",
    "# IDs_KO = ['SERT1668', 'SERT1665', 'SERT2018', 'SERT2024', 'SERT2013'] \n",
    "\n",
    "# allFigs_dir = '/home/maspe/filer/SERT/ALL/figs/'\n",
    "\n",
    "structures = ['mPFC', 'BLA', 'NAC', 'vHip']\n",
    "mPFC_WT = dict()\n",
    "print('Processing WT')\n",
    "iteration = 0\n",
    "for ID in IDs_WT:\n",
    "    clock = time.time()\n",
    "    npys_dir = '/home/maspe/filer/SERT/' + ID + '/npys/'\n",
    "        \n",
    "    mPFC_WT[ID] = np.load(npys_dir + 'mPFC_epochs.npy', allow_pickle=True)\n",
    "    print('{} loaded!'.format(ID))\n",
    "    \n",
    "    \n",
    "    print('Begin downsampling')\n",
    "    mPFC_WT[ID] = signal.resample(x=mPFC_WT[ID], num=n_samples, axis=1)\n",
    "\n",
    "    print('{} processed in {:.2f} s.'.format(ID, time.time() - clock))\n",
    "    print('{} matrix shape = {}'.format(ID, mPFC_WT[ID].shape))\n",
    "    \n",
    "    #NAC_epochs  = np.mean(np.load(npys_dir + 'NAC_epochs.npy', allow_pickle=True), axis=2)\n",
    "    #BLA_epochs  = np.mean(np.load(npys_dir + 'BLA_epochs.npy', allow_pickle=True), axis=2)\n",
    "    #vHip_epochs = np.mean(np.load(npys_dir + 'vHip_epochs.npy', allow_pickle=True), axis=2)"
   ]
  },
  {
   "cell_type": "code",
   "execution_count": 6,
   "metadata": {},
   "outputs": [],
   "source": [
    "fs = 1000.0\n",
    "dt = 1 / fs\n",
    "time_windows = np.arange(0, 3, dt)\n",
    "frequencies = np.arange(1, 100, 1)\n",
    "periods = 1 / (frequencies * dt)\n",
    "scales = periods / wl.Morlet.fourierwl\n",
    "n_frequencies = frequencies.shape[0]\n",
    "time_points = time_windows.shape[0]"
   ]
  },
  {
   "cell_type": "code",
   "execution_count": 13,
   "metadata": {},
   "outputs": [
    {
     "name": "stdout",
     "output_type": "stream",
     "text": [
      "Morlet wavelet for SERT1659 mPFC started!\n",
      "Mouse SERT1659 Fourier transformed in 25.72 s.\n",
      "Morlet wavelet for SERT1659 mPFC started!\n",
      "Mouse SERT1659 Fourier transformed in 25.72 s.\n",
      "Done!\n"
     ]
    }
   ],
   "source": [
    "# Reducing epoch\n",
    "start = 1000\n",
    "stop = 4000\n",
    "\n",
    "mPFC_SRS = dict()\n",
    "for key in mPFC_WT.keys():\n",
    "    clock = time.time()\n",
    "    print('Morlet wavelet for {} mPFC started!'.format(ID))\n",
    "    \n",
    "    n_channels = mPFC_WT[key].shape[0]\n",
    "    n_epochs = mPFC_WT[key].shape[2]\n",
    "\n",
    "    mPFC_SRS[key] = np.zeros((n_frequencies, time_points, n_channels, n_epochs))\n",
    "    for epoch in range(n_epochs):\n",
    "        \n",
    "        for channel in range(n_channels): # SRP.shape[0]):\n",
    "            ### DOCS says data: data in array to transform, length must be power of 2 !!!!\n",
    "            wavel1 = wl.Morlet(mPFC_WT[key][channel, start:stop, epoch], scales=scales)\n",
    "            mPFC_SRS[key][:, :, channel, epoch] = wavel1.getnormpower()\n",
    "        \n",
    "    print('Mouse {} Fourier transformed in {:3.2f} s.'.format(ID, time.time() - clock))\n",
    "        \n",
    "print('Done!')"
   ]
  },
  {
   "cell_type": "code",
   "execution_count": 17,
   "metadata": {},
   "outputs": [
    {
     "data": {
      "text/plain": [
       "(99, 3000, 10, 16)"
      ]
     },
     "execution_count": 17,
     "metadata": {},
     "output_type": "execute_result"
    }
   ],
   "source": [
    "mPFC_SRS[key].shape"
   ]
  },
  {
   "cell_type": "code",
   "execution_count": null,
   "metadata": {},
   "outputs": [],
   "source": [
    "wavel1 = wl.Morlet(mPFC_WT[key][channel, :, epoch], scales=scales)"
   ]
  },
  {
   "cell_type": "code",
   "execution_count": null,
   "metadata": {},
   "outputs": [],
   "source": [
    "wavel1.getnormpower().shape"
   ]
  }
 ],
 "metadata": {
  "kernelspec": {
   "display_name": "Python 3",
   "language": "python",
   "name": "python3"
  },
  "language_info": {
   "codemirror_mode": {
    "name": "ipython",
    "version": 2
   },
   "file_extension": ".py",
   "mimetype": "text/x-python",
   "name": "python",
   "nbconvert_exporter": "python",
   "pygments_lexer": "ipython2",
   "version": "2.7.15+"
  }
 },
 "nbformat": 4,
 "nbformat_minor": 2
}
