{
 "cells": [
  {
   "cell_type": "code",
   "execution_count": 1,
   "metadata": {},
   "outputs": [],
   "source": [
    "### Importing modules\n",
    "import time\n",
    "import numpy as np\n",
    "import wavelets as wl\n",
    "from scipy import signal\n",
    "from matplotlib import pyplot as plt"
   ]
  },
  {
   "cell_type": "code",
   "execution_count": 2,
   "metadata": {},
   "outputs": [],
   "source": [
    "### Parameters\n",
    "# Downsampling parameters: final resolution = 1000 Hz\n",
    "fs = 30000.0\n",
    "final_fs  = 1000.0\n",
    "ds_factor = fs // final_fs\n",
    "\n",
    "# \n",
    "npoints = 180000\n",
    "n_samples = np.int(npoints / ds_factor) # Downsample to 1000 Hz\n",
    "fs = 1000.0\n",
    "\n",
    "# Morlet parameters\n",
    "dt = 1 / fs\n",
    "time_windows = np.arange(0, 3, dt)\n",
    "frequencies = np.arange(1, 100, 1)\n",
    "periods = 1 / (frequencies * dt)\n",
    "scales = periods / wl.Morlet.fourierwl\n",
    "n_frequencies = frequencies.shape[0]\n",
    "time_points = time_windows.shape[0]\n",
    "\n",
    "# Reducing epoch\n",
    "start = 1000\n",
    "stop = 4000\n",
    "baseline = 2000"
   ]
  },
  {
   "cell_type": "code",
   "execution_count": 4,
   "metadata": {},
   "outputs": [],
   "source": [
    "### Loading data"
   ]
  },
  {
   "cell_type": "code",
   "execution_count": null,
   "metadata": {},
   "outputs": [],
   "source": [
    "IDs_WT = ['SERT1597'] #, 'SERT1659'] #, 'SERT1678', 'SERT1908', 'SERT1984', 'SERT1985', 'SERT2014']\n",
    "IDs_KO = ['SERT1668'] #, 'SERT1665', 'SERT2018', 'SERT2024', 'SERT2013'] \n",
    "\n",
    "WT = {'mPFC':{}, 'BLA':{}, 'NAC':{}, 'vHip':{}}\n",
    "KO = {'mPFC':{}, 'BLA':{}, 'NAC':{}, 'vHip':{}}\n",
    "clock = time.time()\n",
    "\n",
    "print('###################\\nDownsampling WTs to 1000 Hz...')\n",
    "for structure in WT.keys():\n",
    "    for ID in IDs_WT:\n",
    "        print('Loading {} from {}...'.format(structure, ID))\n",
    "        npys_dir = '/home/maspe/filer/SERT/' + ID + '/npys/'\n",
    "        x = np.load(npys_dir + structure + '_epochs.npy', allow_pickle=True)      \n",
    "    \n",
    "        print('Downsampling...\\n')\n",
    "        WT[structure][ID] = signal.resample(x=x, num=n_samples, axis=1)\n",
    "\n",
    "        \n",
    "print('###################\\nDownsampling KOs to 1000 Hz...')\n",
    "for structure in KO.keys():\n",
    "    for ID in IDs_KO:\n",
    "        print('Loading {} from {}...'.format(structure, ID))\n",
    "        npys_dir = '/home/maspe/filer/SERT/' + ID + '/npys/'        \n",
    "        x = np.load(npys_dir + structure + '_epochs.npy', allow_pickle=True)\n",
    "    \n",
    "        print('Downsampling...\\n')\n",
    "        KO[structure][ID] = signal.resample(x=x, num=n_samples, axis=1)\n",
    "\n",
    "        \n",
    "print('All mice downsampled in {:.2f} s.'.format(time.time() - clock))"
   ]
  },
  {
   "cell_type": "code",
   "execution_count": 7,
   "metadata": {},
   "outputs": [
    {
     "data": {
      "text/plain": [
       "(9, 6000, 16)"
      ]
     },
     "execution_count": 7,
     "metadata": {},
     "output_type": "execute_result"
    }
   ],
   "source": [
    "WT['BLA']['SERT1597'].shape"
   ]
  },
  {
   "cell_type": "code",
   "execution_count": 8,
   "metadata": {},
   "outputs": [
    {
     "data": {
      "text/plain": [
       "(7, 180000, 4)"
      ]
     },
     "execution_count": 8,
     "metadata": {},
     "output_type": "execute_result"
    }
   ],
   "source": [
    "x.shape"
   ]
  },
  {
   "cell_type": "code",
   "execution_count": null,
   "metadata": {},
   "outputs": [],
   "source": [
    "# Morlet transform\n",
    "mPFC_SRS = dict()\n",
    "for key in mPFC_WT.keys():\n",
    "    clock = time.time()\n",
    "    print('Morlet wavelet for {} mPFC started!'.format(ID))\n",
    "    \n",
    "    n_channels = mPFC_WT[key].shape[0]\n",
    "    n_epochs = mPFC_WT[key].shape[2]\n",
    "\n",
    "    mPFC_SRS[key] = np.zeros((n_frequencies, time_points, n_channels, n_epochs))\n",
    "    for epoch in range(n_epochs):\n",
    "        \n",
    "        for channel in range(n_channels): # SRP.shape[0]):\n",
    "            ### DOCS says data: data in array to transform, length must be power of 2 !!!!\n",
    "            wavel1 = wl.Morlet(mPFC_WT[key][channel, start:stop, epoch], scales=scales)\n",
    "            mPFC_SRS[key][:, :, channel, epoch] = wavel1.getnormpower()\n",
    "            \n",
    "    print('Transforming to z-score...')        \n",
    "    baseline_mean = np.mean(mPFC_SRS[key][:, baseline:, :, :], axis=1)\n",
    "    baseline_sd = np.std(mPFC_SRS[key][:, baseline:, :, :], axis=1)\n",
    "    mPFC_SRS[key] = (mPFC_SRS[key] - baseline_mean[:, None, :, :]) / baseline_sd[:, None, :, :]\n",
    "        \n",
    "    print('Mouse {} Fourier transformed in {:3.2f} s.\\n'.format(ID, time.time() - clock))\n",
    "        \n",
    "print('Done!')"
   ]
  },
  {
   "cell_type": "code",
   "execution_count": null,
   "metadata": {},
   "outputs": [],
   "source": [
    "mPFC_mean_SRS = dict()\n",
    "for key in mPFC_SRS.keys():\n",
    "    mPFC_mean_SRS[key] = np.mean(mPFC_SRS[key], axis=(2,3))"
   ]
  },
  {
   "cell_type": "code",
   "execution_count": null,
   "metadata": {},
   "outputs": [],
   "source": [
    "np.save('/home/maspe/filer/SERT/ALL/npys/' + 'mPFC_SRS.npy', mPFC_mean_SRS)"
   ]
  },
  {
   "cell_type": "code",
   "execution_count": null,
   "metadata": {},
   "outputs": [],
   "source": [
    "npys_dir = '/home/maspe/filer/SERT/ALL/npys/'\n",
    "mPFC_SRS_WT = np.load(npys_dir + 'mPFC_SRS.npy', allow_pickle=True).item()"
   ]
  },
  {
   "cell_type": "code",
   "execution_count": null,
   "metadata": {},
   "outputs": [],
   "source": [
    "iteration = 0\n",
    "for key in mPFC_SRS_WT.keys(): \n",
    "    \n",
    "    if iteration == 0:\n",
    "        grand_average = mPFC_SRS_WT[key]\n",
    "        \n",
    "    else:\n",
    "        grand_average = np.stack((grand_average, mPFC_SRS_WT[key]), axis=2)\n",
    "         \n",
    "    iteration += 1\n",
    "\n",
    "grand_average = np.mean(grand_average, axis=2)\n",
    "grand_average.shape\n",
    "    "
   ]
  },
  {
   "cell_type": "code",
   "execution_count": null,
   "metadata": {},
   "outputs": [],
   "source": [
    "pwr1 = grand_average\n",
    "fmin = min(frequencies)\n",
    "fmax = max(frequencies)\n",
    "\n",
    "plt.figure(1, figsize=(10, 4))\n",
    "plt.clf()\n",
    "\n",
    "ax1 = plt.subplot2grid((1, 5),(0, 0),colspan=4)\n",
    "   \n",
    "plt.imshow(pwr1,cmap='RdBu',vmax=np.max(pwr1),vmin=-np.max(pwr1),\n",
    "           extent=(min(time_windows),max(time_windows),fmin,fmax),\n",
    "           origin='lower', interpolation='none',aspect='auto')\n",
    "plt.colorbar(fraction=0.05,pad=0.02)\n",
    "    \n",
    "plt.axvline(x=2, color='black')\n",
    "   \n",
    "locs, labels = plt.xticks()    \n",
    "plt.xticks(locs, ['-2', '-1.5', '-1', '-0.5', '0', '0.5', '1'], fontsize=14)\n",
    "plt.yticks(fontsize=14)\n",
    "\n",
    "#ax1.set_yscale('log')\n",
    "ax1.set_xlabel('Time (s)', fontsize=16)\n",
    "ax1.set_ylabel('Frequency (Hz)', fontsize=16)\n",
    "plt.title('SRS Grand-average', fontsize=20);\n"
   ]
  },
  {
   "cell_type": "code",
   "execution_count": null,
   "metadata": {},
   "outputs": [],
   "source": [
    "a = 'caca'\n",
    "\n",
    "a + '1' = [1,4,3,2]"
   ]
  }
 ],
 "metadata": {
  "kernelspec": {
   "display_name": "Python 3",
   "language": "python",
   "name": "python3"
  },
  "language_info": {
   "codemirror_mode": {
    "name": "ipython",
    "version": 2
   },
   "file_extension": ".py",
   "mimetype": "text/x-python",
   "name": "python",
   "nbconvert_exporter": "python",
   "pygments_lexer": "ipython2",
   "version": "2.7.15+"
  }
 },
 "nbformat": 4,
 "nbformat_minor": 2
}
