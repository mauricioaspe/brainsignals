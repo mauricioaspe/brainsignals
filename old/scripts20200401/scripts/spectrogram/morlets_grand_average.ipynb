{
 "cells": [
  {
   "cell_type": "code",
   "execution_count": 1,
   "metadata": {},
   "outputs": [],
   "source": [
    "### Importing modules\n",
    "import time\n",
    "import pickle\n",
    "import numpy as np\n",
    "import wavelets as wl\n",
    "from scipy import signal\n",
    "from matplotlib import pyplot as plt"
   ]
  },
  {
   "cell_type": "code",
   "execution_count": 2,
   "metadata": {},
   "outputs": [],
   "source": [
    "### Parameters\n",
    "# Downsampling parameters: final resolution = 1000 Hz\n",
    "fs = 30000.0\n",
    "final_fs  = 1000.0\n",
    "ds_factor = fs // final_fs\n",
    "\n",
    "# \n",
    "npoints = 180000\n",
    "n_samples = np.int(npoints / ds_factor) # Downsample to 1000 Hz\n",
    "fs = 1000.0\n",
    "\n",
    "# Morlet parameters\n",
    "dt = 1 / fs\n",
    "time_windows = np.arange(0, 3, dt)\n",
    "frequencies = np.arange(1, 100, 1)\n",
    "periods = 1 / (frequencies * dt)\n",
    "scales = periods / wl.Morlet.fourierwl\n",
    "n_frequencies = frequencies.shape[0]\n",
    "time_points = time_windows.shape[0]\n",
    "\n",
    "# Reducing epoch\n",
    "start = 1000\n",
    "stop = 4000\n",
    "baseline = 2000"
   ]
  },
  {
   "cell_type": "code",
   "execution_count": 3,
   "metadata": {},
   "outputs": [
    {
     "name": "stdout",
     "output_type": "stream",
     "text": [
      "Loading data...\n"
     ]
    }
   ],
   "source": [
    "### Loading data\n",
    "print('Loading data...')\n",
    "clock = time.time()\n",
    "#SRS_WT = pickle.load(open('/home/maspe/filer/SERT/ALL/npys/SRS_WT.dict', 'rb'))\n",
    "SRS_KO = pickle.load(open('/home/maspe/filer/SERT/ALL/npys/SRS_KO.dict', 'rb'))\n",
    "print('Data loaded in {} min'.format((time.time() - clock) / 60))"
   ]
  },
  {
   "cell_type": "code",
   "execution_count": 10,
   "metadata": {},
   "outputs": [
    {
     "data": {
      "text/plain": [
       "(49, 3000, 10, 1)"
      ]
     },
     "execution_count": 10,
     "metadata": {},
     "output_type": "execute_result"
    }
   ],
   "source": [
    "SRS_KO['mPFC']['SERT1665'].shape"
   ]
  },
  {
   "cell_type": "markdown",
   "metadata": {},
   "source": [
    "#### Grand-average"
   ]
  },
  {
   "cell_type": "code",
   "execution_count": 11,
   "metadata": {},
   "outputs": [
    {
     "name": "stdout",
     "output_type": "stream",
     "text": [
      "Collecting Morlets for KO...\n",
      "0\n",
      "SERT2013\n",
      "numpy mean mouse SERT2013 structure NAC shape: (49, 3000)\n",
      "mouse average shape: (49, 3000, 5)\n",
      "1\n",
      "SERT1668\n",
      "numpy mean mouse SERT1668 structure NAC shape: (49, 3000)\n",
      "mouse average shape: (49, 3000, 5)\n",
      "2\n",
      "SERT2024\n",
      "numpy mean mouse SERT2024 structure NAC shape: (49, 3000)\n",
      "mouse average shape: (49, 3000, 5)\n",
      "3\n",
      "SERT2018\n",
      "numpy mean mouse SERT2018 structure NAC shape: (49, 3000)\n",
      "mouse average shape: (49, 3000, 5)\n",
      "4\n",
      "SERT1665\n",
      "numpy mean mouse SERT1665 structure NAC shape: (49, 3000)\n",
      "mouse average shape: (49, 3000, 5)\n",
      "0\n",
      "SERT2013\n",
      "numpy mean mouse SERT2013 structure BLA shape: (49, 3000)\n",
      "mouse average shape: (49, 3000, 5)\n",
      "1\n",
      "SERT1668\n",
      "numpy mean mouse SERT1668 structure BLA shape: (49, 3000)\n",
      "mouse average shape: (49, 3000, 5)\n",
      "2\n",
      "SERT2024\n",
      "numpy mean mouse SERT2024 structure BLA shape: (49, 3000)\n",
      "mouse average shape: (49, 3000, 5)\n",
      "3\n",
      "SERT2018\n",
      "numpy mean mouse SERT2018 structure BLA shape: (49, 3000)\n",
      "mouse average shape: (49, 3000, 5)\n",
      "4\n",
      "SERT1665\n",
      "numpy mean mouse SERT1665 structure BLA shape: (49, 3000)\n",
      "mouse average shape: (49, 3000, 5)\n",
      "0\n",
      "SERT2013\n",
      "numpy mean mouse SERT2013 structure mPFC shape: (49, 3000)\n",
      "mouse average shape: (49, 3000, 5)\n",
      "1\n",
      "SERT1668\n",
      "numpy mean mouse SERT1668 structure mPFC shape: (49, 3000)\n",
      "mouse average shape: (49, 3000, 5)\n",
      "2\n",
      "SERT2024\n",
      "numpy mean mouse SERT2024 structure mPFC shape: (49, 3000)\n",
      "mouse average shape: (49, 3000, 5)\n",
      "3\n",
      "SERT2018\n",
      "numpy mean mouse SERT2018 structure mPFC shape: (49, 3000)\n",
      "mouse average shape: (49, 3000, 5)\n",
      "4\n",
      "SERT1665\n",
      "numpy mean mouse SERT1665 structure mPFC shape: (49, 3000)\n",
      "mouse average shape: (49, 3000, 5)\n",
      "0\n",
      "SERT2013\n",
      "numpy mean mouse SERT2013 structure vHip shape: (49, 3000)\n",
      "mouse average shape: (49, 3000, 5)\n",
      "1\n",
      "SERT1668\n",
      "numpy mean mouse SERT1668 structure vHip shape: (49, 3000)\n",
      "mouse average shape: (49, 3000, 5)\n",
      "2\n",
      "SERT2024\n",
      "numpy mean mouse SERT2024 structure vHip shape: (49, 3000)\n",
      "mouse average shape: (49, 3000, 5)\n",
      "3\n",
      "SERT2018\n",
      "numpy mean mouse SERT2018 structure vHip shape: (49, 3000)\n",
      "mouse average shape: (49, 3000, 5)\n",
      "4\n",
      "SERT1665\n",
      "numpy mean mouse SERT1665 structure vHip shape: (49, 3000)\n",
      "mouse average shape: (49, 3000, 5)\n"
     ]
    }
   ],
   "source": [
    "grand_average_WT = {'mPFC': [], 'NAC': [], 'BLA': [], 'vHip': []}\n",
    "grand_average_KO = {'mPFC': [], 'NAC': [], 'BLA': [], 'vHip': []}\n",
    "\n",
    "# WT\n",
    "#print('Collecting Morlets for WT...')\n",
    "#for structure in SRS_WT.keys():    \n",
    "#    iteration = 0\n",
    "  \n",
    "#    for mouse in SRS_WT[structure].keys():\n",
    "#        print(iteration)\n",
    "#        print(mouse)\n",
    "#        print('numpy mean mouse {} structure {} shape: {}'.format(mouse, structure, np.mean(SRS_WT[structure][mouse], axis=(2,3)).shape))\n",
    "        \n",
    "        \n",
    "#        if iteration == 0:\n",
    "#            mouse_average = np.mean(SRS_WT[structure][mouse], axis=(2,3))\n",
    "            \n",
    "#        else:\n",
    "#            mouse_average = np.stack((mouse_average, np.mean(SRS_WT[structure][mouse], axis=(2,3))), axis=2)\n",
    "        \n",
    "#        print('mouse average shape: {}'.format(mouse_average.shape))\n",
    "\n",
    " #       print('mouse average shape: {}'.format(mouse_average.shape))\n",
    "#        iteration += 1\n",
    "        \n",
    "    \n",
    "#    grand_average_WT[structure] = np.mean(mouse_average, axis=2)\n",
    "\n",
    "\n",
    "print('Collecting Morlets for KO...')\n",
    "for structure in SRS_KO.keys():    \n",
    "    iteration = 0\n",
    "  \n",
    "    n_mice = len(SRS_KO[structure].keys())\n",
    "    mouse_average = np.empty((49, 3000, n_mice))\n",
    "    for mouse in SRS_KO[structure].keys():\n",
    "        print(iteration)\n",
    "        print(mouse)\n",
    "        print('numpy mean mouse {} structure {} shape: {}'.format(mouse, structure, np.mean(SRS_KO[structure][mouse], axis=(2,3)).shape))\n",
    "        \n",
    "        mouse_average[:, :, iteration] = np.mean(SRS_KO[structure][mouse], axis=(2,3))\n",
    "            \n",
    "        #else:\n",
    "        #    mouse_average = np.stack((mouse_average, np.mean(SRS_KO[structure][mouse], axis=(2,3))), axis=2)\n",
    "        \n",
    "        print('mouse average shape: {}'.format(mouse_average.shape))\n",
    "\n",
    "        iteration += 1\n",
    "        \n",
    "    \n",
    "    grand_average_KO[structure] = np.mean(mouse_average, axis=2)\n",
    "\n",
    "    \n",
    "print('Done!')"
   ]
  },
  {
   "cell_type": "markdown",
   "metadata": {},
   "source": [
    "### Plotting"
   ]
  },
  {
   "cell_type": "markdown",
   "metadata": {},
   "source": [
    "#### Wild-type"
   ]
  },
  {
   "cell_type": "code",
   "execution_count": null,
   "metadata": {},
   "outputs": [],
   "source": [
    "print('Plotting...')\n",
    "for structure in grand_average_WT.keys():\n",
    "    print(grand_average_WT[structure])\n",
    "    pwr1 = grand_average_WT[structure]\n",
    "    fmin = min(frequencies)\n",
    "    fmax = max(frequencies)\n",
    "\n",
    "    plt.figure(1, figsize=(10, 4))\n",
    "    plt.clf()\n",
    "\n",
    "    ax1 = plt.subplot2grid((1, 5),(0, 0),colspan=4)\n",
    "    \n",
    "    \n",
    "       \n",
    "    plt.imshow(pwr1,cmap='RdBu',vmax=np.max(pwr1),vmin=-np.max(pwr1),\n",
    "               extent=(min(time_windows),max(time_windows),fmin,fmax),\n",
    "               origin='lower', interpolation='none',aspect='auto')\n",
    "    plt.colorbar(fraction=0.05,pad=0.02)\n",
    "    \n",
    "    plt.axvline(x=2, color='black')\n",
    "   \n",
    "    locs, labels = plt.xticks()    \n",
    "    plt.xticks(locs, ['-2', '-1.5', '-1', '-0.5', '0', '0.5', '1'], fontsize=14)\n",
    "    plt.yticks(fontsize=14)\n",
    "\n",
    "    #ax1.set_yscale('log')\n",
    "    ax1.set_xlabel('Time (s)', fontsize=16)\n",
    "    ax1.set_ylabel('Frequency (Hz)', fontsize=16)\n",
    "    plt.title('SRS Grand-average for {} in WT'. format(structure), fontsize=20)\n",
    "    \n",
    "    print('Saving figures for WT...')\n",
    "    plt.savefig('/home/maspe/filer/SERT/ALL/figs/SRS/{}_WT.png'.format(structure), dpi=150, orientation='landscape')\n"
   ]
  },
  {
   "cell_type": "markdown",
   "metadata": {},
   "source": [
    "#### Knock-out"
   ]
  },
  {
   "cell_type": "code",
   "execution_count": 12,
   "metadata": {},
   "outputs": [
    {
     "name": "stdout",
     "output_type": "stream",
     "text": [
      "[]\n",
      "Saving figures for KO...\n",
      "[]\n",
      "Saving figures for KO...\n",
      "[]\n",
      "Saving figures for KO...\n",
      "[]\n",
      "Saving figures for KO...\n"
     ]
    },
    {
     "data": {
      "image/png": "[encoded data removed]",
      "text/plain": [
       "<Figure size 720x288 with 2 Axes>"
      ]
     },
     "metadata": {
      "needs_background": "light"
     },
     "output_type": "display_data"
    }
   ],
   "source": [
    "for structure in grand_average_KO.keys():\n",
    "    print(grand_average_WT[structure])\n",
    "    pwr1 = grand_average_KO[structure]\n",
    "    fmin = min(frequencies)\n",
    "    fmax = max(frequencies)\n",
    "\n",
    "    plt.figure(1, figsize=(10, 4))\n",
    "    plt.clf()\n",
    "\n",
    "    ax1 = plt.subplot2grid((1, 5),(0, 0),colspan=4)\n",
    "    \n",
    "    \n",
    "       \n",
    "    plt.imshow(pwr1,cmap='RdBu',vmax=np.max(pwr1),vmin=-np.max(pwr1),\n",
    "               extent=(min(time_windows),max(time_windows),fmin,fmax),\n",
    "               origin='lower', interpolation='none',aspect='auto')\n",
    "    plt.colorbar(fraction=0.05,pad=0.02)\n",
    "    \n",
    "    plt.axvline(x=2, color='black')\n",
    "   \n",
    "    locs, labels = plt.xticks()    \n",
    "    plt.xticks(locs, ['-2', '-1.5', '-1', '-0.5', '0', '0.5', '1'], fontsize=14)\n",
    "    plt.yticks(fontsize=14)\n",
    "\n",
    "    #ax1.set_yscale('log')\n",
    "    ax1.set_xlabel('Time (s)', fontsize=16)\n",
    "    ax1.set_ylabel('Frequency (Hz)', fontsize=16)\n",
    "    plt.title('SRS Grand-average for {} in KO'. format(structure), fontsize=20)\n",
    "    \n",
    "    #print('Saving figures for KO...')\n",
    "    #plt.savefig('/home/maspe/filer/SERT/ALL/figs/SRS/{}_KO.png'.format(structure), dpi=150, orientation='landscape')\n"
   ]
  }
 ],
 "metadata": {
  "kernelspec": {
   "display_name": "Python 3",
   "language": "python",
   "name": "python3"
  },
  "language_info": {
   "codemirror_mode": {
    "name": "ipython",
    "version": 2
   },
   "file_extension": ".py",
   "mimetype": "text/x-python",
   "name": "python",
   "nbconvert_exporter": "python",
   "pygments_lexer": "ipython2",
   "version": "2.7.17"
  }
 },
 "nbformat": 4,
 "nbformat_minor": 2
}
