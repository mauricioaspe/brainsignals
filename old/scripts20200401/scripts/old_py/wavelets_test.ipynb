{
 "cells": [
  {
   "cell_type": "code",
   "execution_count": 1,
   "metadata": {},
   "outputs": [],
   "source": [
    "import numpy as np\n",
    "import wavelets as wl\n",
    "from scipy import signal\n",
    "from matplotlib import pyplot as plt"
   ]
  },
  {
   "cell_type": "code",
   "execution_count": null,
   "metadata": {},
   "outputs": [],
   "source": [
    "ID    = 'SERT1985'\n",
    "mydir = '/home/maspe/filer/SERT/' + ID + '/'\n",
    "\n",
    "mPFC = np.load(mydir + 'mPFC_epochs.npy')\n",
    "\n",
    "SRP = np.mean(mPFC_epochs, axis=2)\n",
    "SRP.shape"
   ]
  },
  {
   "cell_type": "markdown",
   "metadata": {},
   "source": [
    "### Figure 1"
   ]
  },
  {
   "cell_type": "code",
   "execution_count": 76,
   "metadata": {},
   "outputs": [],
   "source": [
    "fs = 1000.0\n",
    "dt = 1 / fs\n",
    "time = np.arange(0, 6, dt)\n",
    "frequencies = np.arange(1, 100, 1)\n",
    "periods = 1 / (frequencies * dt)\n",
    "scales = periods / wl.Morlet.fourierwl\n",
    "\n",
    "# wavel1 = wl.Morlet(SRP[1,:], scales=scales)"
   ]
  },
  {
   "cell_type": "code",
   "execution_count": null,
   "metadata": {},
   "outputs": [],
   "source": [
    "for chan in range(SRP.shape[0]):\n",
    "    print(chan)\n",
    "    wavel1 = wl.Morlet(SRP[chan,:], scales=scales)\n",
    "\n",
    "    pwr1=wavel1.getnormpower()\n",
    "\n",
    "    fmin=min(frequencies)\n",
    "    fmax=max(frequencies)\n",
    "\n",
    "    plt.figure(1, figsize=(10, 4))\n",
    "    plt.clf()\n",
    "\n",
    "    ax1=plt.subplot2grid((1, 5),(0, 0),colspan=4)\n",
    "    #\n",
    "    plt.imshow(pwr1,cmap='RdBu',vmax=np.max(pwr1),vmin=-np.max(pwr1),\n",
    "           extent=(min(time),max(time),fmin,fmax),origin='lower', \n",
    "           interpolation='none',aspect='auto')\n",
    "    #ax1.set_yscale('log')\n",
    "    ax1.set_ylabel('Frequency (Hz)')\n",
    "\n",
    "    ax2=plt.subplot2grid((1,5),(0,4))\n",
    "    ax2.plot(np.sum(pwr1,-1),frequencies)\n",
    "\n",
    "    plt.savefig(mydir + str(chan) + \".png\", dpi=50, facecolor='w', edgecolor='w',\n",
    "            orientation='portrait', papertype=None, format='png',\n",
    "            transparent=False)\n",
    "    \n",
    "    plt.close()\n",
    "    "
   ]
  },
  {
   "cell_type": "markdown",
   "metadata": {},
   "source": [
    "#### Figure 2"
   ]
  },
  {
   "cell_type": "code",
   "execution_count": null,
   "metadata": {},
   "outputs": [],
   "source": []
  }
 ],
 "metadata": {
  "kernelspec": {
   "display_name": "Python 3",
   "language": "python",
   "name": "python3"
  },
  "language_info": {
   "codemirror_mode": {
    "name": "ipython",
    "version": 2
   },
   "file_extension": ".py",
   "mimetype": "text/x-python",
   "name": "python",
   "nbconvert_exporter": "python",
   "pygments_lexer": "ipython2",
   "version": "2.7.15+"
  }
 },
 "nbformat": 4,
 "nbformat_minor": 2
}
