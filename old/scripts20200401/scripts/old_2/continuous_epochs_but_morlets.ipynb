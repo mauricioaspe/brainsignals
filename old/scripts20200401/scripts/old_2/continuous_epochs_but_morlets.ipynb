{
 "cells": [
  {
   "cell_type": "code",
   "execution_count": 1,
   "metadata": {},
   "outputs": [],
   "source": [
    "# Import required modules\n",
    "import glob\n",
    "import sys\n",
    "import numpy as np\n",
    "import pandas as pd\n",
    "import physig as ps\n",
    "from scipy import signal\n",
    "from matplotlib import pyplot as plt\n",
    "import wavelets as wl\n",
    "import time\n",
    "import pickle"
   ]
  },
  {
   "cell_type": "code",
   "execution_count": 19,
   "metadata": {},
   "outputs": [
    {
     "name": "stdout",
     "output_type": "stream",
     "text": [
      "########################\n",
      "Processing mouse SERT2024...\n",
      "Number of entrances: 10\n",
      "\n",
      "Info file for SERT2024: saved\n",
      "\n"
     ]
    }
   ],
   "source": [
    "#IDs_WT = ['SERT1597', 'SERT1659', 'SERT1678', 'SERT1908', 'SERT1984', 'SERT1985', 'SERT2014']\n",
    "#IDs_KO = ['SERT1668', 'SERT1665', 'SERT2013', 'SERT2018', 'SERT2024']\n",
    "\n",
    "ID = 'SERT2024'\n",
    "\n",
    "#if len(sys.argv) > 1:\n",
    "#    ID = sys.argv[1]\n",
    "#else:\n",
    "#    print('Bad file format!')\n",
    "#    exit()\n",
    "\n",
    "master_clock = time.time()\n",
    "print('########################\\nProcessing mouse {}...'.format(ID))\n",
    "\n",
    "# Setting working file and paths\n",
    "files_dir = '/home/maspe/filer/SERT/' + ID + '/continuous/'\n",
    "npys_dir  = '/home/maspe/filer/SERT/' + ID + '/npys/'\n",
    "figs_dir  = '/home/maspe/filer/SERT/' + ID + '/figs/'\n",
    "\n",
    "# List all continuous files in working folder\n",
    "files = sorted(glob.glob(files_dir + '/*.continuous'))\n",
    "\n",
    "# Read the list of channels\n",
    "df = pd.read_excel(files_dir + 'canales.xlsx', sheet_name=0, header=None, names=[\"locs\"])\n",
    "channels_locations = np.array(df['locs'].tolist())\n",
    "n_channels = len(channels_locations)\n",
    "\n",
    "# Start and end of OF\n",
    "df = pd.read_excel(files_dir + 'xy.xlsx', sheet_name=0, header=None)\n",
    "OF_npoints = int(np.floor(df[3][1])) - int(np.ceil(df[3][0]))\n",
    "\n",
    "start_OF = int(np.ceil(df[3][0] * 30)) # Times 30 because of sampling at 30 KHz\n",
    "stop_OF = int(np.floor(df[3][1] * 30))\n",
    "\n",
    "# Read the entrances times\n",
    "df = pd.read_excel(files_dir + 'entradas.xlsx', sheet_name=0, header=None, names=[\"locs\"])\n",
    "entrances_times = np.array(df['locs'].tolist(), dtype='int') * 30 # Times 30 because of sampling at 30 KHz\n",
    "n_epochs = len(entrances_times)\n",
    "print('Number of entrances: {}\\n'.format(n_epochs))\n",
    "\n",
    "# Collect the indexes for each structure\n",
    "mPFC_indexes  = [i for i,x in enumerate(channels_locations) if x == 'mPFC_left']\n",
    "NAC_indexes = [i for i,x in enumerate(channels_locations) if x == 'NAC_left']\n",
    "BLA_indexes  = [i for i,x in enumerate(channels_locations) if x == 'BLA_left']\n",
    "vHip_indexes  = [i for i,x in enumerate(channels_locations) if x == 'vHipp_left']\n",
    "\n",
    "# Get the number of channels for each structure\n",
    "mPFC_nchannels = len(mPFC_indexes)\n",
    "NAC_nchannels  = len(NAC_indexes)\n",
    "BLA_nchannels  = len(BLA_indexes)\n",
    "vHip_nchannels = len(vHip_indexes)\n",
    "\n",
    "# Read header info to get sample rate\n",
    "with open(files[0], 'rb') as f:\n",
    "    header = ps.readHeader(f)\n",
    "\n",
    "fs = header['sampleRate']\n",
    "\n",
    "# Channels list\n",
    "channels_list = ['ch01', 'ch02', 'ch03', 'ch04', 'ch05', 'ch06', 'ch07', 'ch08', 'ch09', 'ch10',\n",
    "         'ch11', 'ch12', 'ch13', 'ch14', 'ch15', 'ch16', 'ch17', 'ch18', 'ch19', 'ch20',\n",
    "         'ch21', 'ch22', 'ch23', 'ch24', 'ch25', 'ch26', 'ch27', 'ch28', 'ch29', 'ch30',\n",
    "         'ch31', 'ch32']\n",
    "\n",
    "# Create and save info file\n",
    "info = {'ID': ID, 'channels_list': channels_list, 'channels_locs': channels_locations, 'n_channels': n_channels,\n",
    "        'mPFC_nchannels': mPFC_nchannels, 'NAC_nchannels': NAC_nchannels, 'BLA_nchannels': BLA_nchannels,\n",
    "        'vHip_nchannels': vHip_nchannels, 'entrances_times': entrances_times, 'n_epochs': n_epochs,\n",
    "        'startOF': start_OF, 'stopOF': stop_OF}\n",
    "\n",
    "with open(npys_dir + ID + '.info', 'wb') as f:\n",
    "    pickle.dump(info, f)\n",
    "\n",
    "print('Info file for {}: saved\\n'.format(ID))"
   ]
  },
  {
   "cell_type": "code",
   "execution_count": 5,
   "metadata": {},
   "outputs": [
    {
     "data": {
      "text/plain": [
       "'/home/maspe/filer/SERT/SERT1597/npys/SERT1597.info'"
      ]
     },
     "execution_count": 5,
     "metadata": {},
     "output_type": "execute_result"
    }
   ],
   "source": [
    "npys_dir + ID + '.info'"
   ]
  },
  {
   "cell_type": "code",
   "execution_count": null,
   "metadata": {},
   "outputs": [],
   "source": [
    "# Create filter\n",
    "def butter_bandpass(highcut, fs, order=5):\n",
    "    nyq  = 0.5 * fs\n",
    "    high = highcut / nyq\n",
    "    b, a = signal.butter(order, high)\n",
    "    return b, a\n",
    "\n",
    "# Filter parameters\n",
    "highcut = 300.0\n",
    "N       = 9\n",
    "b, a    = butter_bandpass(highcut, fs, order=N)"
   ]
  },
  {
   "cell_type": "code",
   "execution_count": null,
   "metadata": {},
   "outputs": [],
   "source": [
    "### Parameters\n",
    "# Downsampling parameters: final resolution = 1000 Hz\n",
    "fs = 30000\n",
    "final_fs  = 1000.0\n",
    "OF_points = fs * 60 * 10\n",
    "#ds_factor = fs // final_fs\n",
    "\n",
    "# Morlet parameters\n",
    "dt = 1 / final_fs\n",
    "time_windows = np.arange(0, 600, dt) # 600 por numero segundos en los 10 min de OF\n",
    "frequencies = np.arange(1, 100, 1)\n",
    "periods = 1 / (frequencies * dt)\n",
    "scales = periods / wl.Morlet.fourierwl\n",
    "n_frequencies = frequencies.shape[0]\n",
    "time_points = time_windows.shape[0]"
   ]
  },
  {
   "cell_type": "code",
   "execution_count": null,
   "metadata": {},
   "outputs": [],
   "source": [
    "time_points"
   ]
  },
  {
   "cell_type": "code",
   "execution_count": null,
   "metadata": {
    "scrolled": true
   },
   "outputs": [],
   "source": [
    "##### Main loop #####\n",
    "# Loop for loading and low-pass all channels of this mice\n",
    "iteration = 0\n",
    "for this_file in files:\n",
    "    channel = ps.loadContinuous(this_file)\n",
    "\n",
    "    print('Low-pass filtering (order = {}) at {} Hz...'.format(N, highcut))\n",
    "    data = channel['data'] #[start_OF - points_before : stop_OF]\n",
    "    data = signal.filtfilt(b=b, a=a, x=data - np.mean(data),\n",
    "                           axis=-1, padtype='odd', padlen=None, method='pad', irlen=None)\n",
    "\n",
    "\n",
    "    if iteration == 0:\n",
    "        data_matrix = np.empty((n_channels, len(data)))\n",
    "              \n",
    "    data_matrix[iteration, :] = data    \n",
    "    \n",
    "    clock = time.time()\n",
    "    print('Downsampling...')\n",
    "    data = signal.resample(x=data[start_OF : start_OF + OF_points], num=time_points)\n",
    "    print('Downsampled in {:.2f} min.'.format((time.time() - clock) / 60))\n",
    "\n",
    "    clock = time.time()\n",
    "    print('Morlet transform...')\n",
    "    if iteration == 0:\n",
    "        morlet_matrix = np.empty((n_frequencies, len(data), n_channels))\n",
    "    \n",
    "    transformed = wl.Morlet(data, scales=scales).getnormpower()\n",
    "    morlet_matrix[:, :, iteration] = transformed\n",
    "    print('Transformed in {:.2f} min.\\n'.format((time.time() - clock) / 60))\n",
    "    \n",
    "    iteration += 1\n",
    "    \n",
    "print('\\nCollecting all channels and Morlets by structure...')    \n",
    "#mPFC = data_matrix[mPFC_indexes, :] - np.median(data_matrix[mPFC_indexes, :], axis=0)\n",
    "mPFC_morlet = morlet_matrix[:, :, mPFC_indexes]\n",
    "print('mPFC: Done!')\n",
    "\n",
    "#NAC  = data_matrix[NAC_indexes, :]  - np.median(data_matrix[NAC_indexes, :], axis=0)\n",
    "NAC_morlet = morlet_matrix[:, :, NAC_indexes]\n",
    "print('NAC: Done!')\n",
    "\n",
    "#BLA  = data_matrix[BLA_indexes, :]  - np.median(data_matrix[BLA_indexes, :], axis=0)\n",
    "BLA_morlet = morlet_matrix[:, :, BLA_indexes]\n",
    "print('BLA: Done!')\n",
    "\n",
    "#vHip = data_matrix[vHip_indexes, :] - np.median(data_matrix[vHip_indexes, :], axis=0)\n",
    "vHip_morlet = morlet_matrix[:, :, vHip_indexes]\n",
    "print('vHip: Done!')\n",
    "\n",
    "del [data, transformed, data_matrix, morlet_matrix]  \n",
    "\n",
    "\n",
    "print('Mouse processed in {:.2f} min.\\n'.format((time.time() - master_clock) / 60))\n",
    "\n",
    "print('Saving variables (this takes some time)...')\n",
    "np.save(npys_dir + 'mPFC_morlet', mPFC_morlet)\n",
    "np.save(npys_dir + 'NAC_morlet', NAC_morlet)\n",
    "np.save(npys_dir + 'BLA_morlet', BLA_morlet)\n",
    "np.save(npys_dir + 'vHip_morlet', vHip_morlet)\n",
    "print('Done!\\n\\n')\n",
    "\n"
   ]
  }
 ],
 "metadata": {
  "kernelspec": {
   "display_name": "Python 3",
   "language": "python",
   "name": "python3"
  },
  "language_info": {
   "codemirror_mode": {
    "name": "ipython",
    "version": 2
   },
   "file_extension": ".py",
   "mimetype": "text/x-python",
   "name": "python",
   "nbconvert_exporter": "python",
   "pygments_lexer": "ipython2",
   "version": "2.7.17"
  }
 },
 "nbformat": 4,
 "nbformat_minor": 2
}
