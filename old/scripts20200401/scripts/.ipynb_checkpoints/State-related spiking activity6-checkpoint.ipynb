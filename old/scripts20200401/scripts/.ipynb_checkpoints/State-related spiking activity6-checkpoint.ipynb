{
 "cells": [
  {
   "cell_type": "code",
   "execution_count": 16,
   "metadata": {},
   "outputs": [],
   "source": [
    "import h5py\n",
    "import numpy as np\n",
    "import pandas as pd\n",
    "import wavelets as wl\n",
    "from scipy import signal\n",
    "from matplotlib import pyplot as plt"
   ]
  },
  {
   "cell_type": "markdown",
   "metadata": {},
   "source": [
    "### Figure 2"
   ]
  },
  {
   "cell_type": "code",
   "execution_count": 17,
   "metadata": {},
   "outputs": [
    {
     "name": "stdout",
     "output_type": "stream",
     "text": [
      "Processing wild-types\n",
      "Loaded /home/maspe/filer/SERT/SERT1597/spikes/results/\n",
      "Loaded /home/maspe/filer/SERT/SERT1659/spikes/results/\n",
      "Loaded /home/maspe/filer/SERT/SERT1678/spikes/results/\n",
      "Loaded /home/maspe/filer/SERT/SERT1908/spikes/results/\n",
      "Loaded /home/maspe/filer/SERT/SERT1984/spikes/results/\n",
      "Loaded /home/maspe/filer/SERT/SERT1985/spikes/results/\n",
      "Loaded /home/maspe/filer/SERT/SERT2014/spikes/results/\n",
      "Processing knock-out\n",
      "Loaded /home/maspe/filer/SERT/SERT1668/spikes/results/\n",
      "Loaded /home/maspe/filer/SERT/SERT1665/spikes/results/\n",
      "Loaded /home/maspe/filer/SERT/SERT2013/spikes/results/\n",
      "Loaded /home/maspe/filer/SERT/SERT2018/spikes/results/\n"
     ]
    }
   ],
   "source": [
    "IDs_WT = ['SERT1597', 'SERT1659', 'SERT1678', 'SERT1908', 'SERT1984', 'SERT1985', 'SERT2014']\n",
    "IDs_KO = ['SERT1668', 'SERT1665', 'SERT2013', 'SERT2018'] #, 'SERT2024']\n",
    "\n",
    "all_info_WT = {}\n",
    "all_mice_WT = {}\n",
    "\n",
    "print('Processing wild-types')\n",
    "for ID in IDs_WT:\n",
    "    npys_dir = '/home/maspe/filer/SERT/' + ID + '/npys/'\n",
    "    spikes_dir = '/home/maspe/filer/SERT/' + ID + '/spikes/results/'\n",
    "    \n",
    "    info = np.load(npys_dir + 'info.npy', allow_pickle=True).item()\n",
    "    all_info_WT[ID] = info\n",
    "    channels = info['channels_list']\n",
    "    \n",
    "    fit = []\n",
    "    for channel in channels:\n",
    "        path = spikes_dir + channel + '.result.hdf5'\n",
    "    \n",
    "        fit.append(h5py.File(path, 'r'))\n",
    "        \n",
    "    print('Loaded ' + spikes_dir)\n",
    "        \n",
    "    all_mice_WT[ID] = fit\n",
    "\n",
    "\n",
    "print('Processing knock-out')\n",
    "all_info_KO = {}\n",
    "all_mice_KO = {}\n",
    "for ID in IDs_KO:\n",
    "    npys_dir = '/home/maspe/filer/SERT/' + ID + '/npys/'\n",
    "    spikes_dir = '/home/maspe/filer/SERT/' + ID + '/spikes/results/'\n",
    "    \n",
    "    info = np.load(npys_dir + 'info.npy', allow_pickle=True).item()\n",
    "    all_info_KO[ID] = info\n",
    "    channels = info['channels_list']\n",
    "    \n",
    "    fit = []\n",
    "    for channel in channels:\n",
    "        path = spikes_dir + channel + '.result.hdf5'\n",
    "    \n",
    "        fit.append(h5py.File(path, 'r'))\n",
    "        \n",
    "    print('Loaded ' + spikes_dir)\n",
    "        \n",
    "    all_mice_KO[ID] = fit\n",
    "\n",
    "all_units_WT = {}\n",
    "all_channels_WT = {}\n"
   ]
  },
  {
   "cell_type": "code",
   "execution_count": 6,
   "metadata": {},
   "outputs": [],
   "source": [
    "for mouse in all_mice_WT.keys():\n",
    "    n_channels = 32\n",
    "    units = []\n",
    "    channels_id = []\n",
    "    \n",
    "    iteration = 0\n",
    "    for channel in range(n_channels):\n",
    "        for unit in all_mice_WT[mouse][channel]['spiketimes'].keys():\n",
    "            units.append(all_mice_WT[mouse][channel]['spiketimes'][unit][()]) # Final \"[()]\" is to import values from h5py \n",
    "      \n",
    "            channels_id.append(all_info_WT[mouse]['channels_locs'][iteration])\n",
    "        \n",
    "        iteration += 1\n",
    "        \n",
    "            \n",
    "    all_units_WT[mouse] = units\n",
    "    all_channels_WT[mouse] = channels_id\n",
    "        \n",
    "# print('n units = %i' %len(all_units))\n",
    "\n",
    "\n",
    "all_units_KO = {}\n",
    "all_channels_KO = {}\n",
    "for mouse in all_mice_KO.keys():\n",
    "    n_channels = 32\n",
    "    units = []\n",
    "    channels_id = []\n",
    "    \n",
    "    iteration = 0\n",
    "    for channel in range(n_channels):\n",
    "        for unit in all_mice_KO[mouse][channel]['spiketimes'].keys():\n",
    "            units.append(all_mice_KO[mouse][channel]['spiketimes'][unit][()]) # Final \"[()]\" is to import values from h5py \n",
    "      \n",
    "            channels_id.append(all_info_KO[mouse]['channels_locs'][iteration])\n",
    "        \n",
    "        iteration += 1\n",
    "        \n",
    "            \n",
    "    all_units_KO[mouse] = units\n",
    "    all_channels_KO[mouse] = channels_id\n",
    "        \n",
    "# print('n units = %i' %len(all_units))\n",
    "\n",
    "secs = 2\n",
    "sampleRate = 30000\n",
    "window = int(sampleRate * secs)"
   ]
  },
  {
   "cell_type": "code",
   "execution_count": 13,
   "metadata": {},
   "outputs": [
    {
     "data": {
      "text/plain": [
       "array([     111,      162,      208, ..., 44910451, 44910487, 44910528],\n",
       "      dtype=uint32)"
      ]
     },
     "execution_count": 13,
     "metadata": {},
     "output_type": "execute_result"
    }
   ],
   "source": [
    "all_units_KO['SERT2013'][0]"
   ]
  },
  {
   "cell_type": "code",
   "execution_count": 22,
   "metadata": {},
   "outputs": [],
   "source": [
    "startOF = all_info_WT['SERT1597']['startOF']\n",
    "stopOF = all_info_WT['SERT1597']['stopOF']"
   ]
  },
  {
   "cell_type": "code",
   "execution_count": 24,
   "metadata": {},
   "outputs": [
    {
     "data": {
      "text/plain": [
       "1264102.667"
      ]
     },
     "execution_count": 24,
     "metadata": {},
     "output_type": "execute_result"
    }
   ],
   "source": [
    "stopOF"
   ]
  },
  {
   "cell_type": "code",
   "execution_count": 19,
   "metadata": {},
   "outputs": [
    {
     "data": {
      "text/plain": [
       "{'BLA_nchannels': 9,\n",
       " 'NAC_nchannels': 6,\n",
       " 'channels_list': ['ch01',\n",
       "  'ch02',\n",
       "  'ch03',\n",
       "  'ch04',\n",
       "  'ch05',\n",
       "  'ch06',\n",
       "  'ch07',\n",
       "  'ch08',\n",
       "  'ch09',\n",
       "  'ch10',\n",
       "  'ch11',\n",
       "  'ch12',\n",
       "  'ch13',\n",
       "  'ch14',\n",
       "  'ch15',\n",
       "  'ch16',\n",
       "  'ch17',\n",
       "  'ch18',\n",
       "  'ch19',\n",
       "  'ch20',\n",
       "  'ch21',\n",
       "  'ch22',\n",
       "  'ch23',\n",
       "  'ch24',\n",
       "  'ch25',\n",
       "  'ch26',\n",
       "  'ch27',\n",
       "  'ch28',\n",
       "  'ch29',\n",
       "  'ch30',\n",
       "  'ch31',\n",
       "  'ch32'],\n",
       " 'channels_locs': array([u'mPFC_left', u'mPFC_left', u'mPFC_left', u'mPFC_left',\n",
       "        u'mPFC_left', u'mPFC_left', u'mPFC_left', u'mPFC_left',\n",
       "        u'mPFC_left', u'mPFC_left', u'NAC_left', u'NAC_left', u'NAC_left',\n",
       "        u'NAC_left', u'NAC_left', u'NAC_left', u'BLA_left', u'BLA_left',\n",
       "        u'BLA_left', u'BLA_left', u'BLA_left', u'BLA_left', u'BLA_left',\n",
       "        u'BLA_left', u'BLA_left', u'vHipp_left', u'vHipp_left',\n",
       "        u'vHipp_left', u'vHipp_left', u'vHipp_left', u'vHipp_left',\n",
       "        u'vHipp_left'], dtype='<U10'),\n",
       " 'entrances_times': array([ 677169,  690302,  732969,  753002,  794069,  804236,  845602,\n",
       "         870969,  901902,  937502,  990169,  997436, 1011002, 1031936,\n",
       "        1034969, 1057802]),\n",
       " 'mPFC_nchannels': 10,\n",
       " 'n_channels': 32,\n",
       " 'n_epochs': 16,\n",
       " 'startOF': 664069.3333,\n",
       " 'stopOF': 1264102.667,\n",
       " 'vHip_nchannels': 7}"
      ]
     },
     "execution_count": 19,
     "metadata": {},
     "output_type": "execute_result"
    }
   ],
   "source": [
    "all_info_WT['SERT1597']"
   ]
  },
  {
   "cell_type": "code",
   "execution_count": 2,
   "metadata": {},
   "outputs": [
    {
     "name": "stdout",
     "output_type": "stream",
     "text": [
      "Processing wild-types\n",
      "Loaded /home/maspe/filer/SERT/SERT1597/spikes/results/\n",
      "Loaded /home/maspe/filer/SERT/SERT1659/spikes/results/\n",
      "Loaded /home/maspe/filer/SERT/SERT1678/spikes/results/\n",
      "Loaded /home/maspe/filer/SERT/SERT1908/spikes/results/\n",
      "Loaded /home/maspe/filer/SERT/SERT1984/spikes/results/\n",
      "Loaded /home/maspe/filer/SERT/SERT1985/spikes/results/\n",
      "Loaded /home/maspe/filer/SERT/SERT2014/spikes/results/\n",
      "Processing knock-out\n",
      "Loaded /home/maspe/filer/SERT/SERT1668/spikes/results/\n",
      "Loaded /home/maspe/filer/SERT/SERT1665/spikes/results/\n",
      "Loaded /home/maspe/filer/SERT/SERT2013/spikes/results/\n",
      "Loaded /home/maspe/filer/SERT/SERT2018/spikes/results/\n"
     ]
    }
   ],
   "source": [
    "all_epochs_WT = {}\n",
    "all_perispikes_WT = {}\n",
    "for mouse in all_mice_WT.keys():\n",
    "    entrances_times = all_info_WT[mouse]['entrances_times']\n",
    "    n_epochs = all_info_WT[mouse]['n_epochs']\n",
    "    \n",
    "    epochs_matrix = np.zeros((n_epochs, window * 2))\n",
    "    for epoch in range(n_epochs):\n",
    "        epochs_matrix[epoch, :] = np.arange(entrances_times[epoch] - window, entrances_times[epoch] + window, 1)\n",
    "\n",
    "    all_epochs_WT[mouse] = epochs_matrix\n",
    "    \n",
    "    \n",
    "#     all_perispikes = all_info[mouse]['entrances_times']  \n",
    "    all_spikes = all_units_WT[mouse] \n",
    "    peristimulus_spikes = np.zeros((len(all_spikes), window * 2, n_epochs))\n",
    "    for unit in range(len(all_spikes)):\n",
    "        peristimulus_spikes[unit, :, :] = np.transpose(np.isin(epochs_matrix, all_spikes[unit]), axes=(1, 0))\n",
    "#         peristimulus_spikes[:, :, ] = np.transpose(np.isin(epochs_matrix, all_spikes[unit]), axes=(0, 2, 1))\n",
    "# #         peristimulus_spikes = np.transpose(np.array(peristimulus_spikes), axes=(0, 2, 1))\n",
    "        \n",
    "    all_perispikes_WT[mouse] = peristimulus_spikes\n",
    "\n",
    "all_epochs_KO = {}\n",
    "all_perispikes_KO = {}\n",
    "for mouse in all_mice_KO.keys():\n",
    "    entrances_times = all_info_KO[mouse]['entrances_times']\n",
    "    n_epochs = all_info_KO[mouse]['n_epochs']\n",
    "    \n",
    "    epochs_matrix = np.zeros((n_epochs, window * 2))\n",
    "    for epoch in range(n_epochs):\n",
    "        epochs_matrix[epoch, :] = np.arange(entrances_times[epoch] - window, entrances_times[epoch] + window, 1)\n",
    "\n",
    "    all_epochs_KO[mouse] = epochs_matrix\n",
    "    \n",
    "    \n",
    "#     all_perispikes = all_info[mouse]['entrances_times']  \n",
    "    all_spikes = all_units_KO[mouse] \n",
    "    peristimulus_spikes = np.zeros((len(all_spikes), window * 2, n_epochs))\n",
    "    for unit in range(len(all_spikes)):\n",
    "        peristimulus_spikes[unit, :, :] = np.transpose(np.isin(epochs_matrix, all_spikes[unit]), axes=(1, 0))\n",
    "#         peristimulus_spikes[:, :, ] = np.transpose(np.isin(epochs_matrix, all_spikes[unit]), axes=(0, 2, 1))\n",
    "# #         peristimulus_spikes = np.transpose(np.array(peristimulus_spikes), axes=(0, 2, 1))\n",
    "        \n",
    "    all_perispikes_KO[mouse] = peristimulus_spikes\n",
    "\n",
    "mPFC_WT = {}\n",
    "NAC_WT  = {}\n",
    "BLA_WT  = {}\n",
    "vHip_WT = {}\n",
    "\n",
    "for mouse in all_mice_WT.keys():\n",
    "    mPFC_WT_indexes  = [i for i,x in enumerate(all_channels_WT[mouse]) if x == 'mPFC_left']\n",
    "    NAC_WT_indexes = [i for i,x in enumerate(all_channels_WT[mouse]) if x == 'NAC_left']\n",
    "    BLA_WT_indexes  = [i for i,x in enumerate(all_channels_WT[mouse]) if x == 'BLA_left']\n",
    "    vHip_WT_indexes  = [i for i,x in enumerate(all_channels_WT[mouse]) if x == 'vHipp_left']\n",
    "    \n",
    "    \n",
    "    mPFC_WT[mouse] = np.sum(all_perispikes_WT[mouse][mPFC_WT_indexes, :], axis=(0, 2))\n",
    "    NAC_WT[mouse] = np.sum(all_perispikes_WT[mouse][NAC_WT_indexes, :], axis=(0, 2))\n",
    "    BLA_WT[mouse] = np.sum(all_perispikes_WT[mouse][BLA_WT_indexes, :], axis=(0, 2))\n",
    "    vHip_WT[mouse] = np.sum(all_perispikes_WT[mouse][vHip_WT_indexes, :], axis=(0, 2))\n",
    "\n",
    "    \n",
    "mPFC_KO = {}\n",
    "NAC_KO  = {}\n",
    "BLA_KO  = {}\n",
    "vHip_KO = {}\n",
    "\n",
    "for mouse in all_mice_KO.keys():\n",
    "    mPFC_KO_indexes  = [i for i,x in enumerate(all_channels_KO[mouse]) if x == 'mPFC_left']\n",
    "    NAC_KO_indexes = [i for i,x in enumerate(all_channels_KO[mouse]) if x == 'NAC_left']\n",
    "    BLA_KO_indexes  = [i for i,x in enumerate(all_channels_KO[mouse]) if x == 'BLA_left']\n",
    "    vHip_KO_indexes  = [i for i,x in enumerate(all_channels_KO[mouse]) if x == 'vHipp_left']\n",
    "    \n",
    "    \n",
    "    mPFC_KO[mouse] = np.sum(all_perispikes_KO[mouse][mPFC_KO_indexes, :], axis=(0, 2))\n",
    "    NAC_KO[mouse] = np.sum(all_perispikes_KO[mouse][NAC_KO_indexes, :], axis=(0, 2))\n",
    "    BLA_KO[mouse] = np.sum(all_perispikes_KO[mouse][BLA_KO_indexes, :], axis=(0, 2))\n",
    "    vHip_KO[mouse] = np.sum(all_perispikes_KO[mouse][vHip_KO_indexes, :], axis=(0, 2))"
   ]
  },
  {
   "cell_type": "code",
   "execution_count": 5,
   "metadata": {},
   "outputs": [],
   "source": [
    "myspikes = {'WT': {'BLA': BLA_WT, 'NAC': NAC_WT, 'vHip': vHip_WT}, 'KO': {'BLA': BLA_KO, 'NAC': NAC_KO, 'vHip': vHip_KO}}"
   ]
  },
  {
   "cell_type": "code",
   "execution_count": 8,
   "metadata": {},
   "outputs": [],
   "source": [
    "np.save('/home/maspe/filer/SERT/ALL/npys/spikes', myspikes)"
   ]
  },
  {
   "cell_type": "code",
   "execution_count": 1,
   "metadata": {},
   "outputs": [
    {
     "ename": "NameError",
     "evalue": "name 'np' is not defined",
     "output_type": "error",
     "traceback": [
      "\u001b[0;31m---------------------------------------------------------------------------\u001b[0m",
      "\u001b[0;31mNameError\u001b[0m                                 Traceback (most recent call last)",
      "\u001b[0;32m<ipython-input-1-d8b4c24df011>\u001b[0m in \u001b[0;36m<module>\u001b[0;34m()\u001b[0m\n\u001b[1;32m      3\u001b[0m \u001b[0;31m# mPFC\u001b[0m\u001b[0;34m\u001b[0m\u001b[0;34m\u001b[0m\u001b[0;34m\u001b[0m\u001b[0m\n\u001b[1;32m      4\u001b[0m \u001b[0miteration\u001b[0m \u001b[0;34m=\u001b[0m \u001b[0;36m0\u001b[0m\u001b[0;34m\u001b[0m\u001b[0;34m\u001b[0m\u001b[0m\n\u001b[0;32m----> 5\u001b[0;31m \u001b[0mt\u001b[0m \u001b[0;34m=\u001b[0m \u001b[0mnp\u001b[0m\u001b[0;34m.\u001b[0m\u001b[0mzeros\u001b[0m\u001b[0;34m(\u001b[0m\u001b[0;34m(\u001b[0m\u001b[0mlen\u001b[0m\u001b[0;34m(\u001b[0m\u001b[0mmPFC_WT\u001b[0m\u001b[0;34m.\u001b[0m\u001b[0mkeys\u001b[0m\u001b[0;34m(\u001b[0m\u001b[0;34m)\u001b[0m\u001b[0;34m)\u001b[0m\u001b[0;34m,\u001b[0m \u001b[0mwindow\u001b[0m\u001b[0;34m*\u001b[0m\u001b[0;36m2\u001b[0m \u001b[0;34m/\u001b[0m \u001b[0;36m60\u001b[0m\u001b[0;34m)\u001b[0m\u001b[0;34m)\u001b[0m\u001b[0;34m\u001b[0m\u001b[0;34m\u001b[0m\u001b[0m\n\u001b[0m\u001b[1;32m      6\u001b[0m \u001b[0;32mfor\u001b[0m \u001b[0mmouse\u001b[0m \u001b[0;32min\u001b[0m \u001b[0mmPFC_WT\u001b[0m\u001b[0;34m.\u001b[0m\u001b[0mkeys\u001b[0m\u001b[0;34m(\u001b[0m\u001b[0;34m)\u001b[0m\u001b[0;34m:\u001b[0m\u001b[0;34m\u001b[0m\u001b[0;34m\u001b[0m\u001b[0m\n\u001b[1;32m      7\u001b[0m     \u001b[0mt\u001b[0m\u001b[0;34m[\u001b[0m\u001b[0miteration\u001b[0m\u001b[0;34m,\u001b[0m\u001b[0;34m:\u001b[0m\u001b[0;34m]\u001b[0m\u001b[0;34m=\u001b[0m\u001b[0mnp\u001b[0m\u001b[0;34m.\u001b[0m\u001b[0madd\u001b[0m\u001b[0;34m.\u001b[0m\u001b[0mreduceat\u001b[0m\u001b[0;34m(\u001b[0m\u001b[0mmPFC_WT\u001b[0m\u001b[0;34m[\u001b[0m\u001b[0mmouse\u001b[0m\u001b[0;34m]\u001b[0m\u001b[0;34m,\u001b[0m \u001b[0mrange\u001b[0m\u001b[0;34m(\u001b[0m\u001b[0;36m0\u001b[0m\u001b[0;34m,\u001b[0m \u001b[0mmPFC_WT\u001b[0m\u001b[0;34m[\u001b[0m\u001b[0mmouse\u001b[0m\u001b[0;34m]\u001b[0m\u001b[0;34m.\u001b[0m\u001b[0mshape\u001b[0m\u001b[0;34m[\u001b[0m\u001b[0;36m0\u001b[0m\u001b[0;34m]\u001b[0m\u001b[0;34m,\u001b[0m \u001b[0;36m60\u001b[0m\u001b[0;34m)\u001b[0m\u001b[0;34m)\u001b[0m\u001b[0;34m\u001b[0m\u001b[0;34m\u001b[0m\u001b[0m\n",
      "\u001b[0;31mNameError\u001b[0m: name 'np' is not defined"
     ]
    }
   ],
   "source": [
    "tx = range(0, 120000, 60)\n",
    "\n",
    "# mPFC\n",
    "iteration = 0\n",
    "t = np.zeros((len(mPFC_WT.keys()), window*2 / 60))\n",
    "for mouse in mPFC_WT.keys():\n",
    "    t[iteration,:]=np.add.reduceat(mPFC_WT[mouse], range(0, mPFC_WT[mouse].shape[0], 60))\n",
    "    \n",
    "    iteration += 1\n",
    "    \n",
    "tmean_WT=np.mean(t, axis=0)\n",
    "\n",
    "iteration = 0\n",
    "t = np.zeros((len(mPFC_KO.keys()), window*2 / 60))\n",
    "for mouse in mPFC_KO.keys():\n",
    "    t[iteration,:]=np.add.reduceat(mPFC_KO[mouse], range(0, mPFC_KO[mouse].shape[0], 60))\n",
    "    \n",
    "    iteration += 1\n",
    "    \n",
    "tmean_KO=np.mean(t, axis=0)\n",
    "\n",
    "plt.figure(figsize=(20,10))\n",
    "plt.subplot(2,2,1)\n",
    "plt.plot(tx, tmean_WT, '-', color='blue', alpha=0.7)\n",
    "plt.plot(tx, tmean_KO, '-', color='red', alpha=0.7)\n",
    "plt.xticks([0, 20000, 40000, 60000, 80000, 100000, 120000], ['-3', '-2', '-1', '0', '1', '2', '3'], fontsize=16)\n",
    "plt.yticks(fontsize=16)\n",
    "plt.ylim([0,70])\n",
    "plt.axvline(x=60000, color='black')\n",
    "#plt.xlabel('time (s)')\n",
    "plt.ylabel('units', fontsize=18)\n",
    "plt.title('mPFC', fontsize=24)\n",
    "\n",
    "\n",
    "# NAC\n",
    "iteration = 0\n",
    "t = np.zeros((len(NAC_WT.keys()), window*2 / 60))\n",
    "for mouse in NAC_WT.keys():\n",
    "    t[iteration,:]=np.add.reduceat(NAC_WT[mouse], range(0, NAC_WT[mouse].shape[0], 60))\n",
    "    \n",
    "    iteration += 1\n",
    "    \n",
    "tmean_WT=np.mean(t, axis=0)\n",
    "\n",
    "iteration = 0\n",
    "t = np.zeros((len(NAC_KO.keys()), window*2 / 60))\n",
    "for mouse in NAC_KO.keys():\n",
    "    t[iteration,:]=np.add.reduceat(NAC_KO[mouse], range(0, NAC_KO[mouse].shape[0], 60))\n",
    "    \n",
    "    iteration += 1\n",
    "    \n",
    "tmean_KO=np.mean(t, axis=0)\n",
    "\n",
    "plt.subplot(2,2,2)\n",
    "plt.plot(tx, tmean_WT, '-', color='blue', alpha=0.7)\n",
    "plt.plot(tx, tmean_KO, '-', color='red', alpha=0.7)\n",
    "plt.xticks([0, 20000, 40000, 60000, 80000, 100000, 120000], ['-3', '-2', '-1', '0', '1', '2', '3'], fontsize=16)\n",
    "plt.yticks(fontsize=16)\n",
    "plt.ylim([0,70])\n",
    "plt.axvline(x=60000, color='black')\n",
    "#plt.xlabel('time (s)')\n",
    "#plt.ylabel('units')\n",
    "plt.title('NAC', fontsize=22)\n",
    "\n",
    "\n",
    "# BLA\n",
    "iteration = 0\n",
    "t = np.zeros((len(BLA_WT.keys()), window*2 / 60))\n",
    "for mouse in BLA_WT.keys():\n",
    "    t[iteration,:]=np.add.reduceat(BLA_WT[mouse], range(0, BLA_WT[mouse].shape[0], 60))\n",
    "    \n",
    "    iteration += 1\n",
    "    \n",
    "tmean_WT=np.mean(t, axis=0)\n",
    "\n",
    "iteration = 0\n",
    "t = np.zeros((len(BLA_KO.keys()), window*2 / 60))\n",
    "for mouse in BLA_KO.keys():\n",
    "    t[iteration,:]=np.add.reduceat(BLA_KO[mouse], range(0, BLA_KO[mouse].shape[0], 60))\n",
    "    \n",
    "    iteration += 1\n",
    "    \n",
    "tmean_KO=np.mean(t, axis=0)\n",
    "\n",
    "plt.subplot(2,2,3)\n",
    "plt.plot(tx, tmean_WT, '-', color='blue', alpha=0.7)\n",
    "plt.plot(tx, tmean_KO, '-', color='red', alpha=0.7)\n",
    "plt.xticks([0, 20000, 40000, 60000, 80000, 100000, 120000], ['-3', '-2', '-1', '0', '1', '2', '3'], fontsize=16)\n",
    "plt.yticks(fontsize=16)\n",
    "plt.ylim([0,70])\n",
    "plt.axvline(x=60000, color='black')\n",
    "plt.xlabel('time (s)', fontsize=18)\n",
    "plt.ylabel('units', fontsize=18)\n",
    "plt.title('BLA', fontsize=24)\n",
    "\n",
    "\n",
    "# vHip\n",
    "iteration = 0\n",
    "t = np.zeros((len(vHip_WT.keys()), window*2 / 60))\n",
    "for mouse in vHip_WT.keys():\n",
    "    t[iteration,:]=np.add.reduceat(vHip_WT[mouse], range(0, vHip_WT[mouse].shape[0], 60))\n",
    "    \n",
    "    iteration += 1\n",
    "    \n",
    "tmean_WT=np.mean(t, axis=0)\n",
    "\n",
    "iteration = 0\n",
    "t = np.zeros((len(vHip_KO.keys()), window*2 / 60))\n",
    "for mouse in vHip_KO.keys():\n",
    "    t[iteration,:]=np.add.reduceat(vHip_KO[mouse], range(0, vHip_KO[mouse].shape[0], 60))\n",
    "    \n",
    "    iteration += 1\n",
    "    \n",
    "tmean_KO=np.mean(t, axis=0)\n",
    "\n",
    "plt.subplot(2,2,4)\n",
    "plt.plot(tx, tmean_WT, '-', color='blue', alpha=0.7)\n",
    "plt.plot(tx, tmean_KO, '-', color='red', alpha=0.7)\n",
    "plt.xticks([0, 20000, 40000, 60000, 80000, 100000, 120000], ['-3', '-2', '-1', '0', '1', '2', '3'], fontsize=16)\n",
    "plt.yticks(fontsize=16)\n",
    "plt.ylim([0,70])\n",
    "plt.axvline(x=60000, color='black')\n",
    "plt.xlabel('time (s)', fontsize=18)\n",
    "#plt.ylabel('units')\n",
    "plt.title('vHip', fontsize=24)\n",
    "\n",
    "\n",
    "plt.savefig('/home/maspe/filer/SERT/ALL/figs/perispikes.png', dpi=150, facecolor='w', edgecolor='w',\n",
    "            orientation='portrait', papertype=None, format='png', transparent=False)\n",
    "    \n",
    "#plt.close()"
   ]
  },
  {
   "cell_type": "code",
   "execution_count": null,
   "metadata": {},
   "outputs": [],
   "source": []
  },
  {
   "cell_type": "code",
   "execution_count": null,
   "metadata": {},
   "outputs": [],
   "source": []
  },
  {
   "cell_type": "markdown",
   "metadata": {},
   "source": [
    "#####################################"
   ]
  },
  {
   "cell_type": "markdown",
   "metadata": {},
   "source": [
    "#### Backup code"
   ]
  },
  {
   "cell_type": "code",
   "execution_count": null,
   "metadata": {},
   "outputs": [],
   "source": [
    "spikes = []\n",
    "for unit in range(len(spikes_epochs_pre)):\n",
    "    # np.isin(element, test_elements)\n",
    "    spikes.append(np.isin(epoch_matrix, [spikes_epochs_pre[unit] + spikes_epochs_post[unit]]))"
   ]
  },
  {
   "cell_type": "code",
   "execution_count": null,
   "metadata": {},
   "outputs": [],
   "source": [
    "spikes_epochs_pre = []\n",
    "spikes_epochs_post = []\n",
    "for unit in range(len(all_units)):\n",
    "    spiketimes_pre = []\n",
    "    spiketimes_post = []\n",
    "    for epoch in range(n_epochs):\n",
    "        spiketimes_pre.extend(all_units[unit][(all_units[unit] > epochs_pre[epoch][0]) & (all_units[unit] < epochs_post[epoch][1])])\n",
    "        spiketimes_post.extend(all_units[unit][(all_units[unit] > epochs_post[epoch][0]) & (all_units[unit] < epochs_post[epoch][1])])\n",
    "    spikes_epochs_pre.append(spiketimes_pre)\n",
    "    spikes_epochs_post.append(spiketimes_post)"
   ]
  },
  {
   "cell_type": "code",
   "execution_count": null,
   "metadata": {},
   "outputs": [],
   "source": [
    "len(spikes_epochs_pre[52])"
   ]
  },
  {
   "cell_type": "code",
   "execution_count": null,
   "metadata": {},
   "outputs": [],
   "source": [
    "spikes = []\n",
    "for unit in range(len(spikes_epochs_pre)):\n",
    "    # np.isin(element, test_elements)\n",
    "    spikes.append(np.isin(epoch_matrix, [spikes_epochs_pre[unit] + spikes_epochs_post[unit]]))"
   ]
  },
  {
   "cell_type": "code",
   "execution_count": null,
   "metadata": {},
   "outputs": [],
   "source": [
    "np.sum(spikes[50], axis=0).shape"
   ]
  }
 ],
 "metadata": {
  "kernelspec": {
   "display_name": "Python 3",
   "language": "python",
   "name": "python3"
  },
  "language_info": {
   "codemirror_mode": {
    "name": "ipython",
    "version": 2
   },
   "file_extension": ".py",
   "mimetype": "text/x-python",
   "name": "python",
   "nbconvert_exporter": "python",
   "pygments_lexer": "ipython2",
   "version": "2.7.15+"
  }
 },
 "nbformat": 4,
 "nbformat_minor": 2
}
