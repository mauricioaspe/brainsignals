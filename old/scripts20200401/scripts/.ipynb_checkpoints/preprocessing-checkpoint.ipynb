{
 "cells": [
  {
   "cell_type": "markdown",
   "metadata": {},
   "source": [
    "#### Import required modules"
   ]
  },
  {
   "cell_type": "code",
   "execution_count": 2,
   "metadata": {},
   "outputs": [],
   "source": [
    "import glob\n",
    "import numpy as np\n",
    "import pandas as pd\n",
    "import physig as ps\n",
    "from scipy import signal"
   ]
  },
  {
   "cell_type": "markdown",
   "metadata": {},
   "source": [
    "#### Create Butterworth filter"
   ]
  },
  {
   "cell_type": "code",
   "execution_count": null,
   "metadata": {},
   "outputs": [],
   "source": [
    "N      = 4\n",
    "fs     = 30000\n",
    "fc     = 300\n",
    "\n",
    "final_fs = 1000\n",
    "ds_factor = fs / final_fs\n",
    "\n",
    "[b, a] = signal.butter(N, fc/(fs/2))"
   ]
  },
  {
   "cell_type": "code",
   "execution_count": 8,
   "metadata": {},
   "outputs": [],
   "source": [
    "files = sorted(glob.glob(\"/home/maspe/filer/testMice/CC1973/HC_2018-04-24_16-56-27/*.continuous\"))\n",
    "df = pd.read_excel(\"/home/maspe/filer/testMice/CC1973/HC_2018-04-24_16-56-27/canales.xlsx\",\n",
    "                   sheet_name=0, header=None, names=[\"locs\"])\n",
    "channelsLocs = df['locs'].tolist()"
   ]
  },
  {
   "cell_type": "code",
   "execution_count": null,
   "metadata": {},
   "outputs": [],
   "source": []
  },
  {
   "cell_type": "code",
   "execution_count": 10,
   "metadata": {},
   "outputs": [],
   "source": [
    "files = sorted(glob.glob(\"/home/maspe/filer/testMice/CC1973/HC_2018-04-24_16-56-27/*.spikes\"))\n",
    "file = files[0]\n",
    "filepath = file"
   ]
  },
  {
   "cell_type": "code",
   "execution_count": 6,
   "metadata": {},
   "outputs": [],
   "source": [
    "import physig as ps"
   ]
  },
  {
   "cell_type": "code",
   "execution_count": 22,
   "metadata": {},
   "outputs": [],
   "source": [
    "# constants for pre-allocating matrices:\n",
    "MAX_NUMBER_OF_SPIKES = int(1e6)\n",
    "#MAX_NUMBER_OF_EVENTS = 1e6\n",
    "\n",
    "data = { }\n",
    "f = open(filepath,'rb')\n",
    "header = ps.readHeader(f)\n",
    "\n",
    "data['header'] = header \n",
    "numChannels = int(header['num_channels'])\n",
    "numSamples = 40 # **NOT CURRENTLY WRITTEN TO HEADER**\n"
   ]
  },
  {
   "cell_type": "code",
   "execution_count": 23,
   "metadata": {},
   "outputs": [],
   "source": [
    "spikes = np.zeros((MAX_NUMBER_OF_SPIKES, numSamples, numChannels))\n",
    "timestamps = np.zeros(MAX_NUMBER_OF_SPIKES)\n",
    "source = np.zeros(MAX_NUMBER_OF_SPIKES)\n",
    "gain = np.zeros((MAX_NUMBER_OF_SPIKES, numChannels))\n",
    "thresh = np.zeros((MAX_NUMBER_OF_SPIKES, numChannels))\n",
    "sortedId = np.zeros((MAX_NUMBER_OF_SPIKES, numChannels))\n",
    "recNum = np.zeros(MAX_NUMBER_OF_SPIKES)\n",
    "    \n",
    "currentSpike = 0"
   ]
  },
  {
   "cell_type": "code",
   "execution_count": 28,
   "metadata": {},
   "outputs": [
    {
     "data": {
      "text/plain": [
       "1000000.0"
      ]
     },
     "execution_count": 28,
     "metadata": {},
     "output_type": "execute_result"
    }
   ],
   "source": [
    "MAX_NUMBER_OF_EVENTS"
   ]
  },
  {
   "cell_type": "code",
   "execution_count": null,
   "metadata": {},
   "outputs": [],
   "source": [
    "chanLocs = list()\n",
    "\n",
    "iteration = 0\n",
    "for file in files:\n",
    "    channel = ps.loadContinuous(file)\n",
    "    \n",
    "    data = signal.filtfilt(b=b, a=a, x=channel[\"data\"],\n",
    "                           axis=-1, padtype='odd', padlen=None, method='pad', irlen=None)\n",
    "            \n",
    "    # Resample x to num samples using Fourier method along the given axis \n",
    "    n_samples = np.int(len(data) / ds_factor)\n",
    "    data = signal.resample(x=data, num=n_samples,\n",
    "                                  t=None, axis=0, window=None)\n",
    "    \n",
    "    index      = file.find(\"100_CH\")\n",
    "    channel_id = int(file[index + 6:index + 8]) \n",
    "    chanLocs.append(channelsLocs[channel_id - 1])\n",
    "    \n",
    "    if iteration == 0:\n",
    "        data_matrix = np.empty((len(channelsLocs), len(data)))\n",
    "    \n",
    "    data_matrix[iteration, :] = data\n",
    "    \n",
    "    iteration += 1\n",
    "\n",
    "    \n",
    "CC1973 = {\"id\": \"CC1973\", \"chanLocs\": chanLocs, \"data\": data_matrix}\n",
    "  \n",
    "del [channel, data, data_matrix]   "
   ]
  },
  {
   "cell_type": "code",
   "execution_count": 2,
   "metadata": {},
   "outputs": [],
   "source": [
    "with open('CC1973.pkl', 'wb') as f:\n",
    "    pickle.dump(CC1973, f, pickle.HIGHEST_PROTOCOL)"
   ]
  }
 ],
 "metadata": {
  "kernelspec": {
   "display_name": "Python 3",
   "language": "python",
   "name": "python3"
  },
  "language_info": {
   "codemirror_mode": {
    "name": "ipython",
    "version": 3
   },
   "file_extension": ".py",
   "mimetype": "text/x-python",
   "name": "python",
   "nbconvert_exporter": "python",
   "pygments_lexer": "ipython3",
   "version": "3.6.8"
  }
 },
 "nbformat": 4,
 "nbformat_minor": 2
}
