{
 "cells": [
  {
   "cell_type": "code",
   "execution_count": 1,
   "metadata": {},
   "outputs": [],
   "source": [
    "import h5py\n",
    "import numpy as np\n",
    "import pandas as pd\n",
    "import wavelets as wl\n",
    "from scipy import signal\n",
    "from matplotlib import pyplot as plt"
   ]
  },
  {
   "cell_type": "markdown",
   "metadata": {},
   "source": [
    "### Figure 2"
   ]
  },
  {
   "cell_type": "code",
   "execution_count": 23,
   "metadata": {},
   "outputs": [
    {
     "name": "stdout",
     "output_type": "stream",
     "text": [
      "Loaded /home/maspe/filer/SERT/SERT1597/spikes/results/\n",
      "Loaded /home/maspe/filer/SERT/SERT1659/spikes/results/\n",
      "Loaded /home/maspe/filer/SERT/SERT1985/spikes/results/\n"
     ]
    }
   ],
   "source": [
    "IDs_WT = ['SERT1597', 'SERT1659', 'SERT1985']\n",
    "IDs_KO = ['SERT1597', 'SERT1985']\n",
    "\n",
    "all_info = {}\n",
    "all_mice = {}\n",
    "for ID in IDs_WT:\n",
    "    npys_dir = '/home/maspe/filer/SERT/' + ID + '/npys/'\n",
    "    spikes_dir = '/home/maspe/filer/SERT/' + ID + '/spikes/results/'\n",
    "    print('Loaded ' + spikes_dir)\n",
    "    \n",
    "    info = np.load(npys_dir + 'info.npy', allow_pickle=True).item()\n",
    "    all_info[ID] = info\n",
    "    channels = info['channels_list']\n",
    "    \n",
    "    fit = []\n",
    "    for channel in channels:\n",
    "        path = spikes_dir + channel + '.result.hdf5'\n",
    "    \n",
    "        fit.append(h5py.File(path, 'r'))\n",
    "        \n",
    "    all_mice[ID] = fit"
   ]
  },
  {
   "cell_type": "code",
   "execution_count": null,
   "metadata": {},
   "outputs": [],
   "source": [
    "all_mice"
   ]
  },
  {
   "cell_type": "code",
   "execution_count": 13,
   "metadata": {},
   "outputs": [],
   "source": [
    "all_units = {}\n",
    "\n",
    "for mouse in all_mice.keys():\n",
    "    n_channels = 32\n",
    "    units = []\n",
    "    for channel in range(n_channels):\n",
    "        for unit in all_mice[mouse][channel]['spiketimes'].keys():\n",
    "            units.append(all_mice[mouse][channel]['spiketimes'][unit][()]) # Final \"[()]\" is to import values from h5py \n",
    "            \n",
    "        \n",
    "            \n",
    "    all_units[mouse] = units\n",
    "        \n",
    "# print('n units = %i' %len(all_units))"
   ]
  },
  {
   "cell_type": "code",
   "execution_count": 27,
   "metadata": {},
   "outputs": [
    {
     "data": {
      "text/plain": [
       "{'BLA_nchannels': 9,\n",
       " 'NAC_nchannels': 6,\n",
       " 'channels_list': ['ch01',\n",
       "  'ch02',\n",
       "  'ch03',\n",
       "  'ch04',\n",
       "  'ch05',\n",
       "  'ch06',\n",
       "  'ch07',\n",
       "  'ch08',\n",
       "  'ch09',\n",
       "  'ch10',\n",
       "  'ch11',\n",
       "  'ch12',\n",
       "  'ch13',\n",
       "  'ch14',\n",
       "  'ch15',\n",
       "  'ch16',\n",
       "  'ch17',\n",
       "  'ch18',\n",
       "  'ch19',\n",
       "  'ch20',\n",
       "  'ch21',\n",
       "  'ch22',\n",
       "  'ch23',\n",
       "  'ch24',\n",
       "  'ch25',\n",
       "  'ch26',\n",
       "  'ch27',\n",
       "  'ch28',\n",
       "  'ch29',\n",
       "  'ch30',\n",
       "  'ch31',\n",
       "  'ch32'],\n",
       " 'channels_locs': array([u'mPFC_left', u'mPFC_left', u'mPFC_left', u'mPFC_left',\n",
       "        u'mPFC_left', u'mPFC_left', u'mPFC_left', u'mPFC_left',\n",
       "        u'mPFC_left', u'mPFC_left', u'NAC_left', u'NAC_left', u'NAC_left',\n",
       "        u'NAC_left', u'NAC_left', u'NAC_left', u'BLA_left', u'BLA_left',\n",
       "        u'BLA_left', u'BLA_left', u'BLA_left', u'BLA_left', u'BLA_left',\n",
       "        u'BLA_left', u'BLA_left', u'vHipp_left', u'vHipp_left',\n",
       "        u'vHipp_left', u'vHipp_left', u'vHipp_left', u'vHipp_left',\n",
       "        u'vHipp_left'], dtype='<U10'),\n",
       " 'entrances_times': array([ 677169,  690302,  732969,  753002,  794069,  804236,  845602,\n",
       "         870969,  901902,  937502,  990169,  997436, 1011002, 1031936,\n",
       "        1034969, 1057802]),\n",
       " 'mPFC_nchannels': 10,\n",
       " 'n_channels': 32,\n",
       " 'n_epochs': 16,\n",
       " 'vHip_nchannels': 7}"
      ]
     },
     "execution_count": 27,
     "metadata": {},
     "output_type": "execute_result"
    }
   ],
   "source": [
    "all_info['SERT1597']"
   ]
  },
  {
   "cell_type": "code",
   "execution_count": 6,
   "metadata": {},
   "outputs": [],
   "source": [
    "entrances_times = info['entrances_times']\n",
    "n_epochs = info['n_epochs']\n",
    "\n",
    "secs = 2\n",
    "sampleRate = 30000\n",
    "window = int(sampleRate * secs)\n",
    "\n",
    "epoch_matrix = []\n",
    "for epoch in range(n_epochs):\n",
    "    epoch_matrix.append(np.arange(entrances_times[epoch] - window, entrances_times[epoch] + window, 1))\n"
   ]
  },
  {
   "cell_type": "code",
   "execution_count": 19,
   "metadata": {},
   "outputs": [],
   "source": [
    "peristimulus_spikes = []\n",
    "for unit in range(len(all_units)):\n",
    "    peristimulus_spikes.append(np.isin(epoch_matrix, all_units[unit]))\n",
    "    \n",
    "peristimulus_spikes = np.transpose(np.array(peristimulus_spikes), axes=(0, 2, 1))"
   ]
  },
  {
   "cell_type": "code",
   "execution_count": 20,
   "metadata": {},
   "outputs": [
    {
     "data": {
      "text/plain": [
       "(53, 120000, 20)"
      ]
     },
     "execution_count": 20,
     "metadata": {},
     "output_type": "execute_result"
    }
   ],
   "source": [
    "peristimulus_spikes.shape"
   ]
  },
  {
   "cell_type": "code",
   "execution_count": 22,
   "metadata": {},
   "outputs": [],
   "source": [
    "np.save('/home/maspe/filer/2JP/peristimulus_spikes.npy', peristimulus_spikes)\n"
   ]
  },
  {
   "cell_type": "code",
   "execution_count": null,
   "metadata": {},
   "outputs": [],
   "source": [
    "peristimulus_spikes.shape"
   ]
  },
  {
   "cell_type": "code",
   "execution_count": null,
   "metadata": {},
   "outputs": [],
   "source": [
    "units_activity = np.sum(spikes,axis=1)"
   ]
  },
  {
   "cell_type": "code",
   "execution_count": null,
   "metadata": {},
   "outputs": [],
   "source": [
    "units_activity.shape"
   ]
  },
  {
   "cell_type": "code",
   "execution_count": null,
   "metadata": {},
   "outputs": [],
   "source": [
    "mPFC = np.sum(units_activity[0:10,:], axis=0)\n",
    "NAC = np.sum(units_activity[10:16,:], axis=0)\n",
    "BLA = np.sum(units_activity[16:25,:], axis=0)\n",
    "vHip = np.sum(units_activity[25:32,:], axis=0)"
   ]
  },
  {
   "cell_type": "code",
   "execution_count": null,
   "metadata": {},
   "outputs": [],
   "source": [
    "vHip.shape"
   ]
  },
  {
   "cell_type": "code",
   "execution_count": null,
   "metadata": {},
   "outputs": [],
   "source": [
    "plt.subplot(2,2,1)\n",
    "plt.plot(np.arange(mPFC.shape[0]), mPFC, '-')\n",
    "plt.xticks([])\n",
    "plt.axvline(x=45000, color='black')\n",
    "plt.title('mPFC')\n",
    "\n",
    "plt.subplot(2,2,2)\n",
    "plt.plot(np.arange(NAC.shape[0]), NAC, '-')\n",
    "plt.xticks([])\n",
    "plt.axvline(x=45000, color='black')\n",
    "plt.title('NAC')\n",
    "\n",
    "plt.subplot(2,2,3)\n",
    "plt.plot(np.arange(BLA.shape[0]), BLA, '-')\n",
    "plt.xticks([0, 15000, 30000, 45000, 60000, 75000, 90000], ['-1.5', '-1', '-0.5', '0', '0.5', '1', '1.5'])\n",
    "plt.axvline(x=45000, color='black')\n",
    "plt.title('BLA')\n",
    "\n",
    "plt.subplot(2,2,4)\n",
    "plt.plot(np.arange(vHip.shape[0]), vHip, '-')\n",
    "plt.xticks([0, 15000, 30000, 45000, 60000, 75000, 90000], ['-1.5', '-1', '-0.5', '0', '0.5', '1', '1.5'])\n",
    "plt.axvline(x=45000, color='black')\n",
    "plt.title('vHip')\n",
    "\n",
    "plt.savefig(mydir + \"spikes.png\", dpi=150, facecolor='w', edgecolor='w',\n",
    "            orientation='portrait', papertype=None, format='png', transparent=False)\n",
    "    \n",
    "plt.close()"
   ]
  },
  {
   "cell_type": "code",
   "execution_count": null,
   "metadata": {},
   "outputs": [],
   "source": [
    "np.arange(0, 6000, 3000)"
   ]
  },
  {
   "cell_type": "code",
   "execution_count": null,
   "metadata": {},
   "outputs": [],
   "source": []
  },
  {
   "cell_type": "markdown",
   "metadata": {},
   "source": [
    "#####################################"
   ]
  },
  {
   "cell_type": "markdown",
   "metadata": {},
   "source": [
    "#### Backup code"
   ]
  },
  {
   "cell_type": "code",
   "execution_count": null,
   "metadata": {},
   "outputs": [],
   "source": [
    "spikes = []\n",
    "for unit in range(len(spikes_epochs_pre)):\n",
    "    # np.isin(element, test_elements)\n",
    "    spikes.append(np.isin(epoch_matrix, [spikes_epochs_pre[unit] + spikes_epochs_post[unit]]))"
   ]
  },
  {
   "cell_type": "code",
   "execution_count": null,
   "metadata": {},
   "outputs": [],
   "source": [
    "spikes_epochs_pre = []\n",
    "spikes_epochs_post = []\n",
    "for unit in range(len(all_units)):\n",
    "    spiketimes_pre = []\n",
    "    spiketimes_post = []\n",
    "    for epoch in range(n_epochs):\n",
    "        spiketimes_pre.extend(all_units[unit][(all_units[unit] > epochs_pre[epoch][0]) & (all_units[unit] < epochs_post[epoch][1])])\n",
    "        spiketimes_post.extend(all_units[unit][(all_units[unit] > epochs_post[epoch][0]) & (all_units[unit] < epochs_post[epoch][1])])\n",
    "    spikes_epochs_pre.append(spiketimes_pre)\n",
    "    spikes_epochs_post.append(spiketimes_post)"
   ]
  },
  {
   "cell_type": "code",
   "execution_count": null,
   "metadata": {},
   "outputs": [],
   "source": [
    "len(spikes_epochs_pre[52])"
   ]
  },
  {
   "cell_type": "code",
   "execution_count": null,
   "metadata": {},
   "outputs": [],
   "source": [
    "spikes = []\n",
    "for unit in range(len(spikes_epochs_pre)):\n",
    "    # np.isin(element, test_elements)\n",
    "    spikes.append(np.isin(epoch_matrix, [spikes_epochs_pre[unit] + spikes_epochs_post[unit]]))"
   ]
  },
  {
   "cell_type": "code",
   "execution_count": null,
   "metadata": {},
   "outputs": [],
   "source": [
    "np.sum(spikes[50], axis=0).shape"
   ]
  }
 ],
 "metadata": {
  "kernelspec": {
   "display_name": "Python 3",
   "language": "python",
   "name": "python3"
  },
  "language_info": {
   "codemirror_mode": {
    "name": "ipython",
    "version": 2
   },
   "file_extension": ".py",
   "mimetype": "text/x-python",
   "name": "python",
   "nbconvert_exporter": "python",
   "pygments_lexer": "ipython2",
   "version": "2.7.15+"
  }
 },
 "nbformat": 4,
 "nbformat_minor": 2
}
