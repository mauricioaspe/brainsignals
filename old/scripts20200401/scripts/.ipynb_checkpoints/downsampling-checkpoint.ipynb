{
 "cells": [
  {
   "cell_type": "code",
   "execution_count": 1,
   "metadata": {},
   "outputs": [],
   "source": [
    "import time\n",
    "import pickle\n",
    "import numpy as np\n",
    "import pandas as pd\n",
    "from scipy import signal"
   ]
  },
  {
   "cell_type": "code",
   "execution_count": null,
   "metadata": {},
   "outputs": [],
   "source": [
    "IDs_WT = ['SERT1597', 'SERT1659', 'SERT1678', 'SERT1908', 'SERT1984', 'SERT1985', 'SERT2014']\n",
    "IDs_KO = ['SERT1668', 'SERT2018', 'SERT2024', 'SERT2013'] # 'SERT1665', \n",
    "\n",
    "WT = {'mPFC':{}, 'BLA':{}, 'NAC':{}, 'vHip':{}}\n",
    "KO = {'mPFC':{}, 'BLA':{}, 'NAC':{}, 'vHip':{}}\n",
    "\n",
    "WT_reshaped = {'mPFC':{}, 'BLA':{}, 'NAC':{}, 'vHip':{}}\n",
    "KO_reshaped = {'mPFC':{}, 'BLA':{}, 'NAC':{}, 'vHip':{}}\n",
    "\n",
    "n_samples = 600000\n",
    "clock = time.time()\n",
    "\n",
    "print('###################\\nLoading WTs...')\n",
    "for structure in WT.keys():\n",
    "    for ID in IDs_WT:\n",
    "        print('Loading {} from {}...'.format(structure, ID))\n",
    "        npys_dir = '/home/maspe/filer/SERT/' + ID + '/npys/'\n",
    "        data = np.load(npys_dir + structure + '.npy', allow_pickle=True)  \n",
    "    \n",
    "        # Start and end of OF\n",
    "        files_dir = '/home/maspe/filer/SERT/' + ID + '/continuous/'\n",
    "\n",
    "        df = pd.read_excel(files_dir + 'xy.xlsx', sheet_name=0, header=None)\n",
    "        start_OF = int(np.ceil(df[3][0] * 30)) # Times 30 because of sampling at 30 KHz\n",
    "        stop_OF = int(np.floor(df[3][1] * 30))\n",
    "    \n",
    "        print('Downsampling...\\n')\n",
    "        WT[structure][ID] = signal.resample(x=data[:, start_OF : stop_OF], num=n_samples, axis=1)\n",
    "        \n",
    "        print('Reshaping...')\n",
    "        WT_reshaped[structure][ID] = WT[structure][ID].reshape(WT[structure][ID].shape[0], 30000, 20)\n",
    "        \n",
    "        \n",
    "print('Saving dictionaries...')\n",
    "pickle.dump(WT, open('/home/maspe/filer/SERT/ALL/npys/WT_downsampled.dict', 'wb'), protocol=2)\n",
    "pickle.dump(WT_reshaped, open('/home/maspe/filer/SERT/ALL/npys/WT_reshaped.dict', 'wb'), protocol=2)\n",
    "        \n",
    "        \n",
    "print('###################\\nLoading KOs...')\n",
    "for structure in KO.keys():\n",
    "    for ID in IDs_KO:\n",
    "        print('Loading {} from {}...'.format(structure, ID))\n",
    "        npys_dir = '/home/maspe/filer/SERT/' + ID + '/npys/'        \n",
    "        data = np.load(npys_dir + structure + '.npy', allow_pickle=True)\n",
    "        \n",
    "        df = pd.read_excel(files_dir + 'xy.xlsx', sheet_name=0, header=None)\n",
    "        start_OF = int(np.ceil(df[3][0] * 30)) # Times 30 because of sampling at 30 KHz\n",
    "        stop_OF = int(np.floor(df[3][1] * 30))\n",
    "    \n",
    "        print('Downsampling...\\n')\n",
    "        KO[structure][ID] = signal.resample(x=data[:, start_OF : stop_OF], num=n_samples, axis=1)\n",
    "                \n",
    "        print('Reshaping...')\n",
    "        KO_reshaped[structure][ID] = KO[structure][ID].reshape(KO[structure][ID].shape[0], 30000, 20)\n",
    "        \n",
    "    \n",
    "print('\\nSaving dictionaries...')\n",
    "pickle.dump(KO, open('/home/maspe/filer/SERT/ALL/npys/KO_downsampled.dict', 'wb'), protocol=2)\n",
    "pickle.dump(KO_reshaped, open('/home/maspe/filer/SERT/ALL/npys/KO_reshaped.dict', 'wb'), protocol=2)\n",
    "        \n",
    "        \n",
    "print('All mice downsampled in {:.2f} min.'.format((time.time() - clock) / 60))"
   ]
  }
 ],
 "metadata": {
  "kernelspec": {
   "display_name": "Python 3",
   "language": "python",
   "name": "python3"
  },
  "language_info": {
   "codemirror_mode": {
    "name": "ipython",
    "version": 2
   },
   "file_extension": ".py",
   "mimetype": "text/x-python",
   "name": "python",
   "nbconvert_exporter": "python",
   "pygments_lexer": "ipython2",
   "version": "2.7.15+"
  }
 },
 "nbformat": 4,
 "nbformat_minor": 2
}
