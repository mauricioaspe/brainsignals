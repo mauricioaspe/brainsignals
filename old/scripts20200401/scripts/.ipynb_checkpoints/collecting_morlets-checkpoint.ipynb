{
 "cells": [
  {
   "cell_type": "code",
   "execution_count": 2,
   "metadata": {},
   "outputs": [],
   "source": [
    "### Importing modules\n",
    "import time\n",
    "import pickle\n",
    "import numpy as np\n",
    "import pandas as pd\n",
    "from matplotlib import cm\n",
    "from matplotlib import pyplot as plt\n",
    "from scipy import signal"
   ]
  },
  {
   "cell_type": "code",
   "execution_count": null,
   "metadata": {},
   "outputs": [],
   "source": [
    "master_clock = time.time()\n",
    "IDs_WT = ['SERT1597', 'SERT1659', 'SERT1678', 'SERT1908', 'SERT1984', 'SERT1985', 'SERT2014']\n",
    "IDs_KO = ['SERT1668', 'SERT1665', 'SERT2018', 'SERT2024', 'SERT2013'] \n",
    "\n",
    "WT = {'mPFC':{}, 'BLA':{}, 'NAC':{}, 'vHip':{}}\n",
    "KO = {'mPFC':{}, 'BLA':{}, 'NAC':{}, 'vHip':{}}\n",
    "clock = time.time()\n",
    "\n",
    "print('###################\\nLoading WTs...')\n",
    "for structure in WT.keys():\n",
    "    for ID in IDs_WT:\n",
    "        print('Loading {} from {}...'.format(structure, ID))\n",
    "        npys_dir = '/home/maspe/filer/SERT/' + ID + '/npys/'\n",
    "        WT[structure][ID] = np.load(npys_dir + structure + '_morlet.npy', allow_pickle=True)   \n",
    "        \n",
    "        \n",
    "print('###################\\nLoading KOs...')\n",
    "for structure in KO.keys():\n",
    "    for ID in IDs_KO:\n",
    "        print('Loading {} from {}...'.format(structure, ID))\n",
    "        npys_dir = '/home/maspe/filer/SERT/' + ID + '/npys/'        \n",
    "        KO[structure][ID] = np.load(npys_dir + structure + '_morlet.npy', allow_pickle=True)\n",
    "    \n",
    "        \n",
    "print('All mice loaded in {:.2f} min.'.format((time.time() - clock) / 60))\n"
   ]
  },
  {
   "cell_type": "code",
   "execution_count": null,
   "metadata": {},
   "outputs": [],
   "source": [
    "print('Collecting Morlets...')\n",
    "theta = [5, 12]\n",
    "#lgamma = [50, 80]\n",
    "     \n",
    "theta_morlets_WT = {'mPFC':{}, 'BLA':{}, 'NAC':{}, 'vHip':{}}\n",
    "theta_morlets_KO = {'mPFC':{}, 'BLA':{}, 'NAC':{}, 'vHip':{}}\n",
    "\n",
    "# For WT\n",
    "for structure in theta_morlets_WT.keys():\n",
    "    for mouse in WT[structure].keys():\n",
    "        theta_morlets_WT[structure][mouse] = np.mean(WT[structure][mouse][theta[0]:theta[1], :, :], axis=(0, 2))\n",
    "\n",
    "# For KO\n",
    "for structure in theta_morlets_KO.keys():\n",
    "    for mouse in KO[structure].keys():\n",
    "        theta_morlets_KO[structure][mouse] = np.mean(KO[structure][mouse][theta[0]:theta[1], :, :], axis=(0, 2))"
   ]
  },
  {
   "cell_type": "code",
   "execution_count": null,
   "metadata": {},
   "outputs": [],
   "source": [
    "print('Saving variables...')\n",
    "pickle.dump(theta_morlets_WT, open('/home/maspe/filer/SERT/ALL/npys/theta_morlets_WT.dict', 'wb'), protocol=2)\n",
    "pickle.dump(theta_morlets_KO, open('/home/maspe/filer/SERT/ALL/npys/theta_morlets_KO.dict', 'wb'), protocol=2)\n",
    "\n",
    "print('Completed in {:.2f} min.'.format((time.time() - master_clock) / 60))"
   ]
  }
 ],
 "metadata": {
  "kernelspec": {
   "display_name": "Python 3",
   "language": "python",
   "name": "python3"
  },
  "language_info": {
   "codemirror_mode": {
    "name": "ipython",
    "version": 2
   },
   "file_extension": ".py",
   "mimetype": "text/x-python",
   "name": "python",
   "nbconvert_exporter": "python",
   "pygments_lexer": "ipython2",
   "version": "2.7.15+"
  }
 },
 "nbformat": 4,
 "nbformat_minor": 2
}
