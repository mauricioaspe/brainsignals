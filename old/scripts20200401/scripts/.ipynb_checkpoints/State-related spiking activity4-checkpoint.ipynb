{
 "cells": [
  {
   "cell_type": "code",
   "execution_count": 1,
   "metadata": {},
   "outputs": [],
   "source": [
    "import h5py\n",
    "import numpy as np\n",
    "import pandas as pd\n",
    "import wavelets as wl\n",
    "from scipy import signal\n",
    "from matplotlib import pyplot as plt"
   ]
  },
  {
   "cell_type": "markdown",
   "metadata": {},
   "source": [
    "### Figure 2"
   ]
  },
  {
   "cell_type": "code",
   "execution_count": 2,
   "metadata": {},
   "outputs": [
    {
     "name": "stdout",
     "output_type": "stream",
     "text": [
      "Loaded /home/maspe/filer/SERT/SERT1597/spikes/results/\n",
      "Loaded /home/maspe/filer/SERT/SERT1659/spikes/results/\n",
      "Loaded /home/maspe/filer/SERT/SERT1985/spikes/results/\n"
     ]
    }
   ],
   "source": [
    "IDs_WT = ['SERT1597', 'SERT1659', 'SERT1678', 'SERT1908', 'SERT1984', 'SERT1985' 'SERT2014']\n",
    "IDs_KO = ['SERT1668', 'SERT1665', 'SERT2013'] #, 'SERT2018', 'SERT2014']\n",
    "\n",
    "all_info = {}\n",
    "all_mice = {}\n",
    "for ID in IDs_WT:\n",
    "    npys_dir = '/home/maspe/filer/SERT/' + ID + '/npys/'\n",
    "    spikes_dir = '/home/maspe/filer/SERT/' + ID + '/spikes/results/'\n",
    "    print('Loaded ' + spikes_dir)\n",
    "    \n",
    "    info = np.load(npys_dir + 'info.npy', allow_pickle=True).item()\n",
    "    all_info[ID] = info\n",
    "    channels = info['channels_list']\n",
    "    \n",
    "    fit = []\n",
    "    for channel in channels:\n",
    "        path = spikes_dir + channel + '.result.hdf5'\n",
    "    \n",
    "        fit.append(h5py.File(path, 'r'))\n",
    "        \n",
    "    all_mice[ID] = fit\n"
   ]
  },
  {
   "cell_type": "code",
   "execution_count": 3,
   "metadata": {},
   "outputs": [],
   "source": [
    "all_units = {}\n",
    "all_channels = {}\n",
    "    \n",
    "for mouse in all_mice.keys():\n",
    "    n_channels = 32\n",
    "    units = []\n",
    "    channels_id = []\n",
    "    \n",
    "    iteration = 0\n",
    "    for channel in range(n_channels):\n",
    "        for unit in all_mice[mouse][channel]['spiketimes'].keys():\n",
    "            units.append(all_mice[mouse][channel]['spiketimes'][unit][()]) # Final \"[()]\" is to import values from h5py \n",
    "      \n",
    "            channels_id.append(info['channels_locs'][iteration])\n",
    "        \n",
    "        iteration += 1\n",
    "        \n",
    "            \n",
    "    all_units[mouse] = units\n",
    "    all_channels[mouse] = channels_id\n",
    "        \n",
    "# print('n units = %i' %len(all_units))"
   ]
  },
  {
   "cell_type": "code",
   "execution_count": null,
   "metadata": {},
   "outputs": [],
   "source": [
    "channels_id == 'mPFC_left'"
   ]
  },
  {
   "cell_type": "code",
   "execution_count": 4,
   "metadata": {},
   "outputs": [],
   "source": [
    "secs = 2\n",
    "sampleRate = 30000\n",
    "window = int(sampleRate * secs)\n",
    "\n",
    "all_epochs = {}\n",
    "all_perispikes = {}\n",
    "for mouse in all_mice.keys():\n",
    "    entrances_times = all_info[mouse]['entrances_times']\n",
    "    n_epochs = all_info[mouse]['n_epochs']\n",
    "    \n",
    "    epochs_matrix = np.zeros((n_epochs, window * 2))\n",
    "    for epoch in range(n_epochs):\n",
    "        epochs_matrix[epoch, :] = np.arange(entrances_times[epoch] - window, entrances_times[epoch] + window, 1)\n",
    "\n",
    "    all_epochs[mouse] = epochs_matrix\n",
    "    \n",
    "    \n",
    "#     all_perispikes = all_info[mouse]['entrances_times']  \n",
    "    all_spikes = all_units[mouse] \n",
    "    peristimulus_spikes = np.zeros((len(all_spikes), window * 2, n_epochs))\n",
    "    for unit in range(len(all_spikes)):\n",
    "        peristimulus_spikes[unit, :, :] = np.transpose(np.isin(epochs_matrix, all_spikes[unit]), axes=(1, 0))\n",
    "#         peristimulus_spikes[:, :, ] = np.transpose(np.isin(epochs_matrix, all_spikes[unit]), axes=(0, 2, 1))\n",
    "# #         peristimulus_spikes = np.transpose(np.array(peristimulus_spikes), axes=(0, 2, 1))\n",
    "        \n",
    "    all_perispikes[mouse] = peristimulus_spikes"
   ]
  },
  {
   "cell_type": "code",
   "execution_count": 6,
   "metadata": {},
   "outputs": [],
   "source": [
    "mPFC = {}\n",
    "NAC  = {}\n",
    "BLA  = {}\n",
    "vHip = {}\n",
    "\n",
    "for mouse in all_mice.keys():\n",
    "    mPFC_indexes  = [i for i,x in enumerate(all_channels[mouse]) if x == 'mPFC_left']\n",
    "    NAC_indexes = [i for i,x in enumerate(all_channels[mouse]) if x == 'NAC_left']\n",
    "    BLA_indexes  = [i for i,x in enumerate(all_channels[mouse]) if x == 'BLA_left']\n",
    "    vHip_indexes  = [i for i,x in enumerate(all_channels[mouse]) if x == 'vHipp_left']\n",
    "    \n",
    "    \n",
    "    mPFC[mouse] = np.sum(all_perispikes[mouse][mPFC_indexes, :], axis=(0, 2))\n",
    "    NAC[mouse] = np.sum(all_perispikes[mouse][NAC_indexes, :], axis=(0, 2))\n",
    "    BLA[mouse] = np.sum(all_perispikes[mouse][BLA_indexes, :], axis=(0, 2))\n",
    "    vHip[mouse] = np.sum(all_perispikes[mouse][vHip_indexes, :], axis=(0, 2))"
   ]
  },
  {
   "cell_type": "code",
   "execution_count": 61,
   "metadata": {},
   "outputs": [
    {
     "data": {
      "text/plain": [
       "(2000,)"
      ]
     },
     "execution_count": 61,
     "metadata": {},
     "output_type": "execute_result"
    }
   ],
   "source": [
    "np.mean(t, axis=0).shape"
   ]
  },
  {
   "cell_type": "code",
   "execution_count": 66,
   "metadata": {},
   "outputs": [
    {
     "data": {
      "text/plain": [
       "Text(0.5,1,'vHippocampus')"
      ]
     },
     "execution_count": 66,
     "metadata": {},
     "output_type": "execute_result"
    },
    {
     "data": {
      "image/png": "[encoded data removed]",
      "text/plain": [
       "<Figure size 432x288 with 4 Axes>"
      ]
     },
     "metadata": {
      "needs_background": "light"
     },
     "output_type": "display_data"
    }
   ],
   "source": [
    "tx = range(0, mPFC[mouse].shape[0], 60)\n",
    "\n",
    "# mPFC\n",
    "iteration = 0\n",
    "t = np.zeros((len(mPFC.keys()), window*2 / 60))\n",
    "for mouse in mPFC.keys():\n",
    "    t[iteration,:]=np.add.reduceat(mPFC[mouse], range(0, mPFC[mouse].shape[0], 60))\n",
    "    \n",
    "    iteration += 1\n",
    "    \n",
    "tmean=np.mean(t, axis=0)\n",
    "\n",
    "plt.subplot(2,2,1)\n",
    "plt.plot(tx, tmean, '-', alpha=0.7)\n",
    "plt.xticks([0, 20000, 40000, 60000, 80000, 100000, 120000], ['-3', '-2', '-1', '0', '1', '2', '3'])\n",
    "plt.axvline(x=60000, color='black')\n",
    "plt.xlabel('time (s)')\n",
    "plt.ylabel('units')\n",
    "plt.title('mPFC')\n",
    "\n",
    "\n",
    "# NAC\n",
    "iteration = 0\n",
    "t = np.zeros((len(NAC.keys()), window*2 / 60))\n",
    "for mouse in NAC.keys():\n",
    "    t[iteration,:]=np.add.reduceat(NAC[mouse], range(0, NAC[mouse].shape[0], 60))\n",
    "    \n",
    "    iteration += 1\n",
    "    \n",
    "tmean=np.mean(t, axis=0)\n",
    "\n",
    "plt.subplot(2,2,2)\n",
    "plt.plot(tx, tmean, '-', alpha=0.7)\n",
    "plt.xticks([0, 20000, 40000, 60000, 80000, 100000, 120000], ['-3', '-2', '-1', '0', '1', '2', '3'])\n",
    "plt.axvline(x=60000, color='black')\n",
    "plt.xlabel('time (s)')\n",
    "plt.ylabel('units')\n",
    "plt.title('NAC')\n",
    "\n",
    "\n",
    "# BLA\n",
    "iteration = 0\n",
    "t = np.zeros((len(BLA.keys()), window*2 / 60))\n",
    "for mouse in BLA.keys():\n",
    "    t[iteration,:]=np.add.reduceat(BLA[mouse], range(0, BLA[mouse].shape[0], 60))\n",
    "    \n",
    "    iteration += 1\n",
    "    \n",
    "tmean=np.mean(t, axis=0)\n",
    "\n",
    "plt.subplot(2,2,3)\n",
    "plt.plot(tx, tmean, '-', alpha=0.7)\n",
    "plt.xticks([0, 20000, 40000, 60000, 80000, 100000, 120000], ['-3', '-2', '-1', '0', '1', '2', '3'])\n",
    "plt.axvline(x=60000, color='black')\n",
    "plt.xlabel('time (s)')\n",
    "plt.ylabel('units')\n",
    "plt.title('BLA')\n",
    "\n",
    "\n",
    "# vHipp\n",
    "iteration = 0\n",
    "t = np.zeros((len(vHip.keys()), window*2 / 60))\n",
    "for mouse in vHip.keys():\n",
    "    t[iteration,:]=np.add.reduceat(vHip[mouse], range(0, vHip[mouse].shape[0], 60))\n",
    "    \n",
    "    iteration += 1\n",
    "    \n",
    "tmean=np.mean(t, axis=0)\n",
    "\n",
    "plt.subplot(2,2,4)\n",
    "plt.plot(tx, tmean, '-', alpha=0.7)\n",
    "plt.xticks([0, 20000, 40000, 60000, 80000, 100000, 120000], ['-3', '-2', '-1', '0', '1', '2', '3'])\n",
    "plt.axvline(x=60000, color='black')\n",
    "plt.xlabel('time (s)')\n",
    "plt.ylabel('units')\n",
    "plt.title('vHippocampus')\n",
    "\n",
    "\n",
    "#plt.savefig(mydir + \"spikes.png\", dpi=150, facecolor='w', edgecolor='w',\n",
    "#            orientation='portrait', papertype=None, format='png', transparent=False)\n",
    "    \n",
    "#plt.close()"
   ]
  },
  {
   "cell_type": "code",
   "execution_count": null,
   "metadata": {},
   "outputs": [],
   "source": []
  },
  {
   "cell_type": "code",
   "execution_count": null,
   "metadata": {},
   "outputs": [],
   "source": []
  },
  {
   "cell_type": "markdown",
   "metadata": {},
   "source": [
    "#####################################"
   ]
  },
  {
   "cell_type": "markdown",
   "metadata": {},
   "source": [
    "#### Backup code"
   ]
  },
  {
   "cell_type": "code",
   "execution_count": null,
   "metadata": {},
   "outputs": [],
   "source": [
    "spikes = []\n",
    "for unit in range(len(spikes_epochs_pre)):\n",
    "    # np.isin(element, test_elements)\n",
    "    spikes.append(np.isin(epoch_matrix, [spikes_epochs_pre[unit] + spikes_epochs_post[unit]]))"
   ]
  },
  {
   "cell_type": "code",
   "execution_count": null,
   "metadata": {},
   "outputs": [],
   "source": [
    "spikes_epochs_pre = []\n",
    "spikes_epochs_post = []\n",
    "for unit in range(len(all_units)):\n",
    "    spiketimes_pre = []\n",
    "    spiketimes_post = []\n",
    "    for epoch in range(n_epochs):\n",
    "        spiketimes_pre.extend(all_units[unit][(all_units[unit] > epochs_pre[epoch][0]) & (all_units[unit] < epochs_post[epoch][1])])\n",
    "        spiketimes_post.extend(all_units[unit][(all_units[unit] > epochs_post[epoch][0]) & (all_units[unit] < epochs_post[epoch][1])])\n",
    "    spikes_epochs_pre.append(spiketimes_pre)\n",
    "    spikes_epochs_post.append(spiketimes_post)"
   ]
  },
  {
   "cell_type": "code",
   "execution_count": null,
   "metadata": {},
   "outputs": [],
   "source": [
    "len(spikes_epochs_pre[52])"
   ]
  },
  {
   "cell_type": "code",
   "execution_count": null,
   "metadata": {},
   "outputs": [],
   "source": [
    "spikes = []\n",
    "for unit in range(len(spikes_epochs_pre)):\n",
    "    # np.isin(element, test_elements)\n",
    "    spikes.append(np.isin(epoch_matrix, [spikes_epochs_pre[unit] + spikes_epochs_post[unit]]))"
   ]
  },
  {
   "cell_type": "code",
   "execution_count": null,
   "metadata": {},
   "outputs": [],
   "source": [
    "np.sum(spikes[50], axis=0).shape"
   ]
  }
 ],
 "metadata": {
  "kernelspec": {
   "display_name": "Python 3",
   "language": "python",
   "name": "python3"
  },
  "language_info": {
   "codemirror_mode": {
    "name": "ipython",
    "version": 2
   },
   "file_extension": ".py",
   "mimetype": "text/x-python",
   "name": "python",
   "nbconvert_exporter": "python",
   "pygments_lexer": "ipython2",
   "version": "2.7.15+"
  }
 },
 "nbformat": 4,
 "nbformat_minor": 2
}
