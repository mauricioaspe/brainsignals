{
 "cells": [
  {
   "cell_type": "code",
   "execution_count": 5,
   "metadata": {},
   "outputs": [],
   "source": [
    "import pickle\n",
    "import time\n",
    "import numpy as np\n",
    "from scipy import signal\n",
    "import matplotlib.pyplot as plt\n",
    "import connectivity_measures as cm"
   ]
  },
  {
   "cell_type": "code",
   "execution_count": 6,
   "metadata": {},
   "outputs": [],
   "source": [
    "### Contructing filters\n",
    "### Butterworth filter\n",
    "def butter_bandpass(lowcut, highcut, fs, order=5):\n",
    "    nyq = 0.5 * fs\n",
    "    low = lowcut / nyq\n",
    "    high = highcut / nyq\n",
    "    b, a = signal.butter(order, [low, high], btype='band')\n",
    "    return b, a\n",
    "\n",
    "fs      = 1000.0\n",
    "\n",
    "filter_parameters = {'theta':    {'N': 4, 'lowcut': 3.5,  'highcut': 7.5},\n",
    "                    'alpha':     {'N': 4, 'lowcut': 8.0,  'highcut': 13.0},\n",
    "                    'beta':      {'N': 4, 'lowcut': 13.0, 'highcut': 25.0},\n",
    "                    'low_gamma': {'N': 6, 'lowcut': 25.0, 'highcut': 60}}\n",
    "\n",
    "butterworths = dict()\n",
    "for band in filter_parameters.keys():\n",
    "    lowcut = filter_parameters[band]['lowcut']\n",
    "    highcut = filter_parameters[band]['highcut']\n",
    "    N = filter_parameters[band]['N']\n",
    "    butterworths[band] = butter_bandpass(lowcut, highcut, fs, order=N)\n"
   ]
  },
  {
   "cell_type": "code",
   "execution_count": 7,
   "metadata": {},
   "outputs": [],
   "source": [
    "IDs = ['SERT1597']"
   ]
  },
  {
   "cell_type": "code",
   "execution_count": 11,
   "metadata": {},
   "outputs": [
    {
     "name": "stdout",
     "output_type": "stream",
     "text": [
      "\n",
      "Loading mouse SERT1597...\n",
      "Filtering...\n",
      "Calculating iCoh...\n",
      "iCoh calculated in 245.968783855 s\n",
      "Calculating iCoh...\n",
      "iCoh calculated in 242.087009907 s\n",
      "Done!\n"
     ]
    }
   ],
   "source": [
    "condition = 'epochs'\n",
    "\n",
    "iCohs = {}\n",
    "for mouse in IDs: \n",
    "    npys_dir = '/home/maspe/filer/SERT/' + mouse + '/npys/'\n",
    "    print('\\nLoading mouse {}...'.format(mouse))\n",
    "    \n",
    "    ### Loading data\n",
    "    data = pickle.load(open(npys_dir + mouse + '.epochs', 'rb'))\n",
    "    \n",
    "    ### Loop\n",
    "    filtered_bands = {'theta': {}, 'low_gamma': {}}\n",
    "    iterator = 0\n",
    "    for structure in data.keys(): \n",
    "        if iterator == 0:\n",
    "            all_structures = data[structure][condition]\n",
    "        else:\n",
    "            all_structures = np.vstack((all_structures, data[structure][condition]))\n",
    "        \n",
    "        iterator += 1\n",
    "        \n",
    "    print('Filtering...')    \n",
    "    for band in filtered_bands.keys():\n",
    "        filtered = signal.filtfilt(b=butterworths[band][0], a=butterworths[band][1],\n",
    "                                   x=all_structures, axis=1)\n",
    "        \n",
    "        print('Calculating iCoh for {} band...'.format(band))\n",
    "        clock = time.time()\n",
    "\n",
    "        n_epochs = filtered.shape[2]\n",
    "        for epoch in range(n_epochs):\n",
    "            if epoch == 0:\n",
    "                icoh = cm.icoh(filtered[:,:,epoch], average = False)\n",
    "            else:\n",
    "                icoh = np.dstack((icoh, cm.icoh(filtered[:,:,epoch], average = False)))\n",
    "        \n",
    "        print('iCoh calculated in {} min'.format((time.time() - clock)) / 60)\n",
    "        \n",
    "        iCohs[band] = icoh\n",
    "\n",
    "    \n",
    "    pickle.dump(iCohs, open(npys_dir + mouse + '.icoh', 'wb'), protocol=2)\n",
    "\n",
    "    \n",
    "print('Done!')      "
   ]
  }
 ],
 "metadata": {
  "kernelspec": {
   "display_name": "Python 3",
   "language": "python",
   "name": "python3"
  },
  "language_info": {
   "codemirror_mode": {
    "name": "ipython",
    "version": 2
   },
   "file_extension": ".py",
   "mimetype": "text/x-python",
   "name": "python",
   "nbconvert_exporter": "python",
   "pygments_lexer": "ipython2",
   "version": "2.7.17"
  }
 },
 "nbformat": 4,
 "nbformat_minor": 2
}
