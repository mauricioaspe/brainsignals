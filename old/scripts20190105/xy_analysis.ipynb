{
 "cells": [
  {
   "cell_type": "code",
   "execution_count": 1,
   "metadata": {},
   "outputs": [],
   "source": [
    "### Importing modules\n",
    "import time\n",
    "import numpy as np\n",
    "#import wavelets as wl\n",
    "#from scipy import signal\n",
    "from matplotlib import pyplot as plt"
   ]
  },
  {
   "cell_type": "code",
   "execution_count": null,
   "metadata": {},
   "outputs": [
    {
     "name": "stdout",
     "output_type": "stream",
     "text": [
      "###################\n",
      "Loading WTs...\n",
      "Loading NAC from SERT1597...\n",
      "Loading NAC from SERT1659...\n",
      "Loading BLA from SERT1597...\n",
      "Loading BLA from SERT1659...\n",
      "Loading mPFC from SERT1597...\n",
      "Loading mPFC from SERT1659...\n",
      "Loading vHip from SERT1597...\n",
      "Loading vHip from SERT1659...\n",
      "###################\n",
      "Loading KOs...\n",
      "Loading NAC from SERT1668...\n"
     ]
    }
   ],
   "source": [
    "IDs_WT = ['SERT1597', 'SERT1659'] #, 'SERT1678', 'SERT1908', 'SERT1984', 'SERT1985', 'SERT2014']\n",
    "IDs_KO = ['SERT1668', 'SERT1665'] #, 'SERT2018', 'SERT2024', 'SERT2013'] \n",
    "\n",
    "WT = {'mPFC':{}, 'BLA':{}, 'NAC':{}, 'vHip':{}}\n",
    "KO = {'mPFC':{}, 'BLA':{}, 'NAC':{}, 'vHip':{}}\n",
    "clock = time.time()\n",
    "\n",
    "print('###################\\nLoading WTs...')\n",
    "for structure in WT.keys():\n",
    "    for ID in IDs_WT:\n",
    "        print('Loading {} from {}...'.format(structure, ID))\n",
    "        npys_dir = '/home/maspe/filer/SERT/' + ID + '/npys/'\n",
    "        WT[structure][ID] = np.load(npys_dir + structure + '_morlet.npy', allow_pickle=True)      \n",
    "\n",
    "        \n",
    "print('###################\\nLoading KOs...')\n",
    "for structure in KO.keys():\n",
    "    for ID in IDs_KO:\n",
    "        print('Loading {} from {}...'.format(structure, ID))\n",
    "        npys_dir = '/home/maspe/filer/SERT/' + ID + '/npys/'        \n",
    "        KO[structure][ID] = np.load(npys_dir + structure + '_morlet.npy', allow_pickle=True)\n",
    "    \n",
    "        \n",
    "print('All mice loaded in {:.2f} s.'.format(time.time() - clock))"
   ]
  }
 ],
 "metadata": {
  "kernelspec": {
   "display_name": "Python 3",
   "language": "python",
   "name": "python3"
  },
  "language_info": {
   "codemirror_mode": {
    "name": "ipython",
    "version": 2
   },
   "file_extension": ".py",
   "mimetype": "text/x-python",
   "name": "python",
   "nbconvert_exporter": "python",
   "pygments_lexer": "ipython2",
   "version": "2.7.15+"
  }
 },
 "nbformat": 4,
 "nbformat_minor": 2
}
