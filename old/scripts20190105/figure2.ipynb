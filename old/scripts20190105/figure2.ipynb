{
 "cells": [
  {
   "cell_type": "code",
   "execution_count": 1,
   "metadata": {},
   "outputs": [],
   "source": [
    "import h5py\n",
    "import numpy as np\n",
    "import pandas as pd\n",
    "import wavelets as wl\n",
    "from scipy import signal\n",
    "from matplotlib import pyplot as plt"
   ]
  },
  {
   "cell_type": "markdown",
   "metadata": {},
   "source": [
    "### Figure 2"
   ]
  },
  {
   "cell_type": "code",
   "execution_count": 2,
   "metadata": {},
   "outputs": [],
   "source": [
    "mydir = '/home/maspe/filer/testFiles/spiking_data/SERT1985/'"
   ]
  },
  {
   "cell_type": "code",
   "execution_count": 3,
   "metadata": {},
   "outputs": [],
   "source": [
    "chans = ['ch01', 'ch02', 'ch03', 'ch04', 'ch05', 'ch06', 'ch07', 'ch08', 'ch09', 'ch10',\n",
    "         'ch11', 'ch12', 'ch13', 'ch14', 'ch15', 'ch16', 'ch17', 'ch18', 'ch19', 'ch20',\n",
    "         'ch21', 'ch22', 'ch23', 'ch24', 'ch25', 'ch26', 'ch27', 'ch28', 'ch29', 'ch30',\n",
    "         'ch31', 'ch32']\n",
    "\n",
    "nchannels = len(chans)"
   ]
  },
  {
   "cell_type": "code",
   "execution_count": 4,
   "metadata": {},
   "outputs": [],
   "source": [
    "fit = []\n",
    "for chan in chans:\n",
    "    path = mydir + chan + '/' + chan + '.result.hdf5'\n",
    "    \n",
    "    fit.append(h5py.File(path, 'r'))"
   ]
  },
  {
   "cell_type": "code",
   "execution_count": 5,
   "metadata": {},
   "outputs": [
    {
     "data": {
      "text/plain": [
       "53"
      ]
     },
     "execution_count": 5,
     "metadata": {},
     "output_type": "execute_result"
    }
   ],
   "source": [
    "all_units = []\n",
    "for a in range(len(fit)):\n",
    "    for key in fit[a]['spiketimes'].keys():\n",
    "        all_units.append(fit[a]['spiketimes'][key][()]) # Final \"[()]\" is to import values from h5py \n",
    "        \n",
    "len(all_units)"
   ]
  },
  {
   "cell_type": "code",
   "execution_count": 6,
   "metadata": {},
   "outputs": [
    {
     "data": {
      "text/plain": [
       "[array([      84,      102,      303, ..., 47966704, 47966740, 47966831],\n",
       "       dtype=uint32),\n",
       " array([      83,      304,      450, ..., 47966603, 47966705, 47966740],\n",
       "       dtype=uint32),\n",
       " array([     103,      366,     3124, ..., 47966119, 47966281, 47966432],\n",
       "       dtype=uint32),\n",
       " array([     102,      366,     2086, ..., 47966281, 47966326, 47966387],\n",
       "       dtype=uint32),\n",
       " array([      83,      304,      450, ..., 47966601, 47966737, 47966756],\n",
       "       dtype=uint32),\n",
       " array([      83,      304,      449, ..., 47966536, 47966740, 47966952],\n",
       "       dtype=uint32),\n",
       " array([     103,      365,      770, ..., 47965763, 47966118, 47966281],\n",
       "       dtype=uint32),\n",
       " array([     303,      628,     2115, ..., 47966373, 47966741, 47967002],\n",
       "       dtype=uint32),\n",
       " array([     102,      366,      394, ..., 47966325, 47966790, 47966837],\n",
       "       dtype=uint32),\n",
       " array([    3361,     3818,     4086, ..., 47574946, 47716922, 47717167],\n",
       "       dtype=uint32),\n",
       " array([      84,      102,      303, ..., 47966435, 47966516, 47966833],\n",
       "       dtype=uint32),\n",
       " array([    3362,     3457,     3537, ..., 47904262, 47963431, 47964454],\n",
       "       dtype=uint32),\n",
       " array([     304,     2998,     3126, ..., 47966433, 47966701, 47966832],\n",
       "       dtype=uint32),\n",
       " array([     102,      365,      682, ..., 47965761, 47966117, 47966143],\n",
       "       dtype=uint32),\n",
       " array([    3266,     3361,     3457, ..., 47892551, 47897437, 47964818],\n",
       "       dtype=uint32),\n",
       " array([      83,      113,      365, ..., 47966516, 47966702, 47966737],\n",
       "       dtype=uint32),\n",
       " array([     103,      685,      770, ..., 47966326, 47966792, 47966830],\n",
       "       dtype=uint32),\n",
       " array([     365,     2901,     2996, ..., 47966281, 47966326, 47967027],\n",
       "       dtype=uint32),\n",
       " array([      83,      102,      303, ..., 47966537, 47966702, 47966738],\n",
       "       dtype=uint32),\n",
       " array([      83,      102,      304, ..., 47966601, 47966703, 47966739],\n",
       "       dtype=uint32),\n",
       " array([     365,      685,     2086, ..., 47965762, 47966118, 47966281],\n",
       "       dtype=uint32),\n",
       " array([      83,      102,      304, ..., 47966600, 47966704, 47966738],\n",
       "       dtype=uint32),\n",
       " array([      84,      112,      303, ..., 47966757, 47966829, 47967085],\n",
       "       dtype=uint32),\n",
       " array([     304,      364,      449, ..., 47966328, 47966372, 47966516],\n",
       "       dtype=uint32),\n",
       " array([      83,     3336,     3417, ..., 47964476, 47966248, 47966437],\n",
       "       dtype=uint32),\n",
       " array([      83,      102,      304, ..., 47966705, 47966739, 47966791],\n",
       "       dtype=uint32),\n",
       " array([      83,      102,      303, ..., 47966738, 47966794, 47967086],\n",
       "       dtype=uint32),\n",
       " array([      83,      102,      304, ..., 47966757, 47967040, 47967086],\n",
       "       dtype=uint32),\n",
       " array([     102,      303,      364, ..., 47966435, 47966596, 47967086],\n",
       "       dtype=uint32),\n",
       " array([      83,     3267,     3361, ..., 47966187, 47966248, 47966330],\n",
       "       dtype=uint32),\n",
       " array([      83,      102,      303, ..., 47966703, 47966740, 47967181],\n",
       "       dtype=uint32),\n",
       " array([     448,      773,     2026, ..., 47966118, 47966209, 47967088],\n",
       "       dtype=uint32),\n",
       " array([     303,     2997,     3044, ..., 47966218, 47966248, 47966329],\n",
       "       dtype=uint32),\n",
       " array([      83,     3536,     3842, ..., 47964453, 47966187, 47966517],\n",
       "       dtype=uint32),\n",
       " array([     102,      366,     1798, ..., 47965676, 47965763, 47966281],\n",
       "       dtype=uint32),\n",
       " array([      83,      305,      369, ..., 47966438, 47966473, 47966517],\n",
       "       dtype=uint32),\n",
       " array([      83,      303,      365, ..., 47966598, 47966740, 47967086],\n",
       "       dtype=uint32),\n",
       " array([      83,      302,      364, ..., 47966705, 47966739, 47966792],\n",
       "       dtype=uint32),\n",
       " array([     302,      774,     2086, ..., 47966327, 47966598, 47966738],\n",
       "       dtype=uint32),\n",
       " array([     450,     3044,     3361, ..., 47966187, 47966249, 47966516],\n",
       "       dtype=uint32),\n",
       " array([     364,     3122,     3389, ..., 47965482, 47965672, 47966281],\n",
       "       dtype=uint32),\n",
       " array([      83,      102,      303, ..., 47966596, 47966704, 47966740],\n",
       "       dtype=uint32),\n",
       " array([     303,      368,      773, ..., 47966596, 47966755, 47966792],\n",
       "       dtype=uint32),\n",
       " array([     449,     3360,     3457, ..., 47966187, 47966248, 47966372],\n",
       "       dtype=uint32),\n",
       " array([      83,      102,      164, ..., 47966753, 47966852, 47967160],\n",
       "       dtype=uint32),\n",
       " array([     102,      303,      364, ..., 47966326, 47966370, 47966435],\n",
       "       dtype=uint32),\n",
       " array([     449,     3265,     3336, ..., 47901510, 47904262, 47964452],\n",
       "       dtype=uint32),\n",
       " array([      83,      102,      303, ..., 47966598, 47966704, 47966739],\n",
       "       dtype=uint32),\n",
       " array([      82,      102,      303, ..., 47966597, 47966704, 47966754],\n",
       "       dtype=uint32),\n",
       " array([      82,      102,      303, ..., 47966596, 47966647, 47966739],\n",
       "       dtype=uint32),\n",
       " array([     364,      770,     2251, ..., 47966118, 47966280, 47966596],\n",
       "       dtype=uint32),\n",
       " array([      82,      303,      447, ..., 47966515, 47966535, 47966703],\n",
       "       dtype=uint32),\n",
       " array([      82,      102,      303, ..., 47966536, 47966598, 47966705],\n",
       "       dtype=uint32)]"
      ]
     },
     "execution_count": 6,
     "metadata": {},
     "output_type": "execute_result"
    }
   ],
   "source": [
    "all_units"
   ]
  },
  {
   "cell_type": "code",
   "execution_count": 7,
   "metadata": {},
   "outputs": [],
   "source": [
    "df = pd.read_excel(\"/home/maspe/filer/testFiles/spiking_data/SERT1985/entradas_sert1985.xlsx\",\n",
    "                   sheet_name=0, header=None, names=[\"locs\"])\n",
    "entrances_times = np.array(df['locs'].tolist(), dtype='int')\n",
    "entrances_times = entrances_times * 30\n",
    "\n",
    "n_epochs = len(entrances_times)\n",
    "epochs = []\n",
    "# epochs_post = []\n",
    "# post = []\n",
    "secs = 1.5\n",
    "sampleRate = 30000\n",
    "window = int(sampleRate * secs)\n",
    "\n",
    "# for epoch in range(len(entrances_times)):\n",
    "#     pre.append(np.arange(entrances_times[epoch] - window, entrances_times[epoch], 1))\n",
    "#     post.append(np.arange(entrances_times[epoch], entrances_times[epoch] + window, 1))\n",
    "\n",
    "# for epoch in range(n_epochs):\n",
    "#     epochs.append([entrances_times[epoch] - window, entrances_times[epoch] + window])\n",
    "#     epochs_post.append([entrances_times[epoch], entrances_times[epoch] + window])\n",
    "#     post.append([entrances_times[epoch] + 1, entrances_times[epoch] + window])    \n",
    "\n",
    "epoch_matrix = []\n",
    "for epoch in range(20):\n",
    "    epoch_matrix.append(np.arange(entrances_times[epoch] - window, entrances_times[epoch] + window, 1))\n",
    "    #post.append(np.arange(entrances_times[epoch], entrances_times[epoch] + window, 1))\n",
    "    \n",
    "# epoch_matrix=np.concatenate((np.array(pre), np.array(post)), axis=1)\n",
    "    \n",
    "# Flatten vector of all points previous or post to center entrance\n",
    "# pre_flatten = np.unique([item for sublist in pre for item in sublist])\n",
    "# post_flatten = np.unique([item for sublist in post for item in sublist])"
   ]
  },
  {
   "cell_type": "code",
   "execution_count": 8,
   "metadata": {},
   "outputs": [],
   "source": [
    "spikes = []\n",
    "for unit in range(len(all_units)):\n",
    "    # np.isin(element, test_elements)\n",
    "    spikes.append(np.isin(epoch_matrix, all_units[unit]))\n",
    "    \n",
    "spikes = np.array(spikes)"
   ]
  },
  {
   "cell_type": "code",
   "execution_count": 9,
   "metadata": {},
   "outputs": [
    {
     "data": {
      "text/plain": [
       "(53, 20, 90000)"
      ]
     },
     "execution_count": 9,
     "metadata": {},
     "output_type": "execute_result"
    }
   ],
   "source": [
    "spikes.shape"
   ]
  },
  {
   "cell_type": "code",
   "execution_count": 10,
   "metadata": {},
   "outputs": [],
   "source": [
    "units_activity = np.sum(spikes,axis=1)"
   ]
  },
  {
   "cell_type": "code",
   "execution_count": 11,
   "metadata": {},
   "outputs": [
    {
     "data": {
      "text/plain": [
       "(53, 90000)"
      ]
     },
     "execution_count": 11,
     "metadata": {},
     "output_type": "execute_result"
    }
   ],
   "source": [
    "units_activity.shape"
   ]
  },
  {
   "cell_type": "code",
   "execution_count": 21,
   "metadata": {},
   "outputs": [],
   "source": [
    "mPFC = np.sum(units_activity[0:10,:], axis=0)\n",
    "NAC = np.sum(units_activity[10:16,:], axis=0)\n",
    "BLA = np.sum(units_activity[16:25,:], axis=0)\n",
    "vHip = np.sum(units_activity[25:32,:], axis=0)"
   ]
  },
  {
   "cell_type": "code",
   "execution_count": 34,
   "metadata": {},
   "outputs": [
    {
     "data": {
      "text/plain": [
       "(90000,)"
      ]
     },
     "execution_count": 34,
     "metadata": {},
     "output_type": "execute_result"
    }
   ],
   "source": [
    "vHip.shape"
   ]
  },
  {
   "cell_type": "code",
   "execution_count": 42,
   "metadata": {},
   "outputs": [],
   "source": [
    "plt.subplot(2,2,1)\n",
    "plt.plot(np.arange(mPFC.shape[0]), mPFC, '-')\n",
    "plt.xticks([])\n",
    "plt.axvline(x=45000, color='black')\n",
    "plt.title('mPFC')\n",
    "\n",
    "plt.subplot(2,2,2)\n",
    "plt.plot(np.arange(NAC.shape[0]), NAC, '-')\n",
    "plt.xticks([])\n",
    "plt.axvline(x=45000, color='black')\n",
    "plt.title('NAC')\n",
    "\n",
    "plt.subplot(2,2,3)\n",
    "plt.plot(np.arange(BLA.shape[0]), BLA, '-')\n",
    "plt.xticks([0, 15000, 30000, 45000, 60000, 75000, 90000], ['-1.5', '-1', '-0.5', '0', '0.5', '1', '1.5'])\n",
    "plt.axvline(x=45000, color='black')\n",
    "plt.title('BLA')\n",
    "\n",
    "plt.subplot(2,2,4)\n",
    "plt.plot(np.arange(vHip.shape[0]), vHip, '-')\n",
    "plt.xticks([0, 15000, 30000, 45000, 60000, 75000, 90000], ['-1.5', '-1', '-0.5', '0', '0.5', '1', '1.5'])\n",
    "plt.axvline(x=45000, color='black')\n",
    "plt.title('vHip')\n",
    "\n",
    "plt.savefig(mydir + \"spikes.png\", dpi=150, facecolor='w', edgecolor='w',\n",
    "            orientation='portrait', papertype=None, format='png', transparent=False)\n",
    "    \n",
    "plt.close()"
   ]
  },
  {
   "cell_type": "code",
   "execution_count": 38,
   "metadata": {},
   "outputs": [
    {
     "data": {
      "text/plain": [
       "array([   0, 3000])"
      ]
     },
     "execution_count": 38,
     "metadata": {},
     "output_type": "execute_result"
    }
   ],
   "source": [
    "np.arange(0, 6000, 3000)"
   ]
  },
  {
   "cell_type": "code",
   "execution_count": null,
   "metadata": {},
   "outputs": [],
   "source": []
  },
  {
   "cell_type": "markdown",
   "metadata": {},
   "source": [
    "#####################################"
   ]
  },
  {
   "cell_type": "markdown",
   "metadata": {},
   "source": [
    "#### Backup code"
   ]
  },
  {
   "cell_type": "code",
   "execution_count": null,
   "metadata": {},
   "outputs": [],
   "source": [
    "spikes = []\n",
    "for unit in range(len(spikes_epochs_pre)):\n",
    "    # np.isin(element, test_elements)\n",
    "    spikes.append(np.isin(epoch_matrix, [spikes_epochs_pre[unit] + spikes_epochs_post[unit]]))"
   ]
  },
  {
   "cell_type": "code",
   "execution_count": 8,
   "metadata": {},
   "outputs": [],
   "source": [
    "spikes_epochs_pre = []\n",
    "spikes_epochs_post = []\n",
    "for unit in range(len(all_units)):\n",
    "    spiketimes_pre = []\n",
    "    spiketimes_post = []\n",
    "    for epoch in range(n_epochs):\n",
    "        spiketimes_pre.extend(all_units[unit][(all_units[unit] > epochs_pre[epoch][0]) & (all_units[unit] < epochs_post[epoch][1])])\n",
    "        spiketimes_post.extend(all_units[unit][(all_units[unit] > epochs_post[epoch][0]) & (all_units[unit] < epochs_post[epoch][1])])\n",
    "    spikes_epochs_pre.append(spiketimes_pre)\n",
    "    spikes_epochs_post.append(spiketimes_post)"
   ]
  },
  {
   "cell_type": "code",
   "execution_count": 26,
   "metadata": {},
   "outputs": [
    {
     "data": {
      "text/plain": [
       "12613"
      ]
     },
     "execution_count": 26,
     "metadata": {},
     "output_type": "execute_result"
    }
   ],
   "source": [
    "len(spikes_epochs_pre[52])"
   ]
  },
  {
   "cell_type": "code",
   "execution_count": 63,
   "metadata": {},
   "outputs": [],
   "source": [
    "spikes = []\n",
    "for unit in range(len(spikes_epochs_pre)):\n",
    "    # np.isin(element, test_elements)\n",
    "    spikes.append(np.isin(epoch_matrix, [spikes_epochs_pre[unit] + spikes_epochs_post[unit]]))"
   ]
  },
  {
   "cell_type": "code",
   "execution_count": 64,
   "metadata": {},
   "outputs": [
    {
     "data": {
      "text/plain": [
       "(90000,)"
      ]
     },
     "execution_count": 64,
     "metadata": {},
     "output_type": "execute_result"
    }
   ],
   "source": [
    "np.sum(spikes[50], axis=0).shape"
   ]
  }
 ],
 "metadata": {
  "kernelspec": {
   "display_name": "Python 3",
   "language": "python",
   "name": "python3"
  },
  "language_info": {
   "codemirror_mode": {
    "name": "ipython",
    "version": 2
   },
   "file_extension": ".py",
   "mimetype": "text/x-python",
   "name": "python",
   "nbconvert_exporter": "python",
   "pygments_lexer": "ipython2",
   "version": "2.7.15+"
  }
 },
 "nbformat": 4,
 "nbformat_minor": 2
}
