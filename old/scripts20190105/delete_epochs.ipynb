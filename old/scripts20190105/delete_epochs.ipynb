{
 "cells": [
  {
   "cell_type": "code",
   "execution_count": 1,
   "metadata": {},
   "outputs": [],
   "source": [
    "import numpy as np\n",
    "from matplotlib import pyplot as plt"
   ]
  },
  {
   "cell_type": "code",
   "execution_count": 2,
   "metadata": {},
   "outputs": [],
   "source": [
    "ID = 'SERT' + '1659'\n",
    "structure = 'BLA' + '_epochs'"
   ]
  },
  {
   "cell_type": "code",
   "execution_count": 3,
   "metadata": {},
   "outputs": [
    {
     "name": "stdout",
     "output_type": "stream",
     "text": [
      "Loading /home/maspe/filer/SERT/SERT1659/npys/BLA_epochs.npy...\n",
      "Matrix shape = (9, 180000, 16)\n"
     ]
    }
   ],
   "source": [
    "npys_dir  = '/home/maspe/filer/SERT/' + ID + '/npys/'\n",
    "\n",
    "file_name = npys_dir + structure + '.npy'\n",
    "print('Loading {}...'.format(file_name))\n",
    "matrix = np.load(file_name, allow_pickle=True)\n",
    "print('Matrix shape = {}'.format(matrix.shape))"
   ]
  },
  {
   "cell_type": "code",
   "execution_count": null,
   "metadata": {},
   "outputs": [],
   "source": [
    "channel = 8\n",
    "epoch = 2\n",
    "print('Selected channel {}; epoch {} in {} from {}'. format(channel, epoch, structure[:-7], ID))"
   ]
  },
  {
   "cell_type": "code",
   "execution_count": null,
   "metadata": {},
   "outputs": [],
   "source": [
    "plt.plot(matrix[channel, :, epoch-1])\n",
    "plt.title('Bad: channel {}; epoch {} in {} from {}'.format(channel, epoch, structure[:-7], ID));"
   ]
  },
  {
   "cell_type": "code",
   "execution_count": null,
   "metadata": {},
   "outputs": [],
   "source": [
    "print('Deleting epoch {}...'.format(epoch))\n",
    "matrix[channel, :, epoch-1] = matrix[channel, :, epoch-2]\n",
    "print('New matrix shape = {}'.format(matrix.shape))\n",
    "\n",
    "plt.plot(matrix[channel, :, epoch-1])\n",
    "plt.title('Fixed: channel {}; epoch {} in {} from {}'.format(channel, epoch, structure[:-7], ID));"
   ]
  },
  {
   "cell_type": "code",
   "execution_count": null,
   "metadata": {},
   "outputs": [],
   "source": [
    "print('Saving {}...'.format(file_name))\n",
    "np.save(file_name, matrix)"
   ]
  }
 ],
 "metadata": {
  "kernelspec": {
   "display_name": "Python 3",
   "language": "python",
   "name": "python3"
  },
  "language_info": {
   "codemirror_mode": {
    "name": "ipython",
    "version": 2
   },
   "file_extension": ".py",
   "mimetype": "text/x-python",
   "name": "python",
   "nbconvert_exporter": "python",
   "pygments_lexer": "ipython2",
   "version": "2.7.15+"
  }
 },
 "nbformat": 4,
 "nbformat_minor": 2
}
