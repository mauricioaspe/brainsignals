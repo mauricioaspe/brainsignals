{
 "cells": [
  {
   "cell_type": "markdown",
   "metadata": {},
   "source": [
    "## Preprocessing script"
   ]
  },
  {
   "cell_type": "markdown",
   "metadata": {},
   "source": [
    "#### Import required modules"
   ]
  },
  {
   "cell_type": "code",
   "execution_count": 1,
   "metadata": {},
   "outputs": [],
   "source": [
    "import glob\n",
    "import numpy as np\n",
    "import pandas as pd\n",
    "import physig as ps"
   ]
  },
  {
   "cell_type": "code",
   "execution_count": 2,
   "metadata": {},
   "outputs": [],
   "source": [
    "mydir = '/home/maspe/filer/SERT/SERT1985/'\n",
    "ID = 'SERT1985'\n",
    "files = sorted(glob.glob(mydir + '/*.continuous'))"
   ]
  },
  {
   "cell_type": "code",
   "execution_count": null,
   "metadata": {},
   "outputs": [],
   "source": [
    "# df = pd.read_excel(mydir + 'canales.xlsx', sheet_name=0, header=None, names=[\"locs\"])\n",
    "# channels_locations = np.array(df['locs'].tolist())\n",
    "\n",
    "# # vHIP_indexes  = [i for i,x in enumerate(channels_locations) if x == 'OFC_left']\n",
    "# mPFC_indexes = [i for i,x in enumerate(channels_locations) if x == 'mPFC_left']\n",
    "# # DMS_indexes  = [i for i,x in enumerate(channels_locations) if x == 'DMS_left']\n",
    "# # BLA_indexes  = [i for i,x in enumerate(channels_locations) if x == 'BLA_left']"
   ]
  },
  {
   "cell_type": "code",
   "execution_count": 3,
   "metadata": {},
   "outputs": [],
   "source": [
    "mPFC_indexes = [0, 1, 2, 3, 4, 5, 6, 7, 8, 9]\n",
    "NAC_indexes  = [10, 11, 12, 13, 14, 15]\n",
    "BLA_indexes  = [16, 17, 18, 19, 20, 21, 22, 23, 24]\n",
    "vHip_indexes = [25, 26, 27, 28, 29, 30, 31]"
   ]
  },
  {
   "cell_type": "code",
   "execution_count": 4,
   "metadata": {},
   "outputs": [
    {
     "data": {
      "text/plain": [
       "10"
      ]
     },
     "execution_count": 4,
     "metadata": {},
     "output_type": "execute_result"
    }
   ],
   "source": [
    "len(mPFC_indexes)"
   ]
  },
  {
   "cell_type": "code",
   "execution_count": 5,
   "metadata": {},
   "outputs": [
    {
     "name": "stdout",
     "output_type": "stream",
     "text": [
      "Loading continuous data from /home/maspe/filer/SERT/SERT1985/100_CH01.continuous\n",
      "Loading continuous data from /home/maspe/filer/SERT/SERT1985/100_CH02.continuous\n",
      "Loading continuous data from /home/maspe/filer/SERT/SERT1985/100_CH03.continuous\n",
      "Loading continuous data from /home/maspe/filer/SERT/SERT1985/100_CH04.continuous\n",
      "Loading continuous data from /home/maspe/filer/SERT/SERT1985/100_CH05.continuous\n",
      "Loading continuous data from /home/maspe/filer/SERT/SERT1985/100_CH06.continuous\n",
      "Loading continuous data from /home/maspe/filer/SERT/SERT1985/100_CH07.continuous\n",
      "Loading continuous data from /home/maspe/filer/SERT/SERT1985/100_CH08.continuous\n",
      "Loading continuous data from /home/maspe/filer/SERT/SERT1985/100_CH09.continuous\n",
      "Loading continuous data from /home/maspe/filer/SERT/SERT1985/100_CH10.continuous\n",
      "Loading continuous data from /home/maspe/filer/SERT/SERT1985/100_CH11.continuous\n",
      "Loading continuous data from /home/maspe/filer/SERT/SERT1985/100_CH12.continuous\n",
      "Loading continuous data from /home/maspe/filer/SERT/SERT1985/100_CH13.continuous\n",
      "Loading continuous data from /home/maspe/filer/SERT/SERT1985/100_CH14.continuous\n",
      "Loading continuous data from /home/maspe/filer/SERT/SERT1985/100_CH15.continuous\n",
      "Loading continuous data from /home/maspe/filer/SERT/SERT1985/100_CH16.continuous\n",
      "Loading continuous data from /home/maspe/filer/SERT/SERT1985/100_CH17.continuous\n",
      "Loading continuous data from /home/maspe/filer/SERT/SERT1985/100_CH18.continuous\n",
      "Loading continuous data from /home/maspe/filer/SERT/SERT1985/100_CH19.continuous\n",
      "Loading continuous data from /home/maspe/filer/SERT/SERT1985/100_CH20.continuous\n",
      "Loading continuous data from /home/maspe/filer/SERT/SERT1985/100_CH21.continuous\n",
      "Loading continuous data from /home/maspe/filer/SERT/SERT1985/100_CH22.continuous\n",
      "Loading continuous data from /home/maspe/filer/SERT/SERT1985/100_CH23.continuous\n",
      "Loading continuous data from /home/maspe/filer/SERT/SERT1985/100_CH24.continuous\n",
      "Loading continuous data from /home/maspe/filer/SERT/SERT1985/100_CH25.continuous\n",
      "Loading continuous data from /home/maspe/filer/SERT/SERT1985/100_CH26.continuous\n",
      "Loading continuous data from /home/maspe/filer/SERT/SERT1985/100_CH27.continuous\n",
      "Loading continuous data from /home/maspe/filer/SERT/SERT1985/100_CH28.continuous\n",
      "Loading continuous data from /home/maspe/filer/SERT/SERT1985/100_CH29.continuous\n",
      "Loading continuous data from /home/maspe/filer/SERT/SERT1985/100_CH30.continuous\n",
      "Loading continuous data from /home/maspe/filer/SERT/SERT1985/100_CH31.continuous\n",
      "Loading continuous data from /home/maspe/filer/SERT/SERT1985/100_CH32.continuous\n"
     ]
    },
    {
     "ename": "NameError",
     "evalue": "name 'channels_locations' is not defined",
     "output_type": "error",
     "traceback": [
      "\u001b[0;31m---------------------------------------------------------------------------\u001b[0m",
      "\u001b[0;31mNameError\u001b[0m                                 Traceback (most recent call last)",
      "\u001b[0;32m<ipython-input-5-398c01b69f29>\u001b[0m in \u001b[0;36m<module>\u001b[0;34m()\u001b[0m\n\u001b[1;32m     13\u001b[0m \u001b[0;34m\u001b[0m\u001b[0m\n\u001b[1;32m     14\u001b[0m \u001b[0;34m\u001b[0m\u001b[0m\n\u001b[0;32m---> 15\u001b[0;31m \u001b[0mmPFC\u001b[0m \u001b[0;34m=\u001b[0m \u001b[0;34m{\u001b[0m\u001b[0;34m'id'\u001b[0m\u001b[0;34m:\u001b[0m \u001b[0mID\u001b[0m\u001b[0;34m,\u001b[0m \u001b[0;34m\"chanLocs\"\u001b[0m\u001b[0;34m:\u001b[0m \u001b[0mchannels_locations\u001b[0m\u001b[0;34m[\u001b[0m\u001b[0mmPFC_indexes\u001b[0m\u001b[0;34m]\u001b[0m\u001b[0;34m,\u001b[0m \u001b[0;34m\"data\"\u001b[0m\u001b[0;34m:\u001b[0m \u001b[0mdata_matrix\u001b[0m\u001b[0;34m[\u001b[0m\u001b[0mmPFC_indexes\u001b[0m\u001b[0;34m,\u001b[0m \u001b[0;34m:\u001b[0m\u001b[0;34m]\u001b[0m\u001b[0;34m}\u001b[0m\u001b[0;34m\u001b[0m\u001b[0;34m\u001b[0m\u001b[0m\n\u001b[0m\u001b[1;32m     16\u001b[0m \u001b[0mNAC\u001b[0m  \u001b[0;34m=\u001b[0m \u001b[0;34m{\u001b[0m\u001b[0;34m'id'\u001b[0m\u001b[0;34m:\u001b[0m \u001b[0mID\u001b[0m\u001b[0;34m,\u001b[0m \u001b[0;34m\"chanLocs\"\u001b[0m\u001b[0;34m:\u001b[0m \u001b[0mchannels_locations\u001b[0m\u001b[0;34m[\u001b[0m\u001b[0mNAC_indexes\u001b[0m\u001b[0;34m]\u001b[0m\u001b[0;34m,\u001b[0m \u001b[0;34m\"data\"\u001b[0m\u001b[0;34m:\u001b[0m \u001b[0mdata_matrix\u001b[0m\u001b[0;34m[\u001b[0m\u001b[0mNAC_indexes\u001b[0m\u001b[0;34m,\u001b[0m \u001b[0;34m:\u001b[0m\u001b[0;34m]\u001b[0m\u001b[0;34m}\u001b[0m\u001b[0;34m\u001b[0m\u001b[0;34m\u001b[0m\u001b[0m\n\u001b[1;32m     17\u001b[0m \u001b[0mBLA\u001b[0m  \u001b[0;34m=\u001b[0m \u001b[0;34m{\u001b[0m\u001b[0;34m'id'\u001b[0m\u001b[0;34m:\u001b[0m \u001b[0mID\u001b[0m\u001b[0;34m,\u001b[0m \u001b[0;34m\"chanLocs\"\u001b[0m\u001b[0;34m:\u001b[0m \u001b[0mchannels_locations\u001b[0m\u001b[0;34m[\u001b[0m\u001b[0mBLA_indexes\u001b[0m\u001b[0;34m]\u001b[0m\u001b[0;34m,\u001b[0m \u001b[0;34m\"data\"\u001b[0m\u001b[0;34m:\u001b[0m \u001b[0mdata_matrix\u001b[0m\u001b[0;34m[\u001b[0m\u001b[0mBLA_indexes\u001b[0m\u001b[0;34m,\u001b[0m \u001b[0;34m:\u001b[0m\u001b[0;34m]\u001b[0m\u001b[0;34m}\u001b[0m\u001b[0;34m\u001b[0m\u001b[0;34m\u001b[0m\u001b[0m\n",
      "\u001b[0;31mNameError\u001b[0m: name 'channels_locations' is not defined"
     ]
    }
   ],
   "source": [
    "iteration = 0\n",
    "for file in files:\n",
    "    channel = ps.loadContinuous(file)\n",
    "\n",
    "    data = channel[\"data\"] - np.mean(channel[\"data\"])  \n",
    "    \n",
    "    if iteration == 0:\n",
    "#         data_matrix = np.empty((len(channels_locations), len(data)))       \n",
    "        data_matrix = np.empty((32, len(data)))       \n",
    "    \n",
    "    data_matrix[iteration, :] = data    \n",
    "    iteration += 1\n",
    "\n",
    "\n",
    "mPFC = {'id': ID, \"chanLocs\": 'mPFC', \"data\": data_matrix[mPFC_indexes, :]}\n",
    "NAC  = {'id': ID, \"chanLocs\": 'NAC', \"data\": data_matrix[NAC_indexes, :]}\n",
    "BLA  = {'id': ID, \"chanLocs\": 'BLA', \"data\": data_matrix[BLA_indexes, :]}\n",
    "vHIP = {'id': ID, \"chanLocs\": 'vHip', \"data\": data_matrix[vHip_indexes, :]}\n",
    "\n",
    "\n",
    "del [iteration, channel, data, data_matrix]   "
   ]
  },
  {
   "cell_type": "code",
   "execution_count": null,
   "metadata": {},
   "outputs": [],
   "source": [
    "np.save(mydir + 'OFC', OFC)\n",
    "np.save(mydir + 'mPFC', mPFC)\n",
    "np.save(mydir + 'DMS', DMS)\n",
    "np.save(mydir + 'BLA', BLA)"
   ]
  }
 ],
 "metadata": {
  "kernelspec": {
   "display_name": "Python 3",
   "language": "python",
   "name": "python3"
  },
  "language_info": {
   "codemirror_mode": {
    "name": "ipython",
    "version": 2
   },
   "file_extension": ".py",
   "mimetype": "text/x-python",
   "name": "python",
   "nbconvert_exporter": "python",
   "pygments_lexer": "ipython2",
   "version": "2.7.15+"
  }
 },
 "nbformat": 4,
 "nbformat_minor": 2
}
