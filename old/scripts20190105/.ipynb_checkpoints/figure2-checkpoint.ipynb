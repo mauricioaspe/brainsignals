{
 "cells": [
  {
   "cell_type": "code",
   "execution_count": 5,
   "metadata": {},
   "outputs": [],
   "source": [
    "import h5py\n",
    "import numpy as np\n",
    "import pandas as pd\n",
    "import wavelets as wl\n",
    "from scipy import signal\n",
    "from matplotlib import pyplot as plt"
   ]
  },
  {
   "cell_type": "markdown",
   "metadata": {},
   "source": [
    "### Figure 2"
   ]
  },
  {
   "cell_type": "code",
   "execution_count": 13,
   "metadata": {},
   "outputs": [],
   "source": [
    "mydir = '/home/maspe/filer/testFiles/spiking_data/SERT1985/'"
   ]
  },
  {
   "cell_type": "code",
   "execution_count": 14,
   "metadata": {},
   "outputs": [],
   "source": [
    "chans = ['ch01', 'ch02', 'ch03', 'ch04', 'ch05', 'ch06', 'ch07', 'ch08', 'ch09', 'ch10',\n",
    "         'ch11', 'ch12', 'ch13', 'ch14', 'ch15', 'ch16', 'ch17', 'ch18', 'ch19', 'ch20',\n",
    "         'ch21', 'ch22', 'ch23', 'ch24', 'ch25', 'ch26', 'ch27', 'ch28', 'ch29', 'ch30',\n",
    "         'ch31', 'ch32']\n",
    "\n",
    "nchannels = len(chans)"
   ]
  },
  {
   "cell_type": "code",
   "execution_count": 15,
   "metadata": {},
   "outputs": [],
   "source": [
    "fit = []\n",
    "for chan in chans:\n",
    "    path = mydir + chan + '/' + chan + '.result.hdf5'\n",
    "    \n",
    "    fit.append(h5py.File(path, 'r'))"
   ]
  },
  {
   "cell_type": "code",
   "execution_count": 16,
   "metadata": {},
   "outputs": [
    {
     "data": {
      "text/plain": [
       "53"
      ]
     },
     "execution_count": 16,
     "metadata": {},
     "output_type": "execute_result"
    }
   ],
   "source": [
    "all_units = []\n",
    "for a in range(len(fit)):\n",
    "    for key in fit[a]['spiketimes'].keys():\n",
    "        all_units.append(fit[a]['spiketimes'][key][()]) # Final \"[()]\" is to import values from h5py \n",
    "        \n",
    "len(all_units)"
   ]
  },
  {
   "cell_type": "code",
   "execution_count": 17,
   "metadata": {},
   "outputs": [],
   "source": [
    "df = pd.read_excel(\"/home/maspe/filer/testFiles/spiking_data/SERT1985/entradas_sert1985.xlsx\",\n",
    "                   sheet_name=0, header=None, names=[\"locs\"])\n",
    "entrances_times = np.array(df['locs'].tolist(), dtype='int')\n",
    "entrances_times = entrances_times * 30\n",
    "\n",
    "n_epochs = len(entrances_times)\n",
    "epochs = []\n",
    "# epochs_post = []\n",
    "# post = []\n",
    "secs = 1.5\n",
    "sampleRate = 30000\n",
    "window = int(sampleRate * secs)\n",
    "\n",
    "# for epoch in range(len(entrances_times)):\n",
    "#     pre.append(np.arange(entrances_times[epoch] - window, entrances_times[epoch], 1))\n",
    "#     post.append(np.arange(entrances_times[epoch], entrances_times[epoch] + window, 1))\n",
    "\n",
    "# for epoch in range(n_epochs):\n",
    "#     epochs.append([entrances_times[epoch] - window, entrances_times[epoch] + window])\n",
    "#     epochs_post.append([entrances_times[epoch], entrances_times[epoch] + window])\n",
    "#     post.append([entrances_times[epoch] + 1, entrances_times[epoch] + window])    \n",
    "\n",
    "epoch_matrix = []\n",
    "for epoch in range(20):\n",
    "    epoch_matrix.append(np.arange(entrances_times[epoch] - window, entrances_times[epoch] + window, 1))\n",
    "    #post.append(np.arange(entrances_times[epoch], entrances_times[epoch] + window, 1))\n",
    "    \n",
    "# epoch_matrix=np.concatenate((np.array(pre), np.array(post)), axis=1)\n",
    "    \n",
    "# Flatten vector of all points previous or post to center entrance\n",
    "# pre_flatten = np.unique([item for sublist in pre for item in sublist])\n",
    "# post_flatten = np.unique([item for sublist in post for item in sublist])"
   ]
  },
  {
   "cell_type": "code",
   "execution_count": 18,
   "metadata": {},
   "outputs": [],
   "source": [
    "spikes = []\n",
    "for unit in range(len(all_units)):\n",
    "    # np.isin(element, test_elements)\n",
    "    spikes.append(np.isin(epoch_matrix, all_units[unit]))\n",
    "    \n",
    "spikes = np.array(spikes)"
   ]
  },
  {
   "cell_type": "code",
   "execution_count": 19,
   "metadata": {},
   "outputs": [
    {
     "data": {
      "text/plain": [
       "(53, 20, 90000)"
      ]
     },
     "execution_count": 19,
     "metadata": {},
     "output_type": "execute_result"
    }
   ],
   "source": [
    "spikes.shape"
   ]
  },
  {
   "cell_type": "code",
   "execution_count": 20,
   "metadata": {},
   "outputs": [],
   "source": [
    "units_activity = np.sum(spikes,axis=1)"
   ]
  },
  {
   "cell_type": "code",
   "execution_count": 21,
   "metadata": {},
   "outputs": [],
   "source": [
    "mPFC = np.sum(units_activity[0:10,:], axis=0)\n",
    "NAC = np.sum(units_activity[10:16,:], axis=0)\n",
    "BLA = np.sum(units_activity[16:25,:], axis=0)\n",
    "vHip = np.sum(units_activity[25:32,:], axis=0)"
   ]
  },
  {
   "cell_type": "code",
   "execution_count": 34,
   "metadata": {},
   "outputs": [
    {
     "data": {
      "text/plain": [
       "(90000,)"
      ]
     },
     "execution_count": 34,
     "metadata": {},
     "output_type": "execute_result"
    }
   ],
   "source": [
    "vHip.shape"
   ]
  },
  {
   "cell_type": "code",
   "execution_count": 42,
   "metadata": {},
   "outputs": [],
   "source": [
    "plt.subplot(2,2,1)\n",
    "plt.plot(np.arange(mPFC.shape[0]), mPFC, '-')\n",
    "plt.xticks([])\n",
    "plt.axvline(x=45000, color='black')\n",
    "plt.title('mPFC')\n",
    "\n",
    "plt.subplot(2,2,2)\n",
    "plt.plot(np.arange(NAC.shape[0]), NAC, '-')\n",
    "plt.xticks([])\n",
    "plt.axvline(x=45000, color='black')\n",
    "plt.title('NAC')\n",
    "\n",
    "plt.subplot(2,2,3)\n",
    "plt.plot(np.arange(BLA.shape[0]), BLA, '-')\n",
    "plt.xticks([0, 15000, 30000, 45000, 60000, 75000, 90000], ['-1.5', '-1', '-0.5', '0', '0.5', '1', '1.5'])\n",
    "plt.axvline(x=45000, color='black')\n",
    "plt.title('BLA')\n",
    "\n",
    "plt.subplot(2,2,4)\n",
    "plt.plot(np.arange(vHip.shape[0]), vHip, '-')\n",
    "plt.xticks([0, 15000, 30000, 45000, 60000, 75000, 90000], ['-1.5', '-1', '-0.5', '0', '0.5', '1', '1.5'])\n",
    "plt.axvline(x=45000, color='black')\n",
    "plt.title('vHip')\n",
    "\n",
    "plt.savefig(mydir + \"spikes.png\", dpi=150, facecolor='w', edgecolor='w',\n",
    "            orientation='portrait', papertype=None, format='png', transparent=False)\n",
    "    \n",
    "plt.close()"
   ]
  },
  {
   "cell_type": "code",
   "execution_count": 38,
   "metadata": {},
   "outputs": [
    {
     "data": {
      "text/plain": [
       "array([   0, 3000])"
      ]
     },
     "execution_count": 38,
     "metadata": {},
     "output_type": "execute_result"
    }
   ],
   "source": [
    "np.arange(0, 6000, 3000)"
   ]
  },
  {
   "cell_type": "code",
   "execution_count": null,
   "metadata": {},
   "outputs": [],
   "source": []
  },
  {
   "cell_type": "markdown",
   "metadata": {},
   "source": [
    "#####################################"
   ]
  },
  {
   "cell_type": "markdown",
   "metadata": {},
   "source": [
    "#### Backup code"
   ]
  },
  {
   "cell_type": "code",
   "execution_count": null,
   "metadata": {},
   "outputs": [],
   "source": [
    "spikes = []\n",
    "for unit in range(len(spikes_epochs_pre)):\n",
    "    # np.isin(element, test_elements)\n",
    "    spikes.append(np.isin(epoch_matrix, [spikes_epochs_pre[unit] + spikes_epochs_post[unit]]))"
   ]
  },
  {
   "cell_type": "code",
   "execution_count": 8,
   "metadata": {},
   "outputs": [],
   "source": [
    "spikes_epochs_pre = []\n",
    "spikes_epochs_post = []\n",
    "for unit in range(len(all_units)):\n",
    "    spiketimes_pre = []\n",
    "    spiketimes_post = []\n",
    "    for epoch in range(n_epochs):\n",
    "        spiketimes_pre.extend(all_units[unit][(all_units[unit] > epochs_pre[epoch][0]) & (all_units[unit] < epochs_post[epoch][1])])\n",
    "        spiketimes_post.extend(all_units[unit][(all_units[unit] > epochs_post[epoch][0]) & (all_units[unit] < epochs_post[epoch][1])])\n",
    "    spikes_epochs_pre.append(spiketimes_pre)\n",
    "    spikes_epochs_post.append(spiketimes_post)"
   ]
  },
  {
   "cell_type": "code",
   "execution_count": 26,
   "metadata": {},
   "outputs": [
    {
     "data": {
      "text/plain": [
       "12613"
      ]
     },
     "execution_count": 26,
     "metadata": {},
     "output_type": "execute_result"
    }
   ],
   "source": [
    "len(spikes_epochs_pre[52])"
   ]
  },
  {
   "cell_type": "code",
   "execution_count": 63,
   "metadata": {},
   "outputs": [],
   "source": [
    "spikes = []\n",
    "for unit in range(len(spikes_epochs_pre)):\n",
    "    # np.isin(element, test_elements)\n",
    "    spikes.append(np.isin(epoch_matrix, [spikes_epochs_pre[unit] + spikes_epochs_post[unit]]))"
   ]
  },
  {
   "cell_type": "code",
   "execution_count": 64,
   "metadata": {},
   "outputs": [
    {
     "data": {
      "text/plain": [
       "(90000,)"
      ]
     },
     "execution_count": 64,
     "metadata": {},
     "output_type": "execute_result"
    }
   ],
   "source": [
    "np.sum(spikes[50], axis=0).shape"
   ]
  }
 ],
 "metadata": {
  "kernelspec": {
   "display_name": "Python 3",
   "language": "python",
   "name": "python3"
  },
  "language_info": {
   "codemirror_mode": {
    "name": "ipython",
    "version": 2
   },
   "file_extension": ".py",
   "mimetype": "text/x-python",
   "name": "python",
   "nbconvert_exporter": "python",
   "pygments_lexer": "ipython2",
   "version": "2.7.15+"
  }
 },
 "nbformat": 4,
 "nbformat_minor": 2
}
