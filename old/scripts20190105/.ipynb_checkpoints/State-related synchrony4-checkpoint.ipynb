{
 "cells": [
  {
   "cell_type": "code",
   "execution_count": 34,
   "metadata": {},
   "outputs": [],
   "source": [
    "import numpy as np\n",
    "from scipy import signal\n",
    "import matplotlib.pyplot as plt\n",
    "import connectivity_measures as cm"
   ]
  },
  {
   "cell_type": "code",
   "execution_count": 3,
   "metadata": {},
   "outputs": [
    {
     "name": "stdout",
     "output_type": "stream",
     "text": [
      "Processing WT\n",
      "Loading /home/maspe/filer/SERT/SERT1597/npys/\n",
      "Loading /home/maspe/filer/SERT/SERT1659/npys/\n",
      "Loading /home/maspe/filer/SERT/SERT1678/npys/\n",
      "Loading /home/maspe/filer/SERT/SERT1908/npys/\n",
      "Loading /home/maspe/filer/SERT/SERT1984/npys/\n",
      "Loading /home/maspe/filer/SERT/SERT1985/npys/\n",
      "Processing KO\n",
      "Loading /home/maspe/filer/SERT/SERT1668/npys/\n",
      "Loading /home/maspe/filer/SERT/SERT1665/npys/\n",
      "Loading /home/maspe/filer/SERT/SERT2018/npys/\n",
      "Loading /home/maspe/filer/SERT/SERT2024/npys/\n"
     ]
    }
   ],
   "source": [
    "IDs_WT = ['SERT1597', 'SERT1659', 'SERT1678', 'SERT1908', 'SERT1984', 'SERT1985'] #, 'SERT2014']\n",
    "IDs_KO = ['SERT1668', 'SERT1665', 'SERT2018', 'SERT2024'] # , 'SERT2013']\n",
    "\n",
    "allFigs_dir = '/home/maspe/filer/SERT/ALL/figs/'\n",
    "\n",
    "all_data_WT = np.zeros((32, 6000))\n",
    "all_data_KO = np.zeros((32, 6000))\n",
    "\n",
    "all_info_WT = {}\n",
    "all_mice_WT = {}\n",
    "#all_indexes_WT = {}\n",
    "print('Processing WT')\n",
    "iteration = 0\n",
    "for ID in IDs_WT:\n",
    "    npys_dir = '/home/maspe/filer/SERT/' + ID + '/npys/'\n",
    "    print('Loading ' + npys_dir)\n",
    "    \n",
    "    mPFC = np.mean(np.load(npys_dir + 'mPFC_epochs.npy', allow_pickle=True), axis=(0, 2))\n",
    "    NAC  = np.mean(np.load(npys_dir + 'NAC_epochs.npy', allow_pickle=True), axis=(0, 2))\n",
    "    BLA  = np.mean(np.load(npys_dir + 'BLA_epochs.npy', allow_pickle=True), axis=(0, 2))\n",
    "    vHip = np.mean(np.load(npys_dir + 'vHip_epochs.npy', allow_pickle=True), axis=(0, 2))\n",
    "    \n",
    "    #info = np.load(npys_dir + 'info.npy', allow_pickle=True).item()\n",
    "    #all_info_WT[ID] = info\n",
    "    #channels_id.append(all_info_KO[mouse]['channels_locs'][iteration])\n",
    "     \n",
    "    #mPFC_indexes  = [i for i,x in enumerate(info['channels_locs']) if x == 'mPFC_left']\n",
    "    #NAC_indexes = [i for i,x in enumerate(info['channels_locs']) if x == 'NAC_left']\n",
    "    #BLA_indexes  = [i for i,x in enumerate(info['channels_locs']) if x == 'BLA_left']\n",
    "    #vHip_indexes  = [i for i,x in enumerate(info['channels_locs']) if x == 'vHipp_left']\n",
    "\n",
    "    #all_indexes_WT[ID] = {'mPFC': mPFC_indexes, 'NAC': NAC_indexes, 'BLA': BLA_indexes, 'vHip': vHip_indexes}\n",
    "    \n",
    "    this_mouse = np.vstack((mPFC, NAC, BLA, vHip))\n",
    "    \n",
    "    if iteration == 0:\n",
    "        all_data_WT = this_mouse\n",
    "        \n",
    "    else:\n",
    "        all_data_WT = np.dstack((all_data_WT, this_mouse))\n",
    "        \n",
    "    iteration += 1\n",
    "    \n",
    "#all_info_KO = {}\n",
    "print('Processing KO')\n",
    "iteration = 0\n",
    "for ID in IDs_KO:\n",
    "    npys_dir = '/home/maspe/filer/SERT/' + ID + '/npys/'\n",
    "    print('Loading ' + npys_dir)\n",
    "    \n",
    "    mPFC = np.mean(np.load(npys_dir + 'mPFC_epochs.npy', allow_pickle=True), axis=(0, 2))\n",
    "    NAC  = np.mean(np.load(npys_dir + 'NAC_epochs.npy', allow_pickle=True), axis=(0, 2))\n",
    "    BLA  = np.mean(np.load(npys_dir + 'BLA_epochs.npy', allow_pickle=True), axis=(0, 2))\n",
    "    vHip = np.mean(np.load(npys_dir + 'vHip_epochs.npy', allow_pickle=True), axis=(0, 2))\n",
    "    \n",
    "    this_mouse = np.vstack((mPFC, NAC, BLA, vHip))\n",
    "    \n",
    "    #info = np.load(npys_dir + 'info.npy', allow_pickle=True).item()\n",
    "    #all_info_KO[ID] = info\n",
    "    \n",
    "    if iteration == 0:\n",
    "        all_data_KO = this_mouse\n",
    "        \n",
    "    else:\n",
    "        all_data_KO = np.dstack((all_data_KO, this_mouse))\n",
    "        \n",
    "    iteration += 1\n"
   ]
  },
  {
   "cell_type": "code",
   "execution_count": null,
   "metadata": {},
   "outputs": [],
   "source": [
    "BLA.shape"
   ]
  },
  {
   "cell_type": "code",
   "execution_count": 4,
   "metadata": {},
   "outputs": [],
   "source": [
    "### Filter\n",
    "def butter_bandpass(lowcut, highcut, fs, order=5):\n",
    "    nyq = 0.5 * fs\n",
    "    low = lowcut / nyq\n",
    "    high = highcut / nyq\n",
    "    b, a = signal.butter(order, [low, high], btype='band')\n",
    "    return b, a\n",
    "\n",
    "fs      = 1000.0\n",
    "\n",
    "# Theta band\n",
    "N       = 4\n",
    "lowcut  = 5.0\n",
    "highcut = 12.0\n",
    "\n",
    "b, a = butter_bandpass(lowcut, highcut, fs, order=N)\n",
    "\n",
    "for mouse in range(all_data_WT.shape[2]):\n",
    "    if mouse == 0:\n",
    "        theta_WT = signal.filtfilt(b=b, a=a, x=all_data_WT[:, :, mouse])\n",
    "        \n",
    "    else:\n",
    "        theta_WT = np.dstack((theta_WT, signal.filtfilt(b=b, a=a, x=all_data_WT[:, :, mouse])))\n",
    "        \n",
    "\n",
    "for mouse in range(all_data_KO.shape[2]):\n",
    "    if mouse == 0:\n",
    "        theta_KO = signal.filtfilt(b=b, a=a, x=all_data_KO[:, :, mouse])\n",
    "        \n",
    "    else:\n",
    "        theta_KO = np.dstack((theta_KO, signal.filtfilt(b=b, a=a, x=all_data_KO[:, :, mouse])))\n",
    "        \n",
    "        \n",
    "# Low gamma band\n",
    "N       = 6\n",
    "lowcut  = 25.0\n",
    "highcut = 60.0\n",
    "\n",
    "b, a = butter_bandpass(lowcut, highcut, fs, order=N)\n",
    "\n",
    "for mouse in range(all_data_WT.shape[2]):\n",
    "    if mouse == 0:\n",
    "        lgamma_WT = signal.filtfilt(b=b, a=a, x=all_data_WT[:, :, mouse])\n",
    "        \n",
    "    else:\n",
    "        lgamma_WT = np.dstack((lgamma_WT, signal.filtfilt(b=b, a=a, x=all_data_WT[:, :, mouse])))\n",
    "        \n",
    "        \n",
    "for mouse in range(all_data_KO.shape[2]):\n",
    "    if mouse == 0:\n",
    "        lgamma_KO = signal.filtfilt(b=b, a=a, x=all_data_KO[:, :, mouse])\n",
    "        \n",
    "    else:\n",
    "        lgamma_KO = np.dstack((lgamma_KO, signal.filtfilt(b=b, a=a, x=all_data_KO[:, :, mouse])))\n",
    "        "
   ]
  },
  {
   "cell_type": "markdown",
   "metadata": {},
   "source": [
    "#### Theta band"
   ]
  },
  {
   "cell_type": "code",
   "execution_count": 30,
   "metadata": {},
   "outputs": [],
   "source": [
    "# window = 1500\n",
    "\n",
    "# pre_icoh  = np.zeros((32,32))\n",
    "# post_icoh = np.zeros((32,32))\n",
    "\n",
    "data = theta_WT\n",
    "for mouse in range(data.shape[2]):\n",
    "    \n",
    "    if mouse == 0:\n",
    "        pre_icoh  = cm.icoh(data[:, 2000:3000, mouse], average = False)\n",
    "        post_icoh  = cm.icoh(data[:, 3000:5000, mouse], average = False)\n",
    "        \n",
    "    else:\n",
    "        pre_icoh  = np.dstack((pre_icoh, cm.icoh(data[:, 2000:3000, mouse], average = False)))\n",
    "        post_icoh = np.dstack((post_icoh, cm.icoh(data[:, 3000:5000, mouse], average = False)))\n",
    "\n",
    "    iteration += 1\n",
    "\n",
    "pre_icoh_WT  = np.mean(pre_icoh, axis=2)\n",
    "post_icoh_WT = np.mean(post_icoh, axis=2)\n",
    "\n",
    "matrix_WT = post_icoh_WT\n",
    "matrix_WT[1,0] = pre_icoh_WT[1,0]\n",
    "matrix_WT[2,0] = pre_icoh_WT[2,0]\n",
    "matrix_WT[3,0] = pre_icoh_WT[3,0]\n",
    "matrix_WT[2,1] = pre_icoh_WT[2,1]\n",
    "matrix_WT[3,1] = pre_icoh_WT[3,1]\n",
    "matrix_WT[3,2] = pre_icoh_WT[3,2]\n",
    "\n",
    "\n",
    "data = theta_KO\n",
    "for mouse in range(data.shape[2]):\n",
    "    \n",
    "    if mouse == 0:\n",
    "        pre_icoh  = cm.icoh(data[:, 2000:3000, mouse], average = False)\n",
    "        post_icoh  = cm.icoh(data[:, 3000:5000, mouse], average = False)\n",
    "        \n",
    "    else:\n",
    "        pre_icoh  = np.dstack((pre_icoh, cm.icoh(data[:, 2000:3000, mouse], average = False)))\n",
    "        post_icoh = np.dstack((post_icoh, cm.icoh(data[:, 3000:5000, mouse], average = False)))\n",
    "\n",
    "    iteration += 1\n",
    "\n",
    "pre_icoh_KO  = np.mean(pre_icoh, axis=2)\n",
    "post_icoh_KO = np.mean(post_icoh, axis=2)\n",
    "\n",
    "matrix_KO = post_icoh_KO\n",
    "matrix_KO[1,0] = pre_icoh_KO[1,0]\n",
    "matrix_KO[2,0] = pre_icoh_KO[2,0]\n",
    "matrix_KO[3,0] = pre_icoh_KO[3,0]\n",
    "matrix_KO[2,1] = pre_icoh_KO[2,1]\n",
    "matrix_KO[3,1] = pre_icoh_KO[3,1]\n",
    "matrix_KO[3,2] = pre_icoh_KO[3,2]"
   ]
  },
  {
   "cell_type": "markdown",
   "metadata": {},
   "source": [
    "#### Low-gamma band"
   ]
  },
  {
   "cell_type": "code",
   "execution_count": 32,
   "metadata": {},
   "outputs": [],
   "source": [
    "# window = 1500\n",
    "\n",
    "# pre_icoh  = np.zeros((32,32))\n",
    "# post_icoh = np.zeros((32,32))\n",
    "\n",
    "data = lgamma_WT\n",
    "for mouse in range(data.shape[2]):\n",
    "    \n",
    "    if mouse == 0:\n",
    "        pre_icoh  = cm.icoh(data[:, 2000:3000, mouse], average = False)\n",
    "        post_icoh  = cm.icoh(data[:, 3000:5000, mouse], average = False)\n",
    "        \n",
    "    else:\n",
    "        pre_icoh  = np.dstack((pre_icoh, cm.icoh(data[:, 2000:3000, mouse], average = False)))\n",
    "        post_icoh = np.dstack((post_icoh, cm.icoh(data[:, 3000:5000, mouse], average = False)))\n",
    "\n",
    "    iteration += 1\n",
    "\n",
    "pre_icoh_WT  = np.mean(pre_icoh, axis=2)\n",
    "post_icoh_WT = np.mean(post_icoh, axis=2)\n",
    "\n",
    "matrix_WT = post_icoh_WT\n",
    "matrix_WT[1,0] = pre_icoh_WT[1,0]\n",
    "matrix_WT[2,0] = pre_icoh_WT[2,0]\n",
    "matrix_WT[3,0] = pre_icoh_WT[3,0]\n",
    "matrix_WT[2,1] = pre_icoh_WT[2,1]\n",
    "matrix_WT[3,1] = pre_icoh_WT[3,1]\n",
    "matrix_WT[3,2] = pre_icoh_WT[3,2]\n",
    "\n",
    "\n",
    "data = lgamma_KO\n",
    "for mouse in range(data.shape[2]):\n",
    "    \n",
    "    if mouse == 0:\n",
    "        pre_icoh  = cm.icoh(data[:, 2000:3000, mouse], average = False)\n",
    "        post_icoh  = cm.icoh(data[:, 3000:5000, mouse], average = False)\n",
    "        \n",
    "    else:\n",
    "        pre_icoh  = np.dstack((pre_icoh, cm.icoh(data[:, 2000:3000, mouse], average = False)))\n",
    "        post_icoh = np.dstack((post_icoh, cm.icoh(data[:, 3000:5000, mouse], average = False)))\n",
    "\n",
    "    iteration += 1\n",
    "\n",
    "pre_icoh_KO  = np.mean(pre_icoh, axis=2)\n",
    "post_icoh_KO = np.mean(post_icoh, axis=2)\n",
    "\n",
    "matrix_KO = post_icoh_KO\n",
    "matrix_KO[1,0] = pre_icoh_KO[1,0]\n",
    "matrix_KO[2,0] = pre_icoh_KO[2,0]\n",
    "matrix_KO[3,0] = pre_icoh_KO[3,0]\n",
    "matrix_KO[2,1] = pre_icoh_KO[2,1]\n",
    "matrix_KO[3,1] = pre_icoh_KO[3,1]\n",
    "matrix_KO[3,2] = pre_icoh_KO[3,2]"
   ]
  },
  {
   "cell_type": "code",
   "execution_count": 33,
   "metadata": {},
   "outputs": [
    {
     "data": {
      "text/plain": [
       "<Figure size 10800x10800 with 0 Axes>"
      ]
     },
     "metadata": {},
     "output_type": "display_data"
    },
    {
     "data": {
      "image/png": "[encoded data removed]",
      "text/plain": [
       "<Figure size 288x288 with 2 Axes>"
      ]
     },
     "metadata": {
      "needs_background": "light"
     },
     "output_type": "display_data"
    },
    {
     "data": {
      "text/plain": [
       "<Figure size 10800x10800 with 0 Axes>"
      ]
     },
     "metadata": {},
     "output_type": "display_data"
    },
    {
     "data": {
      "image/png": "[encoded data removed]",
      "text/plain": [
       "<Figure size 288x288 with 2 Axes>"
      ]
     },
     "metadata": {
      "needs_background": "light"
     },
     "output_type": "display_data"
    }
   ],
   "source": [
    "plt.figure(figsize=(150,150))\n",
    "\n",
    "plt.matshow(matrix_WT)\n",
    "plt.plot([0,1,2,3], color='white')\n",
    "plt.xticks([0,1,2,3], ['mPFC', 'NAC', 'BLA', 'vHip'], rotation=0, fontsize=14)\n",
    "plt.yticks([0,1,2,3], ['mPFC', 'NAC', 'BLA', 'vHip'], rotation=0, fontsize=14)\n",
    "plt.text(0.1,2.3,'PRE', fontsize=16)\n",
    "plt.text(2,1,'POST', fontsize=16)\n",
    "plt.colorbar()\n",
    "plt.savefig(allFigs_dir + 'lgamma_synchrony_WT.pdf', dpi=150, format='pdf')\n",
    "\n",
    "\n",
    "\n",
    "plt.figure(figsize=(150,150))\n",
    "\n",
    "plt.matshow(matrix_KO)\n",
    "plt.plot([0,1,2,3], color='white')\n",
    "plt.xticks([0,1,2,3], ['mPFC', 'NAC', 'BLA', 'vHip'], rotation=0, fontsize=14)\n",
    "plt.yticks([0,1,2,3], ['mPFC', 'NAC', 'BLA', 'vHip'], rotation=0, fontsize=14)\n",
    "plt.text(0.1,2.3,'PRE', fontsize=16)\n",
    "plt.text(2,1,'POST', fontsize=16)\n",
    "plt.colorbar()\n",
    "plt.savefig(allFigs_dir + 'lgamma_synchrony_KO.pdf', dpi=150, format='pdf')\n"
   ]
  },
  {
   "cell_type": "markdown",
   "metadata": {},
   "source": [
    "### Phase lag index"
   ]
  },
  {
   "cell_type": "code",
   "execution_count": null,
   "metadata": {},
   "outputs": [],
   "source": [
    "data = theta_WT\n",
    "z = signal.hilbert(data)\n",
    "phases = np.angle(z)\n",
    "#z_NAC = signal.hilbert(NAC)\n",
    "#z_BLA = signal.hilbert(BLA)\n",
    "#z_vHip = signal.hilbert(vHip)"
   ]
  },
  {
   "cell_type": "code",
   "execution_count": null,
   "metadata": {},
   "outputs": [],
   "source": [
    "phases.shape"
   ]
  },
  {
   "cell_type": "code",
   "execution_count": null,
   "metadata": {},
   "outputs": [],
   "source": [
    "window = 1500\n",
    "\n",
    "# pre_icoh  = np.zeros((32,32))\n",
    "# post_icoh = np.zeros((32,32))\n",
    "\n",
    "data = phases\n",
    "for mouse in range(data.shape[2]):\n",
    "    \n",
    "    if mouse == 0:\n",
    "        pre_wpli  = cm.PLI2(data[:, 2000:3000, mouse], average = False)\n",
    "        post_wpli  = cm.PLI2(data[:, 3000:5000+window, mouse], average = False)\n",
    "        \n",
    "    else:\n",
    "        pre_wpli  = np.dstack((pre_wpli, cm.PLI2(data[:, 2000:3000, mouse], average = False)))\n",
    "        post_wpli = np.dstack((post_wpli, cm.PLI2(data[:, 3000:5000, mouse], average = False)))\n",
    "        "
   ]
  },
  {
   "cell_type": "code",
   "execution_count": null,
   "metadata": {},
   "outputs": [],
   "source": [
    "pre_wpli.shape"
   ]
  },
  {
   "cell_type": "code",
   "execution_count": null,
   "metadata": {},
   "outputs": [],
   "source": [
    "pre_wpli_all  = np.mean(pre_wpli, axis=2)\n",
    "post_wpli_all = np.mean(post_wpli, axis=2)"
   ]
  },
  {
   "cell_type": "code",
   "execution_count": null,
   "metadata": {},
   "outputs": [],
   "source": [
    "plt.figure(figsize=(150,150))\n",
    "plt.matshow(pre_wpli_all)\n",
    "#plt.xticks(ticks=np.arange(0, 32, 8), labels=['OFC', 'mPFC', 'DMS', 'BLA'], rotation=0)\n",
    "#plt.yticks(ticks=np.arange(0, 32, 8), labels=['OFC', 'mPFC', 'DMS', 'BLA'], rotation=0)\n",
    "plt.colorbar()\n",
    "# plt.savefig(mydir + 'prePLI.png', dpi=150, format='png')\n",
    "\n",
    "plt.figure(figsize=(150,150))\n",
    "plt.matshow(post_wpli_all)\n",
    "#plt.xticks(ticks=np.arange(0, 32, 8), labels=['OFC', 'mPFC', 'DMS', 'BLA'], rotation=0)\n",
    "#plt.yticks(ticks=np.arange(0, 32, 8), labels=['OFC', 'mPFC', 'DMS', 'BLA'], rotation=0)\n",
    "plt.colorbar()\n",
    "# plt.savefig(mydir + 'postPLI.png', dpi=150, format='png')"
   ]
  },
  {
   "cell_type": "code",
   "execution_count": null,
   "metadata": {},
   "outputs": [],
   "source": []
  },
  {
   "cell_type": "code",
   "execution_count": null,
   "metadata": {},
   "outputs": [],
   "source": []
  },
  {
   "cell_type": "markdown",
   "metadata": {},
   "source": [
    "###################################"
   ]
  },
  {
   "cell_type": "markdown",
   "metadata": {},
   "source": [
    "#### Band-pass signal and plot power spectral density"
   ]
  },
  {
   "cell_type": "code",
   "execution_count": null,
   "metadata": {},
   "outputs": [],
   "source": [
    "files = sorted(glob.glob(\"/home/maspe/filer/testMice/CC1973/HC_2018-04-24_16-56-27/*.continuous\"))\n",
    "channel = ps.loadContinuous(files[10])\n",
    "data = channel['data']\n",
    "sampleRate = channel['header']['sampleRate']\n",
    "sampleRate"
   ]
  },
  {
   "cell_type": "code",
   "execution_count": null,
   "metadata": {},
   "outputs": [],
   "source": [
    "def butter_bandpass(lowcut, highcut, fs, order=5):\n",
    "    nyq = 0.5 * fs\n",
    "    low = lowcut / nyq\n",
    "    high = highcut / nyq\n",
    "    b, a = signal.butter(order, [low, high], btype='band')\n",
    "    return b, a\n",
    "\n",
    "N       = 2\n",
    "fs      = sampleRate\n",
    "lowcut  = 4.0\n",
    "highcut = 12.0\n",
    "\n",
    "b, a = butter_bandpass(lowcut, highcut, fs, order=N)\n",
    "\n",
    "theta_band = signal.filtfilt(b=b, a=a, x=data - np.mean(data),\n",
    "                           axis=-1, padtype='odd', padlen=None, method='pad', irlen=None)"
   ]
  },
  {
   "cell_type": "code",
   "execution_count": null,
   "metadata": {},
   "outputs": [],
   "source": [
    "theta_band.shape"
   ]
  },
  {
   "cell_type": "code",
   "execution_count": null,
   "metadata": {},
   "outputs": [],
   "source": [
    "fig = plt.figure()\n",
    "plt.subplot(2,1,1)\n",
    "plt.plot(data[10000:40000])\n",
    "plt.subplot(2,1,2)\n",
    "plt.plot(theta_band[10000:40000])\n",
    "\n",
    "fig.savefig(\"/home/maspe/filer/testFiles/figs/theta.png\", dpi=150, format='png')"
   ]
  },
  {
   "cell_type": "code",
   "execution_count": null,
   "metadata": {},
   "outputs": [],
   "source": [
    "freqs = np.fft.fftfreq(len(data), sampleRate)\n",
    "\n",
    "plt.plot(freqs[0:len(data)//2],2/len(data)*np.abs(theta_band[0:len(data)//2]))\n",
    "plt.xlim([0,10])"
   ]
  },
  {
   "cell_type": "code",
   "execution_count": null,
   "metadata": {},
   "outputs": [],
   "source": [
    "z = signal.hilbert(theta_band) #form the analytical signal\n",
    "z"
   ]
  },
  {
   "cell_type": "code",
   "execution_count": null,
   "metadata": {},
   "outputs": [],
   "source": [
    "inst_phase = np.unwrap(np.angle(z))\n",
    "inst_phase"
   ]
  },
  {
   "cell_type": "code",
   "execution_count": null,
   "metadata": {},
   "outputs": [],
   "source": [
    "plt.polar(z.real[:1000], z.imag[:1000], 'ro')"
   ]
  },
  {
   "cell_type": "code",
   "execution_count": null,
   "metadata": {},
   "outputs": [],
   "source": [
    "f, psd = signal.welch(theta_band, fs=30000, window='hann', nperseg=None, noverlap=None, nfft=None,\n",
    "                      detrend='constant', return_onesided=True, scaling='density', axis=-1, average='mean')"
   ]
  },
  {
   "cell_type": "code",
   "execution_count": null,
   "metadata": {},
   "outputs": [],
   "source": [
    "# Plot the power spectrum\n",
    "plt.figure(figsize=(11,3))\n",
    "plt.semilogy(f,psd,'k')\n",
    "# sns.despine()\n",
    "plt.xlim((0,100))\n",
    "plt.yticks(size=15)\n",
    "plt.xticks(size=15)\n",
    "plt.ylabel('power ($uV^{2}/Hz$)',size=15)\n",
    "plt.xlabel('frequency (Hz)',size=15)\n",
    "plt.title('PSD of Local Field Potential', size=20)\n",
    "plt.show()"
   ]
  },
  {
   "cell_type": "code",
   "execution_count": null,
   "metadata": {},
   "outputs": [],
   "source": [
    "# def butter_bandpass(lowcut, highcut, fs, order):\n",
    "#     nyq = 0.5 * fs\n",
    "#     low = lowcut / nyq\n",
    "#     high = highcut / nyq\n",
    "#     b, a = signal.butter(order, [low, high], btype='bandpass')\n",
    "#     return b, a\n",
    "\n",
    "# [b, a] = butter_bandpass(lowcut = 4, highcut = 8, fs = 30000.0, order = 3)"
   ]
  }
 ],
 "metadata": {
  "kernelspec": {
   "display_name": "Python 3",
   "language": "python",
   "name": "python3"
  },
  "language_info": {
   "codemirror_mode": {
    "name": "ipython",
    "version": 2
   },
   "file_extension": ".py",
   "mimetype": "text/x-python",
   "name": "python",
   "nbconvert_exporter": "python",
   "pygments_lexer": "ipython2",
   "version": "2.7.15+"
  }
 },
 "nbformat": 4,
 "nbformat_minor": 2
}
