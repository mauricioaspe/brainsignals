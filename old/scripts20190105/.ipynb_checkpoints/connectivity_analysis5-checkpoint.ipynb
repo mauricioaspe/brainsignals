{
 "cells": [
  {
   "cell_type": "markdown",
   "metadata": {},
   "source": [
    "## Compute spikes/LFP coherence"
   ]
  },
  {
   "cell_type": "markdown",
   "metadata": {},
   "source": [
    "Add some explanation"
   ]
  },
  {
   "cell_type": "markdown",
   "metadata": {},
   "source": [
    "#### Load modules"
   ]
  },
  {
   "cell_type": "code",
   "execution_count": 1,
   "metadata": {},
   "outputs": [],
   "source": [
    "import glob\n",
    "import h5py\n",
    "import pandas as pd\n",
    "import numpy as np\n",
    "from scipy import signal, stats\n",
    "import matplotlib.pyplot as plt\n",
    "import physig as ps\n",
    "import connectivity_measures as cm"
   ]
  },
  {
   "cell_type": "markdown",
   "metadata": {},
   "source": [
    "#### Load LFP and spike data"
   ]
  },
  {
   "cell_type": "code",
   "execution_count": 5,
   "metadata": {},
   "outputs": [],
   "source": [
    "# LFP data: Load OFC and BLA\n",
    "mPFC = np.load('/home/maspe/filer/testMice/SERT1985/SERT1985/OF/mPFC.npy', allow_pickle=True).item()['data']\n",
    "# mPFC = np.load('mPFC.npy', allow_pickle=True).item()['data']\n",
    "# BLA = np.load('BLA.npy', allow_pickle=True).item()['data']\n",
    "# # data = CC1973.item()['data']\n",
    "\n",
    "# mean_OFC = np.mean(OFC, axis=0)\n",
    "mean_mPFC = np.mean(mPFC, axis=0)\n",
    "# mean_BLA = np.mean(BLA, axis=0)\n",
    "\n",
    "# # Spike data -> LOADING OFC\n",
    "# # f_w = '/home/maspe/filer/testFiles/spiking_data/continuous_data/Continuous_Data/Continuous_Data.basis.hdf5'\n",
    "# # f_cc = '/home/maspe/filer/testFiles/spiking_data/continuous_data/Continuous_Data/Continuous_Data.clusters.hdf5'\n",
    "# # f_ct = '/home/maspe/filer/testFiles/spiking_data/continuous_data/Continuous_Data/Continuous_Data.templates.hdf5'\n",
    "# # f_co = '/home/maspe/filer/testFiles/spiking_data/continuous_data/Continuous_Data/Continuous_Data.overlap.hdf5'\n",
    "# f_OFC = '/home/maspe/filer/testFiles/spiking_data/CC1973_spikes/Continuous_Data_OFC/Continuous_Data_OFC.result.hdf5'\n",
    "# f_mPFC = '/home/maspe/filer/testFiles/spiking_data/CC1973_spikes/Continuous_Data_mPFC/Continuous_Data_mPFC.result.hdf5'\n",
    "\n",
    "# # whitening = h5py.File(f_w, 'r')\n",
    "# # clusters_clusters = h5py.File(f_cc, 'r')\n",
    "# # clusters_templates = h5py.File(f_ct, 'r')\n",
    "# # clusters_overlap = h5py.File(f_co, 'r')\n",
    "# fit_mPFC = h5py.File(f_mPFC, 'r')\n",
    "# fit_OFC = h5py.File(f_OFC, 'r')"
   ]
  },
  {
   "cell_type": "code",
   "execution_count": 2,
   "metadata": {},
   "outputs": [],
   "source": [
    "ch26 = '/home/maspe/filer/testFiles/spiking_data/SERT1985/ch26/ch26.result.hdf5'\n",
    "ch27 = '/home/maspe/filer/testFiles/spiking_data/SERT1985/ch27/ch27.result.hdf5'\n",
    "ch28 = '/home/maspe/filer/testFiles/spiking_data/SERT1985/ch28/ch28.result.hdf5'\n",
    "ch29 = '/home/maspe/filer/testFiles/spiking_data/SERT1985/ch29/ch29.result.hdf5'\n",
    "ch30 = '/home/maspe/filer/testFiles/spiking_data/SERT1985/ch30/ch30.result.hdf5'\n",
    "ch31 = '/home/maspe/filer/testFiles/spiking_data/SERT1985/ch31/ch31.result.hdf5'\n",
    "ch32 = '/home/maspe/filer/testFiles/spiking_data/SERT1985/ch32/ch32.result.hdf5'\n",
    "\n",
    "# whitening = h5py.File(f_w, 'r')\n",
    "# clusters_clusters = h5py.File(f_cc, 'r')\n",
    "# clusters_templates = h5py.File(f_ct, 'r')\n",
    "# clusters_overlap = h5py.File(f_co, 'r')\n",
    "fit_26 = h5py.File(ch26, 'r')\n",
    "fit_27 = h5py.File(ch27, 'r')\n",
    "fit_28 = h5py.File(ch28, 'r')\n",
    "fit_29 = h5py.File(ch29, 'r')\n",
    "fit_30 = h5py.File(ch30, 'r')\n",
    "fit_31 = h5py.File(ch30, 'r')\n",
    "fit_32 = h5py.File(ch30, 'r')"
   ]
  },
  {
   "cell_type": "code",
   "execution_count": 6,
   "metadata": {},
   "outputs": [
    {
     "data": {
      "text/plain": [
       "<KeysViewHDF5 ['temp_0', 'temp_1', 'temp_2', 'temp_3', 'temp_4', 'temp_5', 'temp_6', 'temp_7']>"
      ]
     },
     "execution_count": 6,
     "metadata": {},
     "output_type": "execute_result"
    }
   ],
   "source": [
    "fit_31['spiketimes'].keys()"
   ]
  },
  {
   "cell_type": "markdown",
   "metadata": {},
   "source": [
    "#### Collect in a dictionary all the units for a given structure"
   ]
  },
  {
   "cell_type": "code",
   "execution_count": 7,
   "metadata": {},
   "outputs": [],
   "source": [
    "vHIP_dict = {'fit_26': fit_26, 'fit_27': fit_27, 'fit_28': fit_28, 'fit_29': fit_29, 'fit_30': fit_30, 'fit_31': fit_31, 'fit_32': fit_32}\n",
    "\n",
    "all_spikes = []\n",
    "\n",
    "for key in vHIP_dict.keys():\n",
    "    for subkey in vHIP_dict[key]['spiketimes'].keys():\n",
    "#         print(vHIP_dict[key]['spiketimes'][subkey])\n",
    "        all_spikes.append(vHIP_dict[key]['spiketimes'][subkey])"
   ]
  },
  {
   "cell_type": "markdown",
   "metadata": {},
   "source": [
    "#### Entrances to center"
   ]
  },
  {
   "cell_type": "code",
   "execution_count": 8,
   "metadata": {
    "scrolled": true
   },
   "outputs": [],
   "source": [
    "df = pd.read_excel(\"/home/maspe/filer/testFiles/spiking_data/SERT1985/entradas_sert1985.xlsx\",\n",
    "                   sheet_name=0, header=None, names=[\"locs\"])\n",
    "entrances_times = np.array(df['locs'].tolist(), dtype='int')\n",
    "entrances_times = entrances_times * 30"
   ]
  },
  {
   "cell_type": "markdown",
   "metadata": {},
   "source": [
    "#### Get the time-points windows previous or posterior to entrances to center"
   ]
  },
  {
   "cell_type": "code",
   "execution_count": 9,
   "metadata": {},
   "outputs": [],
   "source": [
    "pre = []\n",
    "post = []\n",
    "secs = 3\n",
    "sampleRate = 30000\n",
    "window = sampleRate * secs\n",
    "\n",
    "for crossing in range(len(entrances_times)):\n",
    "    pre.append(np.arange(entrances_times[crossing] - window, entrances_times[crossing], 1))\n",
    "    post.append(np.arange(entrances_times[crossing], entrances_times[crossing] + window, 1))\n",
    "    \n",
    "# Flatten vector of all points previous or post to center entrance\n",
    "pre_flatten = np.unique([item for sublist in pre for item in sublist])\n",
    "post_flatten = np.unique([item for sublist in post for item in sublist])"
   ]
  },
  {
   "cell_type": "markdown",
   "metadata": {},
   "source": [
    "#### Collect all the spikes falling in the peristimulus time-windows, unit by unit"
   ]
  },
  {
   "cell_type": "code",
   "execution_count": 10,
   "metadata": {},
   "outputs": [],
   "source": [
    "pre_spikes = []\n",
    "post_spikes = []\n",
    "count = 0\n",
    "\n",
    "for count in range(len(all_spikes)):\n",
    "    pre_spikes.append([spike for spike in all_spikes[count] if spike in pre_flatten])\n",
    "    post_spikes.append([spike for spike in all_spikes[count] if spike in post_flatten])"
   ]
  },
  {
   "cell_type": "markdown",
   "metadata": {},
   "source": [
    "#### Select LPF data of a particular structure"
   ]
  },
  {
   "cell_type": "code",
   "execution_count": 11,
   "metadata": {},
   "outputs": [],
   "source": [
    "# Selecting mPFC\n",
    "data = mean_mPFC"
   ]
  },
  {
   "cell_type": "markdown",
   "metadata": {},
   "source": [
    "#### Create butterworth filter and plot its frequency response"
   ]
  },
  {
   "cell_type": "code",
   "execution_count": 12,
   "metadata": {},
   "outputs": [],
   "source": [
    "def butter_bandpass(lowcut, highcut, fs, order=5):\n",
    "    nyq = 0.5 * fs\n",
    "    low = lowcut / nyq\n",
    "    high = highcut / nyq\n",
    "    b, a = signal.butter(order, [low, high], btype='band')\n",
    "    return b, a\n",
    "\n",
    "#N       = 2\n",
    "fs      = sampleRate\n",
    "lowcut  = 30.0\n",
    "highcut = 80.0"
   ]
  },
  {
   "cell_type": "code",
   "execution_count": 13,
   "metadata": {},
   "outputs": [
    {
     "data": {
      "image/png": "[encoded data removed]",
      "text/plain": [
       "<Figure size 432x288 with 1 Axes>"
      ]
     },
     "metadata": {
      "needs_background": "light"
     },
     "output_type": "display_data"
    }
   ],
   "source": [
    "# Test the filter\n",
    "# Plot the frequency response for a few different orders.\n",
    "for order in [1, 2, 3, 4]:\n",
    "    b, a = butter_bandpass(lowcut, highcut, fs, order=order)\n",
    "    w, h = signal.freqz(b, a, worN=10000)\n",
    "    plt.plot((fs * 0.5 / np.pi) * w, abs(h), label=\"order = %d\" % order)\n",
    "\n",
    "plt.plot([0, 0.5 * fs], [np.sqrt(0.5), np.sqrt(0.5)],\n",
    "         '--', label='sqrt(0.5)')\n",
    "plt.xlabel('Frequency (Hz)')\n",
    "plt.ylabel('Gain')\n",
    "plt.xlim([0,200])\n",
    "plt.grid(True)\n",
    "plt.legend(loc='best')\n",
    "# plt.show()\n",
    "\n",
    "# plt.savefig(\"/home/maspe/filer/testFiles/figs/butter_gamma.png\", dpi=150, format='png')"
   ]
  },
  {
   "cell_type": "markdown",
   "metadata": {},
   "source": [
    "#### Band-pass the data and plot raw and filtered signals (CHANGE FOR PSD!!)"
   ]
  },
  {
   "cell_type": "code",
   "execution_count": 14,
   "metadata": {},
   "outputs": [],
   "source": [
    "N = 3\n",
    "b, a = butter_bandpass(lowcut, highcut, fs, order=N)\n",
    "band = signal.filtfilt(b=b, a=a, x=data - np.mean(data),\n",
    "                           axis=-1, padtype='odd', padlen=None, method='pad', irlen=None)"
   ]
  },
  {
   "cell_type": "code",
   "execution_count": 36,
   "metadata": {},
   "outputs": [
    {
     "data": {
      "image/png": "[encoded data removed]",
      "text/plain": [
       "<Figure size 432x288 with 2 Axes>"
      ]
     },
     "metadata": {
      "needs_background": "light"
     },
     "output_type": "display_data"
    }
   ],
   "source": [
    "fig = plt.figure()\n",
    "plt.subplot(2,1,1)\n",
    "plt.plot(data[10000:40000])\n",
    "plt.subplot(2,1,2)\n",
    "plt.plot(band[10000:40000])\n",
    "\n",
    "# fig.savefig(\"/home/maspe/filer/testFiles/figs/gammaCC1985.png\", dpi=150, format='png')"
   ]
  },
  {
   "cell_type": "markdown",
   "metadata": {},
   "source": [
    "#### Apply Hilbert transform to form the analytic signal"
   ]
  },
  {
   "cell_type": "code",
   "execution_count": 15,
   "metadata": {},
   "outputs": [],
   "source": [
    "z = signal.hilbert(band)"
   ]
  },
  {
   "cell_type": "markdown",
   "metadata": {},
   "source": [
    "#### Get amplitudes and phases per unit, then flatten"
   ]
  },
  {
   "cell_type": "code",
   "execution_count": 38,
   "metadata": {},
   "outputs": [],
   "source": [
    "pre_phases = []\n",
    "post_phases = []\n",
    "pre_amplitudes = []\n",
    "post_amplitudes = []\n",
    "total_units = len(all_spikes)\n",
    "\n",
    "for unit in range(total_units):\n",
    "    pre_phases.append(np.angle(z[np.asarray(pre_spikes[unit], dtype='int')]))\n",
    "    pre_amplitudes.append(np.absolute(band[np.asarray(pre_spikes[unit], dtype='int')]))\n",
    "    post_phases.append(np.angle(z[np.asarray(post_spikes[unit], dtype='int')]))\n",
    "    post_amplitudes.append(np.absolute(band[np.asarray(post_spikes[unit], dtype='int')]))"
   ]
  },
  {
   "cell_type": "code",
   "execution_count": 39,
   "metadata": {},
   "outputs": [],
   "source": [
    "pre_flat_amplitudes = [item for sublist in pre_amplitudes for item in sublist]\n",
    "pre_flat_phases = [item for sublist in pre_phases for item in sublist]\n",
    "\n",
    "post_flat_amplitudes = [item for sublist in post_amplitudes for item in sublist]\n",
    "post_flat_phases = [item for sublist in post_phases for item in sublist]"
   ]
  },
  {
   "cell_type": "markdown",
   "metadata": {},
   "source": [
    "#### Plots and statistical tests"
   ]
  },
  {
   "cell_type": "code",
   "execution_count": null,
   "metadata": {},
   "outputs": [],
   "source": [
    "plt.figure(figsize=(10,50))\n",
    "for unit in range(total_units):\n",
    "    plt.subplot(12,4,unit+1, projection='polar')\n",
    "    plt.polar(pre_amplitudes[unit], pre_phases[unit], 'og', alpha=0.5)\n",
    "    plt.polar(post_amplitudes[unit], post_phases[unit], 'or', alpha=0.5)\n",
    "\n",
    "plt.savefig(\"/home/maspe/filer/testFiles/figs/polars_gammaCC1985.png\", dpi=150, format='png')"
   ]
  },
  {
   "cell_type": "code",
   "execution_count": 62,
   "metadata": {},
   "outputs": [
    {
     "data": {
      "text/plain": [
       "<matplotlib.legend.Legend at 0x7f671403a048>"
      ]
     },
     "execution_count": 62,
     "metadata": {},
     "output_type": "execute_result"
    },
    {
     "data": {
      "image/png": "[encoded data removed]",
      "text/plain": [
       "<Figure size 432x288 with 1 Axes>"
      ]
     },
     "metadata": {
      "needs_background": "light"
     },
     "output_type": "display_data"
    }
   ],
   "source": [
    "plt.hist(pre_flat_amplitudes, color='green', alpha=0.5, label='pre')\n",
    "plt.hist(post_flat_amplitudes, color='red', alpha=0.5, label='post')\n",
    "plt.legend(loc='upper right')\n",
    "\n",
    "# plt.savefig(\"/home/maspe/filer/testFiles/figs/pre_post_hist.png\", dpi=150, format='png')"
   ]
  },
  {
   "cell_type": "code",
   "execution_count": 63,
   "metadata": {},
   "outputs": [
    {
     "name": "stdout",
     "output_type": "stream",
     "text": [
      "Same distribution (fail to reject H0)\n"
     ]
    }
   ],
   "source": [
    "stat, p = stats.mannwhitneyu(pre_flat_amplitudes, post_flat_amplitudes)\n",
    "if p > 0.05:\n",
    "    print('Same distribution (fail to reject H0)')\n",
    "else:\n",
    "    print('Different distribution (reject H0)')"
   ]
  },
  {
   "cell_type": "markdown",
   "metadata": {},
   "source": [
    "#########################"
   ]
  },
  {
   "cell_type": "markdown",
   "metadata": {},
   "source": [
    "#### Unused codes"
   ]
  },
  {
   "cell_type": "code",
   "execution_count": null,
   "metadata": {},
   "outputs": [],
   "source": [
    "# f, psd = signal.welch(theta_band, fs=30000, window='hann', nperseg=None, noverlap=None, nfft=None,\n",
    "#                       detrend='constant', return_onesided=True, scaling='density', axis=-1, average='mean')"
   ]
  },
  {
   "cell_type": "code",
   "execution_count": null,
   "metadata": {},
   "outputs": [],
   "source": [
    "# # Plot the power spectrum\n",
    "# plt.figure(figsize=(11,3))\n",
    "# plt.semilogy(f,psd,'k')\n",
    "# # sns.despine()\n",
    "# plt.xlim((0,100))\n",
    "# plt.yticks(size=15)\n",
    "# plt.xticks(size=15)\n",
    "# plt.ylabel('power ($uV^{2}/Hz$)',size=15)\n",
    "# plt.xlabel('frequency (Hz)',size=15)\n",
    "# plt.title('PSD of Local Field Potential', size=20)\n",
    "# plt.show()"
   ]
  },
  {
   "cell_type": "code",
   "execution_count": null,
   "metadata": {},
   "outputs": [],
   "source": [
    "# freqs = np.fft.fftfreq(len(data), sampleRate)\n",
    "\n",
    "# plt.plot(freqs[0:len(data)//2],2/len(data)*np.abs(theta_band[0:len(data)//2]))\n",
    "# plt.xlim([0,10])"
   ]
  },
  {
   "cell_type": "code",
   "execution_count": null,
   "metadata": {},
   "outputs": [],
   "source": [
    "# def butter_bandpass(lowcut, highcut, fs, order):\n",
    "#     nyq = 0.5 * fs\n",
    "#     low = lowcut / nyq\n",
    "#     high = highcut / nyq\n",
    "#     b, a = signal.butter(order, [low, high], btype='bandpass')\n",
    "#     return b, a\n",
    "\n",
    "# [b, a] = butter_bandpass(lowcut = 4, highcut = 8, fs = 30000.0, order = 3)"
   ]
  },
  {
   "cell_type": "code",
   "execution_count": null,
   "metadata": {},
   "outputs": [],
   "source": [
    "# Cxy = cm.coherence(CC1973.item()['data'], average = False)\n",
    "\n",
    "# fig = plt.figure(figsize=(150,150))\n",
    "# plt.matshow(Cxy)\n",
    "# plt.xticks(ticks=np.arange(0, 32, 8), labels=['OFC', 'mPFC', 'DMS', 'BLA'], rotation=0)\n",
    "# plt.yticks(ticks=np.arange(0, 32, 8), labels=['OFC', 'mPFC', 'DMS', 'BLA'], rotation=0)\n",
    "# plt.colorbar()\n",
    "# plt.show()\n",
    "\n",
    "# fig.savefig(\"/home/maspe/filer/testFiles/figs/coherence.png\", dpi=150, format='png')"
   ]
  },
  {
   "cell_type": "code",
   "execution_count": null,
   "metadata": {},
   "outputs": [],
   "source": [
    "n_iterations = np.int(np.floor(len_data/sampleRate))\n",
    "\n",
    "phases = np.zeros((1, n_iterations))\n",
    "phases.shape"
   ]
  },
  {
   "cell_type": "code",
   "execution_count": null,
   "metadata": {},
   "outputs": [],
   "source": [
    "#### Sum spikes and make raster plot \n",
    "fitting = fit_27\n",
    "\n",
    "keys = list(fitting['spiketimes'].keys())\n",
    "n_units = len(keys)\n",
    "units = [int(keys[this_unit][5:]) for this_unit in range(n_units)]\n",
    "len_data = mPFC.shape[1]\n",
    "all_spikes = np.array([], dtype='int')\n",
    "\n",
    "spiketimes_matrix = np.zeros((n_units, len_data))\n",
    "\n",
    "for unit in range(n_units):\n",
    "    spiketimes_matrix[units[unit], fitting['spiketimes'][keys[unit]]] = unit\n",
    "#     all_spikes = np.append(all_spikes, fitting['spiketimes'][keys[unit]].value)\n",
    "\n",
    "# all_spikes = np.unique(all_spikes)\n",
    "    \n",
    "t_matrix = spiketimes_matrix[:, 0:5000000]\n",
    "t_matrix[t_matrix == 0] = float('nan')\n",
    "\n",
    "matrix2plot = t_matrix\n",
    "\n",
    "# plt.subplot(2, 1, 1)\n",
    "fig = plt.figure()\n",
    "for unit in range(n_units):\n",
    "    plt.plot(matrix2plot[unit, :], '|', color='black', markersize=2)\n",
    "    \n",
    "plt.xticks([])\n",
    "plt.ylabel('unit')\n",
    "    \n",
    "# plt.subplot(2, 1, 2)\n",
    "# plt.plot(np.arange(0, matrix2plot.shape[1]), np.nansum(matrix2plot,0), '-', color='gray')\n",
    "# plt.xlabel('time')\n",
    "# plt.ylabel('counts')\n",
    "\n"
   ]
  }
 ],
 "metadata": {
  "kernelspec": {
   "display_name": "Python 3",
   "language": "python",
   "name": "python3"
  },
  "language_info": {
   "codemirror_mode": {
    "name": "ipython",
    "version": 2
   },
   "file_extension": ".py",
   "mimetype": "text/x-python",
   "name": "python",
   "nbconvert_exporter": "python",
   "pygments_lexer": "ipython2",
   "version": "2.7.15+"
  }
 },
 "nbformat": 4,
 "nbformat_minor": 2
}
