{
 "cells": [
  {
   "cell_type": "code",
   "execution_count": null,
   "metadata": {},
   "outputs": [],
   "source": [
    "import h5py\n",
    "import numpy as np\n",
    "import pandas as pd\n",
    "import wavelets as wl\n",
    "from scipy import signal\n",
    "from matplotlib import pyplot as plt"
   ]
  },
  {
   "cell_type": "markdown",
   "metadata": {},
   "source": [
    "### Figure 2"
   ]
  },
  {
   "cell_type": "code",
   "execution_count": null,
   "metadata": {},
   "outputs": [],
   "source": [
    "mydir = '/home/maspe/filer/testFiles/spiking_data/SERT1985/'"
   ]
  },
  {
   "cell_type": "code",
   "execution_count": null,
   "metadata": {},
   "outputs": [],
   "source": [
    "channels = ['ch01', 'ch02', 'ch03', 'ch04', 'ch05', 'ch06', 'ch07', 'ch08', 'ch09', 'ch10',\n",
    "         'ch11', 'ch12', 'ch13', 'ch14', 'ch15', 'ch16', 'ch17', 'ch18', 'ch19', 'ch20',\n",
    "         'ch21', 'ch22', 'ch23', 'ch24', 'ch25', 'ch26', 'ch27', 'ch28', 'ch29', 'ch30',\n",
    "         'ch31', 'ch32']\n",
    "\n",
    "n_channels = len(channels)"
   ]
  },
  {
   "cell_type": "code",
   "execution_count": null,
   "metadata": {},
   "outputs": [],
   "source": [
    "fit = []\n",
    "for channel in channels:\n",
    "    path = mydir + channel + '/' + channel + '.result.hdf5'\n",
    "    \n",
    "    fit.append(h5py.File(path, 'r'))"
   ]
  },
  {
   "cell_type": "code",
   "execution_count": null,
   "metadata": {},
   "outputs": [],
   "source": [
    "all_units = []\n",
    "for channel in range(len(fit)):\n",
    "    for unit in fit[channel]['spiketimes'].keys():\n",
    "        all_units.append(fit[channel]['spiketimes'][unit][()]) # Final \"[()]\" is to import values from h5py \n",
    "        \n",
    "print('n units = %i' %len(all_units))"
   ]
  },
  {
   "cell_type": "code",
   "execution_count": null,
   "metadata": {},
   "outputs": [],
   "source": [
    "df = pd.read_excel(\"/home/maspe/filer/testFiles/spiking_data/SERT1985/entradas_sert1985.xlsx\",\n",
    "                   sheet_name=0, header=None, names=[\"locs\"])\n",
    "entrances_times = np.array(df['locs'].tolist(), dtype='int')\n",
    "entrances_times = entrances_times * 30\n",
    "\n",
    "n_epochs = len(entrances_times)\n",
    "secs = 2\n",
    "sampleRate = 30000\n",
    "window = int(sampleRate * secs)\n",
    "\n",
    "epoch_matrix = []\n",
    "for epoch in range(n_epochs):\n",
    "    epoch_matrix.append(np.arange(entrances_times[epoch] - window, entrances_times[epoch] + window, 1))\n"
   ]
  },
  {
   "cell_type": "code",
   "execution_count": null,
   "metadata": {},
   "outputs": [],
   "source": [
    "peristimulus_spikes = []\n",
    "for unit in range(len(all_units)):\n",
    "    peristimulus_spikes.append(np.isin(epoch_matrix, all_units[unit]))\n",
    "    \n",
    "peristimulus_spikes = np.array(peristimulus_spikes)"
   ]
  },
  {
   "cell_type": "code",
   "execution_count": null,
   "metadata": {},
   "outputs": [],
   "source": [
    "all_units = np.array(all_units)"
   ]
  },
  {
   "cell_type": "code",
   "execution_count": null,
   "metadata": {},
   "outputs": [],
   "source": [
    "all_units.shape"
   ]
  },
  {
   "cell_type": "code",
   "execution_count": null,
   "metadata": {},
   "outputs": [],
   "source": [
    "peristimulus_spikes.shape"
   ]
  },
  {
   "cell_type": "code",
   "execution_count": null,
   "metadata": {},
   "outputs": [],
   "source": [
    "units_activity = np.sum(spikes,axis=1)"
   ]
  },
  {
   "cell_type": "code",
   "execution_count": null,
   "metadata": {},
   "outputs": [],
   "source": [
    "units_activity.shape"
   ]
  },
  {
   "cell_type": "code",
   "execution_count": null,
   "metadata": {},
   "outputs": [],
   "source": [
    "mPFC = np.sum(units_activity[0:10,:], axis=0)\n",
    "NAC = np.sum(units_activity[10:16,:], axis=0)\n",
    "BLA = np.sum(units_activity[16:25,:], axis=0)\n",
    "vHip = np.sum(units_activity[25:32,:], axis=0)"
   ]
  },
  {
   "cell_type": "code",
   "execution_count": null,
   "metadata": {},
   "outputs": [],
   "source": [
    "vHip.shape"
   ]
  },
  {
   "cell_type": "code",
   "execution_count": null,
   "metadata": {},
   "outputs": [],
   "source": [
    "plt.subplot(2,2,1)\n",
    "plt.plot(np.arange(mPFC.shape[0]), mPFC, '-')\n",
    "plt.xticks([])\n",
    "plt.axvline(x=45000, color='black')\n",
    "plt.title('mPFC')\n",
    "\n",
    "plt.subplot(2,2,2)\n",
    "plt.plot(np.arange(NAC.shape[0]), NAC, '-')\n",
    "plt.xticks([])\n",
    "plt.axvline(x=45000, color='black')\n",
    "plt.title('NAC')\n",
    "\n",
    "plt.subplot(2,2,3)\n",
    "plt.plot(np.arange(BLA.shape[0]), BLA, '-')\n",
    "plt.xticks([0, 15000, 30000, 45000, 60000, 75000, 90000], ['-1.5', '-1', '-0.5', '0', '0.5', '1', '1.5'])\n",
    "plt.axvline(x=45000, color='black')\n",
    "plt.title('BLA')\n",
    "\n",
    "plt.subplot(2,2,4)\n",
    "plt.plot(np.arange(vHip.shape[0]), vHip, '-')\n",
    "plt.xticks([0, 15000, 30000, 45000, 60000, 75000, 90000], ['-1.5', '-1', '-0.5', '0', '0.5', '1', '1.5'])\n",
    "plt.axvline(x=45000, color='black')\n",
    "plt.title('vHip')\n",
    "\n",
    "plt.savefig(mydir + \"spikes.png\", dpi=150, facecolor='w', edgecolor='w',\n",
    "            orientation='portrait', papertype=None, format='png', transparent=False)\n",
    "    \n",
    "plt.close()"
   ]
  },
  {
   "cell_type": "code",
   "execution_count": null,
   "metadata": {},
   "outputs": [],
   "source": [
    "np.arange(0, 6000, 3000)"
   ]
  },
  {
   "cell_type": "code",
   "execution_count": null,
   "metadata": {},
   "outputs": [],
   "source": []
  },
  {
   "cell_type": "markdown",
   "metadata": {},
   "source": [
    "#####################################"
   ]
  },
  {
   "cell_type": "markdown",
   "metadata": {},
   "source": [
    "#### Backup code"
   ]
  },
  {
   "cell_type": "code",
   "execution_count": null,
   "metadata": {},
   "outputs": [],
   "source": [
    "spikes = []\n",
    "for unit in range(len(spikes_epochs_pre)):\n",
    "    # np.isin(element, test_elements)\n",
    "    spikes.append(np.isin(epoch_matrix, [spikes_epochs_pre[unit] + spikes_epochs_post[unit]]))"
   ]
  },
  {
   "cell_type": "code",
   "execution_count": null,
   "metadata": {},
   "outputs": [],
   "source": [
    "spikes_epochs_pre = []\n",
    "spikes_epochs_post = []\n",
    "for unit in range(len(all_units)):\n",
    "    spiketimes_pre = []\n",
    "    spiketimes_post = []\n",
    "    for epoch in range(n_epochs):\n",
    "        spiketimes_pre.extend(all_units[unit][(all_units[unit] > epochs_pre[epoch][0]) & (all_units[unit] < epochs_post[epoch][1])])\n",
    "        spiketimes_post.extend(all_units[unit][(all_units[unit] > epochs_post[epoch][0]) & (all_units[unit] < epochs_post[epoch][1])])\n",
    "    spikes_epochs_pre.append(spiketimes_pre)\n",
    "    spikes_epochs_post.append(spiketimes_post)"
   ]
  },
  {
   "cell_type": "code",
   "execution_count": null,
   "metadata": {},
   "outputs": [],
   "source": [
    "len(spikes_epochs_pre[52])"
   ]
  },
  {
   "cell_type": "code",
   "execution_count": null,
   "metadata": {},
   "outputs": [],
   "source": [
    "spikes = []\n",
    "for unit in range(len(spikes_epochs_pre)):\n",
    "    # np.isin(element, test_elements)\n",
    "    spikes.append(np.isin(epoch_matrix, [spikes_epochs_pre[unit] + spikes_epochs_post[unit]]))"
   ]
  },
  {
   "cell_type": "code",
   "execution_count": null,
   "metadata": {},
   "outputs": [],
   "source": [
    "np.sum(spikes[50], axis=0).shape"
   ]
  }
 ],
 "metadata": {
  "kernelspec": {
   "display_name": "Python 3",
   "language": "python",
   "name": "python3"
  },
  "language_info": {
   "codemirror_mode": {
    "name": "ipython",
    "version": 2
   },
   "file_extension": ".py",
   "mimetype": "text/x-python",
   "name": "python",
   "nbconvert_exporter": "python",
   "pygments_lexer": "ipython2",
   "version": "2.7.15+"
  }
 },
 "nbformat": 4,
 "nbformat_minor": 2
}
