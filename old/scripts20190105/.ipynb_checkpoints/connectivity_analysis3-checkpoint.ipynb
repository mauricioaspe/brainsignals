{
 "cells": [
  {
   "cell_type": "markdown",
   "metadata": {},
   "source": [
    "#### Load modules"
   ]
  },
  {
   "cell_type": "code",
   "execution_count": 1,
   "metadata": {},
   "outputs": [],
   "source": [
    "import glob\n",
    "import h5py\n",
    "import numpy as np\n",
    "from scipy import signal\n",
    "import matplotlib.pyplot as plt\n",
    "import physig as ps\n",
    "import connectivity_measures as cm"
   ]
  },
  {
   "cell_type": "markdown",
   "metadata": {},
   "source": [
    "#### Load LFP and spike data"
   ]
  },
  {
   "cell_type": "code",
   "execution_count": 2,
   "metadata": {},
   "outputs": [],
   "source": [
    "# LFP data: Load OFC and BLA\n",
    "OFC = np.load('OFC.npy', allow_pickle=True).item()['data']\n",
    "mPFC = np.load('mPFC.npy', allow_pickle=True).item()['data']\n",
    "BLA = np.load('BLA.npy', allow_pickle=True).item()['data']\n",
    "# data = CC1973.item()['data']\n",
    "\n",
    "# Spike data -> LOADING OFC\n",
    "# f_w = '/home/maspe/filer/testFiles/spiking_data/continuous_data/Continuous_Data/Continuous_Data.basis.hdf5'\n",
    "# f_cc = '/home/maspe/filer/testFiles/spiking_data/continuous_data/Continuous_Data/Continuous_Data.clusters.hdf5'\n",
    "# f_ct = '/home/maspe/filer/testFiles/spiking_data/continuous_data/Continuous_Data/Continuous_Data.templates.hdf5'\n",
    "# f_co = '/home/maspe/filer/testFiles/spiking_data/continuous_data/Continuous_Data/Continuous_Data.overlap.hdf5'\n",
    "f_OFC = '/home/maspe/filer/testFiles/spiking_data/CC1973_spikes/Continuous_Data_OFC/Continuous_Data_OFC.result.hdf5'\n",
    "f_mPFC = '/home/maspe/filer/testFiles/spiking_data/CC1973_spikes/Continuous_Data_mPFC/Continuous_Data_mPFC.result.hdf5'\n",
    "\n",
    "# whitening = h5py.File(f_w, 'r')\n",
    "# clusters_clusters = h5py.File(f_cc, 'r')\n",
    "# clusters_templates = h5py.File(f_ct, 'r')\n",
    "# clusters_overlap = h5py.File(f_co, 'r')\n",
    "fit_mPFC = h5py.File(f_mPFC, 'r')\n",
    "fit_OFC = h5py.File(f_OFC, 'r')"
   ]
  },
  {
   "cell_type": "code",
   "execution_count": 3,
   "metadata": {},
   "outputs": [],
   "source": [
    "mean_OFC = np.mean(OFC, axis=0)\n",
    "mean_mPFC = np.mean(mPFC, axis=0)\n",
    "mean_BLA = np.mean(BLA, axis=0)"
   ]
  },
  {
   "cell_type": "code",
   "execution_count": null,
   "metadata": {},
   "outputs": [],
   "source": [
    "keys = list(fit_mPFC['spiketimes'].keys())\n",
    "keys"
   ]
  },
  {
   "cell_type": "markdown",
   "metadata": {},
   "source": [
    "#### Sum spikes and make raster plot "
   ]
  },
  {
   "cell_type": "code",
   "execution_count": 4,
   "metadata": {},
   "outputs": [
    {
     "name": "stderr",
     "output_type": "stream",
     "text": [
      "/usr/local/lib/python3.6/dist-packages/h5py/_hl/dataset.py:313: H5pyDeprecationWarning: dataset.value has been deprecated. Use dataset[()] instead.\n",
      "  \"Use dataset[()] instead.\", H5pyDeprecationWarning)\n"
     ]
    },
    {
     "data": {
      "text/plain": [
       "Text(0, 0.5, 'unit')"
      ]
     },
     "execution_count": 4,
     "metadata": {},
     "output_type": "execute_result"
    },
    {
     "data": {
      "image/png": "[encoded data removed]",
      "text/plain": [
       "<Figure size 432x288 with 1 Axes>"
      ]
     },
     "metadata": {
      "needs_background": "light"
     },
     "output_type": "display_data"
    }
   ],
   "source": [
    "fitting = fit_mPFC\n",
    "\n",
    "keys = list(fitting['spiketimes'].keys())\n",
    "n_units = len(keys)\n",
    "units = [int(keys[this_unit][5:]) for this_unit in range(n_units)]\n",
    "len_data = OFC.shape[1]\n",
    "all_spikes = np.array([], dtype='int')\n",
    "\n",
    "spiketimes_matrix = np.zeros((n_units, len_data))\n",
    "\n",
    "for unit in range(n_units):\n",
    "    spiketimes_matrix[units[unit], fitting['spiketimes'][keys[unit]]] = unit\n",
    "    all_spikes = np.append(all_spikes, fitting['spiketimes'][keys[unit]].value)\n",
    "\n",
    "all_spikes = np.unique(all_spikes)\n",
    "    \n",
    "t_matrix = spiketimes_matrix[:, 0:1000000]\n",
    "t_matrix[t_matrix == 0] = float('nan')\n",
    "\n",
    "matrix2plot = t_matrix\n",
    "\n",
    "# plt.subplot(2, 1, 1)\n",
    "fig = plt.figure()\n",
    "for unit in range(n_units):\n",
    "    plt.plot(matrix2plot[unit, :], '.', color='black', markersize=0.5)\n",
    "    \n",
    "plt.xticks([])\n",
    "plt.ylabel('unit')\n",
    "    \n",
    "# plt.subplot(2, 1, 2)\n",
    "# plt.plot(np.arange(0, matrix2plot.shape[1]), np.nansum(matrix2plot,0), '-', color='gray')\n",
    "# plt.xlabel('time')\n",
    "# plt.ylabel('counts')"
   ]
  },
  {
   "cell_type": "markdown",
   "metadata": {},
   "source": [
    "#### Select data"
   ]
  },
  {
   "cell_type": "code",
   "execution_count": 5,
   "metadata": {},
   "outputs": [],
   "source": [
    "# Selecting BLA\n",
    "data = mean_BLA\n",
    "sampleRate = 30000"
   ]
  },
  {
   "cell_type": "markdown",
   "metadata": {},
   "source": [
    "#### Band-pass signal and plot power spectral density"
   ]
  },
  {
   "cell_type": "code",
   "execution_count": 6,
   "metadata": {},
   "outputs": [],
   "source": [
    "def butter_bandpass(lowcut, highcut, fs, order=5):\n",
    "    nyq = 0.5 * fs\n",
    "    low = lowcut / nyq\n",
    "    high = highcut / nyq\n",
    "    b, a = signal.butter(order, [low, high], btype='band')\n",
    "    return b, a\n",
    "\n",
    "N       = 2\n",
    "fs      = sampleRate\n",
    "lowcut  = 4.0\n",
    "highcut = 12.0\n",
    "\n",
    "b, a = butter_bandpass(lowcut, highcut, fs, order=N)"
   ]
  },
  {
   "cell_type": "code",
   "execution_count": 7,
   "metadata": {},
   "outputs": [],
   "source": [
    "theta_band = signal.filtfilt(b=b, a=a, x=data - np.mean(data),\n",
    "                           axis=-1, padtype='odd', padlen=None, method='pad', irlen=None)"
   ]
  },
  {
   "cell_type": "markdown",
   "metadata": {},
   "source": [
    "#### Filtering plot (CHANGE FOR PSD!!)"
   ]
  },
  {
   "cell_type": "code",
   "execution_count": 8,
   "metadata": {},
   "outputs": [
    {
     "data": {
      "text/plain": [
       "[<matplotlib.lines.Line2D at 0x7f33c81ebc18>]"
      ]
     },
     "execution_count": 8,
     "metadata": {},
     "output_type": "execute_result"
    },
    {
     "data": {
      "image/png": "[encoded data removed]",
      "text/plain": [
       "<Figure size 432x288 with 2 Axes>"
      ]
     },
     "metadata": {
      "needs_background": "light"
     },
     "output_type": "display_data"
    }
   ],
   "source": [
    "fig = plt.figure()\n",
    "plt.subplot(2,1,1)\n",
    "plt.plot(data[10000:40000])\n",
    "plt.subplot(2,1,2)\n",
    "plt.plot(theta_band[10000:40000])\n",
    "\n",
    "# fig.savefig(\"/home/maspe/filer/testFiles/figs/theta.png\", dpi=150, format='png')"
   ]
  },
  {
   "cell_type": "markdown",
   "metadata": {},
   "source": [
    "#### Apply Hilbert transform to form the analytic signal"
   ]
  },
  {
   "cell_type": "code",
   "execution_count": 10,
   "metadata": {},
   "outputs": [
    {
     "data": {
      "text/plain": [
       "(1, 654)"
      ]
     },
     "execution_count": 10,
     "metadata": {},
     "output_type": "execute_result"
    }
   ],
   "source": [
    "n_iterations = np.int(np.floor(len_data/sampleRate))\n",
    "\n",
    "phases = np.zeros((1, n_iterations))\n",
    "phases.shape"
   ]
  },
  {
   "cell_type": "code",
   "execution_count": 34,
   "metadata": {},
   "outputs": [
    {
     "data": {
      "text/plain": [
       "654"
      ]
     },
     "execution_count": 34,
     "metadata": {},
     "output_type": "execute_result"
    }
   ],
   "source": [
    "n_iterations"
   ]
  },
  {
   "cell_type": "code",
   "execution_count": 16,
   "metadata": {},
   "outputs": [],
   "source": [
    "windows = [i * sampleRate for i in range(n_iterations)]"
   ]
  },
  {
   "cell_type": "code",
   "execution_count": 38,
   "metadata": {},
   "outputs": [
    {
     "data": {
      "text/plain": [
       "[1]"
      ]
     },
     "execution_count": 38,
     "metadata": {},
     "output_type": "execute_result"
    }
   ],
   "source": [
    "sp=[]\n",
    "sp.append(1)\n",
    "sp"
   ]
  },
  {
   "cell_type": "code",
   "execution_count": 53,
   "metadata": {},
   "outputs": [],
   "source": [
    "sp = []\n",
    "for i in range(n_iterations - 1):\n",
    "    sp.append(all_spikes[(all_spikes > windows[i]) & (all_spikes < windows[i + 1])])"
   ]
  },
  {
   "cell_type": "code",
   "execution_count": null,
   "metadata": {},
   "outputs": [],
   "source": [
    "sp"
   ]
  },
  {
   "cell_type": "code",
   "execution_count": 48,
   "metadata": {},
   "outputs": [],
   "source": [
    "z = signal.hilbert(theta_band)"
   ]
  },
  {
   "cell_type": "code",
   "execution_count": null,
   "metadata": {},
   "outputs": [],
   "source": [
    "z_spikes = z[all_spikes]"
   ]
  },
  {
   "cell_type": "code",
   "execution_count": 70,
   "metadata": {},
   "outputs": [
    {
     "name": "stderr",
     "output_type": "stream",
     "text": [
      "/usr/local/lib/python3.6/dist-packages/numpy/core/fromnumeric.py:3257: RuntimeWarning: Mean of empty slice.\n",
      "  out=out, **kwargs)\n",
      "/usr/local/lib/python3.6/dist-packages/numpy/core/_methods.py:161: RuntimeWarning: invalid value encountered in cdouble_scalars\n",
      "  ret = ret.dtype.type(ret / rcount)\n"
     ]
    }
   ],
   "source": [
    "zz_spikes = np.array([])\n",
    "\n",
    "for i in range(len(sp)):\n",
    "#     print(sp[i])\n",
    "    zz_spikes = np.append(zz_spikes, np.mean(z[np.asarray(sp[i])]))"
   ]
  },
  {
   "cell_type": "code",
   "execution_count": 73,
   "metadata": {},
   "outputs": [
    {
     "data": {
      "text/plain": [
       "(653,)"
      ]
     },
     "execution_count": 73,
     "metadata": {},
     "output_type": "execute_result"
    }
   ],
   "source": [
    "zz_spikes.real.shape"
   ]
  },
  {
   "cell_type": "code",
   "execution_count": 80,
   "metadata": {},
   "outputs": [],
   "source": [
    "corr = np.ma.corrcoef(zz_spikes.imag, zz_spikes.imag)"
   ]
  },
  {
   "cell_type": "code",
   "execution_count": 81,
   "metadata": {},
   "outputs": [
    {
     "data": {
      "text/plain": [
       "masked_array(\n",
       "  data=[[--, --],\n",
       "        [--, --]],\n",
       "  mask=[[ True,  True],\n",
       "        [ True,  True]],\n",
       "  fill_value=1e+20,\n",
       "  dtype=float64)"
      ]
     },
     "execution_count": 81,
     "metadata": {},
     "output_type": "execute_result"
    }
   ],
   "source": [
    "corr"
   ]
  },
  {
   "cell_type": "code",
   "execution_count": 59,
   "metadata": {},
   "outputs": [
    {
     "data": {
      "text/plain": [
       "(1664,)"
      ]
     },
     "execution_count": 59,
     "metadata": {},
     "output_type": "execute_result"
    }
   ],
   "source": [
    "zz_spikes.shape"
   ]
  },
  {
   "cell_type": "code",
   "execution_count": 12,
   "metadata": {},
   "outputs": [
    {
     "data": {
      "text/plain": [
       "[<matplotlib.lines.Line2D at 0x7f39f6c0c588>]"
      ]
     },
     "execution_count": 12,
     "metadata": {},
     "output_type": "execute_result"
    },
    {
     "data": {
      "image/png": "[encoded data removed]",
      "text/plain": [
       "<Figure size 432x288 with 1 Axes>"
      ]
     },
     "metadata": {
      "needs_background": "light"
     },
     "output_type": "display_data"
    }
   ],
   "source": [
    "plt.polar(z_spikes.real[:10000], z_spikes.imag[:10000], 'go')"
   ]
  },
  {
   "cell_type": "code",
   "execution_count": null,
   "metadata": {},
   "outputs": [],
   "source": []
  },
  {
   "cell_type": "markdown",
   "metadata": {},
   "source": [
    "#### Codes backup"
   ]
  },
  {
   "cell_type": "code",
   "execution_count": null,
   "metadata": {},
   "outputs": [],
   "source": [
    "# f, psd = signal.welch(theta_band, fs=30000, window='hann', nperseg=None, noverlap=None, nfft=None,\n",
    "#                       detrend='constant', return_onesided=True, scaling='density', axis=-1, average='mean')"
   ]
  },
  {
   "cell_type": "code",
   "execution_count": null,
   "metadata": {},
   "outputs": [],
   "source": [
    "# # Plot the power spectrum\n",
    "# plt.figure(figsize=(11,3))\n",
    "# plt.semilogy(f,psd,'k')\n",
    "# # sns.despine()\n",
    "# plt.xlim((0,100))\n",
    "# plt.yticks(size=15)\n",
    "# plt.xticks(size=15)\n",
    "# plt.ylabel('power ($uV^{2}/Hz$)',size=15)\n",
    "# plt.xlabel('frequency (Hz)',size=15)\n",
    "# plt.title('PSD of Local Field Potential', size=20)\n",
    "# plt.show()"
   ]
  },
  {
   "cell_type": "code",
   "execution_count": null,
   "metadata": {},
   "outputs": [],
   "source": [
    "# freqs = np.fft.fftfreq(len(data), sampleRate)\n",
    "\n",
    "# plt.plot(freqs[0:len(data)//2],2/len(data)*np.abs(theta_band[0:len(data)//2]))\n",
    "# plt.xlim([0,10])"
   ]
  },
  {
   "cell_type": "code",
   "execution_count": null,
   "metadata": {},
   "outputs": [],
   "source": [
    "# def butter_bandpass(lowcut, highcut, fs, order):\n",
    "#     nyq = 0.5 * fs\n",
    "#     low = lowcut / nyq\n",
    "#     high = highcut / nyq\n",
    "#     b, a = signal.butter(order, [low, high], btype='bandpass')\n",
    "#     return b, a\n",
    "\n",
    "# [b, a] = butter_bandpass(lowcut = 4, highcut = 8, fs = 30000.0, order = 3)"
   ]
  },
  {
   "cell_type": "code",
   "execution_count": null,
   "metadata": {},
   "outputs": [],
   "source": [
    "# Cxy = cm.coherence(CC1973.item()['data'], average = False)\n",
    "\n",
    "# fig = plt.figure(figsize=(150,150))\n",
    "# plt.matshow(Cxy)\n",
    "# plt.xticks(ticks=np.arange(0, 32, 8), labels=['OFC', 'mPFC', 'DMS', 'BLA'], rotation=0)\n",
    "# plt.yticks(ticks=np.arange(0, 32, 8), labels=['OFC', 'mPFC', 'DMS', 'BLA'], rotation=0)\n",
    "# plt.colorbar()\n",
    "# plt.show()\n",
    "\n",
    "# fig.savefig(\"/home/maspe/filer/testFiles/figs/coherence.png\", dpi=150, format='png')"
   ]
  }
 ],
 "metadata": {
  "kernelspec": {
   "display_name": "Python 3",
   "language": "python",
   "name": "python3"
  },
  "language_info": {
   "codemirror_mode": {
    "name": "ipython",
    "version": 3
   },
   "file_extension": ".py",
   "mimetype": "text/x-python",
   "name": "python",
   "nbconvert_exporter": "python",
   "pygments_lexer": "ipython3",
   "version": "3.6.8"
  }
 },
 "nbformat": 4,
 "nbformat_minor": 2
}
