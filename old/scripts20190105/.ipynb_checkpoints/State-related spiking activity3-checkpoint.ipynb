{
 "cells": [
  {
   "cell_type": "code",
   "execution_count": 5,
   "metadata": {},
   "outputs": [],
   "source": [
    "import h5py\n",
    "import numpy as np\n",
    "import pandas as pd\n",
    "import wavelets as wl\n",
    "from scipy import signal\n",
    "from matplotlib import pyplot as plt"
   ]
  },
  {
   "cell_type": "markdown",
   "metadata": {},
   "source": [
    "### Figure 2"
   ]
  },
  {
   "cell_type": "code",
   "execution_count": 6,
   "metadata": {},
   "outputs": [
    {
     "name": "stdout",
     "output_type": "stream",
     "text": [
      "Loaded /home/maspe/filer/SERT/SERT1597/spikes/results/\n",
      "Loaded /home/maspe/filer/SERT/SERT1659/spikes/results/\n",
      "Loaded /home/maspe/filer/SERT/SERT1985/spikes/results/\n"
     ]
    }
   ],
   "source": [
    "IDs_WT = ['SERT1597', 'SERT1659', 'SERT1985']\n",
    "IDs_KO = ['SERT1597', 'SERT1985']\n",
    "\n",
    "all_info = {}\n",
    "all_mice = {}\n",
    "for ID in IDs_WT:\n",
    "    npys_dir = '/home/maspe/filer/SERT/' + ID + '/npys/'\n",
    "    spikes_dir = '/home/maspe/filer/SERT/' + ID + '/spikes/results/'\n",
    "    print('Loaded ' + spikes_dir)\n",
    "    \n",
    "    info = np.load(npys_dir + 'info.npy', allow_pickle=True).item()\n",
    "    all_info[ID] = info\n",
    "    channels = info['channels_list']\n",
    "    \n",
    "    fit = []\n",
    "    for channel in channels:\n",
    "        path = spikes_dir + channel + '.result.hdf5'\n",
    "    \n",
    "        fit.append(h5py.File(path, 'r'))\n",
    "        \n",
    "    all_mice[ID] = fit"
   ]
  },
  {
   "cell_type": "code",
   "execution_count": 7,
   "metadata": {},
   "outputs": [],
   "source": [
    "all_units = {}\n",
    "\n",
    "for mouse in all_mice.keys():\n",
    "    n_channels = 32\n",
    "    units = []\n",
    "    for channel in range(n_channels):\n",
    "        for unit in all_mice[mouse][channel]['spiketimes'].keys():\n",
    "            units.append(all_mice[mouse][channel]['spiketimes'][unit][()]) # Final \"[()]\" is to import values from h5py \n",
    "      \n",
    "            \n",
    "    all_units[mouse] = units\n",
    "        \n",
    "# print('n units = %i' %len(all_units))"
   ]
  },
  {
   "cell_type": "code",
   "execution_count": null,
   "metadata": {},
   "outputs": [],
   "source": [
    "epochs_matrix.shape"
   ]
  },
  {
   "cell_type": "code",
   "execution_count": null,
   "metadata": {},
   "outputs": [],
   "source": [
    "all_spikes = all_units['SERT1597']\n",
    "len(all_spikes)"
   ]
  },
  {
   "cell_type": "code",
   "execution_count": 14,
   "metadata": {},
   "outputs": [],
   "source": [
    "secs = 2\n",
    "sampleRate = 30000\n",
    "window = int(sampleRate * secs)\n",
    "\n",
    "all_epochs = {}\n",
    "all_perispikes = {}\n",
    "for mouse in all_mice.keys():\n",
    "    entrances_times = all_info[mouse]['entrances_times']\n",
    "    n_epochs = all_info[mouse]['n_epochs']\n",
    "    \n",
    "    epochs_matrix = np.zeros((n_epochs, window * 2))\n",
    "    for epoch in range(n_epochs):\n",
    "        epochs_matrix[epoch, :] = np.arange(entrances_times[epoch] - window, entrances_times[epoch] + window, 1)\n",
    "\n",
    "    all_epochs[mouse] = epochs_matrix\n",
    "    \n",
    "    \n",
    "#     all_perispikes = all_info[mouse]['entrances_times']  \n",
    "    all_spikes = all_units[mouse] \n",
    "    peristimulus_spikes = np.zeros((len(all_spikes), window * 2, n_epochs))\n",
    "    for unit in range(len(all_spikes)):\n",
    "        peristimulus_spikes[unit, :, :] = np.transpose(np.isin(epochs_matrix, all_spikes[unit]), axes=(1, 0))\n",
    "#         peristimulus_spikes[:, :, ] = np.transpose(np.isin(epochs_matrix, all_spikes[unit]), axes=(0, 2, 1))\n",
    "# #         peristimulus_spikes = np.transpose(np.array(peristimulus_spikes), axes=(0, 2, 1))\n",
    "        \n",
    "    all_perispikes[mouse] = peristimulus_spikes"
   ]
  },
  {
   "cell_type": "code",
   "execution_count": null,
   "metadata": {},
   "outputs": [],
   "source": [
    "mPFC = np.sum(units_activity[0:10,:], axis=0)\n",
    "NAC = np.sum(units_activity[10:16,:], axis=0)\n",
    "BLA = np.sum(units_activity[16:25,:], axis=0)\n",
    "vHip = np.sum(units_activity[25:32,:], axis=0)"
   ]
  },
  {
   "cell_type": "code",
   "execution_count": null,
   "metadata": {},
   "outputs": [],
   "source": [
    "vHip.shape"
   ]
  },
  {
   "cell_type": "code",
   "execution_count": null,
   "metadata": {},
   "outputs": [],
   "source": [
    "plt.subplot(2,2,1)\n",
    "plt.plot(np.arange(mPFC.shape[0]), mPFC, '-')\n",
    "plt.xticks([])\n",
    "plt.axvline(x=45000, color='black')\n",
    "plt.title('mPFC')\n",
    "\n",
    "plt.subplot(2,2,2)\n",
    "plt.plot(np.arange(NAC.shape[0]), NAC, '-')\n",
    "plt.xticks([])\n",
    "plt.axvline(x=45000, color='black')\n",
    "plt.title('NAC')\n",
    "\n",
    "plt.subplot(2,2,3)\n",
    "plt.plot(np.arange(BLA.shape[0]), BLA, '-')\n",
    "plt.xticks([0, 15000, 30000, 45000, 60000, 75000, 90000], ['-1.5', '-1', '-0.5', '0', '0.5', '1', '1.5'])\n",
    "plt.axvline(x=45000, color='black')\n",
    "plt.title('BLA')\n",
    "\n",
    "plt.subplot(2,2,4)\n",
    "plt.plot(np.arange(vHip.shape[0]), vHip, '-')\n",
    "plt.xticks([0, 15000, 30000, 45000, 60000, 75000, 90000], ['-1.5', '-1', '-0.5', '0', '0.5', '1', '1.5'])\n",
    "plt.axvline(x=45000, color='black')\n",
    "plt.title('vHip')\n",
    "\n",
    "plt.savefig(mydir + \"spikes.png\", dpi=150, facecolor='w', edgecolor='w',\n",
    "            orientation='portrait', papertype=None, format='png', transparent=False)\n",
    "    \n",
    "plt.close()"
   ]
  },
  {
   "cell_type": "code",
   "execution_count": null,
   "metadata": {},
   "outputs": [],
   "source": [
    "np.arange(0, 6000, 3000)"
   ]
  },
  {
   "cell_type": "code",
   "execution_count": null,
   "metadata": {},
   "outputs": [],
   "source": []
  },
  {
   "cell_type": "markdown",
   "metadata": {},
   "source": [
    "#####################################"
   ]
  },
  {
   "cell_type": "markdown",
   "metadata": {},
   "source": [
    "#### Backup code"
   ]
  },
  {
   "cell_type": "code",
   "execution_count": null,
   "metadata": {},
   "outputs": [],
   "source": [
    "spikes = []\n",
    "for unit in range(len(spikes_epochs_pre)):\n",
    "    # np.isin(element, test_elements)\n",
    "    spikes.append(np.isin(epoch_matrix, [spikes_epochs_pre[unit] + spikes_epochs_post[unit]]))"
   ]
  },
  {
   "cell_type": "code",
   "execution_count": null,
   "metadata": {},
   "outputs": [],
   "source": [
    "spikes_epochs_pre = []\n",
    "spikes_epochs_post = []\n",
    "for unit in range(len(all_units)):\n",
    "    spiketimes_pre = []\n",
    "    spiketimes_post = []\n",
    "    for epoch in range(n_epochs):\n",
    "        spiketimes_pre.extend(all_units[unit][(all_units[unit] > epochs_pre[epoch][0]) & (all_units[unit] < epochs_post[epoch][1])])\n",
    "        spiketimes_post.extend(all_units[unit][(all_units[unit] > epochs_post[epoch][0]) & (all_units[unit] < epochs_post[epoch][1])])\n",
    "    spikes_epochs_pre.append(spiketimes_pre)\n",
    "    spikes_epochs_post.append(spiketimes_post)"
   ]
  },
  {
   "cell_type": "code",
   "execution_count": null,
   "metadata": {},
   "outputs": [],
   "source": [
    "len(spikes_epochs_pre[52])"
   ]
  },
  {
   "cell_type": "code",
   "execution_count": null,
   "metadata": {},
   "outputs": [],
   "source": [
    "spikes = []\n",
    "for unit in range(len(spikes_epochs_pre)):\n",
    "    # np.isin(element, test_elements)\n",
    "    spikes.append(np.isin(epoch_matrix, [spikes_epochs_pre[unit] + spikes_epochs_post[unit]]))"
   ]
  },
  {
   "cell_type": "code",
   "execution_count": null,
   "metadata": {},
   "outputs": [],
   "source": [
    "np.sum(spikes[50], axis=0).shape"
   ]
  }
 ],
 "metadata": {
  "kernelspec": {
   "display_name": "Python 3",
   "language": "python",
   "name": "python3"
  },
  "language_info": {
   "codemirror_mode": {
    "name": "ipython",
    "version": 2
   },
   "file_extension": ".py",
   "mimetype": "text/x-python",
   "name": "python",
   "nbconvert_exporter": "python",
   "pygments_lexer": "ipython2",
   "version": "2.7.15+"
  }
 },
 "nbformat": 4,
 "nbformat_minor": 2
}
