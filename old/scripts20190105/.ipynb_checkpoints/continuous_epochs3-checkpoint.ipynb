{
 "cells": [
  {
   "cell_type": "code",
   "execution_count": 89,
   "metadata": {},
   "outputs": [],
   "source": [
    "import glob\n",
    "import numpy as np\n",
    "import pandas as pd\n",
    "import physig as ps\n",
    "from scipy import signal\n",
    "from matplotlib import pyplot as plt"
   ]
  },
  {
   "cell_type": "code",
   "execution_count": 90,
   "metadata": {},
   "outputs": [
    {
     "name": "stdout",
     "output_type": "stream",
     "text": [
      "[ 759547  800880  936580  938213  968447 1026380 1041713 1071313 1095513\n",
      " 1238213]\n",
      "Loading continuous data from /home/maspe/filer/SERT/SERT2024/continuous/100_CH01.continuous\n"
     ]
    }
   ],
   "source": [
    "# ['SERT1668', 'SERT1665', 'SERT2013', 'SERT2018']\n",
    "\n",
    "ID        = 'SERT2024'\n",
    "files_dir = '/home/maspe/filer/SERT/' + ID + '/continuous/'\n",
    "npys_dir  = '/home/maspe/filer/SERT/' + ID + '/npys/'\n",
    "figs_dir  = '/home/maspe/filer/SERT/' + ID + '/figs/'\n",
    "\n",
    "files = sorted(glob.glob(files_dir + '/*.continuous'))\n",
    "\n",
    "df = pd.read_excel(files_dir + 'canales.xlsx', sheet_name=0, header=None, names=[\"locs\"])\n",
    "channels_locations = np.array(df['locs'].tolist())\n",
    "n_channels = len(channels_locations)\n",
    "\n",
    "df = pd.read_excel(files_dir + 'entradas.xlsx',\n",
    "                   sheet_name=0, header=None, names=[\"locs\"])\n",
    "entrances_times = np.array(df['locs'].tolist(), dtype='int')\n",
    "n_epochs = len(entrances_times)\n",
    "print(entrances_times)\n",
    "\n",
    "df = pd.read_excel(files_dir + 'xy.xlsx', sheet_name=0, header=None)\n",
    "# Preview the first 5 lines of the loaded data \n",
    "a=df[3]\n",
    "start_OF = a[0]\n",
    "stop_OF = a[1]\n",
    "\n",
    "mPFC_indexes  = [i for i,x in enumerate(channels_locations) if x == 'mPFC_left']\n",
    "NAC_indexes = [i for i,x in enumerate(channels_locations) if x == 'NAC_left']\n",
    "BLA_indexes  = [i for i,x in enumerate(channels_locations) if x == 'BLA_left']\n",
    "vHip_indexes  = [i for i,x in enumerate(channels_locations) if x == 'vHipp_left']\n",
    "\n",
    "mPFC_nchannels = len(mPFC_indexes)\n",
    "NAC_nchannels  = len(NAC_indexes)\n",
    "BLA_nchannels  = len(BLA_indexes)\n",
    "vHip_nchannels = len(vHip_indexes)\n",
    "\n",
    "channel = ps.loadContinuous(files[0])\n",
    "fs      = channel['header']['sampleRate']\n",
    "npoints = len(channel['data'])\n",
    "\n",
    "channels_list = ['ch01', 'ch02', 'ch03', 'ch04', 'ch05', 'ch06', 'ch07', 'ch08', 'ch09', 'ch10',\n",
    "         'ch11', 'ch12', 'ch13', 'ch14', 'ch15', 'ch16', 'ch17', 'ch18', 'ch19', 'ch20',\n",
    "         'ch21', 'ch22', 'ch23', 'ch24', 'ch25', 'ch26', 'ch27', 'ch28', 'ch29', 'ch30',\n",
    "         'ch31', 'ch32']\n",
    "\n",
    "info = {'channels_list': channels_list, 'channels_locs': channels_locations, 'n_channels': n_channels,\n",
    "        'mPFC_nchannels': mPFC_nchannels, 'NAC_nchannels': NAC_nchannels, 'BLA_nchannels': BLA_nchannels,\n",
    "        'vHip_nchannels': vHip_nchannels, 'entrances_times': entrances_times, 'n_epochs': n_epochs,\n",
    "        'startOF': start_OF, 'stopOF': stop_OF}\n",
    "\n",
    "np.save(npys_dir + 'info.npy', info)"
   ]
  },
  {
   "cell_type": "code",
   "execution_count": 43,
   "metadata": {},
   "outputs": [
    {
     "name": "stdout",
     "output_type": "stream",
     "text": [
      "[ 880249 1048649 1096849 1173082 1239649]\n",
      "Loading continuous data from /home/maspe/filer/SERT/SERT2018/continuous/100_CH01.continuous\n"
     ]
    }
   ],
   "source": []
  },
  {
   "cell_type": "code",
   "execution_count": 2,
   "metadata": {},
   "outputs": [
    {
     "data": {
      "text/plain": [
       "[25, 26, 27, 28, 29, 30, 31]"
      ]
     },
     "execution_count": 2,
     "metadata": {},
     "output_type": "execute_result"
    }
   ],
   "source": [
    "vHip_indexes"
   ]
  },
  {
   "cell_type": "code",
   "execution_count": 1,
   "metadata": {},
   "outputs": [],
   "source": [
    "def butter_bandpass(highcut, fs, order=5):\n",
    "    nyq  = 0.5 * fs\n",
    "    high = highcut / nyq\n",
    "    b, a = signal.butter(order, high)\n",
    "    return b, a\n",
    "\n",
    "highcut = 300.0\n",
    "\n",
    "# Filter parameters\n",
    "highcut = 300.0\n",
    "N       = 9\n",
    "b, a    = butter_bandpass(highcut, fs, order=N)\n",
    "\n",
    "# Downsampling parameters: final resolution = 1000 Hz\n",
    "final_fs  = 1000.0\n",
    "ds_factor = fs // final_fs\n",
    "n_samples = np.int(npoints / ds_factor)\n",
    "\n",
    "iteration = 0\n",
    "for file in files:\n",
    "    channel = ps.loadContinuous(file)\n",
    "\n",
    "    data = channel['data']\n",
    "    data = signal.filtfilt(b=b, a=a, x=channel['data'] - np.mean(channel['data']),\n",
    "                           axis=-1, padtype='odd', padlen=None, method='pad', irlen=None)\n",
    "    \n",
    "    data = signal.resample(x=data, num=n_samples)\n",
    "\n",
    "    \n",
    "    if iteration == 0:\n",
    "        data_matrix = np.empty((len(channels_locations), len(data)))          \n",
    "    \n",
    "    data_matrix[iteration, :] = data    \n",
    "    iteration += 1\n",
    "\n",
    "mPFC = data_matrix[mPFC_indexes, :] - np.median(data_matrix[mPFC_indexes, :], axis=0)\n",
    "NAC  = data_matrix[NAC_indexes, :]  - np.median(data_matrix[NAC_indexes, :], axis=0)\n",
    "BLA  = data_matrix[BLA_indexes, :]  - np.median(data_matrix[BLA_indexes, :], axis=0)\n",
    "vHip = data_matrix[vHip_indexes, :] - np.median(data_matrix[vHip_indexes, :], axis=0)\n",
    "\n",
    "del [iteration, channel, data, data_matrix]   \n",
    "\n",
    "np.save(mydir + 'mPFC', mPFC)\n",
    "np.save(mydir + 'NAC', NAC)\n",
    "np.save(mydir + 'BLA', BLA)\n",
    "np.save(mydir + 'vHip', vHip)\n",
    "\n",
    "secs = 3\n",
    "# Cambiar sampleRate para spikes/LFP coherence!!!!\n",
    "window = int(final_fs) * secs\n",
    "# window = int(fs) * secs\n",
    "\n",
    "\n",
    "# For mPFC\n",
    "pre = []\n",
    "post = []\n",
    "mPFC_epochs = np.zeros((mPFC_nchannels, window * 2, n_epochs))\n",
    "\n",
    "for channel in range(mPFC_nchannels):\n",
    "    for epoch in range(n_epochs):\n",
    "        mPFC_epochs[channel, :, epoch] = mPFC[channel, entrances_times[epoch] - window : entrances_times[epoch] + window]\n",
    "\n",
    "        \n",
    "# For NAC\n",
    "pre = []\n",
    "post = []\n",
    "NAC_epochs = np.zeros((NAC_nchannels, window * 2, n_epochs))\n",
    "\n",
    "for channel in range(NAC_nchannels):\n",
    "    for epoch in range(n_epochs):\n",
    "        NAC_epochs[channel, :, epoch] = NAC[channel, entrances_times[epoch] - window : entrances_times[epoch] + window]\n",
    "        \n",
    "        \n",
    "# For BLA\n",
    "pre = []\n",
    "post = []\n",
    "BLA_epochs = np.zeros((BLA_nchannels, window * 2, n_epochs))\n",
    "\n",
    "for channel in range(BLA_nchannels):\n",
    "    for epoch in range(n_epochs):\n",
    "        BLA_epochs[channel, :, epoch] = BLA[channel, entrances_times[epoch] - window : entrances_times[epoch] + window]\n",
    "        \n",
    "        \n",
    "# For vHip\n",
    "pre = []\n",
    "post = []\n",
    "vHip_epochs = np.zeros((vHip_nchannels, window * 2, n_epochs))\n",
    "\n",
    "for channel in range(vHip_nchannels):\n",
    "    for epoch in range(n_epochs):\n",
    "        vHip_epochs[channel, :, epoch] = vHip[0, entrances_times[epoch] - window : entrances_times[epoch] + window]\n",
    "\n",
    "np.save(npys_dir + 'mPFC_epochs', mPFC_epochs)\n",
    "np.save(npys_dir + 'NAC_epochs', NAC_epochs)\n",
    "np.save(npys_dir + 'BLA_epochs', BLA_epochs)\n",
    "np.save(npys_dir + 'vHip_epochs', vHip_epochs)\n",
    "\n",
    "n_rows = np.int(np.ceil(n_epochs / 5.0))\n",
    "\n",
    "# Plotting mPFC\n",
    "for channel in range(mPFC_nchannels):\n",
    "    plt.figure(figsize=(20,10))\n",
    "    for epoch in range(n_epochs):\n",
    "        plt.subplot(n_rows,5,epoch+1)\n",
    "        plt.plot(mPFC_epochs[channel,:, epoch])\n",
    "        \n",
    "    plt.savefig(figs_dir + 'mPFC_ch' + str(channel) + '.png', dpi=150, format='png')\n",
    "    plt.close()\n",
    "    \n",
    "\n",
    "# Plotting NAC\n",
    "for channel in range(NAC_nchannels):\n",
    "    plt.figure(figsize=(20,10))\n",
    "    for epoch in range(n_epochs):\n",
    "        plt.subplot(n_rows,5,epoch+1)\n",
    "        plt.plot(NAC_epochs[channel,:, epoch])\n",
    "        \n",
    "    plt.savefig(figs_dir + 'NAC_ch' + str(channel) + '.png', dpi=150, format='png')\n",
    "    plt.close()\n",
    "    \n",
    "\n",
    "# Plotting BLA\n",
    "for channel in range(BLA_nchannels):\n",
    "    plt.figure(figsize=(20,10))\n",
    "    for epoch in range(n_epochs):\n",
    "        plt.subplot(n_rows,5,epoch+1)\n",
    "        plt.plot(BLA_epochs[channel,:, epoch])\n",
    "        \n",
    "    plt.savefig(figs_dir + 'BLA_ch' + str(channel) + '.png', dpi=150, format='png')\n",
    "    plt.close()\n",
    "    \n",
    "\n",
    "# Plotting vHip\n",
    "for channel in range(vHip_nchannels):\n",
    "    plt.figure(figsize=(20,10))\n",
    "    for epoch in range(n_epochs):\n",
    "        plt.subplot(n_rows,5,epoch+1)\n",
    "        plt.plot(vHip_epochs[channel,:, epoch])\n",
    "        \n",
    "    plt.savefig(figs_dir + 'vHip_ch' + str(channel) + '.png', dpi=150, format='png')\n",
    "    plt.close()\n",
    "    \n",
    "    \n",
    "print('Files preprocessed')"
   ]
  },
  {
   "cell_type": "code",
   "execution_count": 35,
   "metadata": {},
   "outputs": [
    {
     "data": {
      "text/plain": [
       "(9, 6000, 8)"
      ]
     },
     "execution_count": 35,
     "metadata": {},
     "output_type": "execute_result"
    }
   ],
   "source": [
    "ID = 'SERT1984'\n",
    "npys_dir  = '/home/maspe/filer/SERT/' + ID + '/npys/'\n",
    "\n",
    "epoch = 8\n",
    "BLA_epochs = np.load(npys_dir + 'BLA_epochs.npy', allow_pickle=True)\n",
    "#mPFC_epochs[] = mPFC_epochs[:, :, 0:7]\n",
    "BLA_epochs.shape\n",
    "\n",
    "#info = np.load(npys_dir + 'info.npy', allow_pickle=True).item()\n",
    "#info.keys()"
   ]
  },
  {
   "cell_type": "code",
   "execution_count": 37,
   "metadata": {},
   "outputs": [
    {
     "data": {
      "text/plain": [
       "(9, 6000, 8)"
      ]
     },
     "execution_count": 37,
     "metadata": {},
     "output_type": "execute_result"
    }
   ],
   "source": [
    "BLA_epochs[:,:,epoch-1]=BLA_epochs[:,:,epoch-2]\n",
    "BLA_epochs.shape"
   ]
  },
  {
   "cell_type": "code",
   "execution_count": 38,
   "metadata": {},
   "outputs": [],
   "source": [
    "np.save(npys_dir + 'BLA_epochs.npy', BLA_epochs)"
   ]
  },
  {
   "cell_type": "code",
   "execution_count": 9,
   "metadata": {},
   "outputs": [
    {
     "data": {
      "text/plain": [
       "(479998,)"
      ]
     },
     "execution_count": 9,
     "metadata": {},
     "output_type": "execute_result"
    }
   ],
   "source": [
    "mPFC_epochs = np.delete(mPFC_epochs, [0, 0, epoch-1])\n",
    "mPFC_epochs.shape"
   ]
  }
 ],
 "metadata": {
  "kernelspec": {
   "display_name": "Python 3",
   "language": "python",
   "name": "python3"
  },
  "language_info": {
   "codemirror_mode": {
    "name": "ipython",
    "version": 2
   },
   "file_extension": ".py",
   "mimetype": "text/x-python",
   "name": "python",
   "nbconvert_exporter": "python",
   "pygments_lexer": "ipython2",
   "version": "2.7.15+"
  }
 },
 "nbformat": 4,
 "nbformat_minor": 2
}
