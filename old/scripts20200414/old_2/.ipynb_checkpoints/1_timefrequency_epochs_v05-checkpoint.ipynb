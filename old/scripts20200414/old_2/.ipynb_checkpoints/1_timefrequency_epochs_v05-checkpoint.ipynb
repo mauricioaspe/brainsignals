{
 "cells": [
  {
   "cell_type": "markdown",
   "metadata": {},
   "source": [
    "# Import data from <i>.npys</i> epoched files and time-transform them"
   ]
  },
  {
   "cell_type": "code",
   "execution_count": null,
   "metadata": {},
   "outputs": [],
   "source": [
    "'''\n",
    "Import epoched data from created .npy raw file (same as continuos_epochs) (??)\n",
    "\n",
    "Input:\n",
    "    * Epoched data stored in\n",
    "    'SERT/SERTXXXX/npys/baseline_epochs.npy'\n",
    "\n",
    "    \n",
    "Output:\n",
    "    np.save('/SERT/SERTXXXX/npys/morlets_epochs.npy')\n",
    "\n",
    "\n",
    "'''"
   ]
  },
  {
   "cell_type": "markdown",
   "metadata": {},
   "source": [
    "#### Notice that must take the npys arrays given by 'continuous_epochs' and with epochs removed!!\n",
    "#### Import required modules"
   ]
  },
  {
   "cell_type": "code",
   "execution_count": 1,
   "metadata": {},
   "outputs": [],
   "source": [
    "#!/usr/bin/python\n",
    "# -*- coding: utf-8 -*-\n",
    "\n",
    "# Import required modules\n",
    "import numpy as np\n",
    "from scipy import signal\n",
    "from matplotlib import pyplot as plt\n",
    "import wavelets as wl\n",
    "import time\n",
    "import pickle"
   ]
  },
  {
   "cell_type": "markdown",
   "metadata": {},
   "source": [
    "## Downsampling and band-pass parameters"
   ]
  },
  {
   "cell_type": "markdown",
   "metadata": {},
   "source": [
    "<ol>\n",
    "    <li>Downsample to a resolution of 1 KHz.</li>\n",
    "    <li>Butter low-pass at 300 Hz, N = 9</li>\n",
    "</ol>"
   ]
  },
  {
   "cell_type": "code",
   "execution_count": 2,
   "metadata": {},
   "outputs": [],
   "source": [
    "### Parameters\n",
    "# Downsampling parameters: final resolution = 1000 Hz\n",
    "fs = 30000\n",
    "final_fs  = 1000.0"
   ]
  },
  {
   "cell_type": "markdown",
   "metadata": {},
   "source": [
    "### Revisar que duracion baseline vs epocas no interfiera en la transformada!"
   ]
  },
  {
   "cell_type": "code",
   "execution_count": 3,
   "metadata": {},
   "outputs": [],
   "source": [
    "# Morlet parameters\n",
    "epoch_length = 6 # In seconds\n",
    "dt = 1 / final_fs\n",
    "time_windows = np.arange(0, epoch_length, dt)\n",
    "frequencies = np.arange(1, 100, 1)\n",
    "periods = 1 / (frequencies * dt)\n",
    "scales = periods / wl.Morlet.fourierwl\n",
    "n_frequencies = frequencies.shape[0]"
   ]
  },
  {
   "cell_type": "code",
   "execution_count": 4,
   "metadata": {},
   "outputs": [],
   "source": [
    "IDs = {'SERT1597': {} } #, 'SERT1659': {} #,\n",
    " #'SERT1665': {},\n",
    " #'SERT1668': {},\n",
    " #'SERT1678': {},\n",
    " #'SERT1908': {},\n",
    " #'SERT1984': {},\n",
    " #'SERT1985': {},\n",
    " #'SERT2013': {},\n",
    " #'SERT2014': {},\n",
    " #'SERT2018': {},\n",
    " #'SERT2024': {}\n",
    "      #}"
   ]
  },
  {
   "cell_type": "markdown",
   "metadata": {},
   "source": [
    "## Main loop"
   ]
  },
  {
   "cell_type": "code",
   "execution_count": null,
   "metadata": {
    "scrolled": true
   },
   "outputs": [],
   "source": [
    "structures = {'mPFC': {}} #, 'NAC': {}} #, 'BLA': {}, 'vHip': {}}\n",
    "\n",
    "for mouse in IDs.keys():\n",
    "    clock = time.time()\n",
    "    print('Loading mouse {}...'.format(mouse))\n",
    "    npys_dir  = '/home/maspe/filer/SERT/' + mouse + '/npys/'\n",
    "\n",
    "    with open(npys_dir + mouse + '.info', 'rb') as f:\n",
    "        info = pickle.load(f)#, encoding='latin1')\n",
    "\n",
    "        \n",
    "    all_data = pickle.load(open(npys_dir + mouse + '.epochs', 'rb'))              \n",
    "    #np.load(npys_dir + 'baselines_epochs.npy', allow_pickle=True)[()]\n",
    "\n",
    "    \n",
    "    for structure in structures.keys():\n",
    "        for condition in all_data[structure].keys(): # Iterates in baselines and epochs\n",
    "            if condition == 'epochs':\n",
    "                print('Processing epochs...')\n",
    "                time_points = time_windows.shape[0]\n",
    "            else:\n",
    "                print('Processing baselines...')\n",
    "                time_points = time_windows.shape[0] // 2\n",
    "            \n",
    "            ### Loading the data\n",
    "            data = all_data[structure][condition]\n",
    "        \n",
    "            ### Downsampling\n",
    "            print('Downsampling...')\n",
    "            data = signal.resample(x=data, num=time_points, axis=1)\n",
    "\n",
    "            ### Morlet transform\n",
    "            print('Morlet transform...')\n",
    "            n_channels = data.shape[0]\n",
    "            n_epochs = data.shape[2]\n",
    "            morlet_matrix = np.empty((n_frequencies, time_points, n_channels, n_epochs))  \n",
    "            for epoch in range(n_epochs):\n",
    "                for channel in range(n_channels):\n",
    "                    morlet_matrix[:, :, channel, epoch] = wl.Morlet(data[channel, :, epoch], scales=scales).getnormpower()\n",
    "            \n",
    "            \n",
    "            if condition == 'epochs':\n",
    "                morlets_epochs    = morlet_matrix\n",
    "            else:\n",
    "                morlets_baselines = morlet_matrix\n",
    "\n",
    "            \n",
    "            \n",
    "            ### Obtaining z-scores\n",
    "            print('Transforming to z-score...\\n')\n",
    "            \n",
    "            ### Getting average and sd on time dimension\n",
    "            baseline_mean = np.mean(morlets_baselines, axis=(1,3))\n",
    "            baseline_sd = np.std(morlets_baselines, axis=(1,3))\n",
    "            ((morlets_epochs - baseline_mean[:, None, :, None]) / baseline_sd[:, None, :, None]).shape\n",
    "            \n",
    "            #SRS_WT[structure][mouse] = (SRS_WT[structure][mouse] - baseline_mean[:, None, :, :]) / baseline_sd[:, None, :, :]   \n",
    "            \n",
    "            \n",
    "            structures[structure][condition] = morlet_matrix\n",
    "            \n",
    "    print('Mouse processed in {:.2f} min.\\n'.format((time.time() - clock) / 60))\n",
    "\n",
    "    \n",
    "    print('Saving dictionary...')    \n",
    "    pickle.dump(structures, open(npys_dir + 'morlets.epochs', 'wb'), protocol=2)   \n",
    "    \n",
    "print('Done!')"
   ]
  },
  {
   "cell_type": "code",
   "execution_count": 16,
   "metadata": {},
   "outputs": [
    {
     "data": {
      "text/plain": [
       "(99, 10)"
      ]
     },
     "execution_count": 16,
     "metadata": {},
     "output_type": "execute_result"
    }
   ],
   "source": []
  },
  {
   "cell_type": "code",
   "execution_count": null,
   "metadata": {},
   "outputs": [],
   "source": []
  },
  {
   "cell_type": "markdown",
   "metadata": {},
   "source": [
    "################"
   ]
  },
  {
   "cell_type": "code",
   "execution_count": null,
   "metadata": {},
   "outputs": [],
   "source": [
    "#print('\\nCollecting all channels and Morlets by structure...')    \n",
    "\n",
    "#print('mPFC')\n",
    "#mPFC_morlet = morlet_matrix[:, :, mPFC_indexes]\n",
    "#print('Saving variable (this takes some time)...')\n",
    "#np.save(npys_dir + 'mPFC_morlet', mPFC_morlet)\n",
    "#print('mPFC: Done!')\n",
    "\n",
    "\n",
    "#print('mPFC')\n",
    "#NAC_morlet = morlet_matrix[:, :, NAC_indexes]\n",
    "#print('Saving variable (this takes some time)...')\n",
    "#np.save(npys_dir + 'NAC_morlet', NAC_morlet)\n",
    "#print('NAC: Done!')\n",
    "\n",
    "\n",
    "#print('BLA')\n",
    "#BLA_morlet = morlet_matrix[:, :, BLA_indexes]\n",
    "#print('Saving variable (this takes some time)...')\n",
    "#np.save(npys_dir + 'BLA_morlet', BLA_morlet)\n",
    "#print('BLA: Done!')\n",
    "\n",
    "\n",
    "#print('vHip')\n",
    "#vHip_morlet = morlet_matrix[:, :, vHip_indexes]\n",
    "#print('Saving variable (this takes some time)...')\n",
    "#np.save(npys_dir + 'vHip_morlet', vHip_morlet)\n",
    "#print('vHip: Done!')\n",
    "\n",
    "#del [data, transformed, data_matrix, morlet_matrix]  \n",
    "\n",
    "#print('Mouse processed in {:.2f} min.\\n'.format((time.time() - master_clock) / 60))\n",
    "#print('Done!\\n\\n')"
   ]
  },
  {
   "cell_type": "markdown",
   "metadata": {},
   "source": [
    "Takes as input $\\text{data}_{(n\\_channels, time\\_points)}$ with downsampled $\\text{time points} = 1 KHz \\times 6 s = 600000$. Then, for each $data[channel, :] = (600000, 1)$ transforms it to the frequency domain with wl.Morlet, getting a <i>(n_frequencies, time_points)</i> morlet_matrix for each channel. "
   ]
  }
 ],
 "metadata": {
  "kernelspec": {
   "display_name": "Python 3",
   "language": "python",
   "name": "python3"
  },
  "language_info": {
   "codemirror_mode": {
    "name": "ipython",
    "version": 2
   },
   "file_extension": ".py",
   "mimetype": "text/x-python",
   "name": "python",
   "nbconvert_exporter": "python",
   "pygments_lexer": "ipython2",
   "version": "2.7.17"
  }
 },
 "nbformat": 4,
 "nbformat_minor": 2
}
