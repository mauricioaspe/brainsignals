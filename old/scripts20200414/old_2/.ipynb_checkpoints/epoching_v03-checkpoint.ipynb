{
 "cells": [
  {
   "cell_type": "markdown",
   "metadata": {},
   "source": [
    "# Import continuous data from .continuous Openephys raw files"
   ]
  },
  {
   "cell_type": "code",
   "execution_count": null,
   "metadata": {},
   "outputs": [],
   "source": [
    "\"\"\" Takes the .npy with raw data from openephys2npy, and create baseline and OF epochs \n",
    "\n",
    "Input: \n",
    "    'SERTXXXX/npys_dir + structure.npy' \n",
    "    \n",
    "    Of npy matrices by structure, with \n",
    "        - Channels at 30 KHz\n",
    "        - All channels with mean subtracted\n",
    "        - Low-passed at 300 Hz\n",
    "        - Median subtracted\n",
    "        \n",
    "Output:\n",
    "    1. Epoched data from 3s before to after each center entrance. \n",
    "    2. Epoched baselines (mouse in OF periphery) of 3s lenght\n",
    "    3. Epochs saved in '/home/maspe/filer/SERT/SERTXXXX/npys/mPFC_epochs.npy'\n",
    "    \n",
    "        \n",
    "Baseline epochs are obtaines from:\n",
    "    \n",
    "    'SERT/ALL/npys/baselines.dict'\n",
    "    \n",
    "    * A dictionary with n baselines for each mouse\n",
    "    * Sampled at 30 Hz from the start of the 10 min OF.\n",
    "    \n",
    "    \n",
    "Written by Mauricio Aspé-Sánchez. Copyleft 2020.\n",
    "\n",
    "\"\"\" "
   ]
  },
  {
   "cell_type": "markdown",
   "metadata": {},
   "source": [
    "#### Import the required modules"
   ]
  },
  {
   "cell_type": "code",
   "execution_count": 1,
   "metadata": {},
   "outputs": [],
   "source": [
    "# Import required modules\n",
    "#import glob\n",
    "#import sys\n",
    "import time\n",
    "import pickle\n",
    "import numpy as np\n",
    "import pandas as pd\n",
    "import physig as ps\n",
    "from scipy import signal\n",
    "from matplotlib import pyplot as plt"
   ]
  },
  {
   "cell_type": "markdown",
   "metadata": {},
   "source": [
    "#### Get the mouse name and create the file name and folder paths"
   ]
  },
  {
   "cell_type": "code",
   "execution_count": 2,
   "metadata": {},
   "outputs": [],
   "source": [
    "IDs = ['SERT1597']\n",
    "ID = 'SERT1597'"
   ]
  },
  {
   "cell_type": "code",
   "execution_count": 3,
   "metadata": {},
   "outputs": [],
   "source": [
    "# Setting working file and paths\n",
    "files_dir = '/home/maspe/filer/SERT/' + ID + '/continuous/'\n",
    "npys_dir  = '/home/maspe/filer/SERT/' + ID + '/npys/'\n",
    "figs_dir  = '/home/maspe/filer/SERT/' + ID + '/figs/'"
   ]
  },
  {
   "cell_type": "markdown",
   "metadata": {},
   "source": [
    "#### Import info dictionary"
   ]
  },
  {
   "cell_type": "code",
   "execution_count": 4,
   "metadata": {},
   "outputs": [],
   "source": [
    "#IDs = pickle.load(open('/home/maspe/filer/scripts/preprocessing/IDs.dict'))['dict']\n",
    "baselines_all = pickle.load(open('/home/maspe/filer/SERT/ALL/npys/baselines.dict', 'rb'))\n",
    "#info = pickle.load(open(npys_dir + ID + '.info', 'rb'))"
   ]
  },
  {
   "cell_type": "markdown",
   "metadata": {},
   "source": [
    "## Main loop"
   ]
  },
  {
   "cell_type": "markdown",
   "metadata": {},
   "source": [
    "### Epoching the continuos data"
   ]
  },
  {
   "cell_type": "markdown",
   "metadata": {},
   "source": [
    "For baseline:<br>\n",
    "Define a windows of $3 s$, beginning at each point from baselines dictionary. Points are at $30 Hz$, thus multiplied by $1000$ to yield a $30 KHz$ resolution.\n",
    "\n",
    "For OF:<br>\n",
    "Define windows of $3 s$. Create a windows equals to $3 \\times fs$; $fs = 30 KHz$. Collect $3 s$ before and $3 s$ after each of the mouse's entrances to the center of the OF.\n",
    "\n",
    "Save at '/home/maspe/filer/SERT/SERTXXXX/npys/mPFC_epochs'.\n"
   ]
  },
  {
   "cell_type": "code",
   "execution_count": 8,
   "metadata": {},
   "outputs": [
    {
     "name": "stdout",
     "output_type": "stream",
     "text": [
      "Processing mouse SERT1597...\n",
      "Number of entrances: 16\n",
      "Loading NAC...\n",
      "Collecting epochs...\n",
      "Loading BLA...\n",
      "Collecting epochs...\n",
      "Loading mPFC...\n",
      "Collecting epochs...\n",
      "Loading vHip...\n",
      "Collecting epochs...\n",
      "Saving epoched dictionary...\n",
      "Epochs extracted in 0.16 min.\n",
      "\n",
      "Done!\n"
     ]
    }
   ],
   "source": [
    "# Defining time windows as 3 seconds before plus 3 second after center entrances\n",
    "fs = 30000\n",
    "secs = 3\n",
    "window = int(fs) * secs\n",
    "\n",
    "n_baselines = 25\n",
    "# mPFC_nchannels = info['mPFC_nchannels']\n",
    "\n",
    "\n",
    "for mouse in IDs:\n",
    "    clock = time.time()\n",
    "    print('Processing mouse {}...'.format(mouse))\n",
    "    \n",
    "    # Read the entrances times\n",
    "    df = pd.read_excel(files_dir + 'entradas.xlsx', sheet_name=0, header=None, names=[\"locs\"])\n",
    "    entrances_times = np.array(df['locs'].tolist(), dtype='int') * 30 # Times 30 because of sampling at 30 KHz\n",
    "    n_epochs = len(entrances_times)\n",
    "    print('Number of entrances: {}'.format(n_epochs))\n",
    "\n",
    "    # Defining baselines as 3 s windows\n",
    "    baselines = baselines_all[mouse] * 1000 # From 30 to 30,000 Hz\n",
    "    \n",
    "    \n",
    "    structures = {'mPFC': {}, 'NAC': {}, 'BLA': {}, 'vHip': {}}\n",
    "    for structure in structures.keys():\n",
    "        print('Loading {}...'.format(structure))\n",
    "        data = np.load(npys_dir + structure + '.npy')\n",
    "        n_channels = data.shape[0]\n",
    "    \n",
    "        print('Collecting epochs...')   \n",
    "        data_epochs    = np.zeros((n_channels, window * 2, n_epochs))\n",
    "        data_baselines = np.zeros((n_channels, window, n_baselines))\n",
    "\n",
    "        for channel in range(n_channels):\n",
    "            for epoch in range(n_epochs):\n",
    "                data_epochs[channel, :, epoch] = data[channel, entrances_times[epoch] - window : entrances_times[epoch] + window]\n",
    "            \n",
    "            for baseline in range(n_baselines):\n",
    "                data_baselines[channel, :, baseline] = data[channel, baselines[baseline] : baselines[baseline] + window]\n",
    "\n",
    "                \n",
    "        structures[structure]['epochs']    = data_epochs\n",
    "        structures[structure]['baselines'] = data_baselines\n",
    "        \n",
    "    \n",
    "    print('Saving epoched dictionary...')\n",
    "    #pickle.dump(structures, open(npys_dir + mouse + '.epochs', 'wb'))              \n",
    "    np.save(npys_dir + 'baseline_epochs.npy', structures)\n",
    "    print('Epochs extracted in {:.2f} min.\\n'.format((time.time() - clock) / 60))\n",
    "\n",
    "print('Done!')"
   ]
  },
  {
   "cell_type": "markdown",
   "metadata": {},
   "source": [
    "### Plotting"
   ]
  },
  {
   "cell_type": "code",
   "execution_count": null,
   "metadata": {},
   "outputs": [],
   "source": [
    "n_rows = np.int(np.ceil(n_epochs / 5.0))\n",
    "### Plotting ###\n",
    "# Plotting mPFC\n",
    "print('Plotting mPFC...')\n",
    "for channel in range(mPFC_nchannels):\n",
    "    plt.figure(figsize=(20,10))\n",
    "    for epoch in range(n_epochs):\n",
    "        plt.subplot(n_rows, 5, epoch+1)\n",
    "        plt.plot(mPFC_epochs[channel, :, epoch])\n",
    "        \n",
    "    plt.savefig(figs_dir + 'mPFC_ch' + str(channel) + '.png', dpi=150, format='png')\n",
    "    plt.close()\n",
    "    \n",
    "print('mPFC: Done!')\n",
    "\n",
    "# Plotting NAC\n",
    "print('Plotting NAC...')\n",
    "for channel in range(NAC_nchannels):\n",
    "    plt.figure(figsize=(20,10))\n",
    "    for epoch in range(n_epochs):\n",
    "        plt.subplot(n_rows,5,epoch+1)\n",
    "        plt.plot(NAC_epochs[channel,:, epoch])\n",
    "        \n",
    "    plt.savefig(figs_dir + 'NAC_ch' + str(channel) + '.png', dpi=150, format='png')\n",
    "    plt.close()\n",
    "    \n",
    "print('NAC: Done!')\n",
    "    \n",
    "\n",
    "# Plotting BLA\n",
    "print('Plotting BLA...')\n",
    "for channel in range(BLA_nchannels):\n",
    "    plt.figure(figsize=(20,10))\n",
    "    for epoch in range(n_epochs):\n",
    "        plt.subplot(n_rows,5,epoch+1)\n",
    "        plt.plot(BLA_epochs[channel,:, epoch])\n",
    "        \n",
    "    plt.savefig(figs_dir + 'BLA_ch' + str(channel) + '.png', dpi=150, format='png')\n",
    "    plt.close()\n",
    "    \n",
    "print('BLA: Done!')\n",
    "\n",
    "\n",
    "# Plotting vHip\n",
    "print('Plotting vHip...')\n",
    "for channel in range(vHip_nchannels):\n",
    "    plt.figure(figsize=(20,10))\n",
    "    for epoch in range(n_epochs):\n",
    "        plt.subplot(n_rows,5,epoch+1)\n",
    "        plt.plot(vHip_epochs[channel,:, epoch])\n",
    "        \n",
    "    plt.savefig(figs_dir + 'vHip_ch' + str(channel) + '.png', dpi=150, format='png')\n",
    "    plt.close()\n",
    "    \n",
    "print('vHip: Done!')\n",
    "    \n",
    "print('\\n{} preprocessed!'.format(ID))\n",
    "\n"
   ]
  }
 ],
 "metadata": {
  "kernelspec": {
   "display_name": "Python 3",
   "language": "python",
   "name": "python3"
  },
  "language_info": {
   "codemirror_mode": {
    "name": "ipython",
    "version": 2
   },
   "file_extension": ".py",
   "mimetype": "text/x-python",
   "name": "python",
   "nbconvert_exporter": "python",
   "pygments_lexer": "ipython2",
   "version": "2.7.17"
  }
 },
 "nbformat": 4,
 "nbformat_minor": 2
}
