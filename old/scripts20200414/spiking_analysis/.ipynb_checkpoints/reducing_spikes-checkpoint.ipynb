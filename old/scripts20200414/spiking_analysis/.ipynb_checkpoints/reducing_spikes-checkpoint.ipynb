{
 "cells": [
  {
   "cell_type": "code",
   "execution_count": null,
   "metadata": {},
   "outputs": [],
   "source": [
    "import pickle\n",
    "import time\n",
    "import numpy as np\n",
    "from matplotlib import pyplot as plt"
   ]
  },
  {
   "cell_type": "markdown",
   "metadata": {},
   "source": [
    "#### Loading spikes, reduce it to 1 Hz and save the reduced dictionary"
   ]
  },
  {
   "cell_type": "code",
   "execution_count": null,
   "metadata": {},
   "outputs": [],
   "source": [
    "npys_dir = '/home/maspe/filer/SERT/ALL/npys/'\n",
    "IDs_WT = ['SERT1597', 'SERT1659', 'SERT1678', 'SERT1908', 'SERT1984', 'SERT1985', 'SERT2014']\n",
    "IDs_KO = ['SERT1668', 'SERT1665', 'SERT2018', 'SERT2024', 'SERT2013'] "
   ]
  },
  {
   "cell_type": "code",
   "execution_count": null,
   "metadata": {},
   "outputs": [],
   "source": [
    "sample_rate = 30000\n",
    "\n",
    "### For WTs\n",
    "print('Processing WTs...')\n",
    "reduced_spikes_WT = {}\n",
    "for ID in IDs_WT:\n",
    "    print('Importing {}...'.format(ID))\n",
    "    clock = time.time()\n",
    "    \n",
    "    # Get the raw data, sampled at 30 kHz\n",
    "    data = np.load(npys_dir + ID + '_spikes_WT.npy', allow_pickle=True)\n",
    "    \n",
    "    # Reduce it to a sample rate of 1 Hz\n",
    "    reduced_spikes_WT[ID] = np.add.reduceat(data, range(0, data.shape[1], sample_rate), axis=1)\n",
    "        \n",
    "    print('{} imported in {} min.'.format(ID, (time.time() - clock) / 60))\n",
    "\n",
    "    \n",
    "print('Saving the data for WTs...')\n",
    "with open(npys_dir + 'reduced_WT.spikes', 'wb') as f:\n",
    "    pickle.dump(reduced_spikes_WT, f, protocol=2)\n",
    "print('Done!')\n",
    "\n",
    "\n",
    "### For KOs\n",
    "print('Processing KOs...')\n",
    "reduced_spikes_KO = {}\n",
    "for ID in IDs_KO:\n",
    "    print('Importing {}...'.format(ID))\n",
    "    clock = time.time()\n",
    "    \n",
    "    # Get the raw data, sampled at 30 kHz\n",
    "    data = np.load(npys_dir + ID + '_spikes_KO.npy', allow_pickle=True)\n",
    "    \n",
    "    # Reduce it to a sample rate of 1 Hz\n",
    "    reduced_spikes_KO[ID] = np.add.reduceat(data, range(0, data.shape[1], sample_rate), axis=1)\n",
    "        \n",
    "    print('{} imported in {} min.'.format(ID, (time.time() - clock) / 60))\n",
    "\n",
    "    \n",
    "print('Saving the data for KOs...')\n",
    "with open(npys_dir + 'reduced_KO.spikes', 'wb') as f:\n",
    "    pickle.dump(reduced_spikes_KO, f, protocol=2)\n",
    "print('Done!')"
   ]
  }
 ],
 "metadata": {
  "kernelspec": {
   "display_name": "Python 3",
   "language": "python",
   "name": "python3"
  },
  "language_info": {
   "codemirror_mode": {
    "name": "ipython",
    "version": 2
   },
   "file_extension": ".py",
   "mimetype": "text/x-python",
   "name": "python",
   "nbconvert_exporter": "python",
   "pygments_lexer": "ipython2",
   "version": "2.7.17"
  }
 },
 "nbformat": 4,
 "nbformat_minor": 2
}
