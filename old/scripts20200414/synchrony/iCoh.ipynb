{
 "cells": [
  {
   "cell_type": "code",
   "execution_count": 2,
   "metadata": {},
   "outputs": [],
   "source": [
    "import pickle\n",
    "import time\n",
    "import numpy as np\n",
    "from scipy import signal\n",
    "import matplotlib.pyplot as plt\n",
    "import connectivity_measures as cm"
   ]
  },
  {
   "cell_type": "code",
   "execution_count": 3,
   "metadata": {},
   "outputs": [],
   "source": [
    "### Contructing filters\n",
    "### Butterworth filter\n",
    "def butter_bandpass(lowcut, highcut, fs, order=5):\n",
    "    nyq = 0.5 * fs\n",
    "    low = lowcut / nyq\n",
    "    high = highcut / nyq\n",
    "    b, a = signal.butter(order, [low, high], btype='band')\n",
    "    return b, a\n",
    "\n",
    "fs      = 1000.0\n",
    "\n",
    "filter_parameters = {#'delta':    {'N': 3, 'lowcut': 0.5,  'highcut': 3},\n",
    "                    'theta':    {'N': 4, 'lowcut': 3.5,  'highcut': 7.5},\n",
    "                    #'alpha':     {'N': 4, 'lowcut': 8.0,  'highcut': 13.0},\n",
    "                    'beta':      {'N': 4, 'lowcut': 13.0, 'highcut': 25.0},\n",
    "                    'low_gamma': {'N': 6, 'lowcut': 25.0, 'highcut': 60}}\n",
    "\n",
    "butterworths = dict()\n",
    "for band in filter_parameters.keys():\n",
    "    lowcut = filter_parameters[band]['lowcut']\n",
    "    highcut = filter_parameters[band]['highcut']\n",
    "    N = filter_parameters[band]['N']\n",
    "    butterworths[band] = butter_bandpass(lowcut, highcut, fs, order=N)\n"
   ]
  },
  {
   "cell_type": "code",
   "execution_count": 4,
   "metadata": {},
   "outputs": [],
   "source": [
    "IDs = ['SERT1597', 'SERT1659', 'SERT1678', 'SERT1908', 'SERT1984',\n",
    "       'SERT1985', 'SERT2014', 'SERT1668', 'SERT1665', 'SERT2018',\n",
    "       'SERT2024', 'SERT2013']"
   ]
  },
  {
   "cell_type": "markdown",
   "metadata": {},
   "source": [
    "### Probar en ventanas de 500 ms!!"
   ]
  },
  {
   "cell_type": "code",
   "execution_count": 6,
   "metadata": {},
   "outputs": [
    {
     "name": "stdout",
     "output_type": "stream",
     "text": [
      "\n",
      "Loading mouse SERT1597...\n",
      "Loading mPFC...\n",
      "Loading NAC...\n",
      "Loading BLA...\n",
      "Loading vHip...\n",
      "Filtering...\n",
      "Done!\n"
     ]
    }
   ],
   "source": [
    "condition = 'epochs'\n",
    "\n",
    "iCohs = {'theta': {}, 'beta': {}, 'low_gamma': {}}\n",
    "for mouse in IDs: \n",
    "    npys_dir = '/home/maspe/filer/SERT/' + mouse + '/npys/'\n",
    "    print('\\nLoading mouse {}...'.format(mouse))\n",
    "    \n",
    "    ### Loading data\n",
    "    data = pickle.load(open(npys_dir + mouse + '.epochs', 'rb'), encoding='latin1')\n",
    "    \n",
    "    ### Loop\n",
    "    filtered_bands = {'theta': {}, 'beta': {}, 'low_gamma': {}}\n",
    "    iterator = 0\n",
    "    \n",
    "    # For this mouse, collect all structures\n",
    "    # in a (structure_n_channels * n_structures, time_points, n_epochs) matrix\n",
    "    for structure in ['mPFC', 'NAC', 'BLA', 'vHip']: \n",
    "        print('Loading ' + structure + '...')\n",
    "        if iterator == 0:\n",
    "            all_structures = data[structure][condition]\n",
    "        else:\n",
    "            all_structures = np.vstack((all_structures, data[structure][condition]))\n",
    "        \n",
    "        iterator += 1\n",
    "\n",
    "    # Filters the 32 channels x 180,000 time_points x n epochs matrix along the time_points axis \n",
    "    print('Filtering...')    \n",
    "    for band in filtered_bands.keys():\n",
    "        filtered = signal.filtfilt(b=butterworths[band][0], a=butterworths[band][1],\n",
    "                                   x=all_structures, axis=1)\n",
    "        \n",
    "        \n",
    "        print('Calculating iCoh for {} band...'.format(band))\n",
    "        clock = time.time()\n",
    "            \n",
    "        # Defining ROIs in seconds    \n",
    "        roi_pre = np.array([-2, 0])\n",
    "        roi_post = np.array([2, 2.5])\n",
    "\n",
    "        # Converting ROIs to data points\n",
    "        pre = ((roi_pre + 3) * 30000).astype(int)\n",
    "        post = ((roi_post + 3) * 30000).astype(int)\n",
    "\n",
    "        # Loop\n",
    "        n_epochs = filtered.shape[2]\n",
    "        for epoch in range(n_epochs):\n",
    "            if epoch == 0:\n",
    "                icoh_pre  = cm.icoh(filtered[:,pre[0]:pre[1],epoch], average = False)\n",
    "                icoh_post = cm.icoh(filtered[:,post[0]:post[1],epoch], average = False)\n",
    "            else:\n",
    "                icoh_pre  = np.dstack((icoh_pre, cm.icoh(filtered[:,pre[0]:pre[1],epoch], average = False)))\n",
    "                icoh_post = np.dstack((icoh_post, cm.icoh(filtered[:,post[0]:post[1],epoch], average = False)))\n",
    "        \n",
    "        print('iCoh calculated in {} min'.format(time.time() - clock))\n",
    "        \n",
    "        iCohs[band]['pre'] = icoh_pre\n",
    "        iCohs[band]['post'] = icoh_post\n",
    "\n",
    "    \n",
    "    pickle.dump(iCohs, open(npys_dir + mouse + '.icoh2', 'wb'), protocol=2)\n",
    "\n",
    "    \n",
    "print('Done!')  \n",
    "print('Mouse processed in {} min.'.format((time.time() - clock) / 60))"
   ]
  }
 ],
 "metadata": {
  "kernelspec": {
   "display_name": "Python 3",
   "language": "python",
   "name": "python3"
  },
  "language_info": {
   "codemirror_mode": {
    "name": "ipython",
    "version": 2
   },
   "file_extension": ".py",
   "mimetype": "text/x-python",
   "name": "python",
   "nbconvert_exporter": "python",
   "pygments_lexer": "ipython2",
   "version": "2.7.17"
  }
 },
 "nbformat": 4,
 "nbformat_minor": 2
}
