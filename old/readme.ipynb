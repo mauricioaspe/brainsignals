{
 "cells": [
  {
   "cell_type": "markdown",
   "metadata": {},
   "source": [
    "# Complete pipeline"
   ]
  },
  {
   "cell_type": "markdown",
   "metadata": {},
   "source": [
    "This file describes the complete pipeline."
   ]
  },
  {
   "cell_type": "markdown",
   "metadata": {},
   "source": [
    "## Continuous analysis"
   ]
  },
  {
   "cell_type": "markdown",
   "metadata": {},
   "source": [
    "### Loading, plotting and saving <i>.continuous</i> files"
   ]
  },
  {
   "cell_type": "markdown",
   "metadata": {},
   "source": [
    "Raw data is imported from the folder DATA/MICE/XXXX/, where <i>XXXX</i> stands for the name of the mouse (e.g. mouse 1597 is in folder 'DATA/MICE/1597'). The continuous folder must have all the continuous files named '100_CHXX.continuous', where <i>XX</i> is the number of the channel. In addition to this 32 <i>.continuous</i> files, the folder <i>must</i> have:\n",
    "\n",
    "<ul style=\"list-style-type:circle;\" >\n",
    "    <li>A 'Continuous_Data.openephys' file</li>\n",
    "    <li>A 'canales.csv' file, specifying the number and location of each channel</li>\n",
    "    <li>A 'entradas.csv' file, specifying the entrance times for this mouse</li>\n",
    "<ul>\n",
    "        "
   ]
  },
  {
   "cell_type": "markdown",
   "metadata": {},
   "source": [
    "#### Preprocessing"
   ]
  },
  {
   "cell_type": "markdown",
   "metadata": {},
   "source": [
    "First:<br>\n",
    "```python openephys2physig.py 'SERTXXXX' ``` will take the SERTXXXX folder and load all 32 .continuos files, read the list of channels, the start and end of the OF and the entrances times to the center, and the numbers of channels for each structure. Then, \n",
    "<ol>\n",
    "    <li>Load each of the 32 .continuous Openephys files</li>\n",
    "    <li>Subtract the mean</li>\n",
    "    <li>Low-pass it at 300 Hz</li>\n",
    "    <li>Subtract the median by structure</li>\n",
    "    <li>Save it as np.save(npys_dir + 'mPFC', mPFC)</li>\n",
    "</ol>\n",
    "\n",
    "Then,\n",
    "<ol>\n",
    "    <li>Epochs in 3 seconds</li>\n",
    "    <li>Plots each epoch for each channels</li>\n",
    "</ol>\n"
   ]
  },
  {
   "cell_type": "markdown",
   "metadata": {},
   "source": [
    "### File system"
   ]
  },
  {
   "cell_type": "markdown",
   "metadata": {},
   "source": [
    "filer |--> SERT |--> SERTXXXX |--> continuous <br>\n",
    "&emsp;&emsp;&emsp;&emsp;&emsp;&emsp;&emsp;&emsp;&emsp;&emsp;&emsp;&emsp;&emsp;&emsp;|--> figs <br>\n",
    "&emsp;&emsp;&emsp;&emsp;&emsp;&emsp;&emsp;&emsp;&emsp;&emsp;&emsp;&emsp;&emsp;&emsp;|--> npys <br>\n",
    "&emsp;&emsp;&emsp;&emsp;&emsp;&emsp;&emsp;&emsp;&emsp;&emsp;&emsp;&emsp;&emsp;&emsp;|--> spikes <br>"
   ]
  },
  {
   "cell_type": "markdown",
   "metadata": {},
   "source": [
    "### Removing epochs"
   ]
  }
 ],
 "metadata": {
  "kernelspec": {
   "display_name": "Python 3",
   "language": "python",
   "name": "python3"
  },
  "language_info": {
   "codemirror_mode": {
    "name": "ipython",
    "version": 3
   },
   "file_extension": ".py",
   "mimetype": "text/x-python",
   "name": "python",
   "nbconvert_exporter": "python",
   "pygments_lexer": "ipython3",
   "version": "3.8.5"
  }
 },
 "nbformat": 4,
 "nbformat_minor": 2
}
