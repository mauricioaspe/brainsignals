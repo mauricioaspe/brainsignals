{
 "cells": [
  {
   "cell_type": "code",
   "execution_count": 2,
   "metadata": {},
   "outputs": [],
   "source": [
    "import time\n",
    "import pickle\n",
    "import numpy as np\n",
    "from matplotlib import pyplot as plt"
   ]
  },
  {
   "cell_type": "code",
   "execution_count": 27,
   "metadata": {},
   "outputs": [],
   "source": [
    "fs = 1000.0\n",
    "dt = 1 / fs\n",
    "time_windows = np.arange(0, 3, dt)\n",
    "frequencies = np.arange(1, 100, 1)\n",
    "\n",
    "record_length = 600000\n",
    "n_epochs = 40\n",
    "window = record_length / n_epochs\n",
    "\n",
    "figs_dir = '/home/maspe/filer/SERT/ALL/figs/channels_integrity/'"
   ]
  },
  {
   "cell_type": "code",
   "execution_count": 21,
   "metadata": {},
   "outputs": [
    {
     "name": "stdout",
     "output_type": "stream",
     "text": [
      "###################\n",
      "Loading WTs...\n",
      "Loading mPFC from SERT2014...\n",
      "All mice loaded in 0.55 min.\n"
     ]
    }
   ],
   "source": [
    "master_clock = time.time()\n",
    "IDs_WT = ['SERT2014'] #, 'SERT1659', 'SERT1678', 'SERT1908', 'SERT1984', 'SERT1985', 'SERT2014']\n",
    "IDs_KO = ['SERT1668'] #, 'SERT1665', 'SERT2018', 'SERT2024', 'SERT2013'] \n",
    "\n",
    "WT = {'mPFC':{}, 'BLA':{}, 'NAC':{}, 'vHip':{}}\n",
    "KO = {'mPFC':{}, 'BLA':{}, 'NAC':{}, 'vHip':{}}\n",
    "clock = time.time()\n",
    "\n",
    "\n",
    "print('###################\\nLoading WTs...')\n",
    "for structure in ['mPFC']: #WT.keys():\n",
    "    for ID in IDs_WT:\n",
    "        print('Loading {} from {}...'.format(structure, ID))\n",
    "        npys_dir = '/home/maspe/filer/SERT/' + ID + '/npys/'\n",
    "        \n",
    "        data = np.load(npys_dir + structure + '_morlet.npy', allow_pickle=True)   \n",
    "        data = np.mean(data, axis=2).reshape((99, window, n_epochs))\n",
    "        \n",
    "        ('Plotting epochs...')\n",
    "        for epoch in range(n_epochs):\n",
    "            pwr1 = data[:, :, epoch]\n",
    "            fmin = min(frequencies)\n",
    "            fmax = max(frequencies)\n",
    "\n",
    "            plt.figure(1, figsize=(10, 4))\n",
    "            plt.clf()\n",
    "\n",
    "            ax1 = plt.subplot2grid((1, 5),(0, 0),colspan=4)\n",
    "   \n",
    "            plt.imshow(pwr1,cmap='RdBu',vmax=np.max(pwr1),vmin=-np.max(pwr1),\n",
    "                       extent=(min(time_windows),max(time_windows),fmin,fmax),\n",
    "                       origin='lower', interpolation='none',aspect='auto')\n",
    "            plt.colorbar(fraction=0.05,pad=0.02)\n",
    "    \n",
    "            #plt.axvline(x=2, color='black')\n",
    "   \n",
    "            #locs, labels = plt.xticks()    \n",
    "            #plt.xticks(locs, ['-2', '-1.5', '-1', '-0.5', '0', '0.5', '1'], fontsize=14)\n",
    "            plt.yticks(fontsize=14)\n",
    "\n",
    "            #ax1.set_yscale('log')\n",
    "            #ax1.set_xlabel('Time (s)', fontsize=16)\n",
    "            ax1.set_ylabel('Frequency (Hz)', fontsize=16)\n",
    "            plt.title('SRS Grand-average', fontsize=20)\n",
    "            \n",
    "            plt.savefig(figs_dir + 'test_epoch_{}.png'.format(epoch), dpi=150, format='png')\n",
    "            plt.close()\n",
    "\n",
    "        \n",
    "#print('###################\\nLoading KOs...')\n",
    "#for structure in KO.keys():\n",
    "#    for ID in IDs_KO:\n",
    "#        print('Loading {} from {}...'.format(structure, ID))\n",
    "#        npys_dir = '/home/maspe/filer/SERT/' + ID + '/npys/'        \n",
    "#        \n",
    "#        data = np.load(npys_dir + structure + '_morlet.npy', allow_pickle=True)\n",
    "#        \n",
    "#        KO[structure][ID] = np.load(npys_dir + structure + '_morlet.npy', allow_pickle=True)\n",
    "    \n",
    "        \n",
    "print('All mice loaded in {:.2f} min.'.format((time.time() - clock) / 60))\n"
   ]
  },
  {
   "cell_type": "code",
   "execution_count": 23,
   "metadata": {},
   "outputs": [
    {
     "data": {
      "text/plain": [
       "(99, 30000)"
      ]
     },
     "execution_count": 23,
     "metadata": {},
     "output_type": "execute_result"
    }
   ],
   "source": [
    "pwr1.shape"
   ]
  }
 ],
 "metadata": {
  "kernelspec": {
   "display_name": "Python 3",
   "language": "python",
   "name": "python3"
  },
  "language_info": {
   "codemirror_mode": {
    "name": "ipython",
    "version": 2
   },
   "file_extension": ".py",
   "mimetype": "text/x-python",
   "name": "python",
   "nbconvert_exporter": "python",
   "pygments_lexer": "ipython2",
   "version": "2.7.17"
  }
 },
 "nbformat": 4,
 "nbformat_minor": 2
}
