{
 "cells": [
  {
   "cell_type": "code",
   "execution_count": 2,
   "metadata": {},
   "outputs": [],
   "source": [
    "import pickle\n",
    "import time\n",
    "import numpy as np\n",
    "from scipy import signal\n",
    "from matplotlib import pyplot as plt"
   ]
  },
  {
   "cell_type": "code",
   "execution_count": 3,
   "metadata": {},
   "outputs": [],
   "source": [
    "spikes_epochs = pickle.load(open('/home/maspe/filer/SERT/ALL/npys/spikes2.epochs', 'rb'))"
   ]
  },
  {
   "cell_type": "code",
   "execution_count": null,
   "metadata": {},
   "outputs": [],
   "source": [
    "#IDs = pickle.load(open('/home/maspe/filer/scripts/preprocessing/IDs.dict', 'rb'))['list_all']"
   ]
  },
  {
   "cell_type": "code",
   "execution_count": 7,
   "metadata": {},
   "outputs": [
    {
     "name": "stdout",
     "output_type": "stream",
     "text": [
      "Loading mouse SERT1597...\n",
      "Applying Hilbert transform...\n",
      "Mouse loaded in 82.6249940395 s!\n",
      "Done!\n"
     ]
    }
   ],
   "source": [
    "clock = time.time()\n",
    "\n",
    "phases, amplitudes = dict(), dict()\n",
    "for mouse in ['SERT1597']:\n",
    "    print('Loading mouse {}...'.format(mouse))\n",
    "    \n",
    "    npys_dir = '/home/maspe/filer/SERT/' + mouse + '/npys/' \n",
    "    LFPs_epochs = pickle.load(open(npys_dir + mouse + '.epochs_filtered', 'rb'))\n",
    "    \n",
    "    print('Applying Hilbert transform...')\n",
    "    for band in LFPs_epochs.keys():\n",
    "        z = signal.hilbert(LFPs_epochs[band])\n",
    "\n",
    "        phases[band]     = np.angle(z)\n",
    "        amplitudes[band] = np.absolute(z)\n",
    "   \n",
    "     \n",
    "    #spikes = [item for sublist in spikes_epochs[mouse] for item in sublist]\n",
    "    \n",
    "print('Mouse loaded in {} s!'.format(time.time() - clock))\n",
    "    \n",
    "        \n",
    "        \n",
    "print('Done!')"
   ]
  },
  {
   "cell_type": "code",
   "execution_count": 10,
   "metadata": {},
   "outputs": [],
   "source": [
    "ms = 200\n",
    "window_length = ms * 30\n",
    "window = [0, window_length] # Windows in ms\n",
    "windows = []\n",
    "\n",
    "for i in range(30):\n",
    "    windows.append(window)\n",
    "    window = [window[0] + window_length, window[1] + window_length]\n",
    "    \n",
    "mPFC_units = np.arange(0,10)\n",
    "vHip_channels = np.arange(26,32)"
   ]
  },
  {
   "cell_type": "code",
   "execution_count": 13,
   "metadata": {},
   "outputs": [
    {
     "data": {
      "text/plain": [
       "30"
      ]
     },
     "execution_count": 13,
     "metadata": {},
     "output_type": "execute_result"
    }
   ],
   "source": [
    "len(windows)"
   ]
  },
  {
   "cell_type": "code",
   "execution_count": 37,
   "metadata": {},
   "outputs": [],
   "source": [
    "\n",
    "spikes_LFPs = []\n",
    "#n_units = len(spikes_epochs[mouse])\n",
    "#n_epochs = phases[band].shape[2]\n",
    "\n",
    "all_spikes = spikes_epochs['SERT1597']\n",
    "for window in windows:\n",
    "    for unit in mPFC_units:\n",
    "        this_unit = []\n",
    "        for channel in vHip_channels: # vHip channels\n",
    "            for epoch in range(n_epochs):\n",
    "                spikes = all_spikes[unit][epoch]\n",
    "                windows_spikes = spikes[(spikes > window[0]) & (spikes < window[1])]\n",
    "                this_unit.extend(phases['theta'][channel,:,epoch][windows_spikes])\n",
    "    \n",
    "    spikes_LFPs.append((np.mean(this_unit), np.std(this_unit)))"
   ]
  },
  {
   "cell_type": "code",
   "execution_count": 40,
   "metadata": {},
   "outputs": [
    {
     "data": {
      "text/plain": [
       "[(-0.04788724219674407, 1.805759535367384),\n",
       " (-0.03158337558118389, 1.8402634305055916),\n",
       " (-0.0035812759184157463, 1.8011488028145148),\n",
       " (-0.012250056976619605, 1.8287843762549565),\n",
       " (0.004175949195289071, 1.8441125047502351),\n",
       " (-0.04006928608255263, 1.8229098607889689),\n",
       " (-0.008922036196665616, 1.827907105405387),\n",
       " (0.036046718234547644, 1.8238285747551548),\n",
       " (0.004502571223750305, 1.8228607095190168),\n",
       " (0.0478171181184142, 1.8219581641650808),\n",
       " (-0.008867413243608459, 1.8364736140274522),\n",
       " (-0.030119008273566533, 1.7869191963274504),\n",
       " (0.09701648709430592, 1.8310605235363522),\n",
       " (0.10940487363409414, 1.7682450401180234),\n",
       " (0.1274508221200827, 1.8128493272315191),\n",
       " (0.02856677921612813, 1.8462762800419372),\n",
       " (0.0021192442808497126, 1.8182976275402456),\n",
       " (-0.026429434005672697, 1.8270420101551803),\n",
       " (-0.04536280833928857, 1.859100997659884),\n",
       " (-0.004818313366596533, 1.8087877453261372),\n",
       " (0.054704326828963756, 1.8198845878926586),\n",
       " (0.039560263250564526, 1.843744250352472),\n",
       " (0.023586457628451202, 1.8123892893561802),\n",
       " (0.06659438107258506, 1.8193190371232912),\n",
       " (-0.014410482547810133, 1.8031491635987358),\n",
       " (-0.031649208178927114, 1.8249007711550018),\n",
       " (-0.00111602671441116, 1.8273635766923675),\n",
       " (0.01632189978320244, 1.8030750541478227),\n",
       " (-0.06000495232137094, 1.7977673864521622),\n",
       " (0.07452843828130391, 1.803989336043341)]"
      ]
     },
     "execution_count": 40,
     "metadata": {},
     "output_type": "execute_result"
    }
   ],
   "source": [
    "spikes_LFPs"
   ]
  },
  {
   "cell_type": "code",
   "execution_count": null,
   "metadata": {},
   "outputs": [],
   "source": [
    "spikes_epochs['SERT1597'].shape"
   ]
  },
  {
   "cell_type": "code",
   "execution_count": null,
   "metadata": {},
   "outputs": [],
   "source": [
    "len(spikes_epochs['SERT1597'][50][10])"
   ]
  },
  {
   "cell_type": "code",
   "execution_count": null,
   "metadata": {},
   "outputs": [],
   "source": [
    "spikes_epochs['SERT1597'][50][15]"
   ]
  },
  {
   "cell_type": "code",
   "execution_count": null,
   "metadata": {},
   "outputs": [],
   "source": [
    "for unit in range(n_units:\n",
    "    for epoch in range(n_epochs): \n",
    "        spikes_LFPs = LFPs['theta'][:,:,epoch][spikes_epochs['SERT1597'][unit][epoch]]"
   ]
  },
  {
   "cell_type": "code",
   "execution_count": null,
   "metadata": {},
   "outputs": [],
   "source": [
    "LFPs_epochs['theta'].shape"
   ]
  },
  {
   "cell_type": "code",
   "execution_count": null,
   "metadata": {},
   "outputs": [],
   "source": [
    "10*6*12"
   ]
  },
  {
   "cell_type": "code",
   "execution_count": null,
   "metadata": {},
   "outputs": [],
   "source": [
    "spikes_matrix = np.empty((len(collapsed_units), 180000))\n",
    "spikes_matrix.shape"
   ]
  },
  {
   "cell_type": "code",
   "execution_count": null,
   "metadata": {},
   "outputs": [],
   "source": []
  },
  {
   "cell_type": "code",
   "execution_count": null,
   "metadata": {},
   "outputs": [],
   "source": []
  },
  {
   "cell_type": "code",
   "execution_count": null,
   "metadata": {},
   "outputs": [],
   "source": []
  },
  {
   "cell_type": "code",
   "execution_count": null,
   "metadata": {},
   "outputs": [],
   "source": []
  },
  {
   "cell_type": "markdown",
   "metadata": {},
   "source": [
    "### Backup !!!"
   ]
  },
  {
   "cell_type": "code",
   "execution_count": null,
   "metadata": {},
   "outputs": [],
   "source": [
    "collapsed_units = []\n",
    "\n",
    "    for unit in range(n_units):\n",
    "        collapsed_units.append([item for sublist in spikes_epochs[mouse][unit] for item in sublist])"
   ]
  }
 ],
 "metadata": {
  "kernelspec": {
   "display_name": "Python 3",
   "language": "python",
   "name": "python3"
  },
  "language_info": {
   "codemirror_mode": {
    "name": "ipython",
    "version": 2
   },
   "file_extension": ".py",
   "mimetype": "text/x-python",
   "name": "python",
   "nbconvert_exporter": "python",
   "pygments_lexer": "ipython2",
   "version": "2.7.17"
  }
 },
 "nbformat": 4,
 "nbformat_minor": 2
}
