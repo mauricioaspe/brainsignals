{
 "cells": [
  {
   "cell_type": "markdown",
   "metadata": {},
   "source": [
    "# Import continuous data from .continuous Openephys raw files"
   ]
  },
  {
   "cell_type": "code",
   "execution_count": null,
   "metadata": {},
   "outputs": [],
   "source": [
    "\"\"\" The file works from terminal taking the name of the mouse as its only argument.\n",
    "E.g. Run python3 continuous_epochs.py 'SERT1597' to preprocess the mouse 'SERT1957'\n",
    "\n",
    "Output: \n",
    "    1. Info files\n",
    "    2. Matrix by structure, with \n",
    "        - Channels at 30 KHz\n",
    "        - All channels with mean subtracted\n",
    "        - Low-passed at 300 Hz\n",
    "        - Median subtracted\n",
    "        - Saved at SERTXXXX/npys_dir + structure.npy\n",
    "        \n",
    "    3. Epoched the data from 3s before to after each center entrance. \n",
    "    4. Continuous epochs saved in '/home/maspe/filer/SERT/SERTXXXX/npys/mPFC_epochs.npy'\n",
    "\n",
    "\n",
    "\n",
    "\"\"\" "
   ]
  },
  {
   "cell_type": "markdown",
   "metadata": {},
   "source": [
    "#### Import the required modules"
   ]
  },
  {
   "cell_type": "code",
   "execution_count": null,
   "metadata": {},
   "outputs": [],
   "source": [
    "# Import required modules\n",
    "import glob\n",
    "import sys\n",
    "import numpy as np\n",
    "import pandas as pd\n",
    "import physig as ps\n",
    "from scipy import signal\n",
    "from matplotlib import pyplot as plt"
   ]
  },
  {
   "cell_type": "markdown",
   "metadata": {},
   "source": [
    "#### Get the mouse name and create the file name and folder paths"
   ]
  },
  {
   "cell_type": "code",
   "execution_count": 1,
   "metadata": {},
   "outputs": [],
   "source": [
    "if len(sys.argv) > 1:\n",
    "    ID = sys.argv[1]\n",
    "else:\n",
    "    print('Bad file format!')\n",
    "    exit()\n",
    "\n",
    "\n",
    "print('Processing mouse {}...'.format(ID))\n",
    "\n",
    "# Setting working file and paths\n",
    "files_dir = '/home/maspe/filer/SERT/' + ID + '/continuous/'\n",
    "npys_dir  = '/home/maspe/filer/SERT/' + ID + '/npys/'\n",
    "figs_dir  = '/home/maspe/filer/SERT/' + ID + '/figs/'"
   ]
  },
  {
   "cell_type": "markdown",
   "metadata": {},
   "source": [
    "#### Lists all continuous files and read the list of channels"
   ]
  },
  {
   "cell_type": "code",
   "execution_count": null,
   "metadata": {},
   "outputs": [],
   "source": [
    "# List all continuous files in working folder\n",
    "files = sorted(glob.glob(files_dir + '/*.continuous'))\n",
    "\n",
    "# Read the list of channels\n",
    "df = pd.read_excel(files_dir + 'canales.xlsx', sheet_name=0, header=None, names=[\"locs\"])\n",
    "channels_locations = np.array(df['locs'].tolist())\n",
    "n_channels = len(channels_locations)"
   ]
  },
  {
   "cell_type": "markdown",
   "metadata": {},
   "source": [
    "#### Gets the start and end of the OF and the entrances times "
   ]
  },
  {
   "cell_type": "code",
   "execution_count": null,
   "metadata": {},
   "outputs": [],
   "source": [
    "# Start and end of OF\n",
    "df = pd.read_excel(files_dir + 'xy.xlsx', sheet_name=0, header=None)\n",
    "start_OF = int(np.ceil(df[3][0] * 30)) # Times 30 because of sampling at 30 KHz\n",
    "stop_OF = int(np.floor(df[3][1] * 30))\n",
    "\n",
    "# Read the entrances times\n",
    "df = pd.read_excel(files_dir + 'entradas.xlsx', sheet_name=0, header=None, names=[\"locs\"])\n",
    "entrances_times = np.array(df['locs'].tolist(), dtype='int') * 30 # Times 30 because of sampling at 30 KHz\n",
    "n_epochs = len(entrances_times)\n",
    "print('Number of entrances: {}'.format(n_epochs))"
   ]
  },
  {
   "cell_type": "markdown",
   "metadata": {},
   "source": [
    "#### Get indexes and number of channels for each structure. Write a dictionary 'info.npy'"
   ]
  },
  {
   "cell_type": "markdown",
   "metadata": {},
   "source": [
    "Output:<br>\n",
    "<ul style=\"list-style-type:none;\">\n",
    "info = {\n",
    "    <li>'channels_list'</li>\n",
    "    <li>'channels_locs'</li>\n",
    "    <li>'n_channels'</li>\n",
    "    <li>'mPFC_nchannels'</li>\n",
    "    <li>'NAC_nchannels'</li>\n",
    "    <li>'BLA_nchannels'</li>\n",
    "    <li>'vHip_nchannels'</li>\n",
    "    <li>'entrances_times'</li>\n",
    "    <li>'n_epochs': number of epochs,</li>\n",
    "    <li>'startOF': start of the OF, in (units),</li>\n",
    "    <li>'stopOF': stop_OF, in (units)}</li>\n",
    "</ul>\n",
    "\n",
    "Save it to '/home/maspe/filer/SERT/SERTXXXX/npys/info.npy'"
   ]
  },
  {
   "cell_type": "code",
   "execution_count": null,
   "metadata": {},
   "outputs": [],
   "source": [
    "# Collect the indexes for each structure\n",
    "mPFC_indexes  = [i for i,x in enumerate(channels_locations) if x == 'mPFC_left']\n",
    "NAC_indexes = [i for i,x in enumerate(channels_locations) if x == 'NAC_left']\n",
    "BLA_indexes  = [i for i,x in enumerate(channels_locations) if x == 'BLA_left']\n",
    "vHip_indexes  = [i for i,x in enumerate(channels_locations) if x == 'vHipp_left']\n",
    "\n",
    "# Get the number of channels for each structure\n",
    "mPFC_nchannels = len(mPFC_indexes)\n",
    "NAC_nchannels  = len(NAC_indexes)\n",
    "BLA_nchannels  = len(BLA_indexes)\n",
    "vHip_nchannels = len(vHip_indexes)\n",
    "\n",
    "# Read header info to get sample rate\n",
    "with open(files[0], 'rb') as f:\n",
    "    header = ps.readHeader(f)\n",
    "\n",
    "fs = header['sampleRate']\n",
    "\n",
    "# Channels list\n",
    "channels_list = ['ch01', 'ch02', 'ch03', 'ch04', 'ch05', 'ch06', 'ch07', 'ch08', 'ch09', 'ch10',\n",
    "         'ch11', 'ch12', 'ch13', 'ch14', 'ch15', 'ch16', 'ch17', 'ch18', 'ch19', 'ch20',\n",
    "         'ch21', 'ch22', 'ch23', 'ch24', 'ch25', 'ch26', 'ch27', 'ch28', 'ch29', 'ch30',\n",
    "         'ch31', 'ch32']\n",
    "\n",
    "# Create and save info file\n",
    "info = {'channels_list': channels_list, 'channels_locs': channels_locations, 'n_channels': n_channels,\n",
    "        'mPFC_nchannels': mPFC_nchannels, 'NAC_nchannels': NAC_nchannels, 'BLA_nchannels': BLA_nchannels,\n",
    "        'vHip_nchannels': vHip_nchannels, 'entrances_times': entrances_times, 'n_epochs': n_epochs,\n",
    "        'startOF': start_OF, 'stopOF': stop_OF}\n",
    "\n",
    "np.save(npys_dir + 'info.npy', info)\n",
    "\n",
    "print('Info file: saved\\n')"
   ]
  },
  {
   "cell_type": "markdown",
   "metadata": {},
   "source": [
    "#### Create the filter"
   ]
  },
  {
   "cell_type": "markdown",
   "metadata": {},
   "source": [
    "Butterpass at 300 Hz, oder 9"
   ]
  },
  {
   "cell_type": "code",
   "execution_count": null,
   "metadata": {},
   "outputs": [],
   "source": [
    "# Create filter\n",
    "def butter_bandpass(highcut, fs, order=5):\n",
    "    nyq  = 0.5 * fs\n",
    "    high = highcut / nyq\n",
    "    b, a = signal.butter(order, high)\n",
    "    return b, a\n",
    "\n",
    "# Filter parameters\n",
    "highcut = 300.0\n",
    "N       = 9\n",
    "b, a    = butter_bandpass(highcut, fs, order=N)"
   ]
  },
  {
   "cell_type": "markdown",
   "metadata": {},
   "source": [
    "## Main loop"
   ]
  },
  {
   "cell_type": "markdown",
   "metadata": {},
   "source": [
    "<b>The loop</b><br>\n",
    "<ol>\n",
    "    <li>Load each of the 32 .continuous Openephys files</li>\n",
    "    <li>Subtract the mean</li>\n",
    "    <li>Low-pass it at 300 Hz</li>\n",
    "    <li>Subtract the median by structure</li>\n",
    "    <li>Save it as '/home/maspe/filer/SERT/SERTXXXX/npys/mPFC'</li>\n",
    "</ol>\n"
   ]
  },
  {
   "cell_type": "code",
   "execution_count": null,
   "metadata": {},
   "outputs": [],
   "source": [
    "##### Main loop #####\n",
    "# Loop for loading and low-pass all channels of this mice\n",
    "iteration = 0\n",
    "for this_file in files:\n",
    "    channel = ps.loadContinuous(this_file)\n",
    "\n",
    "    print('Low-pass filtering (order = {}) at {} Hz...'.format(N, highcut))\n",
    "    data = channel['data'] #[start_OF - points_before : stop_OF]\n",
    "    data = signal.filtfilt(b=b, a=a, x=data - np.mean(data),\n",
    "                           axis=-1, padtype='odd', padlen=None, method='pad', irlen=None)\n",
    "\n",
    "    \n",
    "    if iteration == 0:\n",
    "        data_matrix = np.empty((len(channels_locations), len(data)))          \n",
    "    \n",
    "    data_matrix[iteration, :] = data    \n",
    "    iteration += 1\n",
    "\n",
    "print('\\nCollecting all channels by structure...')    \n",
    "mPFC = data_matrix[mPFC_indexes, :] - np.median(data_matrix[mPFC_indexes, :], axis=0)\n",
    "print('mPDF: Done!')\n",
    "NAC  = data_matrix[NAC_indexes, :]  - np.median(data_matrix[NAC_indexes, :], axis=0)\n",
    "print('NAC: Done!')\n",
    "BLA  = data_matrix[BLA_indexes, :]  - np.median(data_matrix[BLA_indexes, :], axis=0)\n",
    "print('BLA: Done!')\n",
    "vHip = data_matrix[vHip_indexes, :] - np.median(data_matrix[vHip_indexes, :], axis=0)\n",
    "print('vHip: Done!')\n",
    "\n",
    "del [iteration, channel, data, data_matrix]  \n",
    "\n",
    "print('Saving variables...')\n",
    "np.save(npys_dir + 'mPFC', mPFC)\n",
    "np.save(npys_dir + 'NAC', NAC)\n",
    "np.save(npys_dir + 'BLA', BLA)\n",
    "np.save(npys_dir + 'vHip', vHip)\n",
    "print('Done!')"
   ]
  },
  {
   "cell_type": "markdown",
   "metadata": {},
   "source": [
    "### Epoching the continuos data"
   ]
  },
  {
   "cell_type": "markdown",
   "metadata": {},
   "source": [
    "Define windows of $3 s$. Create a windows equals to $3 \\times fs$; $fs = 30 KHz$. Collect $3 s$ before and $3 s$ after each of the mouse's entrances to the center of the OF.\n",
    "\n",
    "Save at '/home/maspe/filer/SERT/SERTXXXX/npys/mPFC_epochs'.\n"
   ]
  },
  {
   "cell_type": "code",
   "execution_count": null,
   "metadata": {},
   "outputs": [],
   "source": [
    "# Defining time windows as 3 seconds before plus 3 second after center entrances\n",
    "secs = 3\n",
    "window = int(fs) * secs\n",
    "\n",
    "# For mPFC\n",
    "print('Collecting epochs for mPFC electrodes')\n",
    "pre = []\n",
    "post = []\n",
    "mPFC_epochs = np.zeros((mPFC_nchannels, window * 2, n_epochs))\n",
    "\n",
    "for channel in range(mPFC_nchannels):\n",
    "    for epoch in range(n_epochs):\n",
    "        mPFC_epochs[channel, :, epoch] = mPFC[channel, entrances_times[epoch] - window : entrances_times[epoch] + window]\n",
    "\n",
    "        \n",
    "# For NAC\n",
    "print('Collecting epochs for NAC electrodes')\n",
    "pre = []\n",
    "post = []\n",
    "NAC_epochs = np.zeros((NAC_nchannels, window * 2, n_epochs))\n",
    "\n",
    "for channel in range(NAC_nchannels):\n",
    "    for epoch in range(n_epochs):\n",
    "        NAC_epochs[channel, :, epoch] = NAC[channel, entrances_times[epoch] - window : entrances_times[epoch] + window]\n",
    "        \n",
    "        \n",
    "# For BLA\n",
    "print('Collecting epochs for BLA electrodes')\n",
    "pre = []\n",
    "post = []\n",
    "BLA_epochs = np.zeros((BLA_nchannels, window * 2, n_epochs))\n",
    "\n",
    "for channel in range(BLA_nchannels):\n",
    "    for epoch in range(n_epochs):\n",
    "        BLA_epochs[channel, :, epoch] = BLA[channel, entrances_times[epoch] - window : entrances_times[epoch] + window]\n",
    "        \n",
    "        \n",
    "# For vHip\n",
    "print('Collecting epochs for vHip electrodes')\n",
    "pre = []\n",
    "post = []\n",
    "vHip_epochs = np.zeros((vHip_nchannels, window * 2, n_epochs))\n",
    "\n",
    "for channel in range(vHip_nchannels):\n",
    "    for epoch in range(n_epochs):\n",
    "        vHip_epochs[channel, :, epoch] = vHip[0, entrances_times[epoch] - window : entrances_times[epoch] + window]\n",
    "\n",
    "print('Saving epochs')\n",
    "np.save(npys_dir + 'mPFC_epochs', mPFC_epochs)\n",
    "np.save(npys_dir + 'NAC_epochs', NAC_epochs)\n",
    "np.save(npys_dir + 'BLA_epochs', BLA_epochs)\n",
    "np.save(npys_dir + 'vHip_epochs', vHip_epochs)\n",
    "print('Done!')"
   ]
  },
  {
   "cell_type": "markdown",
   "metadata": {},
   "source": [
    "### Plotting"
   ]
  },
  {
   "cell_type": "code",
   "execution_count": null,
   "metadata": {},
   "outputs": [],
   "source": [
    "n_rows = np.int(np.ceil(n_epochs / 5.0))\n",
    "### Plotting ###\n",
    "# Plotting mPFC\n",
    "print('Plotting mPFC...')\n",
    "for channel in range(mPFC_nchannels):\n",
    "    plt.figure(figsize=(20,10))\n",
    "    for epoch in range(n_epochs):\n",
    "        plt.subplot(n_rows, 5, epoch+1)\n",
    "        plt.plot(mPFC_epochs[channel, :, epoch])\n",
    "        \n",
    "    plt.savefig(figs_dir + 'mPFC_ch' + str(channel) + '.png', dpi=150, format='png')\n",
    "    plt.close()\n",
    "    \n",
    "print('mPFC: Done!')\n",
    "\n",
    "# Plotting NAC\n",
    "print('Plotting NAC...')\n",
    "for channel in range(NAC_nchannels):\n",
    "    plt.figure(figsize=(20,10))\n",
    "    for epoch in range(n_epochs):\n",
    "        plt.subplot(n_rows,5,epoch+1)\n",
    "        plt.plot(NAC_epochs[channel,:, epoch])\n",
    "        \n",
    "    plt.savefig(figs_dir + 'NAC_ch' + str(channel) + '.png', dpi=150, format='png')\n",
    "    plt.close()\n",
    "    \n",
    "print('NAC: Done!')\n",
    "    \n",
    "\n",
    "# Plotting BLA\n",
    "print('Plotting BLA...')\n",
    "for channel in range(BLA_nchannels):\n",
    "    plt.figure(figsize=(20,10))\n",
    "    for epoch in range(n_epochs):\n",
    "        plt.subplot(n_rows,5,epoch+1)\n",
    "        plt.plot(BLA_epochs[channel,:, epoch])\n",
    "        \n",
    "    plt.savefig(figs_dir + 'BLA_ch' + str(channel) + '.png', dpi=150, format='png')\n",
    "    plt.close()\n",
    "    \n",
    "print('BLA: Done!')\n",
    "\n",
    "\n",
    "# Plotting vHip\n",
    "print('Plotting vHip...')\n",
    "for channel in range(vHip_nchannels):\n",
    "    plt.figure(figsize=(20,10))\n",
    "    for epoch in range(n_epochs):\n",
    "        plt.subplot(n_rows,5,epoch+1)\n",
    "        plt.plot(vHip_epochs[channel,:, epoch])\n",
    "        \n",
    "    plt.savefig(figs_dir + 'vHip_ch' + str(channel) + '.png', dpi=150, format='png')\n",
    "    plt.close()\n",
    "    \n",
    "print('vHip: Done!')\n",
    "    \n",
    "print('\\n{} preprocessed!'.format(ID))\n",
    "\n"
   ]
  }
 ],
 "metadata": {
  "kernelspec": {
   "display_name": "Python 3",
   "language": "python",
   "name": "python3"
  },
  "language_info": {
   "codemirror_mode": {
    "name": "ipython",
    "version": 3
   },
   "file_extension": ".py",
   "mimetype": "text/x-python",
   "name": "python",
   "nbconvert_exporter": "python",
   "pygments_lexer": "ipython3",
   "version": "3.7.3"
  }
 },
 "nbformat": 4,
 "nbformat_minor": 2
}
