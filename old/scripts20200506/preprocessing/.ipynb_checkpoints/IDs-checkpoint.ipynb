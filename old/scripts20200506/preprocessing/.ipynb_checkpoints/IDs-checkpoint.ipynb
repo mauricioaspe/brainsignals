{
 "cells": [
  {
   "cell_type": "code",
   "execution_count": 5,
   "metadata": {},
   "outputs": [],
   "source": [
    "import pickle"
   ]
  },
  {
   "cell_type": "code",
   "execution_count": 6,
   "metadata": {},
   "outputs": [],
   "source": [
    "IDs = {'list_all': ['SERT1597', 'SERT1659', 'SERT1678', 'SERT1908', 'SERT1984',\n",
    "                    'SERT1985', 'SERT2014', 'SERT1668', 'SERT1665', 'SERT2018',\n",
    "                    'SERT2024', 'SERT2013'],\n",
    "       'list_WT': ['SERT1597', 'SERT1659', 'SERT1678', 'SERT1908', 'SERT1984', 'SERT1985', 'SERT2014'],\n",
    "       'list_KO': ['SERT1668', 'SERT1665', 'SERT2018', 'SERT2024', 'SERT2013'], \n",
    "       'dict': {'SERT1597': {}, 'SERT1659': {}, 'SERT1678': {}, 'SERT1908': {}, 'SERT1984': {},\n",
    "                'SERT1985': {}, 'SERT2014': {}, 'SERT1668': {}, 'SERT1665': {}, 'SERT2018': {},\n",
    "                'SERT2024': {}, 'SERT2013': {}}\n",
    "      }"
   ]
  },
  {
   "cell_type": "code",
   "execution_count": 7,
   "metadata": {},
   "outputs": [],
   "source": [
    "pickle.dump(IDs, open('IDs.dict', 'wb'), protocol=2)"
   ]
  }
 ],
 "metadata": {
  "kernelspec": {
   "display_name": "Python 3",
   "language": "python",
   "name": "python3"
  },
  "language_info": {
   "codemirror_mode": {
    "name": "ipython",
    "version": 2
   },
   "file_extension": ".py",
   "mimetype": "text/x-python",
   "name": "python",
   "nbconvert_exporter": "python",
   "pygments_lexer": "ipython2",
   "version": "2.7.17"
  }
 },
 "nbformat": 4,
 "nbformat_minor": 2
}
