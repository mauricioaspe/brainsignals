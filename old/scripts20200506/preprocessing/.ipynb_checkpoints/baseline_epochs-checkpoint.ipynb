{
 "cells": [
  {
   "cell_type": "markdown",
   "metadata": {},
   "source": [
    "# Create epochs for baselines"
   ]
  },
  {
   "cell_type": "code",
   "execution_count": null,
   "metadata": {},
   "outputs": [],
   "source": [
    "'''\n",
    "Input:\n",
    "    Collected epochs in\n",
    "    'SERT/ALL/npys/xy.dict'\n",
    "    \n",
    "    * Sampled at 30 Hz from the start of the 10 min OF.\n",
    "    \n",
    "Output:\n",
    "    Dictionary with n baselines for each mouse \n",
    "    \n",
    "    Saved at\n",
    "    'SERT/ALL/npys/baselines.dict'\n",
    "    \n",
    "    \n",
    "'''"
   ]
  },
  {
   "cell_type": "code",
   "execution_count": null,
   "metadata": {},
   "outputs": [],
   "source": [
    "### Importing modules\n",
    "#import time\n",
    "import pickle\n",
    "import numpy as np\n",
    "#import pandas as pd\n",
    "#from matplotlib import cm\n",
    "#from matplotlib import pyplot as plt\n",
    "#from scipy import signal"
   ]
  },
  {
   "cell_type": "code",
   "execution_count": 2,
   "metadata": {},
   "outputs": [],
   "source": [
    "xy = pickle.load(open('/home/maspe/filer/SERT/ALL/npys/xy.dict', 'rb'))"
   ]
  },
  {
   "cell_type": "code",
   "execution_count": 3,
   "metadata": {},
   "outputs": [],
   "source": [
    "IDs = pickle.load(open('/home/maspe/filer/scripts/preprocessing/IDs.dict'))['dict']\n",
    "WTs = pickle.load(open('/home/maspe/filer/scripts/preprocessing/IDs.dict'))['list_WT']\n",
    "KOs = pickle.load(open('/home/maspe/filer/scripts/preprocessing/IDs.dict'))['list_KO']"
   ]
  },
  {
   "cell_type": "markdown",
   "metadata": {},
   "source": [
    "The period to extract correspond to 2 seconds with the rat <i>moving</i> in the very border of the OF. This corresponds to the spatial points in $[0, 0.125]$ and $[0.875, 1]$ for each normalised axis.\n",
    "\n",
    "Criteria:\n",
    "<ul>\n",
    "    <li>2 consecutive seconds</li>\n",
    "    <li>Mouse always moving</li>\n",
    "</ul>"
   ]
  },
  {
   "cell_type": "code",
   "execution_count": 4,
   "metadata": {},
   "outputs": [],
   "source": [
    "n_baselines = 25\n",
    "baselines = {}\n",
    "for mouse in IDs.keys():\n",
    "    x = xy[mouse][0] / np.max(xy[mouse][0])\n",
    "    y = xy[mouse][1] / np.max(xy[mouse][1])\n",
    "    \n",
    "    left  = np.where(x < 0.125)\n",
    "    right = np.where(x > 0.875)\n",
    "    up    = np.where(y < 0.125)\n",
    "    down  = np.where(y > 0.875)\n",
    "    \n",
    "    baselines[mouse] = np.random.choice(np.concatenate([left[0], right[0], up[0], down[0]]), n_baselines)"
   ]
  },
  {
   "cell_type": "code",
   "execution_count": 5,
   "metadata": {},
   "outputs": [],
   "source": [
    "pickle.dump(baselines, open('/home/maspe/filer/SERT/ALL/npys/baselines.dict', 'wb'), protocol=2)"
   ]
  },
  {
   "cell_type": "markdown",
   "metadata": {},
   "source": [
    "### Extract baseline epochs"
   ]
  },
  {
   "cell_type": "markdown",
   "metadata": {},
   "source": [
    "Extract baseline epochs, defined as 20 time points (at 30 Hz) where the mouse is in the periphery of the OF. It asumes that the animal remains on periphery the next 2 seconds (120 time points). The periphery is defined as a corridor of 0.125 width close the wall of the normalised OF (40 x 40 cm).\n",
    "\n",
    "<b>Note:</b> Remove first $x$ sec. \n",
    "\n",
    "Each of these points can be located in the continuous preprocessed .npy file (at 30 KHz) multiplying it by 1000."
   ]
  },
  {
   "cell_type": "code",
   "execution_count": null,
   "metadata": {},
   "outputs": [],
   "source": [
    "#windows_length = 2 # sec\n",
    "#window = windows_length * 60\n",
    "\n",
    "#baseline_windows = [np.arange(epoch, epoch + window, 1) for epoch in baseline_epochs]"
   ]
  }
 ],
 "metadata": {
  "kernelspec": {
   "display_name": "Python 3",
   "language": "python",
   "name": "python3"
  },
  "language_info": {
   "codemirror_mode": {
    "name": "ipython",
    "version": 2
   },
   "file_extension": ".py",
   "mimetype": "text/x-python",
   "name": "python",
   "nbconvert_exporter": "python",
   "pygments_lexer": "ipython2",
   "version": "2.7.17"
  }
 },
 "nbformat": 4,
 "nbformat_minor": 2
}
