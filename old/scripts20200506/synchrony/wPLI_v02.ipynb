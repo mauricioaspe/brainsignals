{
 "cells": [
  {
   "cell_type": "code",
   "execution_count": null,
   "metadata": {},
   "outputs": [],
   "source": [
    "import pickle\n",
    "import time\n",
    "import numpy as np\n",
    "from scipy import signal\n",
    "import matplotlib.pyplot as plt\n",
    "import connectivity_measures as cm"
   ]
  },
  {
   "cell_type": "code",
   "execution_count": null,
   "metadata": {},
   "outputs": [],
   "source": [
    "IDs = ['SERT1597'] #, 'SERT1659', 'SERT1678', 'SERT1908',\n",
    "       #'SERT1984', 'SERT1985', 'SERT2014', 'SERT1668',\n",
    "       #'SERT1665', 'SERT2018', 'SERT2024', 'SERT2013']"
   ]
  },
  {
   "cell_type": "code",
   "execution_count": null,
   "metadata": {},
   "outputs": [],
   "source": [
    "### Contructing filters\n",
    "### Butterworth filter\n",
    "def butter_bandpass(lowcut, highcut, fs, order=5):\n",
    "    nyq = 0.5 * fs\n",
    "    low = lowcut / nyq\n",
    "    high = highcut / nyq\n",
    "    b, a = signal.butter(order, [low, high], btype='band')\n",
    "    return b, a\n",
    "\n",
    "fs      = 1000.0\n",
    "\n",
    "filter_parameters = {'theta':    {'N': 4, 'lowcut': 3.5,  'highcut': 7.5},\n",
    "                    #'alpha':     {'N': 4, 'lowcut': 8.0,  'highcut': 13.0},\n",
    "                    'beta':      {'N': 4, 'lowcut': 13.0, 'highcut': 25.0},\n",
    "                    'low_gamma': {'N': 6, 'lowcut': 25.0, 'highcut': 60}}\n",
    "\n",
    "butterworths = dict()\n",
    "for band in filter_parameters.keys():\n",
    "    lowcut = filter_parameters[band]['lowcut']\n",
    "    highcut = filter_parameters[band]['highcut']\n",
    "    N = filter_parameters[band]['N']\n",
    "    butterworths[band] = butter_bandpass(lowcut, highcut, fs, order=N)\n"
   ]
  },
  {
   "cell_type": "code",
   "execution_count": 1,
   "metadata": {},
   "outputs": [
    {
     "ename": "SyntaxError",
     "evalue": "invalid syntax (<ipython-input-1-7d5ff8bc6cda>, line 48)",
     "output_type": "error",
     "traceback": [
      "\u001b[0;36m  File \u001b[0;32m\"<ipython-input-1-7d5ff8bc6cda>\"\u001b[0;36m, line \u001b[0;32m48\u001b[0m\n\u001b[0;31m    for epoch in range(n_epochs):\u001b[0m\n\u001b[0m                                ^\u001b[0m\n\u001b[0;31mSyntaxError\u001b[0m\u001b[0;31m:\u001b[0m invalid syntax\n"
     ]
    }
   ],
   "source": [
    "condition = 'epochs'\n",
    "\n",
    "wPLI = {'theta': {}, 'beta': {}, 'low_gamma': {}}\n",
    "for mouse in IDs: \n",
    "    npys_dir = '/home/maspe/filer/SERT/' + mouse + '/npys/'\n",
    "    print('\\nLoading mouse {}...'.format(mouse))\n",
    "    \n",
    "    ### Loading data\n",
    "    data = pickle.load(open(npys_dir + mouse + '.epochs', 'rb') , encoding='latin1')\n",
    "       \n",
    "    ### Loop\n",
    "    filtered_bands = {'theta': {}, 'beta': {}, 'low_gamma': {}}\n",
    "    iterator = 0\n",
    "    \n",
    "    print('Stacking structures...')\n",
    "    for structure in ['mPFC', 'NAC', 'BLA', 'vHip']: \n",
    "        print('Loading ' + structure + '...')\n",
    "        if iterator == 0:\n",
    "            all_structures = data[structure][condition]\n",
    "        else:\n",
    "            all_structures = np.vstack((all_structures, data[structure][condition]))\n",
    "        \n",
    "        iterator += 1\n",
    "        \n",
    "    print('Filtering...') \n",
    "    phases = dict()\n",
    "    for band in filtered_bands.keys():\n",
    "        filtered = signal.filtfilt(b=butterworths[band][0], a=butterworths[band][1],\n",
    "                                   x=all_structures, axis=1)\n",
    "        \n",
    "        print('Getting phases for {} band...'.format(band))\n",
    "        transformed = signal.hilbert(filtered)\n",
    "        phases[band] = np.angle(transformed)\n",
    "        \n",
    "        print('Calculating wPLI for {} band...'.format(band))\n",
    "        clock = time.time()\n",
    "        \n",
    "        roi_NAC  = np.array([-1.4, -1.1])\n",
    "        roi_vHip = np.array([-0,5, 0.5])\n",
    "        roi_mPFC = np.array([2.1, 2.6])\n",
    "\n",
    "        roi_NAC  = ((roi_NAC + 3) * 30000).astype(int)\n",
    "        roi_vHip = ((roi_vHip + 3) * 30000).astype(int)\n",
    "        roi_mPFC = ((roi_mPFC + 3) * 30000).astype(int)\n",
    "\n",
    "        \n",
    "        n_epochs = phases[band].shape[2]\n",
    "        \n",
    "        nac2vhip_wpli = \\   \n",
    "        cm.PLI2(phases['theta'][:, roi_NAC[0]:roi_NAC[1], epoch], phases['beta'][:, roi_vHip[0]:pre[1], epoch]\n",
    "                \n",
    "                \n",
    "        for epoch in range(n_epochs):\n",
    "            if epoch == 0:\n",
    "                wpli_pre[band] = cm.PLI2(phases[:, pre[0]:pre[1], epoch], average = False, method='wpli')\n",
    "                wpli_post[band] = cm.PLI2(phases[:, post[0]:post[1], epoch], average = False, method='wpli')\n",
    "            else:\n",
    "                wpli_pre[band]  = np.dstack((wpli_pre[band], cm.PLI2(phases[:,pre[0]:pre[1],epoch], average = False, method='wpli')))\n",
    "                wpli_post[band] = np.dstack((wpli_post[band], cm.PLI2(phases[:,post[0]:post[1],epoch], average = False, method='wpli')))\n",
    "        \n",
    "        print('wPLI calculated in {} s.'.format(time.time() - clock))\n",
    "        \n",
    "        wPLI[band]['pre'] = wpli_pre\n",
    "        wPLI[band]['post'] = wpli_post\n",
    "      \n",
    "    \n",
    "    pickle.dump(wPLI, open(npys_dir + mouse + '.wpli3', 'wb'), protocol=2)\n",
    "\n",
    "\n",
    "print('Done!')        "
   ]
  }
 ],
 "metadata": {
  "kernelspec": {
   "display_name": "Python 3",
   "language": "python",
   "name": "python3"
  },
  "language_info": {
   "codemirror_mode": {
    "name": "ipython",
    "version": 2
   },
   "file_extension": ".py",
   "mimetype": "text/x-python",
   "name": "python",
   "nbconvert_exporter": "python",
   "pygments_lexer": "ipython2",
   "version": "2.7.17"
  }
 },
 "nbformat": 4,
 "nbformat_minor": 2
}
