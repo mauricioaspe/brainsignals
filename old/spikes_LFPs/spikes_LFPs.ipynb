{
 "cells": [
  {
   "cell_type": "code",
   "execution_count": 2,
   "metadata": {},
   "outputs": [],
   "source": [
    "import pickle\n",
    "import time\n",
    "import numpy as np\n",
    "from scipy import signal\n",
    "from matplotlib import pyplot as plt"
   ]
  },
  {
   "cell_type": "code",
   "execution_count": 3,
   "metadata": {},
   "outputs": [],
   "source": [
    "spikes_epochs = pickle.load(open('/home/maspe/filer/SERT/ALL/npys/spikes2.epochs', 'rb'), encoding='latin1')"
   ]
  },
  {
   "cell_type": "code",
   "execution_count": 6,
   "metadata": {},
   "outputs": [],
   "source": [
    "IDs = pickle.load(open('/home/maspe/filer/scripts/preprocessing/IDs.dict', 'rb'))['list_all']\n",
    "WTs = pickle.load(open('/home/maspe/filer/scripts/preprocessing/IDs.dict', 'rb'))['list_WT']"
   ]
  },
  {
   "cell_type": "code",
   "execution_count": null,
   "metadata": {},
   "outputs": [],
   "source": [
    "ms = 200\n",
    "window_length = ms * 30\n",
    "window = [0, window_length] # Windows in ms\n",
    "windows = []\n",
    "\n",
    "for i in range(30):\n",
    "    windows.append(window)\n",
    "    window = [window[0] + window_length, window[1] + window_length]"
   ]
  },
  {
   "cell_type": "code",
   "execution_count": null,
   "metadata": {},
   "outputs": [],
   "source": [
    "mPFC_units = np.arange(0,10)\n",
    "vHip_channels = np.arange(26,32)\n",
    "phases, amplitudes = dict(), dict()\n",
    "\n",
    "clock = time.time()\n",
    "for mouse in IDs:\n",
    "    print('Loading mouse {}...'.format(mouse))\n",
    "    \n",
    "    npys_dir = '/home/maspe/filer/SERT/' + mouse + '/npys/' \n",
    "    LFPs_epochs = pickle.load(open(npys_dir + mouse + '.epochs_filtered', 'rb'), encoding='latin1')\n",
    "    \n",
    "    spikes_LFPs = {'theta': [], 'beta': [], 'low_gamma': []}\n",
    "    #spikes_LFPs_KOs = {'theta': [], 'beta': [], 'low_gamma': []}\n",
    "    #print('Lenght 1 theta: {}'.format(len(spikes_LFPs['theta'])))\n",
    "\n",
    "    \n",
    "    for band in spikes_LFPs.keys():\n",
    "        print('Shape LFPs_epochs: {}'.format(LFPs_epochs[band].shape))\n",
    "        print('Applying Hilbert transform to {} band...'.format(band))\n",
    "        print('How many windows? {}'.format(len(windows)))\n",
    "\n",
    "        z = signal.hilbert(LFPs_epochs[band])\n",
    "\n",
    "        phases[band]     = np.angle(z)\n",
    "        amplitudes[band] = np.absolute(z)\n",
    "   \n",
    "     \n",
    "        print(\"Collecting spikes...\")\n",
    "        all_spikes = spikes_epochs[mouse]\n",
    "        n_epochs = phases[band].shape[2]\n",
    "        print('Number of epochs: {}'.format(n_epochs))\n",
    "\n",
    "        for window in windows:\n",
    "            for unit in mPFC_units:\n",
    "                this_unit = []\n",
    "                for channel in vHip_channels: # vHip channels\n",
    "                    for epoch in range(n_epochs):\n",
    "                        spikes = all_spikes[unit][epoch]\n",
    "                        windows_spikes = spikes[(spikes > window[0]) & (spikes < window[1])]\n",
    "                        this_unit.extend(phases[band][channel,:,epoch][windows_spikes])\n",
    "                        #print('Unit length: {}'.format(len(this_unit)))\n",
    "    \n",
    "            #print('Tuple to append: ')\n",
    "            spikes_LFPs[band].append((np.mean(this_unit), np.std(this_unit)))\n",
    "            #print('Lenght 2 theta: {}'.format(len(spikes_LFPs['theta'])))\n",
    "\n",
    "    print('Saving...')\n",
    "    pickle.dump(spikes_LFPs, open(npys_dir + mouse + '.spikes_LFPs', 'wb'), protocol = 2)\n",
    "    \n",
    "    print('Mouse processed in {} min!'.format((time.time() - clock) / 60))\n",
    "\n",
    "\n",
    "print('Done!')"
   ]
  },
  {
   "cell_type": "markdown",
   "metadata": {},
   "source": [
    "### Backup !!!"
   ]
  },
  {
   "cell_type": "code",
   "execution_count": null,
   "metadata": {},
   "outputs": [],
   "source": [
    "#collapsed_units = []\n",
    "#\n",
    "#    for unit in range(n_units):\n",
    "#        collapsed_units.append([item for sublist in spikes_epochs[mouse][unit] for item in sublist])"
   ]
  }
 ],
 "metadata": {
  "kernelspec": {
   "display_name": "Python 3",
   "language": "python",
   "name": "python3"
  },
  "language_info": {
   "codemirror_mode": {
    "name": "ipython",
    "version": 2
   },
   "file_extension": ".py",
   "mimetype": "text/x-python",
   "name": "python",
   "nbconvert_exporter": "python",
   "pygments_lexer": "ipython2",
   "version": "2.7.17"
  }
 },
 "nbformat": 4,
 "nbformat_minor": 2
}
