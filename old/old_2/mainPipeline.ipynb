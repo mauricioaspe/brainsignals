{
 "cells": [
  {
   "cell_type": "code",
   "execution_count": null,
   "metadata": {},
   "outputs": [],
   "source": [
    "'''\n",
    "1. Proprocessing \n",
    "\n",
    "a. Import channels and structure indices for all mice\n",
    "b. Filter at < 300 Hz\n",
    "c. Save the whole recording by structure and mouse\n",
    "d. Extract epochs plot them and save them\n",
    "e. Extract and downsample the OF time windows\n",
    "f. Create and save Morlet matrices (by structure and mouse) for 5.\n",
    "\n",
    "'''\n",
    "continuous_epochs()\n",
    "\n",
    "\n",
    "'''\n",
    "2. Check epochs integrity looking at plots from 1d\n",
    "\n",
    "'''\n",
    "delete_epochs()\n",
    "\n",
    "\n",
    "'''\n",
    "3. Spectrogram analyses\n",
    "a. Arma espectrograma en base a npys continuos donde se han descartardo las epocas malas\n",
    "\n",
    "'''\n",
    "SRS()\n",
    "\n",
    "\n",
    "'''\n",
    "4. Coherence analysis\n",
    "a. Importa npys epocheados ('_epochs.npys')\n",
    "\n",
    "'''"
   ]
  }
 ],
 "metadata": {
  "kernelspec": {
   "display_name": "Python 3",
   "language": "python",
   "name": "python3"
  },
  "language_info": {
   "codemirror_mode": {
    "name": "ipython",
    "version": 2
   },
   "file_extension": ".py",
   "mimetype": "text/x-python",
   "name": "python",
   "nbconvert_exporter": "python",
   "pygments_lexer": "ipython2",
   "version": "2.7.15+"
  }
 },
 "nbformat": 4,
 "nbformat_minor": 2
}
