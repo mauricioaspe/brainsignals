{
 "cells": [
  {
   "cell_type": "code",
   "execution_count": 1,
   "metadata": {},
   "outputs": [],
   "source": [
    "### Importing modules\n",
    "import time\n",
    "import pickle\n",
    "import numpy as np\n",
    "import pandas as pd\n",
    "from matplotlib import cm\n",
    "from matplotlib import pyplot as plt\n",
    "from scipy import signal"
   ]
  },
  {
   "cell_type": "markdown",
   "metadata": {},
   "source": [
    "###############"
   ]
  },
  {
   "cell_type": "code",
   "execution_count": null,
   "metadata": {},
   "outputs": [],
   "source": [
    "filt_params = {'theta'    : (3,  8),\n",
    "               'alpha'    : (8,  13),\n",
    "               'beta'     : (13, 25),\n",
    "               'low_gamma': (25, 60)}"
   ]
  },
  {
   "cell_type": "code",
   "execution_count": null,
   "metadata": {},
   "outputs": [],
   "source": [
    "IDs_WT = {'SERT1678': {}, 'SERT1597': {}, 'SERT1659': {}} #, 'SERT1908', 'SERT1984', 'SERT1985', 'SERT2014'] #'SERT1678',\n",
    "IDs_KO = {'SERT1668': {}, 'SERT1665': {}} #, 'SERT2018', 'SERT2024', 'SERT2013'] \n",
    "\n",
    "WT = {'mPFC': {}, 'BLA': {}, 'NAC': {}, 'vHip': {}}\n",
    "KO = {'mPFC': {}, 'BLA': {}} #, 'NAC':{}, 'vHip':{}}\n",
    "clock = time.time()\n",
    "\n",
    "\n",
    "for band in filt_params.keys():\n",
    "    print('###################\\nLoading continuous...')\n",
    "    for structure in WT.keys():\n",
    "        iteration = 0\n",
    "        for mouse in IDs_WT.keys():\n",
    "            print(iteration)\n",
    "            print('Loading {} from {}...'.format(structure, mouse))\n",
    "            npys_dir = '/home/maspe/filer/SERT/' + mouse + '/npys/'\n",
    "            data = np.load(npys_dir + structure + '_morlet.npy', allow_pickle=True)\n",
    "            print('original data shape: {}'.format(data.shape))\n",
    "        \n",
    "            min_freq = filt_params[band][0]\n",
    "            max_freq = filt_params[band][1]\n",
    "        \n",
    "            print('Collecting {} band...'.format(band))\n",
    "            if iteration == 0:\n",
    "                matrix = np.mean(data[min_freq : max_freq, :, :], axis=(2, 0))\n",
    "            else:\n",
    "                temp = np.mean(data[min_freq : max_freq, :, :], axis=(2, 0))\n",
    "                matrix = np.vstack((matrix, temp))\n",
    "        \n",
    "            print('final data shape: {}'.format(matrix.shape))\n",
    "        \n",
    "            iteration += 1\n",
    "        \n",
    "            WT[structure][band] = matrix    \n",
    "\n",
    "\n",
    "print('Saving dictionary...')\n",
    "pickle.dump(WT, open('/home/maspe/filer/SERT/ALL/npys/bands_xy_WT.dict', 'wb'), protocol=2)\n",
    "\n",
    "print('Done!')     "
   ]
  },
  {
   "cell_type": "code",
   "execution_count": 2,
   "metadata": {},
   "outputs": [],
   "source": [
    "WT = pickle.load(open('/home/maspe/filer/SERT/ALL/npys/bands_xy_WT.dict', 'rb'))"
   ]
  },
  {
   "cell_type": "code",
   "execution_count": 3,
   "metadata": {},
   "outputs": [
    {
     "data": {
      "text/plain": [
       "(3, 600000)"
      ]
     },
     "execution_count": 3,
     "metadata": {},
     "output_type": "execute_result"
    }
   ],
   "source": [
    "WT['BLA']['theta'].shape"
   ]
  },
  {
   "cell_type": "code",
   "execution_count": null,
   "metadata": {},
   "outputs": [],
   "source": [
    "#df = pd.read_csv('/home/maspe/filer/xy/SERT1597OF_WT.csv', header=None)\n",
    "#start = int(df[7][0])\n",
    "#stop = int(df[7][1])"
   ]
  },
  {
   "cell_type": "code",
   "execution_count": null,
   "metadata": {},
   "outputs": [],
   "source": [
    "#x = df[1].to_numpy()\n",
    "#y = df[2].to_numpy()\n",
    "\n",
    "#plt.plot(x,y)"
   ]
  },
  {
   "cell_type": "code",
   "execution_count": null,
   "metadata": {},
   "outputs": [],
   "source": [
    "#norm_test = (test - np.min(test)) / (np.max(test) - np.min(test))"
   ]
  },
  {
   "cell_type": "code",
   "execution_count": null,
   "metadata": {},
   "outputs": [],
   "source": [
    "#plt.scatter(x[1:], y[1:], s=16, c=norm_test, cmap='jet', alpha=0.3)"
   ]
  }
 ],
 "metadata": {
  "kernelspec": {
   "display_name": "Python 3",
   "language": "python",
   "name": "python3"
  },
  "language_info": {
   "codemirror_mode": {
    "name": "ipython",
    "version": 2
   },
   "file_extension": ".py",
   "mimetype": "text/x-python",
   "name": "python",
   "nbconvert_exporter": "python",
   "pygments_lexer": "ipython2",
   "version": "2.7.17"
  }
 },
 "nbformat": 4,
 "nbformat_minor": 2
}
