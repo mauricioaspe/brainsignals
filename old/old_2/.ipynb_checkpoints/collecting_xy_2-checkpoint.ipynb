{
 "cells": [
  {
   "cell_type": "markdown",
   "metadata": {},
   "source": [
    "# Collects the <i>xy</i> coordinates for all mice"
   ]
  },
  {
   "cell_type": "code",
   "execution_count": null,
   "metadata": {},
   "outputs": [],
   "source": [
    "'''\n",
    "Collects the xy coordinates for all mice and create xy plots by mouse.\n",
    "\n",
    "It loops on the \"xy.xlsx\" files saved at the \"/continuos\" directory of each mouse\n",
    "and creates a dictionary containing all the xy data points.\n",
    "\n",
    "Each vector of coordinates is 18001 not-normalised points length (30 Hz for 10 min).\n",
    "Each mouse has a tuple (x,y) of 18001 time points.\n",
    "All mice are in the xy.dict.\n",
    "\n",
    "Input:\n",
    "    'SERTXXX/continuous/xy.xlsx'\n",
    "    \n",
    "Output:\n",
    "    'SERT/ALL/npys/xy.dict' for dictionaries\n",
    "    'SERT/ALL/figs/xys/SERTXXXX.png' for figures\n",
    "\n",
    "Written by Mauricio Aspé-Sánchez. Copyleft 2020.\n",
    "'''"
   ]
  },
  {
   "cell_type": "code",
   "execution_count": 1,
   "metadata": {},
   "outputs": [],
   "source": [
    "### Importing modules\n",
    "import pickle\n",
    "import numpy as np\n",
    "import pandas as pd\n",
    "from matplotlib import pyplot as plt"
   ]
  },
  {
   "cell_type": "code",
   "execution_count": 2,
   "metadata": {},
   "outputs": [],
   "source": [
    "IDs = pickle.load(open('/home/maspe/filer/scripts/preprocessing/IDs.dict'))['dict']\n",
    "WTs = pickle.load(open('/home/maspe/filer/scripts/preprocessing/IDs.dict'))['list_WT']\n",
    "KOs = pickle.load(open('/home/maspe/filer/scripts/preprocessing/IDs.dict'))['list_KO']"
   ]
  },
  {
   "cell_type": "code",
   "execution_count": null,
   "metadata": {},
   "outputs": [
    {
     "name": "stdout",
     "output_type": "stream",
     "text": [
      "Collecting xys...\n",
      "\n",
      "Mouse SERT1984...\n",
      "OF points: 600033\n",
      "xy length: (18001,)\n",
      "Saving xy plot...\n",
      "\n",
      "Mouse SERT1985...\n",
      "OF points: 600033\n",
      "xy length: (18001,)\n",
      "Saving xy plot...\n",
      "\n",
      "Mouse SERT1659...\n",
      "OF points: 600033\n",
      "xy length: (18001,)\n",
      "Saving xy plot...\n",
      "\n",
      "Mouse SERT1678...\n",
      "OF points: 600033\n",
      "xy length: (18001,)\n",
      "Saving xy plot...\n",
      "\n",
      "Mouse SERT1908...\n",
      "OF points: 600033\n",
      "xy length: (18001,)\n",
      "Saving xy plot...\n",
      "\n",
      "Mouse SERT1668...\n",
      "OF points: 600033\n",
      "xy length: (18001,)\n",
      "Saving xy plot...\n",
      "\n",
      "Mouse SERT2018...\n",
      "OF points: 600033\n",
      "xy length: (18001,)\n",
      "Saving xy plot...\n",
      "\n",
      "Mouse SERT2013...\n",
      "OF points: 600033\n",
      "xy length: (18001,)\n",
      "Saving xy plot...\n",
      "\n",
      "Mouse SERT1597...\n",
      "OF points: 600032\n",
      "xy length: (18001,)\n",
      "Saving xy plot...\n",
      "\n",
      "Mouse SERT2024...\n",
      "OF points: 600033\n",
      "xy length: (18001,)\n",
      "Saving xy plot...\n"
     ]
    }
   ],
   "source": [
    "print('Collecting xys...')\n",
    "xy = dict()\n",
    "for mouse in IDs.keys():\n",
    "    xy_dir = '/home/maspe/filer/SERT/' + mouse\n",
    "    \n",
    "    df = pd.read_excel(xy_dir + '/continuous/xy.xlsx', sheet_name=0, header=None)\n",
    "    xy[mouse] = (df[1].to_numpy(), df[2].to_numpy())\n",
    "    OF_npoints = int(np.floor(df[3][1])) - int(np.ceil(df[3][0]))\n",
    "    \n",
    "    print('\\nMouse {}...'.format(mouse))\n",
    "    print('OF points: {}'.format(OF_npoints))\n",
    "    print('xy length: {}'.format(df[1].to_numpy().shape[0]))\n",
    "    \n",
    "    x = xy[mouse][0] / max(xy[mouse][0])\n",
    "    y = xy[mouse][1] / max(xy[mouse][1])\n",
    "    \n",
    "    plt.figure(figsize=(12,8),frameon=False)\n",
    "    plt.plot(x, y, alpha=0.3)\n",
    "    \n",
    "    if mouse in WTs:\n",
    "        plt.plot(x, y, 'o', color='blue', alpha=0.3)\n",
    "        \n",
    "    if mouse in KOs:\n",
    "        plt.plot(x, y, 'o', color='red', alpha=0.3)\n",
    "\n",
    "    plt.plot([0.25, 0.75], [0.25, 0.25], 'k', linewidth=3)\n",
    "    plt.plot([0.25, 0.75], [0.75, 0.75], 'k', linewidth=3)\n",
    "    plt.plot([0.25, 0.25], [0.25, 0.75], 'k', linewidth=3)\n",
    "    plt.plot([0.75, 0.75], [0.25, 0.75], 'k', linewidth=3)\n",
    "    \n",
    "    print('Saving xy plot...')\n",
    "    plt.savefig('/home/maspe/filer/SERT/ALL/figs/xys/{}.png'.format(mouse), dpi=150)\n",
    "    plt.clf()\n",
    "\n",
    "\n",
    "print('Saving dictionary...')\n",
    "pickle.dump(xy, open('/home/maspe/filer/SERT/ALL/npys/xy.dict', 'wb'), protocol=2)\n",
    "\n",
    "print('Done!')     "
   ]
  }
 ],
 "metadata": {
  "kernelspec": {
   "display_name": "Python 3",
   "language": "python",
   "name": "python3"
  },
  "language_info": {
   "codemirror_mode": {
    "name": "ipython",
    "version": 2
   },
   "file_extension": ".py",
   "mimetype": "text/x-python",
   "name": "python",
   "nbconvert_exporter": "python",
   "pygments_lexer": "ipython2",
   "version": "2.7.17"
  }
 },
 "nbformat": 4,
 "nbformat_minor": 2
}
