{
 "cells": [
  {
   "cell_type": "code",
   "execution_count": 1,
   "metadata": {},
   "outputs": [],
   "source": [
    "### Importing modules\n",
    "import time\n",
    "import pickle\n",
    "import numpy as np\n",
    "import wavelets as wl\n",
    "from scipy import signal\n",
    "from matplotlib import pyplot as plt"
   ]
  },
  {
   "cell_type": "code",
   "execution_count": 2,
   "metadata": {},
   "outputs": [],
   "source": [
    "# Morlet parameters\n",
    "dt = 1.0 / 1000\n",
    "time_windows = np.arange(0, 3, dt)\n",
    "\n",
    "frequencies = np.arange(1, 50, 1)\n",
    "#periods = 1 / (frequencies * dt)\n",
    "\n",
    "#scales = periods / wl.Morlet.fourierwl\n",
    "#n_frequencies = frequencies.shape[0]\n",
    "#time_points = time_windows.shape[0]\n",
    "\n",
    "# Reducing epoch\n",
    "#start = 1000\n",
    "#stop = 4000\n",
    "#baseline = 2000"
   ]
  },
  {
   "cell_type": "markdown",
   "metadata": {},
   "source": [
    "#### Grand-average"
   ]
  },
  {
   "cell_type": "code",
   "execution_count": 3,
   "metadata": {},
   "outputs": [
    {
     "name": "stdout",
     "output_type": "stream",
     "text": [
      "LOADING!!!\n",
      "Done!\n"
     ]
    }
   ],
   "source": [
    "print('LOADING!!!')\n",
    "SRS_WT = pickle.load(open('/home/maspe/filer/SERT/ALL/npys/SRS_WT.dict', 'rb'))\n",
    "SRS_KO = pickle.load(open('/home/maspe/filer/SERT/ALL/npys/SRS_KO.dict', 'rb'))\n",
    "print('Done!')"
   ]
  },
  {
   "cell_type": "code",
   "execution_count": 5,
   "metadata": {},
   "outputs": [
    {
     "data": {
      "text/plain": [
       "7"
      ]
     },
     "execution_count": 5,
     "metadata": {},
     "output_type": "execute_result"
    }
   ],
   "source": [
    "#n_mice=len(SRS_WT[SRS_WT.keys()[0]].keys())\n",
    "#n_mice"
   ]
  },
  {
   "cell_type": "code",
   "execution_count": null,
   "metadata": {},
   "outputs": [],
   "source": [
    "grand_average_WT = {'mPFC': [], 'NAC': [], 'BLA': [], 'vHip': []}\n",
    "grand_average_KO = {'mPFC': [], 'NAC': [], 'BLA': [], 'vHip': []}\n",
    "\n",
    "# WT\n",
    "print('Loading WT...')\n",
    "n_mice = 7\n",
    "mouse_average = np.empty((49, 3000, n_mice))\n",
    "for structure in SRS_WT.keys():    \n",
    "    iteration = 0\n",
    "    \n",
    "    for mouse in SRS_WT[structure].keys():\n",
    "        print(iteration)\n",
    "        print('Loading structure {} for mouse {}...'.format(structure, mouse))\n",
    "        \n",
    "        mouse_average[:, :, iteration] = np.mean(SRS_WT[structure][mouse], axis=(2,3))\n",
    "        print('Data shape: {}'.format(mouse_average.shape))\n",
    "        \n",
    "        #if iteration == 0:\n",
    "        #    mouse_average = data\n",
    "        #    print('Iteration 1 shape: {}'.format(mouse_average.shape))\n",
    "                   \n",
    "        #else:\n",
    "            #print('Original shape average to stack: {}'.format(np.mean(SRS_KO[structure][mouse], axis=(2,3)).shape))\n",
    "        #    mouse_average = np.stack((mouse_average, data), axis=2)\n",
    "        \n",
    "        print('average shape: {}'.format(mouse_average.shape))\n",
    "        iteration += 1\n",
    "        \n",
    "    \n",
    "    grand_average_WT[structure] = np.mean(mouse_average, axis=2)\n",
    "\n",
    "\n",
    "print('Print loading KO...')\n",
    "n_mice = 5\n",
    "mouse_average = np.empty((49, 3000, n_mice))\n",
    "for structure in SRS_KO.keys():    \n",
    "    iteration = 0\n",
    "  \n",
    "    for mouse in SRS_KO[structure].keys():\n",
    "       \n",
    "        print(iteration)\n",
    "        print('Loading structure {} for mouse {}...'.format(structure, mouse))\n",
    "        \n",
    "        mouse_average[:, :, iteration] = np.mean(SRS_KO[structure][mouse], axis=(2,3))\n",
    "        print('Data shape: {}'.format(mouse_average.shape))\n",
    "        \n",
    "        #if iteration == 0:\n",
    "        #    mouse_average = data\n",
    "        #    print('Iteration 1 shape: {}'.format(mouse_average.shape))\n",
    "                   \n",
    "        #else:\n",
    "            #print('Original shape average to stack: {}'.format(np.mean(SRS_KO[structure][mouse], axis=(2,3)).shape))\n",
    "        #    mouse_average = np.stack((mouse_average, data), axis=2)\n",
    "        \n",
    "        print('average shape: {}'.format(mouse_average.shape))\n",
    "        iteration += 1\n",
    "    \n",
    "    grand_average_KO[structure] = np.mean(mouse_average, axis=2)\n",
    "  \n",
    "\n",
    "print('Done!')"
   ]
  },
  {
   "cell_type": "markdown",
   "metadata": {},
   "source": [
    "### Plotting"
   ]
  },
  {
   "cell_type": "markdown",
   "metadata": {},
   "source": [
    "#### Wild-type"
   ]
  },
  {
   "cell_type": "code",
   "execution_count": null,
   "metadata": {},
   "outputs": [],
   "source": [
    "# Setting colormap range\n",
    "mycolormap = {'mPFC': (-3,3), 'NAC': (-8,8), 'BLA': (-4,4), 'vHip': (-4,4)}\n",
    "\n",
    "for structure in grand_average_WT.keys():\n",
    "    pwr1 = grand_average_WT[structure]\n",
    "    fmin = min(frequencies)\n",
    "    fmax = max(frequencies)\n",
    "\n",
    "    plt.figure(1, figsize=(10, 5))\n",
    "    plt.clf()\n",
    "\n",
    "    ax1 = plt.subplot2grid((1, 5),(0, 0),colspan=4)\n",
    "       \n",
    "    plt.imshow(pwr1,cmap='RdBu',vmax=np.max(pwr1),vmin=-np.max(pwr1),\n",
    "               extent=(min(time_windows),max(time_windows),fmin,fmax),\n",
    "               origin='lower', interpolation='none',aspect='auto')\n",
    "    plt.colorbar(fraction=0.05,pad=0.02)\n",
    "    plt.clim(mycolormap[structure][0], mycolormap[structure][1])\n",
    "    \n",
    "    plt.axvline(x=2, color='black')\n",
    "    plt.axhline(y=3, color='red', linestyle='--')\n",
    "    plt.axhline(y=8, color='red', linestyle='--')\n",
    "    plt.axhline(y=13, color='red', linestyle='--')\n",
    "    plt.axhline(y=25, color='red', linestyle='--')\n",
    "   \n",
    "    locs, labels = plt.xticks()    \n",
    "    plt.xticks(locs, ['-2', '-1.5', '-1', '-0.5', '0', '0.5', '1'], fontsize=14)\n",
    "    plt.yticks([3, 8, 13, 25], ['3', '8', '13', '25'], fontsize=14)\n",
    "\n",
    "    ax1.set_xlabel('Time (s)', fontsize=16)\n",
    "    ax1.set_ylabel('Frequency (Hz)', fontsize=16)\n",
    "    plt.title('SRS Grand-average for {} in WT'. format(structure), fontsize=20)\n",
    "    \n",
    "    plt.savefig('/home/maspe/filer/SERT/ALL/figs/SRS/{}_WT.png'.format(structure), dpi=150, orientation='landscape')\n"
   ]
  },
  {
   "cell_type": "markdown",
   "metadata": {},
   "source": [
    "#### Knock-out"
   ]
  },
  {
   "cell_type": "code",
   "execution_count": null,
   "metadata": {},
   "outputs": [],
   "source": [
    "for structure in grand_average_KO.keys():\n",
    "    pwr1 = grand_average_KO[structure]\n",
    "    fmin = min(frequencies)\n",
    "    fmax = max(frequencies)\n",
    "\n",
    "    plt.figure(1, figsize=(10, 5))\n",
    "    plt.clf()\n",
    "\n",
    "    ax1 = plt.subplot2grid((1, 5),(0, 0),colspan=4)\n",
    "       \n",
    "    plt.imshow(pwr1,cmap='RdBu',vmax=np.max(pwr1),vmin=-np.max(pwr1),\n",
    "               extent=(min(time_windows),max(time_windows),fmin,fmax),\n",
    "               origin='lower', interpolation='none',aspect='auto')\n",
    "    plt.colorbar(fraction=0.05,pad=0.02)\n",
    "    plt.clim(mycolormap[structure][0], mycolormap[structure][1])\n",
    "    \n",
    "    plt.axvline(x=2, color='black')\n",
    "\n",
    "    plt.axhline(y=3, color='red', linestyle='--')\n",
    "    plt.axhline(y=8, color='red', linestyle='--')\n",
    "    plt.axhline(y=13, color='red', linestyle='--')\n",
    "    plt.axhline(y=25, color='red', linestyle='--')\n",
    "   \n",
    "    locs, labels = plt.xticks()    \n",
    "    plt.xticks(locs, ['-2', '-1.5', '-1', '-0.5', '0', '0.5', '1'], fontsize=14)\n",
    "    plt.yticks([3, 8, 13, 25], ['3', '8', '13', '25'], fontsize=14)\n",
    "\n",
    "    ax1.set_xlabel('Time (s)', fontsize=16)\n",
    "    ax1.set_ylabel('Frequency (Hz)', fontsize=16)\n",
    "    plt.title('SRS Grand-average for {} in KO'. format(structure), fontsize=20)\n",
    "    \n",
    "    plt.savefig('/home/maspe/filer/SERT/ALL/figs/SRS/{}_KO.png'.format(structure), dpi=150, orientation='landscape')\n"
   ]
  }
 ],
 "metadata": {
  "kernelspec": {
   "display_name": "Python 3",
   "language": "python",
   "name": "python3"
  },
  "language_info": {
   "codemirror_mode": {
    "name": "ipython",
    "version": 2
   },
   "file_extension": ".py",
   "mimetype": "text/x-python",
   "name": "python",
   "nbconvert_exporter": "python",
   "pygments_lexer": "ipython2",
   "version": "2.7.17"
  }
 },
 "nbformat": 4,
 "nbformat_minor": 2
}
