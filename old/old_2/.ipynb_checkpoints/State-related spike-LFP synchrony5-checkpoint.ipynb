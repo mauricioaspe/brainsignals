{
 "cells": [
  {
   "cell_type": "markdown",
   "metadata": {},
   "source": [
    "## Compute spikes/LFP coherence"
   ]
  },
  {
   "cell_type": "markdown",
   "metadata": {},
   "source": [
    "Add some explanation"
   ]
  },
  {
   "cell_type": "markdown",
   "metadata": {},
   "source": [
    "#### Load modules"
   ]
  },
  {
   "cell_type": "code",
   "execution_count": 1,
   "metadata": {},
   "outputs": [],
   "source": [
    "import h5py\n",
    "import pickle\n",
    "import time\n",
    "import numpy as np\n",
    "import pandas as pd\n",
    "#from scipy import signal, stats\n",
    "#import matplotlib.pyplot as plt\n",
    "#import physig as ps\n",
    "#import connectivity_measures as cm"
   ]
  },
  {
   "cell_type": "code",
   "execution_count": 6,
   "metadata": {},
   "outputs": [],
   "source": [
    "all_spikes = {'SERT1597': {}, 'SERT1659': {}} #, 'SERT1678': {}, 'SERT1908': {}, 'SERT1984': {}, 'SERT1985': {}, 'SERT2014': {}}\n",
    "#spikes_KO = {'SERT1668': {}, 'SERT1665': {}} #, 'SERT2018': {}, 'SERT2024': {}, 'SERT2013': {}}\n",
    "\n",
    "# Channels list\n",
    "channels_list = ['ch01', 'ch02', 'ch03', 'ch04', 'ch05', 'ch06', 'ch07', 'ch08', 'ch09', 'ch10',\n",
    "         'ch11', 'ch12', 'ch13', 'ch14', 'ch15', 'ch16', 'ch17', 'ch18', 'ch19', 'ch20',\n",
    "         'ch21', 'ch22', 'ch23', 'ch24', 'ch25', 'ch26', 'ch27', 'ch28', 'ch29', 'ch30',\n",
    "         'ch31', 'ch32']"
   ]
  },
  {
   "cell_type": "markdown",
   "metadata": {},
   "source": [
    "#### Collecting spikes"
   ]
  },
  {
   "cell_type": "code",
   "execution_count": 7,
   "metadata": {},
   "outputs": [],
   "source": [
    "for mouse in all_spikes.keys():\n",
    "    for channel in channels_list:\n",
    "        results = '/home/maspe/filer/SERT/' + mouse + '/spikes/results/' + channel + '.result.hdf5'\n",
    "        fit     = h5py.File(results, 'r')\n",
    "        \n",
    "        all_spikes[mouse][channel] = fit['spiketimes']"
   ]
  },
  {
   "cell_type": "code",
   "execution_count": 11,
   "metadata": {},
   "outputs": [
    {
     "data": {
      "text/plain": [
       "array([     248,      284,      397, ..., 38518216, 38518528, 38523560],\n",
       "      dtype=uint32)"
      ]
     },
     "execution_count": 11,
     "metadata": {},
     "output_type": "execute_result"
    }
   ],
   "source": [
    "all_spikes['SERT1597']['ch01']['temp_0'][()]"
   ]
  },
  {
   "cell_type": "markdown",
   "metadata": {},
   "source": [
    "#### Collecting entrances times"
   ]
  },
  {
   "cell_type": "code",
   "execution_count": null,
   "metadata": {},
   "outputs": [],
   "source": [
    "entrances_WT = {'SERT1597': {}, 'SERT1659': {}} #, 'SERT1678': {}, 'SERT1908': {}, 'SERT1984': {}, 'SERT1985': {}, 'SERT2014': {}}\n",
    "entrances_KO = {'SERT1668': {}, 'SERT1665': {}} #, 'SERT2018': {}, 'SERT2024': {}, 'SERT2013': {}}\n",
    "\n",
    "for mouse in entrances_WT.keys(): # Create dict with all mice's entries !!!\n",
    "    entrances_dir = '/home/maspe/filer/SERT/' + mouse + '/continuous/entradas.xlsx'  \n",
    "\n",
    "    df = pd.read_excel(entrances_dir, sheet_name=0, header=None, names=[\"locs\"])\n",
    "    entrances_WT[mouse] = np.array(df['locs'].tolist(), dtype='int') * 30 # Times 30 because of sampling at 30 KHz\n",
    "    n_epochs = len(entrances_WT[mouse])\n",
    "    print('Number of entrances: {}\\n'.format(n_epochs))\n"
   ]
  },
  {
   "cell_type": "code",
   "execution_count": null,
   "metadata": {},
   "outputs": [],
   "source": [
    "entrances_WT[mouse]"
   ]
  },
  {
   "cell_type": "markdown",
   "metadata": {},
   "source": [
    "#### Collecting LPFs"
   ]
  },
  {
   "cell_type": "code",
   "execution_count": null,
   "metadata": {},
   "outputs": [],
   "source": [
    "lfp_WT = pickle.load(open('/home/maspe/filer/SERT/ALL/npys/band_filtered_WT_2.dict', 'rb'))\n",
    "lfp_KO = pickle.load(open('/home/maspe/filer/SERT/ALL/npys/band_filtered_KO_2.dict', 'rb'))"
   ]
  },
  {
   "cell_type": "code",
   "execution_count": null,
   "metadata": {},
   "outputs": [],
   "source": [
    "lfp_WT['SERT1597']['theta'].shape"
   ]
  },
  {
   "cell_type": "markdown",
   "metadata": {},
   "source": [
    "#### Apply Hilbert transform to form the analytic signal"
   ]
  },
  {
   "cell_type": "code",
   "execution_count": null,
   "metadata": {},
   "outputs": [],
   "source": [
    "z_WT = {'SERT1597': {}, 'SERT1659': {}} #, 'SERT1678': {}, 'SERT1908': {}, 'SERT1984': {}, 'SERT1985': {}, 'SERT2014': {}}\n",
    "z_KO = {'SERT1668': {}, 'SERT1665': {}} #, 'SERT2018': {}, 'SERT2024': {}, 'SERT2013': {}}\n",
    "\n",
    "bands = ['theta', 'alpha', 'beta', 'low_gamma']"
   ]
  },
  {
   "cell_type": "code",
   "execution_count": null,
   "metadata": {},
   "outputs": [],
   "source": [
    "for mouse in z_WT.keys():\n",
    "    for band in bands:\n",
    "        z_WT[mouse][band] = signal.hilbert(lfp_WT[mouse][band])\n"
   ]
  },
  {
   "cell_type": "markdown",
   "metadata": {},
   "source": [
    "#### Spiking data"
   ]
  },
  {
   "cell_type": "code",
   "execution_count": null,
   "metadata": {},
   "outputs": [],
   "source": [
    "spikes_NAC_WT = np.sum([spikes['WT']['NAC'][key] for key in spikes['WT']['NAC'].keys()], axis=0)\n",
    "spikes_BLA_WT = np.sum([spikes['WT']['BLA'][key] for key in spikes['WT']['BLA'].keys()], axis=0)\n",
    "spikes_vHip_WT = np.sum([spikes['WT']['vHip'][key] for key in spikes['WT']['vHip'].keys()], axis=0)\n",
    "\n",
    "spikes_NAC_KO = np.sum([spikes['KO']['NAC'][key] for key in spikes['KO']['NAC'].keys()], axis=0)\n",
    "spikes_BLA_KO = np.sum([spikes['KO']['BLA'][key] for key in spikes['KO']['BLA'].keys()], axis=0)\n",
    "spikes_vHip_KO = np.sum([spikes['KO']['vHip'][key] for key in spikes['KO']['vHip'].keys()], axis=0)"
   ]
  },
  {
   "cell_type": "code",
   "execution_count": null,
   "metadata": {},
   "outputs": [],
   "source": [
    "spikes_NAC_KO.shape"
   ]
  },
  {
   "cell_type": "code",
   "execution_count": null,
   "metadata": {},
   "outputs": [],
   "source": [
    "spikes_NAC_WT = spikes_NAC_WT[45000:90000]\n",
    "spikes_BLA_WT = spikes_BLA_WT[45000:90000]\n",
    "spikes_vHip_WT = spikes_vHip_WT[45000:90000]\n",
    "\n",
    "spikes_NAC_KO = spikes_NAC_KO[45000:90000]\n",
    "spikes_BLA_KO = spikes_BLA_KO[45000:90000]\n",
    "spikes_vHip_KO = spikes_vHip_KO[45000:90000]\n"
   ]
  },
  {
   "cell_type": "code",
   "execution_count": null,
   "metadata": {},
   "outputs": [],
   "source": [
    "rspikes_NAC_WT = np.add.reduceat(spikes_NAC_WT, range(0, spikes_NAC_WT.shape[0], 30), dtype='int')\n",
    "rspikes_BLA_WT = np.add.reduceat(spikes_BLA_WT, range(0, spikes_BLA_WT.shape[0], 30), dtype='int')\n",
    "rspikes_vHip_WT = np.add.reduceat(spikes_vHip_WT, range(0, spikes_vHip_WT.shape[0], 30), dtype='int')\n",
    "\n",
    "rspikes_NAC_KO = np.add.reduceat(spikes_NAC_KO, range(0, spikes_NAC_KO.shape[0], 30), dtype='int')\n",
    "rspikes_BLA_KO = np.add.reduceat(spikes_BLA_KO, range(0, spikes_BLA_KO.shape[0], 30), dtype='int')\n",
    "rspikes_vHip_KO = np.add.reduceat(spikes_vHip_KO, range(0, spikes_vHip_KO.shape[0], 30), dtype='int')\n"
   ]
  },
  {
   "cell_type": "code",
   "execution_count": null,
   "metadata": {},
   "outputs": [],
   "source": [
    "phases_WT = np.mean(np.angle(rz_WT), axis=0)\n",
    "amplitudes_WT = np.mean(np.absolute(rz_WT), axis=0)\n",
    "\n",
    "pre_spikesLFP_NAC_WT = (np.repeat(phases_WT[0:500], rspikes_NAC_WT[0:500]),\n",
    "                        np.repeat(amplitudes_WT[0:500], rspikes_NAC_WT[0:500]))\n",
    "pre_spikesLFP_BLA_WT = (np.repeat(phases_WT[0:500], rspikes_BLA_WT[0:500]),\n",
    "                        np.repeat(amplitudes_WT[0:500], rspikes_BLA_WT[0:500]))\n",
    "pre_spikesLFP_vHip_WT = (np.repeat(phases_WT[0:500], rspikes_vHip_WT[0:500]),\n",
    "                         np.repeat(amplitudes_WT[0:500], rspikes_vHip_WT[0:500]))\n",
    "\n",
    "post_spikesLFP_NAC_WT = (np.repeat(phases_WT[500:1500], rspikes_NAC_WT[500:1500]),\n",
    "                        np.repeat(amplitudes_WT[500:1500], rspikes_NAC_WT[500:1500]))\n",
    "post_spikesLFP_BLA_WT = (np.repeat(phases_WT[500:1500], rspikes_BLA_WT[500:1500]),\n",
    "                        np.repeat(amplitudes_WT[500:1500], rspikes_BLA_WT[500:1500]))\n",
    "post_spikesLFP_vHip_WT = (np.repeat(phases_WT[500:1500], rspikes_vHip_WT[500:1500]),\n",
    "                         np.repeat(amplitudes_WT[500:1500], rspikes_vHip_WT[500:1500]))"
   ]
  },
  {
   "cell_type": "code",
   "execution_count": null,
   "metadata": {},
   "outputs": [],
   "source": [
    "phases_KO = np.mean(np.angle(rz_KO), axis=0) \n",
    "amplitudes_KO = np.mean(np.absolute(z_KO), axis=0)\n",
    "\n",
    "pre_spikesLFP_NAC_KO = (np.repeat(phases_KO[0:500], rspikes_NAC_KO[0:500]),\n",
    "                        np.repeat(amplitudes_KO[0:500], rspikes_NAC_KO[0:500]))\n",
    "pre_spikesLFP_BLA_KO = (np.repeat(phases_KO[0:500], rspikes_BLA_KO[0:500]),\n",
    "                        np.repeat(amplitudes_KO[0:500], rspikes_BLA_KO[0:500]))\n",
    "pre_spikesLFP_vHip_KO = (np.repeat(phases_KO[0:500], rspikes_vHip_KO[0:500]),\n",
    "                         np.repeat(amplitudes_KO[0:500], rspikes_vHip_KO[0:500]))\n",
    "\n",
    "post_spikesLFP_NAC_KO = (np.repeat(phases_KO[500:1500], rspikes_NAC_KO[500:1500]),\n",
    "                        np.repeat(amplitudes_KO[500:1500], rspikes_NAC_KO[500:1500]))\n",
    "post_spikesLFP_BLA_KO = (np.repeat(phases_KO[500:1500], rspikes_BLA_KO[500:1500]),\n",
    "                        np.repeat(amplitudes_KO[500:1500], rspikes_BLA_KO[500:1500]))\n",
    "post_spikesLFP_vHip_KO = (np.repeat(phases_KO[500:1500], rspikes_vHip_KO[500:1500]),\n",
    "                         np.repeat(amplitudes_KO[500:1500], rspikes_vHip_KO[500:1500]))"
   ]
  },
  {
   "cell_type": "markdown",
   "metadata": {},
   "source": [
    "#### Plots and statistical tests"
   ]
  },
  {
   "cell_type": "code",
   "execution_count": null,
   "metadata": {},
   "outputs": [],
   "source": [
    "plt.figure(figsize=(20,10))\n",
    "\n",
    "plt.subplot(1,2,1, projection='polar')\n",
    "plt.polar(post_spikesLFP_vHip_WT[0], post_spikesLFP_vHip_WT[1], 'xr', alpha=0.5)\n",
    "plt.polar(pre_spikesLFP_vHip_WT[0], pre_spikesLFP_vHip_WT[1], 'ob', alpha=0.5)\n",
    "plt.xticks(fontsize=16)\n",
    "\n",
    "plt.subplot(1,2,2, projection='polar')\n",
    "plt.polar(post_spikesLFP_vHip_KO[0], post_spikesLFP_vHip_KO[1], 'xr', alpha=0.5)\n",
    "plt.polar(pre_spikesLFP_vHip_KO[0], pre_spikesLFP_vHip_KO[1], 'ob', alpha=0.5)\n",
    "plt.xticks(fontsize=16)\n",
    "\n",
    "plt.savefig(\"/home/maspe/filer/SERT/ALL/figs/polars_theta_vHip.pdf\", dpi=150, format='pdf')"
   ]
  },
  {
   "cell_type": "code",
   "execution_count": null,
   "metadata": {},
   "outputs": [],
   "source": [
    "plt.hist(pre_flat_amplitudes, color='green', alpha=0.5, label='pre')\n",
    "plt.hist(post_flat_amplitudes, color='red', alpha=0.5, label='post')\n",
    "plt.legend(loc='upper right')\n",
    "\n",
    "# plt.savefig(\"/home/maspe/filer/testFiles/figs/pre_post_hist.png\", dpi=150, format='png')"
   ]
  },
  {
   "cell_type": "code",
   "execution_count": null,
   "metadata": {},
   "outputs": [],
   "source": [
    "stat, p = stats.mannwhitneyu(pre_flat_amplitudes, post_flat_amplitudes)\n",
    "if p > 0.05:\n",
    "    print('Same distribution (fail to reject H0)')\n",
    "else:\n",
    "    print('Different distribution (reject H0)')"
   ]
  },
  {
   "cell_type": "markdown",
   "metadata": {},
   "source": [
    "#########################"
   ]
  },
  {
   "cell_type": "markdown",
   "metadata": {},
   "source": [
    "#### Unused codes"
   ]
  },
  {
   "cell_type": "code",
   "execution_count": null,
   "metadata": {},
   "outputs": [],
   "source": [
    "# f, psd = signal.welch(theta_band, fs=30000, window='hann', nperseg=None, noverlap=None, nfft=None,\n",
    "#                       detrend='constant', return_onesided=True, scaling='density', axis=-1, average='mean')"
   ]
  },
  {
   "cell_type": "code",
   "execution_count": null,
   "metadata": {},
   "outputs": [],
   "source": [
    "# # Plot the power spectrum\n",
    "# plt.figure(figsize=(11,3))\n",
    "# plt.semilogy(f,psd,'k')\n",
    "# # sns.despine()\n",
    "# plt.xlim((0,100))\n",
    "# plt.yticks(size=15)\n",
    "# plt.xticks(size=15)\n",
    "# plt.ylabel('power ($uV^{2}/Hz$)',size=15)\n",
    "# plt.xlabel('frequency (Hz)',size=15)\n",
    "# plt.title('PSD of Local Field Potential', size=20)\n",
    "# plt.show()"
   ]
  },
  {
   "cell_type": "code",
   "execution_count": null,
   "metadata": {},
   "outputs": [],
   "source": [
    "# freqs = np.fft.fftfreq(len(data), sampleRate)\n",
    "\n",
    "# plt.plot(freqs[0:len(data)//2],2/len(data)*np.abs(theta_band[0:len(data)//2]))\n",
    "# plt.xlim([0,10])"
   ]
  },
  {
   "cell_type": "code",
   "execution_count": null,
   "metadata": {},
   "outputs": [],
   "source": [
    "# def butter_bandpass(lowcut, highcut, fs, order):\n",
    "#     nyq = 0.5 * fs\n",
    "#     low = lowcut / nyq\n",
    "#     high = highcut / nyq\n",
    "#     b, a = signal.butter(order, [low, high], btype='bandpass')\n",
    "#     return b, a\n",
    "\n",
    "# [b, a] = butter_bandpass(lowcut = 4, highcut = 8, fs = 30000.0, order = 3)"
   ]
  },
  {
   "cell_type": "code",
   "execution_count": null,
   "metadata": {},
   "outputs": [],
   "source": [
    "# Cxy = cm.coherence(CC1973.item()['data'], average = False)\n",
    "\n",
    "# fig = plt.figure(figsize=(150,150))\n",
    "# plt.matshow(Cxy)\n",
    "# plt.xticks(ticks=np.arange(0, 32, 8), labels=['OFC', 'mPFC', 'DMS', 'BLA'], rotation=0)\n",
    "# plt.yticks(ticks=np.arange(0, 32, 8), labels=['OFC', 'mPFC', 'DMS', 'BLA'], rotation=0)\n",
    "# plt.colorbar()\n",
    "# plt.show()\n",
    "\n",
    "# fig.savefig(\"/home/maspe/filer/testFiles/figs/coherence.png\", dpi=150, format='png')"
   ]
  },
  {
   "cell_type": "code",
   "execution_count": null,
   "metadata": {},
   "outputs": [],
   "source": [
    "n_iterations = np.int(np.floor(len_data/sampleRate))\n",
    "\n",
    "phases = np.zeros((1, n_iterations))\n",
    "phases.shape"
   ]
  },
  {
   "cell_type": "code",
   "execution_count": null,
   "metadata": {},
   "outputs": [],
   "source": [
    "#### Sum spikes and make raster plot \n",
    "fitting = fit_27\n",
    "\n",
    "keys = list(fitting['spiketimes'].keys())\n",
    "n_units = len(keys)\n",
    "units = [int(keys[this_unit][5:]) for this_unit in range(n_units)]\n",
    "len_data = mPFC.shape[1]\n",
    "all_spikes = np.array([], dtype='int')\n",
    "\n",
    "spiketimes_matrix = np.zeros((n_units, len_data))\n",
    "\n",
    "for unit in range(n_units):\n",
    "    spiketimes_matrix[units[unit], fitting['spiketimes'][keys[unit]]] = unit\n",
    "#     all_spikes = np.append(all_spikes, fitting['spiketimes'][keys[unit]].value)\n",
    "\n",
    "# all_spikes = np.unique(all_spikes)\n",
    "    \n",
    "t_matrix = spiketimes_matrix[:, 0:5000000]\n",
    "t_matrix[t_matrix == 0] = float('nan')\n",
    "\n",
    "matrix2plot = t_matrix\n",
    "\n",
    "# plt.subplot(2, 1, 1)\n",
    "fig = plt.figure()\n",
    "for unit in range(n_units):\n",
    "    plt.plot(matrix2plot[unit, :], '|', color='black', markersize=2)\n",
    "    \n",
    "plt.xticks([])\n",
    "plt.ylabel('unit')\n",
    "    \n",
    "# plt.subplot(2, 1, 2)\n",
    "# plt.plot(np.arange(0, matrix2plot.shape[1]), np.nansum(matrix2plot,0), '-', color='gray')\n",
    "# plt.xlabel('time')\n",
    "# plt.ylabel('counts')\n",
    "\n"
   ]
  }
 ],
 "metadata": {
  "kernelspec": {
   "display_name": "Python 3",
   "language": "python",
   "name": "python3"
  },
  "language_info": {
   "codemirror_mode": {
    "name": "ipython",
    "version": 2
   },
   "file_extension": ".py",
   "mimetype": "text/x-python",
   "name": "python",
   "nbconvert_exporter": "python",
   "pygments_lexer": "ipython2",
   "version": "2.7.17"
  }
 },
 "nbformat": 4,
 "nbformat_minor": 2
}
