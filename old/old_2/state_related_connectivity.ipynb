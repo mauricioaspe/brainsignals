{
 "cells": [
  {
   "cell_type": "code",
   "execution_count": 1,
   "metadata": {},
   "outputs": [],
   "source": [
    "import pickle\n",
    "import numpy as np\n",
    "from scipy import signal\n",
    "import matplotlib.pyplot as plt\n",
    "import connectivity_measures as cm"
   ]
  },
  {
   "cell_type": "code",
   "execution_count": 2,
   "metadata": {},
   "outputs": [],
   "source": [
    "print('Loading files...')\n",
    "WT = pickle.load(open('/home/maspe/filer/SERT/ALL/npys/band_filtered_WT.dict', 'rb'))\n",
    "KO = pickle.load(open('/home/maspe/filer/SERT/ALL/npys/band_filtered_KO.dict', 'rb'))"
   ]
  },
  {
   "cell_type": "code",
   "execution_count": 3,
   "metadata": {},
   "outputs": [],
   "source": [
    "start = 60000\n",
    "event = 90000\n",
    "stop  = 105000\n",
    "\n",
    "all_WT = dict()\n",
    "bands = ['theta', 'beta', 'low_gamma', 'alpha']\n",
    "\n",
    "print('Collecting bands...')\n",
    "for band in bands:    \n",
    "    iteration = 0\n",
    "    \n",
    "    for mouse in WT.keys():\n",
    "        \n",
    "        if iteration == 0:\n",
    "            data = WT[mouse][band]\n",
    "            \n",
    "        else:\n",
    "            data = np.dstack((data, WT[mouse][band]))\n",
    "            \n",
    "        iteration += 1\n",
    "    \n",
    "    all_WT[band] = data\n",
    "    \n",
    "    \n",
    "    \n",
    "all_KO = dict()\n",
    "bands = ['theta', 'beta', 'low_gamma', 'alpha']\n",
    "\n",
    "for band in bands:    \n",
    "    iteration = 0\n",
    "    \n",
    "    for mouse in KO.keys():\n",
    "        \n",
    "        if iteration == 0:\n",
    "            data = KO[mouse][band]\n",
    "            \n",
    "        else:\n",
    "            data = np.dstack((data, KO[mouse][band]))\n",
    "            \n",
    "        iteration += 1\n",
    "    \n",
    "    all_KO[band] = data"
   ]
  },
  {
   "cell_type": "code",
   "execution_count": 5,
   "metadata": {},
   "outputs": [
    {
     "name": "stdout",
     "output_type": "stream",
     "text": [
      "Beginning iCoh for WT...\n",
      "Saving...\n",
      "Beginning iCoh for KO...\n",
      "Saving...\n",
      "Done!\n"
     ]
    }
   ],
   "source": [
    "icoh_WT = {'theta': {}, 'alpha': {}, 'beta': {}, 'low_gamma': {}}\n",
    "icoh_KO = {'theta': {}, 'alpha': {}, 'beta': {}, 'low_gamma': {}}\n",
    "\n",
    "print('Beginning iCoh for WT...')\n",
    "for band in all_WT.keys():\n",
    "    n_mice = all_WT[band].shape[2]\n",
    "    \n",
    "    pre_icoh = np.empty((32, 32, n_mice))\n",
    "    post_icoh = np.empty((32, 32, n_mice))\n",
    "    \n",
    "    for mouse in range(n_mice):\n",
    "        pre_icoh[:, :, mouse]   = cm.icoh(all_WT[band][:, start : event, mouse], average = False)\n",
    "        post_icoh[:, :, mouse]  = cm.icoh(all_WT[band][:, event : stop, mouse], average = False)\n",
    "        \n",
    "    icoh_WT[band]['pre']  = np.mean(pre_icoh, axis=2)\n",
    "    icoh_WT[band]['post'] = np.mean(post_icoh, axis=2)\n",
    "    \n",
    "print('Saving...')\n",
    "pickle.dump(icoh_WT, open('/home/maspe/filer/SERT/ALL/npys/icoh_WT.dict', 'wb'), protocol=2)\n",
    "\n",
    "print('Beginning iCoh for KO...')\n",
    "for band in all_KO.keys():\n",
    "    n_mice = all_KO[band].shape[2]\n",
    "    \n",
    "    pre_icoh = np.empty((32, 32, n_mice))\n",
    "    post_icoh = np.empty((32, 32, n_mice))\n",
    "    \n",
    "    for mouse in range(n_mice):\n",
    "        pre_icoh[:, :, mouse]   = cm.icoh(all_WT[band][:, start : event, mouse], average = False)\n",
    "        post_icoh[:, :, mouse]  = cm.icoh(all_WT[band][:, event : stop, mouse], average = False)\n",
    "        \n",
    "    icoh_KO[band]['pre']  = np.mean(pre_icoh, axis=2)\n",
    "    icoh_KO[band]['post'] = np.mean(post_icoh, axis=2)\n",
    "\n",
    "\n",
    "print('Saving...')\n",
    "pickle.dump(icoh_KO, open('/home/maspe/filer/SERT/ALL/npys/icoh_KO.dict', 'wb'), protocol=2)\n",
    "    \n",
    "print('Done!')"
   ]
  },
  {
   "cell_type": "code",
   "execution_count": 15,
   "metadata": {},
   "outputs": [
    {
     "data": {
      "text/plain": [
       "<Figure size 720x1440 with 0 Axes>"
      ]
     },
     "metadata": {},
     "output_type": "display_data"
    },
    {
     "data": {
      "text/plain": [
       "<Figure size 720x1440 with 0 Axes>"
      ]
     },
     "metadata": {},
     "output_type": "display_data"
    },
    {
     "data": {
      "text/plain": [
       "<Figure size 720x1440 with 0 Axes>"
      ]
     },
     "metadata": {},
     "output_type": "display_data"
    },
    {
     "data": {
      "text/plain": [
       "<Figure size 720x1440 with 0 Axes>"
      ]
     },
     "metadata": {},
     "output_type": "display_data"
    },
    {
     "data": {
      "text/plain": [
       "<Figure size 720x1440 with 0 Axes>"
      ]
     },
     "metadata": {},
     "output_type": "display_data"
    },
    {
     "data": {
      "text/plain": [
       "<Figure size 720x1440 with 0 Axes>"
      ]
     },
     "metadata": {},
     "output_type": "display_data"
    },
    {
     "data": {
      "text/plain": [
       "<Figure size 720x1440 with 0 Axes>"
      ]
     },
     "metadata": {},
     "output_type": "display_data"
    },
    {
     "data": {
      "text/plain": [
       "<Figure size 720x1440 with 0 Axes>"
      ]
     },
     "metadata": {},
     "output_type": "display_data"
    }
   ],
   "source": [
    "# For WT\n",
    "print('Plotting WT...')\n",
    "for band in icoh_WT.keys():    \n",
    "    matrix_pre = icoh_WT[band]['pre']\n",
    "    matrix_post = icoh_WT[band]['post']\n",
    "\n",
    "    plt.figure(figsize=(10,20))\n",
    "\n",
    "    plt.matshow(matrix_pre)\n",
    "    plt.xticks([0+5, 10+3, 16+4, 25+3], ['mPFC', 'NAC', 'BLA', 'vHip'], rotation=0, fontsize=14)\n",
    "    plt.yticks([0+5, 10+3, 16+4, 25+3], ['mPFC', 'NAC', 'BLA', 'vHip'], rotation=0, fontsize=14)\n",
    "\n",
    "    plt.axvline(x=10-0.6, color='white')\n",
    "    plt.axvline(x=16-0.6, color='white')\n",
    "    plt.axvline(x=25-0.6, color='white')\n",
    "\n",
    "    plt.axhline(y=10-0.6, color='white')\n",
    "    plt.axhline(y=16-0.6, color='white')\n",
    "    plt.axhline(y=25-0.6, color='white')\n",
    "    plt.colorbar()\n",
    "\n",
    "    # Saving pre\n",
    "    print('Saving pre...')\n",
    "    plt.savefig('/home/maspe/filer/SERT/ALL/figs/pre_{}_WT.png'.format(band), dpi=150)\n",
    "    plt.close()\n",
    "    \n",
    "    \n",
    "    # Figure post\n",
    "    plt.figure(figsize=(10,20))\n",
    "\n",
    "    plt.matshow(matrix_post)\n",
    "    plt.xticks([0+5, 10+3, 16+4, 25+3], ['mPFC', 'NAC', 'BLA', 'vHip'], rotation=0, fontsize=14)\n",
    "    plt.yticks([0+5, 10+3, 16+4, 25+3], ['mPFC', 'NAC', 'BLA', 'vHip'], rotation=0, fontsize=14)\n",
    "\n",
    "    plt.axvline(x=10-0.6, color='white')\n",
    "    plt.axvline(x=16-0.6, color='white')\n",
    "    plt.axvline(x=25-0.6, color='white')\n",
    "\n",
    "    plt.axhline(y=10-0.6, color='white')\n",
    "    plt.axhline(y=16-0.6, color='white')\n",
    "    plt.axhline(y=25-0.6, color='white')\n",
    "    plt.colorbar()\n",
    "    \n",
    "    # Saving post\n",
    "    print('Saving post...')\n",
    "    plt.savefig('/home/maspe/filer/SERT/ALL/figs/post_{}_WT.png'.format(band), dpi=150)\n",
    "    plt.close()\n"
   ]
  },
  {
   "cell_type": "code",
   "execution_count": null,
   "metadata": {},
   "outputs": [],
   "source": [
    "# For KO\n",
    "print('Plotting KO...')\n",
    "for band in icoh_KO.keys():    \n",
    "    matrix_pre = icoh_KO[band]['pre']\n",
    "    matrix_post = icoh_KO[band]['post']\n",
    "\n",
    "    plt.figure(figsize=(10,20))\n",
    "\n",
    "    plt.matshow(matrix_pre)\n",
    "    plt.xticks([0+5, 10+3, 16+4, 25+3], ['mPFC', 'NAC', 'BLA', 'vHip'], rotation=0, fontsize=14)\n",
    "    plt.yticks([0+5, 10+3, 16+4, 25+3], ['mPFC', 'NAC', 'BLA', 'vHip'], rotation=0, fontsize=14)\n",
    "\n",
    "    plt.axvline(x=10-0.6, color='white')\n",
    "    plt.axvline(x=16-0.6, color='white')\n",
    "    plt.axvline(x=25-0.6, color='white')\n",
    "\n",
    "    plt.axhline(y=10-0.6, color='white')\n",
    "    plt.axhline(y=16-0.6, color='white')\n",
    "    plt.axhline(y=25-0.6, color='white')\n",
    "    plt.colorbar()\n",
    "\n",
    "    # Saving pre\n",
    "    print('Saving pre...')\n",
    "    plt.savefig('/home/maspe/filer/SERT/ALL/figs/pre_{}_KO.png'.format(band), dpi=150)\n",
    "    plt.close()\n",
    "    \n",
    "    \n",
    "    # Figure post\n",
    "    plt.figure(figsize=(10,20))\n",
    "\n",
    "    plt.matshow(matrix_post)\n",
    "    plt.xticks([0+5, 10+3, 16+4, 25+3], ['mPFC', 'NAC', 'BLA', 'vHip'], rotation=0, fontsize=14)\n",
    "    plt.yticks([0+5, 10+3, 16+4, 25+3], ['mPFC', 'NAC', 'BLA', 'vHip'], rotation=0, fontsize=14)\n",
    "\n",
    "    plt.axvline(x=10-0.6, color='white')\n",
    "    plt.axvline(x=16-0.6, color='white')\n",
    "    plt.axvline(x=25-0.6, color='white')\n",
    "\n",
    "    plt.axhline(y=10-0.6, color='white')\n",
    "    plt.axhline(y=16-0.6, color='white')\n",
    "    plt.axhline(y=25-0.6, color='white')\n",
    "    plt.colorbar()\n",
    "    \n",
    "    # Saving post\n",
    "    print('Saving post...')\n",
    "    plt.savefig('/home/maspe/filer/SERT/ALL/figs/post_{}_KO.png'.format(band), dpi=150)\n",
    "    plt.close()\n"
   ]
  },
  {
   "cell_type": "code",
   "execution_count": null,
   "metadata": {},
   "outputs": [],
   "source": [
    "print('Done!')"
   ]
  }
 ],
 "metadata": {
  "kernelspec": {
   "display_name": "Python 3",
   "language": "python",
   "name": "python3"
  },
  "language_info": {
   "codemirror_mode": {
    "name": "ipython",
    "version": 2
   },
   "file_extension": ".py",
   "mimetype": "text/x-python",
   "name": "python",
   "nbconvert_exporter": "python",
   "pygments_lexer": "ipython2",
   "version": "2.7.15+"
  }
 },
 "nbformat": 4,
 "nbformat_minor": 2
}
