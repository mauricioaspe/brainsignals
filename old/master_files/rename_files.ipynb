{
 "cells": [
  {
   "cell_type": "code",
   "execution_count": 5,
   "metadata": {},
   "outputs": [],
   "source": [
    "import glob\n",
    "import os\n",
    "from shutil import copyfile"
   ]
  },
  {
   "cell_type": "code",
   "execution_count": 6,
   "metadata": {},
   "outputs": [
    {
     "data": {
      "text/plain": [
       "'/media/filer1/users/maspe/testFiles/spiking_data/SERT1985'"
      ]
     },
     "execution_count": 6,
     "metadata": {},
     "output_type": "execute_result"
    }
   ],
   "source": [
    "path = '/home/maspe/filer/testFiles/spiking_data/SERT1985/'\n",
    "\n",
    "os.chdir(path)\n",
    "os.getcwd()"
   ]
  },
  {
   "cell_type": "code",
   "execution_count": 7,
   "metadata": {},
   "outputs": [
    {
     "data": {
      "text/plain": [
       "['ch01.openephys',\n",
       " 'ch02.openephys',\n",
       " 'ch03.openephys',\n",
       " 'ch04.openephys',\n",
       " 'ch05.openephys',\n",
       " 'ch06.openephys',\n",
       " 'ch07.openephys',\n",
       " 'ch08.openephys',\n",
       " 'ch09.openephys',\n",
       " 'ch10.openephys',\n",
       " 'ch11.openephys',\n",
       " 'ch12.openephys',\n",
       " 'ch13.openephys',\n",
       " 'ch14.openephys',\n",
       " 'ch15.openephys',\n",
       " 'ch16.openephys',\n",
       " 'ch17.openephys',\n",
       " 'ch18.openephys',\n",
       " 'ch19.openephys',\n",
       " 'ch20.openephys',\n",
       " 'ch21.openephys',\n",
       " 'ch22.openephys',\n",
       " 'ch23.openephys',\n",
       " 'ch24.openephys',\n",
       " 'ch25.openephys',\n",
       " 'ch26.openephys',\n",
       " 'ch27.openephys',\n",
       " 'ch28.openephys',\n",
       " 'ch29.openephys',\n",
       " 'ch30.openephys',\n",
       " 'ch31.openephys',\n",
       " 'ch32.openephys']"
      ]
     },
     "execution_count": 7,
     "metadata": {},
     "output_type": "execute_result"
    }
   ],
   "source": [
    "files = sorted(glob.glob('*.openephys'))\n",
    "files"
   ]
  },
  {
   "cell_type": "code",
   "execution_count": 8,
   "metadata": {},
   "outputs": [],
   "source": [
    "for thisfile in files:\n",
    "    copyfile('master.params', thisfile[:4] + '.params')"
   ]
  },
  {
   "cell_type": "code",
   "execution_count": 14,
   "metadata": {},
   "outputs": [
    {
     "data": {
      "text/plain": [
       "'ch01'"
      ]
     },
     "execution_count": 14,
     "metadata": {},
     "output_type": "execute_result"
    }
   ],
   "source": [
    "files[0][:4]"
   ]
  }
 ],
 "metadata": {
  "kernelspec": {
   "display_name": "Python 3",
   "language": "python",
   "name": "python3"
  },
  "language_info": {
   "codemirror_mode": {
    "name": "ipython",
    "version": 2
   },
   "file_extension": ".py",
   "mimetype": "text/x-python",
   "name": "python",
   "nbconvert_exporter": "python",
   "pygments_lexer": "ipython2",
   "version": "2.7.15+"
  }
 },
 "nbformat": 4,
 "nbformat_minor": 2
}
