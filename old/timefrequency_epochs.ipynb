{
 "cells": [
  {
   "cell_type": "markdown",
   "metadata": {},
   "source": [
    "# Import data from .npys preprocessed files and time-transform them"
   ]
  },
  {
   "cell_type": "code",
   "execution_count": null,
   "metadata": {},
   "outputs": [],
   "source": [
    "'''\n",
    "Import continuos data from .openephys raw file (same as continuos_epochs), but save the Morlet transformed variables.\n",
    "\n",
    "\n",
    "\n",
    "\n",
    "'''"
   ]
  },
  {
   "cell_type": "markdown",
   "metadata": {},
   "source": [
    "#### Notice that must take the npys arrays given by 'continuous_epochs' and with epochs removed!!\n",
    "#### Import required modules"
   ]
  },
  {
   "cell_type": "code",
   "execution_count": 1,
   "metadata": {},
   "outputs": [],
   "source": [
    "# Import required modules\n",
    "#import glob\n",
    "#import sys\n",
    "import numpy as np\n",
    "#import pandas as pd\n",
    "#import physig as ps\n",
    "from scipy import signal\n",
    "#from matplotlib import pyplot as plt\n",
    "import wavelets as wl\n",
    "import time\n",
    "#import pickle"
   ]
  },
  {
   "cell_type": "code",
   "execution_count": 2,
   "metadata": {},
   "outputs": [],
   "source": [
    "ID = 'SERT1597'"
   ]
  },
  {
   "cell_type": "code",
   "execution_count": 4,
   "metadata": {},
   "outputs": [],
   "source": [
    "npys_dir  = '/home/maspe/filer/SERT/' + ID + '/npys/'\n",
    "data = np.load(npys_dir + 'mPFC.npy')\n"
   ]
  },
  {
   "cell_type": "code",
   "execution_count": 6,
   "metadata": {},
   "outputs": [
    {
     "data": {
      "text/plain": [
       "(10, 38529024)"
      ]
     },
     "execution_count": 6,
     "metadata": {},
     "output_type": "execute_result"
    }
   ],
   "source": [
    "data.shape"
   ]
  },
  {
   "cell_type": "markdown",
   "metadata": {},
   "source": [
    "## Downsampling and band-pass parameters"
   ]
  },
  {
   "cell_type": "markdown",
   "metadata": {},
   "source": [
    "<ol>\n",
    "    <li>Downsample to a resolution of 1 KHz.</li>\n",
    "    <li>Butter low-pass at 300 Hz, N = 9</li>\n",
    "</ol>"
   ]
  },
  {
   "cell_type": "code",
   "execution_count": null,
   "metadata": {},
   "outputs": [],
   "source": [
    "# Create filter\n",
    "def butter_bandpass(highcut, fs, order=5):\n",
    "    nyq  = 0.5 * fs\n",
    "    high = highcut / nyq\n",
    "    b, a = signal.butter(order, high)\n",
    "    return b, a\n",
    "\n",
    "# Filter parameters\n",
    "highcut = 300.0\n",
    "N       = 9\n",
    "b, a    = butter_bandpass(highcut, fs, order=N)\n",
    "\n",
    "### Parameters\n",
    "# Downsampling parameters: final resolution = 1000 Hz\n",
    "fs = 30000\n",
    "final_fs  = 1000.0\n",
    "OF_points = fs * 60 * 10\n",
    "#ds_factor = fs // final_fs"
   ]
  },
  {
   "cell_type": "code",
   "execution_count": null,
   "metadata": {},
   "outputs": [],
   "source": [
    "# Morlet parameters\n",
    "dt = 1 / final_fs\n",
    "time_windows = np.arange(0, 600, dt) # 600 por numero segundos en los 10 min de OF\n",
    "frequencies = np.arange(1, 100, 1)\n",
    "periods = 1 / (frequencies * dt)\n",
    "scales = periods / wl.Morlet.fourierwl\n",
    "n_frequencies = frequencies.shape[0]\n",
    "time_points = time_windows.shape[0]"
   ]
  },
  {
   "cell_type": "code",
   "execution_count": null,
   "metadata": {
    "scrolled": true
   },
   "outputs": [],
   "source": [
    "##### Main loop #####\n",
    "# Loop for loading and low-pass all channels of this mice\n",
    "\n",
    "structures = ['mPFC', 'NAC', 'BLA', 'vHip']\n",
    "\n",
    "iteration = 0\n",
    "for this_file in files:\n",
    "    data = ps.loadContinuous(this_file)\n",
    "\n",
    "    #print('Low-pass filtering (order = {}) at {} Hz...'.format(N, highcut))\n",
    "    #data = channel['data'] #[start_OF - points_before : stop_OF]\n",
    "    #data = signal.filtfilt(b=b, a=a, x=data - np.mean(data),\n",
    "    #                       axis=-1, padtype='odd', padlen=None, method='pad', irlen=None)\n",
    "\n",
    "\n",
    "    if iteration == 0:\n",
    "        data_matrix = np.empty((n_channels, len(data)))\n",
    "              \n",
    "    data_matrix[iteration, :] = data    \n",
    "    \n",
    "    clock = time.time()\n",
    "    print('Downsampling...')\n",
    "    data = signal.resample(x=data[start_OF : start_OF + OF_points], num=time_points)\n",
    "    print('Downsampled in {:.2f} min.'.format((time.time() - clock) / 60))\n",
    "\n",
    "    clock = time.time()\n",
    "    print('Morlet transform...')\n",
    "    if iteration == 0:\n",
    "        morlet_matrix = np.empty((n_frequencies, len(data), n_channels))\n",
    "    \n",
    "    transformed = wl.Morlet(data, scales=scales).getnormpower()\n",
    "    morlet_matrix[:, :, iteration] = transformed\n",
    "    print('Transformed in {:.2f} min.\\n'.format((time.time() - clock) / 60))\n",
    "    \n",
    "    iteration += 1\n",
    "\n",
    "    \n",
    "    \n",
    "print('\\nCollecting all channels and Morlets by structure...')    \n",
    "\n",
    "print('mPFC')\n",
    "mPFC_morlet = morlet_matrix[:, :, mPFC_indexes]\n",
    "print('Saving variable (this takes some time)...')\n",
    "np.save(npys_dir + 'mPFC_morlet', mPFC_morlet)\n",
    "print('mPFC: Done!')\n",
    "\n",
    "\n",
    "print('mPFC')\n",
    "NAC_morlet = morlet_matrix[:, :, NAC_indexes]\n",
    "print('Saving variable (this takes some time)...')\n",
    "np.save(npys_dir + 'NAC_morlet', NAC_morlet)\n",
    "print('NAC: Done!')\n",
    "\n",
    "\n",
    "print('BLA')\n",
    "BLA_morlet = morlet_matrix[:, :, BLA_indexes]\n",
    "print('Saving variable (this takes some time)...')\n",
    "np.save(npys_dir + 'BLA_morlet', BLA_morlet)\n",
    "print('BLA: Done!')\n",
    "\n",
    "\n",
    "print('vHip')\n",
    "vHip_morlet = morlet_matrix[:, :, vHip_indexes]\n",
    "print('Saving variable (this takes some time)...')\n",
    "np.save(npys_dir + 'vHip_morlet', vHip_morlet)\n",
    "print('vHip: Done!')\n",
    "\n",
    "del [data, transformed, data_matrix, morlet_matrix]  \n",
    "\n",
    "print('Mouse processed in {:.2f} min.\\n'.format((time.time() - master_clock) / 60))\n",
    "print('Done!\\n\\n')"
   ]
  }
 ],
 "metadata": {
  "kernelspec": {
   "display_name": "Python 3",
   "language": "python",
   "name": "python3"
  },
  "language_info": {
   "codemirror_mode": {
    "name": "ipython",
    "version": 2
   },
   "file_extension": ".py",
   "mimetype": "text/x-python",
   "name": "python",
   "nbconvert_exporter": "python",
   "pygments_lexer": "ipython2",
   "version": "2.7.17"
  }
 },
 "nbformat": 4,
 "nbformat_minor": 2
}
