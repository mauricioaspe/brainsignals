{
 "cells": [
  {
   "cell_type": "markdown",
   "metadata": {},
   "source": [
    "# Import continuous data from .continuous Openephys raw files\n",
    "\n",
    "### Ideas\n",
    "<ul>\n",
    "    <li>Crear una clase Mouse donde poner todo por ratón?</li>\n",
    "    <li>Definitivamente crear una clase con los filtros</li>\n",
    "    </ul>"
   ]
  },
  {
   "cell_type": "code",
   "execution_count": null,
   "metadata": {},
   "outputs": [],
   "source": [
    "\"\"\" The file works from terminal taking the name of the mouse as its only argument.\n",
    "E.g. Run:\n",
    "\n",
    "python3 continuous_epochs.py 'SERT1597'\n",
    "\n",
    "to preprocess the mouse 'SERT1957'\n",
    "\n",
    "\n",
    "Output: \n",
    "    1. Info files\n",
    "    2. Matrix by structure, with \n",
    "        - Channels at 30 KHz\n",
    "        - All channels with mean subtracted\n",
    "        - Low-passed at 300 Hz\n",
    "        - Median subtracted\n",
    "        - Saved at SERTXXXX/npys_dir + structure.npy\n",
    "        \n",
    "\"\"\" "
   ]
  },
  {
   "cell_type": "markdown",
   "metadata": {},
   "source": [
    "#### Import the required modules"
   ]
  },
  {
   "cell_type": "code",
   "execution_count": 1,
   "metadata": {},
   "outputs": [],
   "source": [
    "# Import required modules\n",
    "import sys\n",
    "sys.path.insert(1, '/home/diogenes/Projects/SERT/modules/')\n",
    "\n",
    "import glob\n",
    "import numpy as np\n",
    "import pandas as pd\n",
    "import physig as ps\n",
    "from scipy import signal\n",
    "from matplotlib import pyplot as plt"
   ]
  },
  {
   "cell_type": "markdown",
   "metadata": {},
   "source": [
    "#### Get the mouse name and create the file name and folder paths"
   ]
  },
  {
   "cell_type": "code",
   "execution_count": 2,
   "metadata": {},
   "outputs": [
    {
     "name": "stdout",
     "output_type": "stream",
     "text": [
      "Processing mouse 1597...\n",
      "['mPFC_left' 'mPFC_left' 'mPFC_left' 'mPFC_left' 'mPFC_left' 'mPFC_left'\n",
      " 'mPFC_left' 'mPFC_left' 'mPFC_left' 'mPFC_left' 'NAC_left' 'NAC_left'\n",
      " 'NAC_left' 'NAC_left' 'NAC_left' 'NAC_left' 'BLA_left' 'BLA_left'\n",
      " 'BLA_left' 'BLA_left' 'BLA_left' 'BLA_left' 'BLA_left' 'BLA_left'\n",
      " 'BLA_left' 'vHipp_left' 'vHipp_left' 'vHipp_left' 'vHipp_left'\n",
      " 'vHipp_left' 'vHipp_left' 'vHipp_left']\n",
      "Entrances times: [20315070 20709060 21989070 22590060 23822070 24127080 25368060 26129070\n",
      " 27057060 28125060 29705070 29923080 30330060 30958080 31049070 31734060]\n",
      "Number of entrances: 16\n",
      "{'channels_list': ['ch01', 'ch02', 'ch03', 'ch04', 'ch05', 'ch06', 'ch07', 'ch08', 'ch09', 'ch10', 'ch11', 'ch12', 'ch13', 'ch14', 'ch15', 'ch16', 'ch17', 'ch18', 'ch19', 'ch20', 'ch21', 'ch22', 'ch23', 'ch24', 'ch25', 'ch26', 'ch27', 'ch28', 'ch29', 'ch30', 'ch31', 'ch32'], 'channels_locs': array(['mPFC_left', 'mPFC_left', 'mPFC_left', 'mPFC_left', 'mPFC_left',\n",
      "       'mPFC_left', 'mPFC_left', 'mPFC_left', 'mPFC_left', 'mPFC_left',\n",
      "       'NAC_left', 'NAC_left', 'NAC_left', 'NAC_left', 'NAC_left',\n",
      "       'NAC_left', 'BLA_left', 'BLA_left', 'BLA_left', 'BLA_left',\n",
      "       'BLA_left', 'BLA_left', 'BLA_left', 'BLA_left', 'BLA_left',\n",
      "       'vHipp_left', 'vHipp_left', 'vHipp_left', 'vHipp_left',\n",
      "       'vHipp_left', 'vHipp_left', 'vHipp_left'], dtype='<U10'), 'n_channels': 32, 'mPFC_nchannels': 10, 'NAC_nchannels': 6, 'BLA_nchannels': 9, 'vHip_nchannels': 7, 'entrances_times': array([20315070, 20709060, 21989070, 22590060, 23822070, 24127080,\n",
      "       25368060, 26129070, 27057060, 28125060, 29705070, 29923080,\n",
      "       30330060, 30958080, 31049070, 31734060]), 'n_epochs': 16, 'startOF': 19922080, 'stopOF': 37923080}\n",
      "Info file: saved\n",
      "\n"
     ]
    }
   ],
   "source": [
    "if len(sys.argv) > 1:\n",
    "    ID = sys.argv[1]\n",
    "else:\n",
    "    print('Bad file format!')\n",
    "    exit()\n",
    "\n",
    "\n",
    "channels_list = ['ch01', 'ch02', 'ch03', 'ch04', 'ch05', 'ch06', 'ch07', 'ch08', 'ch09', 'ch10',\n",
    "                 'ch11', 'ch12', 'ch13', 'ch14', 'ch15', 'ch16', 'ch17', 'ch18', 'ch19', 'ch20',\n",
    "                 'ch21', 'ch22', 'ch23', 'ch24', 'ch25', 'ch26', 'ch27', 'ch28', 'ch29', 'ch30',\n",
    "                 'ch31', 'ch32']\n",
    "\n",
    "print('Processing mouse {}...'.format(ID))\n",
    "\n",
    "# Setting working file and paths\n",
    "files_dir = '/home/diogenes/Projects/SERT/DATA/MICE/' + ID + '/continuous/'\n",
    "npys_dir  = '/home/diogenes/Projects/SERT/DATA/MICE/' + ID + '/npys/'\n",
    "figs_dir  = '/home/diogenes/Projects/SERT/DATA/MICE/' + ID + '/figs/'\n",
    "\n",
    "# List all continuous files in working folder\n",
    "files = sorted(glob.glob(files_dir + '*.continuous'))\n",
    "\n",
    "# Read the list of channels\n",
    "df = pd.read_csv(files_dir + 'canales.csv', header=None, names=[\"locs\"])\n",
    "channels_locations = np.array(df['locs'].tolist())\n",
    "n_channels = len(channels_locations)\n",
    "print(channels_locations)\n",
    "\n",
    "# Start and end of OF\n",
    "df = pd.read_csv(files_dir + 'xy.csv', header=None)\n",
    "start_OF = int(np.ceil(df[3][0] * 30)) # Times 30 because of sampling at 30 KHz\n",
    "stop_OF = int(np.floor(df[3][1] * 30))\n",
    "\n",
    "# Read the entrances times\n",
    "df = pd.read_csv(files_dir + 'entradas.csv', header=None, names=[\"locs\"])\n",
    "entrances_times = np.array(df['locs'].tolist(), dtype='int') * 30 # Times 30 because of sampling at 30 KHz\n",
    "\n",
    "n_epochs = len(entrances_times)\n",
    "\n",
    "print(\"Entrances times: {}\".format(entrances_times))\n",
    "print('Number of entrances: {}'.format(n_epochs))\n",
    "\n",
    "# Collect the indexes for each structure\n",
    "mPFC_indexes  = [i for i,x in enumerate(channels_locations) if x == 'mPFC_left']\n",
    "NAC_indexes = [i for i,x in enumerate(channels_locations) if x == 'NAC_left']\n",
    "BLA_indexes  = [i for i,x in enumerate(channels_locations) if x == 'BLA_left']\n",
    "vHip_indexes  = [i for i,x in enumerate(channels_locations) if x == 'vHipp_left']\n",
    "\n",
    "# Get the number of channels for each structure\n",
    "mPFC_nchannels = len(mPFC_indexes)\n",
    "NAC_nchannels  = len(NAC_indexes)\n",
    "BLA_nchannels  = len(BLA_indexes)\n",
    "vHip_nchannels = len(vHip_indexes)\n",
    "\n",
    "# Create and save info file\n",
    "info = {'channels_list': channels_list, 'channels_locs': channels_locations, 'n_channels': n_channels,\n",
    "        'mPFC_nchannels': mPFC_nchannels, 'NAC_nchannels': NAC_nchannels, 'BLA_nchannels': BLA_nchannels,\n",
    "        'vHip_nchannels': vHip_nchannels, 'entrances_times': entrances_times, 'n_epochs': n_epochs,\n",
    "        'startOF': start_OF, 'stopOF': stop_OF}\n",
    "\n",
    "np.save(npys_dir + 'info.npy', info)\n",
    "\n",
    "print(info)\n",
    "\n",
    "print('Info file: saved\\n')"
   ]
  }
 ],
 "metadata": {
  "kernelspec": {
   "display_name": "Python 3",
   "language": "python",
   "name": "python3"
  },
  "language_info": {
   "codemirror_mode": {
    "name": "ipython",
    "version": 3
   },
   "file_extension": ".py",
   "mimetype": "text/x-python",
   "name": "python",
   "nbconvert_exporter": "python",
   "pygments_lexer": "ipython3",
   "version": "3.8.5"
  }
 },
 "nbformat": 4,
 "nbformat_minor": 2
}
